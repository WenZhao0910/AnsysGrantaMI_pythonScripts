{
 "cells": [
  {
   "cell_type": "markdown",
   "id": "83d7d58b",
   "metadata": {},
   "source": [
    "# Plot data by category\n",
    "\n",
    "Export pedigree data and tensile test results for composite materials, process the data in a `pandas` DataFrame, and plot summaries of the data (including layup information) using `matplotlib` and `seaborn`."
   ]
  },
  {
   "cell_type": "markdown",
   "id": "cf387ac3",
   "metadata": {},
   "source": [
    "## Get data from Granta MI"
   ]
  },
  {
   "cell_type": "markdown",
   "id": "06b9b1f6",
   "metadata": {},
   "source": [
    "Connect to Granta MI and specify a database."
   ]
  },
  {
   "cell_type": "code",
   "execution_count": 1,
   "id": "1da806c2",
   "metadata": {
    "execution": {
     "iopub.execute_input": "2021-07-15T10:08:03.981579Z",
     "iopub.status.busy": "2021-07-15T10:08:03.980580Z",
     "iopub.status.idle": "2021-07-15T10:08:04.995453Z",
     "shell.execute_reply": "2021-07-15T10:08:04.995453Z"
    },
    "tags": []
   },
   "outputs": [],
   "source": [
    "from GRANTA_MIScriptingToolkit import granta as mi\n",
    "\n",
    "session = mi.Session('localhost', autologon=True)\n",
    "training_db = session.get_db('MI Training')\n",
    "training_db.set_unit_system('Metric')"
   ]
  },
  {
   "cell_type": "markdown",
   "id": "f0d147d2",
   "metadata": {},
   "source": [
    "Specify the records and attributes you want to export from the first table. We want to use attributes describing the layup for all records in the *Composite Pedigree* table."
   ]
  },
  {
   "cell_type": "code",
   "execution_count": 2,
   "id": "03897040",
   "metadata": {
    "execution": {
     "iopub.execute_input": "2021-07-15T10:08:04.999454Z",
     "iopub.status.busy": "2021-07-15T10:08:04.998452Z",
     "iopub.status.idle": "2021-07-15T10:08:06.911271Z",
     "shell.execute_reply": "2021-07-15T10:08:06.912273Z"
    },
    "tags": []
   },
   "outputs": [],
   "source": [
    "comp_pedigree = training_db.get_table('Composite Pedigree')\n",
    "pedigree_records = comp_pedigree.all_records()\n",
    "pedigree_attributes = ['Panel number', 'Ply count', 'Panel thickness, average (measured)',\n",
    "                       'Ply thickness, average (measured)']\n",
    "comp_pedigree.bulk_fetch(pedigree_records, attributes=pedigree_attributes)"
   ]
  },
  {
   "cell_type": "markdown",
   "id": "cda3ae02",
   "metadata": {},
   "source": [
    "Specify the records you want to export from the second table. Here, a link group is used to export only records linked to records in the first table.\n",
    "\n",
    "Alternatively, you can specify a table with no link groups to the original table, as long as you can join the two datasets later on. For example, we could search for all records created after a certain date, or tested on a certain machine."
   ]
  },
  {
   "cell_type": "code",
   "execution_count": 3,
   "id": "6f4bed3b",
   "metadata": {
    "execution": {
     "iopub.execute_input": "2021-07-15T10:08:06.919910Z",
     "iopub.status.busy": "2021-07-15T10:08:06.918913Z",
     "iopub.status.idle": "2021-07-15T10:08:12.114851Z",
     "shell.execute_reply": "2021-07-15T10:08:12.114851Z"
    }
   },
   "outputs": [],
   "source": [
    "link_group = 'Tensile test data'\n",
    "\n",
    "# Use a set comprehension to ensure we only select each record once\n",
    "tensile_test_records = {tr for pr in pedigree_records for tr in pr.links[link_group]}\n",
    "tensile_test_records = list(tensile_test_records)"
   ]
  },
  {
   "cell_type": "markdown",
   "id": "132837c3",
   "metadata": {},
   "source": [
    "Specify the attributes you want to export from the second table. *Panel number* will be used to relate the tensile tests to the layup data."
   ]
  },
  {
   "cell_type": "code",
   "execution_count": 4,
   "id": "ee7aece2",
   "metadata": {
    "execution": {
     "iopub.execute_input": "2021-07-15T10:08:12.118851Z",
     "iopub.status.busy": "2021-07-15T10:08:12.118851Z",
     "iopub.status.idle": "2021-07-15T10:08:13.650119Z",
     "shell.execute_reply": "2021-07-15T10:08:13.651118Z"
    }
   },
   "outputs": [],
   "source": [
    "tensile_test_data = training_db.get_table('Tensile Test Data')\n",
    "tensile_attributes = ['Panel number', 'Specimen ID', \"Young's Modulus (11-axis)\", 'Ultimate Tensile Strength',\n",
    "                      'Test Type']\n",
    "tensile_test_data.bulk_fetch(tensile_test_records, attributes=tensile_attributes)"
   ]
  },
  {
   "cell_type": "markdown",
   "id": "71ebd5e3",
   "metadata": {},
   "source": [
    "## Use DataFrames to pre-process and append the data"
   ]
  },
  {
   "cell_type": "markdown",
   "id": "9aed5755",
   "metadata": {},
   "source": [
    "### Build a separate DataFrame for each table"
   ]
  },
  {
   "cell_type": "markdown",
   "id": "03c82494",
   "metadata": {},
   "source": [
    "Create a DataFrame for each Granta MI table. The DataFrames are built from two separate lists of dictionaries:"
   ]
  },
  {
   "cell_type": "code",
   "execution_count": 5,
   "id": "ed5d77c3",
   "metadata": {
    "execution": {
     "iopub.execute_input": "2021-07-15T10:08:13.655124Z",
     "iopub.status.busy": "2021-07-15T10:08:13.654124Z",
     "iopub.status.idle": "2021-07-15T10:08:13.961602Z",
     "shell.execute_reply": "2021-07-15T10:08:13.962601Z"
    }
   },
   "outputs": [],
   "source": [
    "import pandas as pd\n",
    "from functools import partial\n",
    "\n",
    "def get_attr_vals(attributes, r):\n",
    "    return {mi_attr: r.attributes[mi_attr].value for mi_attr in attributes}\n",
    "\n",
    "get_pedigree_vals = partial(get_attr_vals, pedigree_attributes)\n",
    "get_tensile_vals = partial(get_attr_vals, tensile_attributes)\n",
    "\n",
    "pedigree_data = [get_pedigree_vals(r) for r in pedigree_records]\n",
    "tensile_data = [get_tensile_vals(r) for r in tensile_test_records]"
   ]
  },
  {
   "cell_type": "markdown",
   "id": "698746aa",
   "metadata": {},
   "source": [
    "Create a DataFrame `pedigree_df` that contains the pedigree records. Set the DataFrame index to be the *Panel number*\n",
    "attribute value."
   ]
  },
  {
   "cell_type": "code",
   "execution_count": 6,
   "id": "68b448e7",
   "metadata": {
    "execution": {
     "iopub.execute_input": "2021-07-15T10:08:13.965601Z",
     "iopub.status.busy": "2021-07-15T10:08:13.964600Z",
     "iopub.status.idle": "2021-07-15T10:08:14.009186Z",
     "shell.execute_reply": "2021-07-15T10:08:14.009186Z"
    }
   },
   "outputs": [
    {
     "data": {
      "text/html": [
       "<div>\n",
       "<style scoped>\n",
       "    .dataframe tbody tr th:only-of-type {\n",
       "        vertical-align: middle;\n",
       "    }\n",
       "\n",
       "    .dataframe tbody tr th {\n",
       "        vertical-align: top;\n",
       "    }\n",
       "\n",
       "    .dataframe thead th {\n",
       "        text-align: right;\n",
       "    }\n",
       "</style>\n",
       "<table border=\"1\" class=\"dataframe\">\n",
       "  <thead>\n",
       "    <tr style=\"text-align: right;\">\n",
       "      <th></th>\n",
       "      <th>Ply count</th>\n",
       "      <th>Panel thickness, average (measured)</th>\n",
       "      <th>Ply thickness, average (measured)</th>\n",
       "    </tr>\n",
       "    <tr>\n",
       "      <th>Panel number</th>\n",
       "      <th></th>\n",
       "      <th></th>\n",
       "      <th></th>\n",
       "    </tr>\n",
       "  </thead>\n",
       "  <tbody>\n",
       "    <tr>\n",
       "      <th>LBJ13</th>\n",
       "      <td>6</td>\n",
       "      <td>&lt;PointValue name: Panel thickness, average (me...</td>\n",
       "      <td>&lt;PointValue name: Ply thickness, average (meas...</td>\n",
       "    </tr>\n",
       "    <tr>\n",
       "      <th>LBJ14</th>\n",
       "      <td>6</td>\n",
       "      <td>&lt;PointValue name: Panel thickness, average (me...</td>\n",
       "      <td>&lt;PointValue name: Ply thickness, average (meas...</td>\n",
       "    </tr>\n",
       "    <tr>\n",
       "      <th>LBJ42</th>\n",
       "      <td>6</td>\n",
       "      <td>&lt;PointValue name: Panel thickness, average (me...</td>\n",
       "      <td>&lt;PointValue name: Ply thickness, average (meas...</td>\n",
       "    </tr>\n",
       "    <tr>\n",
       "      <th>LBJ53</th>\n",
       "      <td>6</td>\n",
       "      <td>&lt;PointValue name: Panel thickness, average (me...</td>\n",
       "      <td>&lt;PointValue name: Ply thickness, average (meas...</td>\n",
       "    </tr>\n",
       "    <tr>\n",
       "      <th>LBJ62</th>\n",
       "      <td>6</td>\n",
       "      <td>&lt;PointValue name: Panel thickness, average (me...</td>\n",
       "      <td>&lt;PointValue name: Ply thickness, average (meas...</td>\n",
       "    </tr>\n",
       "  </tbody>\n",
       "</table>\n",
       "</div>"
      ],
      "text/plain": [
       "              Ply count                Panel thickness, average (measured)  \\\n",
       "Panel number                                                                 \n",
       "LBJ13                 6  <PointValue name: Panel thickness, average (me...   \n",
       "LBJ14                 6  <PointValue name: Panel thickness, average (me...   \n",
       "LBJ42                 6  <PointValue name: Panel thickness, average (me...   \n",
       "LBJ53                 6  <PointValue name: Panel thickness, average (me...   \n",
       "LBJ62                 6  <PointValue name: Panel thickness, average (me...   \n",
       "\n",
       "                              Ply thickness, average (measured)  \n",
       "Panel number                                                     \n",
       "LBJ13         <PointValue name: Ply thickness, average (meas...  \n",
       "LBJ14         <PointValue name: Ply thickness, average (meas...  \n",
       "LBJ42         <PointValue name: Ply thickness, average (meas...  \n",
       "LBJ53         <PointValue name: Ply thickness, average (meas...  \n",
       "LBJ62         <PointValue name: Ply thickness, average (meas...  "
      ]
     },
     "execution_count": 1,
     "metadata": {},
     "output_type": "execute_result"
    }
   ],
   "source": [
    "pedigree_df = pd.DataFrame(pedigree_data).set_index('Panel number')\n",
    "pedigree_df.head()"
   ]
  },
  {
   "cell_type": "markdown",
   "id": "d80a193b",
   "metadata": {},
   "source": [
    "Create a second DataFrame `tensile_df` that contains the tensile test results. Again, set the index to be the *Panel\n",
    "number* attribute value."
   ]
  },
  {
   "cell_type": "code",
   "execution_count": 7,
   "id": "2b00adb6",
   "metadata": {
    "execution": {
     "iopub.execute_input": "2021-07-15T10:08:14.012185Z",
     "iopub.status.busy": "2021-07-15T10:08:14.011184Z",
     "iopub.status.idle": "2021-07-15T10:08:14.023593Z",
     "shell.execute_reply": "2021-07-15T10:08:14.024466Z"
    }
   },
   "outputs": [
    {
     "data": {
      "text/html": [
       "<div>\n",
       "<style scoped>\n",
       "    .dataframe tbody tr th:only-of-type {\n",
       "        vertical-align: middle;\n",
       "    }\n",
       "\n",
       "    .dataframe tbody tr th {\n",
       "        vertical-align: top;\n",
       "    }\n",
       "\n",
       "    .dataframe thead th {\n",
       "        text-align: right;\n",
       "    }\n",
       "</style>\n",
       "<table border=\"1\" class=\"dataframe\">\n",
       "  <thead>\n",
       "    <tr style=\"text-align: right;\">\n",
       "      <th></th>\n",
       "      <th>Specimen ID</th>\n",
       "      <th>Young's Modulus (11-axis)</th>\n",
       "      <th>Ultimate Tensile Strength</th>\n",
       "      <th>Test Type</th>\n",
       "    </tr>\n",
       "    <tr>\n",
       "      <th>Panel number</th>\n",
       "      <th></th>\n",
       "      <th></th>\n",
       "      <th></th>\n",
       "      <th></th>\n",
       "    </tr>\n",
       "  </thead>\n",
       "  <tbody>\n",
       "    <tr>\n",
       "      <th>LBJ62</th>\n",
       "      <td>LBJ6213A</td>\n",
       "      <td>&lt;PointValue name: Young's Modulus (11-axis), v...</td>\n",
       "      <td>&lt;PointValue name: Ultimate Tensile Strength, v...</td>\n",
       "      <td>[0° tension]</td>\n",
       "    </tr>\n",
       "    <tr>\n",
       "      <th>LBJ62</th>\n",
       "      <td>LBJ6219A</td>\n",
       "      <td>&lt;PointValue name: Young's Modulus (11-axis), v...</td>\n",
       "      <td>&lt;PointValue name: Ultimate Tensile Strength, v...</td>\n",
       "      <td>[0° tension]</td>\n",
       "    </tr>\n",
       "    <tr>\n",
       "      <th>LBJ14</th>\n",
       "      <td>LBJ1415A</td>\n",
       "      <td>&lt;PointValue name: Young's Modulus (11-axis), v...</td>\n",
       "      <td>&lt;PointValue name: Ultimate Tensile Strength, v...</td>\n",
       "      <td>[0° tension]</td>\n",
       "    </tr>\n",
       "    <tr>\n",
       "      <th>LBJ13</th>\n",
       "      <td>LBJ1311A</td>\n",
       "      <td>&lt;PointValue name: Young's Modulus (11-axis), v...</td>\n",
       "      <td>&lt;PointValue name: Ultimate Tensile Strength, v...</td>\n",
       "      <td>[0° tension]</td>\n",
       "    </tr>\n",
       "    <tr>\n",
       "      <th>LBJ42</th>\n",
       "      <td>LBJ4211A</td>\n",
       "      <td>&lt;PointValue name: Young's Modulus (11-axis), v...</td>\n",
       "      <td>&lt;PointValue name: Ultimate Tensile Strength, v...</td>\n",
       "      <td>[0° tension]</td>\n",
       "    </tr>\n",
       "  </tbody>\n",
       "</table>\n",
       "</div>"
      ],
      "text/plain": [
       "             Specimen ID                          Young's Modulus (11-axis)  \\\n",
       "Panel number                                                                  \n",
       "LBJ62           LBJ6213A  <PointValue name: Young's Modulus (11-axis), v...   \n",
       "LBJ62           LBJ6219A  <PointValue name: Young's Modulus (11-axis), v...   \n",
       "LBJ14           LBJ1415A  <PointValue name: Young's Modulus (11-axis), v...   \n",
       "LBJ13           LBJ1311A  <PointValue name: Young's Modulus (11-axis), v...   \n",
       "LBJ42           LBJ4211A  <PointValue name: Young's Modulus (11-axis), v...   \n",
       "\n",
       "                                      Ultimate Tensile Strength     Test Type  \n",
       "Panel number                                                                   \n",
       "LBJ62         <PointValue name: Ultimate Tensile Strength, v...  [0° tension]  \n",
       "LBJ62         <PointValue name: Ultimate Tensile Strength, v...  [0° tension]  \n",
       "LBJ14         <PointValue name: Ultimate Tensile Strength, v...  [0° tension]  \n",
       "LBJ13         <PointValue name: Ultimate Tensile Strength, v...  [0° tension]  \n",
       "LBJ42         <PointValue name: Ultimate Tensile Strength, v...  [0° tension]  "
      ]
     },
     "execution_count": 1,
     "metadata": {},
     "output_type": "execute_result"
    }
   ],
   "source": [
    "tensile_df = pd.DataFrame(tensile_data).set_index('Panel number')\n",
    "tensile_df.head()"
   ]
  },
  {
   "cell_type": "markdown",
   "id": "41f4370c",
   "metadata": {},
   "source": [
    "### Join the dataframes"
   ]
  },
  {
   "cell_type": "markdown",
   "id": "f6de49cd",
   "metadata": {},
   "source": [
    "Use the `dataframe.join()` method to create a DataFrame with both sets of data. The join type will default to a left-join if not specified; this is fine in our case because the records were linked via a smart link in Granta MI, and so the set of indices is the same for both DataFrames."
   ]
  },
  {
   "cell_type": "code",
   "execution_count": 8,
   "id": "fc3e3777",
   "metadata": {
    "execution": {
     "iopub.execute_input": "2021-07-15T10:08:14.036601Z",
     "iopub.status.busy": "2021-07-15T10:08:14.026587Z",
     "iopub.status.idle": "2021-07-15T10:08:14.038601Z",
     "shell.execute_reply": "2021-07-15T10:08:14.038601Z"
    }
   },
   "outputs": [
    {
     "data": {
      "text/html": [
       "<div>\n",
       "<style scoped>\n",
       "    .dataframe tbody tr th:only-of-type {\n",
       "        vertical-align: middle;\n",
       "    }\n",
       "\n",
       "    .dataframe tbody tr th {\n",
       "        vertical-align: top;\n",
       "    }\n",
       "\n",
       "    .dataframe thead th {\n",
       "        text-align: right;\n",
       "    }\n",
       "</style>\n",
       "<table border=\"1\" class=\"dataframe\">\n",
       "  <thead>\n",
       "    <tr style=\"text-align: right;\">\n",
       "      <th></th>\n",
       "      <th>Ply count</th>\n",
       "      <th>Panel thickness, average (measured)</th>\n",
       "      <th>Ply thickness, average (measured)</th>\n",
       "      <th>Specimen ID</th>\n",
       "      <th>Young's Modulus (11-axis)</th>\n",
       "      <th>Ultimate Tensile Strength</th>\n",
       "      <th>Test Type</th>\n",
       "    </tr>\n",
       "    <tr>\n",
       "      <th>Panel number</th>\n",
       "      <th></th>\n",
       "      <th></th>\n",
       "      <th></th>\n",
       "      <th></th>\n",
       "      <th></th>\n",
       "      <th></th>\n",
       "      <th></th>\n",
       "    </tr>\n",
       "  </thead>\n",
       "  <tbody>\n",
       "    <tr>\n",
       "      <th>LBJ13</th>\n",
       "      <td>6</td>\n",
       "      <td>&lt;PointValue name: Panel thickness, average (me...</td>\n",
       "      <td>&lt;PointValue name: Ply thickness, average (meas...</td>\n",
       "      <td>LBJ1311A</td>\n",
       "      <td>&lt;PointValue name: Young's Modulus (11-axis), v...</td>\n",
       "      <td>&lt;PointValue name: Ultimate Tensile Strength, v...</td>\n",
       "      <td>[0° tension]</td>\n",
       "    </tr>\n",
       "    <tr>\n",
       "      <th>LBJ13</th>\n",
       "      <td>6</td>\n",
       "      <td>&lt;PointValue name: Panel thickness, average (me...</td>\n",
       "      <td>&lt;PointValue name: Ply thickness, average (meas...</td>\n",
       "      <td>LBJ1312A</td>\n",
       "      <td>&lt;PointValue name: Young's Modulus (11-axis), v...</td>\n",
       "      <td>&lt;PointValue name: Ultimate Tensile Strength, v...</td>\n",
       "      <td>[0° tension]</td>\n",
       "    </tr>\n",
       "    <tr>\n",
       "      <th>LBJ13</th>\n",
       "      <td>6</td>\n",
       "      <td>&lt;PointValue name: Panel thickness, average (me...</td>\n",
       "      <td>&lt;PointValue name: Ply thickness, average (meas...</td>\n",
       "      <td>LBJ1313A</td>\n",
       "      <td>&lt;PointValue name: Young's Modulus (11-axis), v...</td>\n",
       "      <td>&lt;PointValue name: Ultimate Tensile Strength, v...</td>\n",
       "      <td>[0° tension]</td>\n",
       "    </tr>\n",
       "    <tr>\n",
       "      <th>LBJ14</th>\n",
       "      <td>6</td>\n",
       "      <td>&lt;PointValue name: Panel thickness, average (me...</td>\n",
       "      <td>&lt;PointValue name: Ply thickness, average (meas...</td>\n",
       "      <td>LBJ1415A</td>\n",
       "      <td>&lt;PointValue name: Young's Modulus (11-axis), v...</td>\n",
       "      <td>&lt;PointValue name: Ultimate Tensile Strength, v...</td>\n",
       "      <td>[0° tension]</td>\n",
       "    </tr>\n",
       "    <tr>\n",
       "      <th>LBJ14</th>\n",
       "      <td>6</td>\n",
       "      <td>&lt;PointValue name: Panel thickness, average (me...</td>\n",
       "      <td>&lt;PointValue name: Ply thickness, average (meas...</td>\n",
       "      <td>LBJ1417A</td>\n",
       "      <td>&lt;PointValue name: Young's Modulus (11-axis), v...</td>\n",
       "      <td>&lt;PointValue name: Ultimate Tensile Strength, v...</td>\n",
       "      <td>[0° tension]</td>\n",
       "    </tr>\n",
       "  </tbody>\n",
       "</table>\n",
       "</div>"
      ],
      "text/plain": [
       "              Ply count                Panel thickness, average (measured)  \\\n",
       "Panel number                                                                 \n",
       "LBJ13                 6  <PointValue name: Panel thickness, average (me...   \n",
       "LBJ13                 6  <PointValue name: Panel thickness, average (me...   \n",
       "LBJ13                 6  <PointValue name: Panel thickness, average (me...   \n",
       "LBJ14                 6  <PointValue name: Panel thickness, average (me...   \n",
       "LBJ14                 6  <PointValue name: Panel thickness, average (me...   \n",
       "\n",
       "                              Ply thickness, average (measured) Specimen ID  \\\n",
       "Panel number                                                                  \n",
       "LBJ13         <PointValue name: Ply thickness, average (meas...    LBJ1311A   \n",
       "LBJ13         <PointValue name: Ply thickness, average (meas...    LBJ1312A   \n",
       "LBJ13         <PointValue name: Ply thickness, average (meas...    LBJ1313A   \n",
       "LBJ14         <PointValue name: Ply thickness, average (meas...    LBJ1415A   \n",
       "LBJ14         <PointValue name: Ply thickness, average (meas...    LBJ1417A   \n",
       "\n",
       "                                      Young's Modulus (11-axis)  \\\n",
       "Panel number                                                      \n",
       "LBJ13         <PointValue name: Young's Modulus (11-axis), v...   \n",
       "LBJ13         <PointValue name: Young's Modulus (11-axis), v...   \n",
       "LBJ13         <PointValue name: Young's Modulus (11-axis), v...   \n",
       "LBJ14         <PointValue name: Young's Modulus (11-axis), v...   \n",
       "LBJ14         <PointValue name: Young's Modulus (11-axis), v...   \n",
       "\n",
       "                                      Ultimate Tensile Strength     Test Type  \n",
       "Panel number                                                                   \n",
       "LBJ13         <PointValue name: Ultimate Tensile Strength, v...  [0° tension]  \n",
       "LBJ13         <PointValue name: Ultimate Tensile Strength, v...  [0° tension]  \n",
       "LBJ13         <PointValue name: Ultimate Tensile Strength, v...  [0° tension]  \n",
       "LBJ14         <PointValue name: Ultimate Tensile Strength, v...  [0° tension]  \n",
       "LBJ14         <PointValue name: Ultimate Tensile Strength, v...  [0° tension]  "
      ]
     },
     "execution_count": 1,
     "metadata": {},
     "output_type": "execute_result"
    }
   ],
   "source": [
    "df = pedigree_df.join(tensile_df)\n",
    "df.head()"
   ]
  },
  {
   "cell_type": "markdown",
   "id": "4ff8178b",
   "metadata": {},
   "source": [
    "### Refine the data"
   ]
  },
  {
   "cell_type": "markdown",
   "id": "ad48c4ff",
   "metadata": {},
   "source": [
    "Extract simple numeric and string values from MI Scripting Toolkit data types."
   ]
  },
  {
   "cell_type": "code",
   "execution_count": 9,
   "id": "2f6788f8",
   "metadata": {
    "execution": {
     "iopub.execute_input": "2021-07-15T10:08:14.043601Z",
     "iopub.status.busy": "2021-07-15T10:08:14.043601Z",
     "iopub.status.idle": "2021-07-15T10:08:14.069769Z",
     "shell.execute_reply": "2021-07-15T10:08:14.069769Z"
    }
   },
   "outputs": [
    {
     "data": {
      "text/html": [
       "<div>\n",
       "<style scoped>\n",
       "    .dataframe tbody tr th:only-of-type {\n",
       "        vertical-align: middle;\n",
       "    }\n",
       "\n",
       "    .dataframe tbody tr th {\n",
       "        vertical-align: top;\n",
       "    }\n",
       "\n",
       "    .dataframe thead th {\n",
       "        text-align: right;\n",
       "    }\n",
       "</style>\n",
       "<table border=\"1\" class=\"dataframe\">\n",
       "  <thead>\n",
       "    <tr style=\"text-align: right;\">\n",
       "      <th></th>\n",
       "      <th>Panel thickness, average (measured)</th>\n",
       "      <th>Ply thickness, average (measured)</th>\n",
       "      <th>Ultimate Tensile Strength</th>\n",
       "      <th>Young's Modulus (11-axis)</th>\n",
       "      <th>Test Type</th>\n",
       "      <th>Ply count</th>\n",
       "      <th>Specimen ID</th>\n",
       "    </tr>\n",
       "    <tr>\n",
       "      <th>Panel number</th>\n",
       "      <th></th>\n",
       "      <th></th>\n",
       "      <th></th>\n",
       "      <th></th>\n",
       "      <th></th>\n",
       "      <th></th>\n",
       "      <th></th>\n",
       "    </tr>\n",
       "  </thead>\n",
       "  <tbody>\n",
       "    <tr>\n",
       "      <th>LBJ13</th>\n",
       "      <td>1.397000</td>\n",
       "      <td>0.232029</td>\n",
       "      <td>1582.870937</td>\n",
       "      <td>47.594514</td>\n",
       "      <td>0° tension</td>\n",
       "      <td>6</td>\n",
       "      <td>LBJ1311A</td>\n",
       "    </tr>\n",
       "    <tr>\n",
       "      <th>LBJ13</th>\n",
       "      <td>1.397000</td>\n",
       "      <td>0.232029</td>\n",
       "      <td>1542.122918</td>\n",
       "      <td>47.353197</td>\n",
       "      <td>0° tension</td>\n",
       "      <td>6</td>\n",
       "      <td>LBJ1312A</td>\n",
       "    </tr>\n",
       "    <tr>\n",
       "      <th>LBJ13</th>\n",
       "      <td>1.397000</td>\n",
       "      <td>0.232029</td>\n",
       "      <td>1612.952766</td>\n",
       "      <td>47.387671</td>\n",
       "      <td>0° tension</td>\n",
       "      <td>6</td>\n",
       "      <td>LBJ1313A</td>\n",
       "    </tr>\n",
       "    <tr>\n",
       "      <th>LBJ14</th>\n",
       "      <td>1.431636</td>\n",
       "      <td>0.238044</td>\n",
       "      <td>1611.201497</td>\n",
       "      <td>NaN</td>\n",
       "      <td>0° tension</td>\n",
       "      <td>6</td>\n",
       "      <td>LBJ1415A</td>\n",
       "    </tr>\n",
       "    <tr>\n",
       "      <th>LBJ14</th>\n",
       "      <td>1.431636</td>\n",
       "      <td>0.238044</td>\n",
       "      <td>1639.559637</td>\n",
       "      <td>NaN</td>\n",
       "      <td>0° tension</td>\n",
       "      <td>6</td>\n",
       "      <td>LBJ1417A</td>\n",
       "    </tr>\n",
       "  </tbody>\n",
       "</table>\n",
       "</div>"
      ],
      "text/plain": [
       "              Panel thickness, average (measured)  \\\n",
       "Panel number                                        \n",
       "LBJ13                                    1.397000   \n",
       "LBJ13                                    1.397000   \n",
       "LBJ13                                    1.397000   \n",
       "LBJ14                                    1.431636   \n",
       "LBJ14                                    1.431636   \n",
       "\n",
       "              Ply thickness, average (measured)  Ultimate Tensile Strength  \\\n",
       "Panel number                                                                 \n",
       "LBJ13                                  0.232029                1582.870937   \n",
       "LBJ13                                  0.232029                1542.122918   \n",
       "LBJ13                                  0.232029                1612.952766   \n",
       "LBJ14                                  0.238044                1611.201497   \n",
       "LBJ14                                  0.238044                1639.559637   \n",
       "\n",
       "              Young's Modulus (11-axis)   Test Type  Ply count Specimen ID  \n",
       "Panel number                                                                \n",
       "LBJ13                         47.594514  0° tension          6    LBJ1311A  \n",
       "LBJ13                         47.353197  0° tension          6    LBJ1312A  \n",
       "LBJ13                         47.387671  0° tension          6    LBJ1313A  \n",
       "LBJ14                               NaN  0° tension          6    LBJ1415A  \n",
       "LBJ14                               NaN  0° tension          6    LBJ1417A  "
      ]
     },
     "execution_count": 1,
     "metadata": {},
     "output_type": "execute_result"
    }
   ],
   "source": [
    "point_cols = ['Panel thickness, average (measured)',\n",
    "              'Ply thickness, average (measured)',\n",
    "              'Ultimate Tensile Strength',\n",
    "              \"Young's Modulus (11-axis)\"]\n",
    "df_processed = df[point_cols].applymap(lambda x: x.points[0] if not x.is_empty() else None)\n",
    "df_processed['Test Type'] = df['Test Type'].map(lambda x: x[0])\n",
    "df_processed[['Ply count', 'Specimen ID']] = df[['Ply count', 'Specimen ID']]\n",
    "df_processed.head()"
   ]
  },
  {
   "cell_type": "markdown",
   "id": "16ddd54b",
   "metadata": {},
   "source": [
    "Finally, create a `units` dict so you can create plots with meaningful axis labels."
   ]
  },
  {
   "cell_type": "code",
   "execution_count": 10,
   "id": "68a35061",
   "metadata": {
    "execution": {
     "iopub.execute_input": "2021-07-15T10:08:14.073775Z",
     "iopub.status.busy": "2021-07-15T10:08:14.073775Z",
     "iopub.status.idle": "2021-07-15T10:08:14.084775Z",
     "shell.execute_reply": "2021-07-15T10:08:14.084775Z"
    },
    "tags": []
   },
   "outputs": [
    {
     "data": {
      "text/plain": [
       "{'Panel thickness, average (measured)': 'mm',\n",
       " 'Ply thickness, average (measured)': 'mm',\n",
       " \"Young's Modulus (11-axis)\": 'GPa',\n",
       " 'Ultimate Tensile Strength': 'MPa'}"
      ]
     },
     "execution_count": 1,
     "metadata": {},
     "output_type": "execute_result"
    }
   ],
   "source": [
    "attr_defs = [comp_pedigree.attributes[attr] for attr in pedigree_attributes] + \\\n",
    "            [tensile_test_data.attributes[attr] for attr in tensile_attributes]\n",
    "units = {attr.name: attr.unit for attr in attr_defs if attr.unit}\n",
    "units"
   ]
  },
  {
   "cell_type": "markdown",
   "id": "fc9e8a34",
   "metadata": {},
   "source": [
    "## Plot the data"
   ]
  },
  {
   "cell_type": "markdown",
   "id": "777d8838",
   "metadata": {},
   "source": [
    "This code snippet is optional, and is included to increase the size of all plots generated in this\n",
    "notebook."
   ]
  },
  {
   "cell_type": "code",
   "execution_count": 11,
   "id": "4e28d5eb",
   "metadata": {
    "execution": {
     "iopub.execute_input": "2021-07-15T10:08:14.087775Z",
     "iopub.status.busy": "2021-07-15T10:08:14.087775Z",
     "iopub.status.idle": "2021-07-15T10:08:14.273665Z",
     "shell.execute_reply": "2021-07-15T10:08:14.272646Z"
    }
   },
   "outputs": [],
   "source": [
    "import matplotlib.pyplot as plt\n",
    "plt.rcParams['figure.dpi'] = 125"
   ]
  },
  {
   "cell_type": "markdown",
   "id": "f1f5767f",
   "metadata": {
    "tags": []
   },
   "source": [
    "### Investigate the relationship between two properties"
   ]
  },
  {
   "cell_type": "markdown",
   "id": "fa90d3ce",
   "metadata": {},
   "source": [
    "Create a scatter plot with `matplotlib` comparing *Ultimate Tensile Strength* of the panels to *Ply thickness, average*."
   ]
  },
  {
   "cell_type": "code",
   "execution_count": 12,
   "id": "b4778600",
   "metadata": {
    "execution": {
     "iopub.execute_input": "2021-07-15T10:08:14.312493Z",
     "iopub.status.busy": "2021-07-15T10:08:14.290062Z",
     "iopub.status.idle": "2021-07-15T10:08:14.673034Z",
     "shell.execute_reply": "2021-07-15T10:08:14.674032Z"
    },
    "tags": []
   },
   "outputs": [
    {
     "data": {
      "image/png": "[encoded data removed]",
      "text/plain": [
       "<Figure size 750x500 with 1 Axes>"
      ]
     },
     "metadata": {
      "needs_background": "light"
     },
     "output_type": "display_data"
    }
   ],
   "source": [
    "import matplotlib.pyplot as plt\n",
    "\n",
    "ply_thickness_unit = units['Ply thickness, average (measured)']\n",
    "ftu_unit = units[\"Ultimate Tensile Strength\"]\n",
    "ply_thickness_label = rf'Average ply thickness / ${ply_thickness_unit}$'\n",
    "ftu_label = rf'$F_{{tu}}$ / ${ftu_unit}$'\n",
    "\n",
    "fig, ax = plt.subplots()\n",
    "ax.scatter(data=df_processed, x=\"Ply thickness, average (measured)\", y=\"Ultimate Tensile Strength\", alpha=0.75, s=100)\n",
    "ax.set_xlabel(ply_thickness_label)\n",
    "ax.set_ylabel(ftu_label)\n",
    "_ = ax.set_title(r'$F_{tu}$ vs Average ply thickness')"
   ]
  },
  {
   "cell_type": "markdown",
   "id": "4942cad5",
   "metadata": {},
   "source": [
    "There is a significant difference between the results at 1200 - 1600 MPa and the group below 100 MPa. We need to identify what causes this difference, and then represent the data in a clearer way."
   ]
  },
  {
   "cell_type": "markdown",
   "id": "6610319a",
   "metadata": {},
   "source": [
    "### Investigate the impact of other properties"
   ]
  },
  {
   "cell_type": "markdown",
   "id": "afc7a22d",
   "metadata": {},
   "source": [
    "First, examine the underlying data; use the `DataFrame.describe()` method to view a statistical summary of the data in each column."
   ]
  },
  {
   "cell_type": "code",
   "execution_count": 13,
   "id": "10b8bf2c",
   "metadata": {
    "execution": {
     "iopub.execute_input": "2021-07-15T10:08:14.678033Z",
     "iopub.status.busy": "2021-07-15T10:08:14.676033Z",
     "iopub.status.idle": "2021-07-15T10:08:14.751018Z",
     "shell.execute_reply": "2021-07-15T10:08:14.750017Z"
    }
   },
   "outputs": [
    {
     "data": {
      "text/html": [
       "<div>\n",
       "<style scoped>\n",
       "    .dataframe tbody tr th:only-of-type {\n",
       "        vertical-align: middle;\n",
       "    }\n",
       "\n",
       "    .dataframe tbody tr th {\n",
       "        vertical-align: top;\n",
       "    }\n",
       "\n",
       "    .dataframe thead th {\n",
       "        text-align: right;\n",
       "    }\n",
       "</style>\n",
       "<table border=\"1\" class=\"dataframe\">\n",
       "  <thead>\n",
       "    <tr style=\"text-align: right;\">\n",
       "      <th></th>\n",
       "      <th>Panel thickness, average (measured)</th>\n",
       "      <th>Ply thickness, average (measured)</th>\n",
       "      <th>Ultimate Tensile Strength</th>\n",
       "      <th>Young's Modulus (11-axis)</th>\n",
       "      <th>Test Type</th>\n",
       "      <th>Ply count</th>\n",
       "      <th>Specimen ID</th>\n",
       "    </tr>\n",
       "  </thead>\n",
       "  <tbody>\n",
       "    <tr>\n",
       "      <th>count</th>\n",
       "      <td>67.000000</td>\n",
       "      <td>67.000000</td>\n",
       "      <td>67.000000</td>\n",
       "      <td>18.000000</td>\n",
       "      <td>67</td>\n",
       "      <td>67.000000</td>\n",
       "      <td>67</td>\n",
       "    </tr>\n",
       "    <tr>\n",
       "      <th>unique</th>\n",
       "      <td>NaN</td>\n",
       "      <td>NaN</td>\n",
       "      <td>NaN</td>\n",
       "      <td>NaN</td>\n",
       "      <td>2</td>\n",
       "      <td>NaN</td>\n",
       "      <td>67</td>\n",
       "    </tr>\n",
       "    <tr>\n",
       "      <th>top</th>\n",
       "      <td>NaN</td>\n",
       "      <td>NaN</td>\n",
       "      <td>NaN</td>\n",
       "      <td>NaN</td>\n",
       "      <td>0° tension</td>\n",
       "      <td>NaN</td>\n",
       "      <td>LBJ8314A</td>\n",
       "    </tr>\n",
       "    <tr>\n",
       "      <th>freq</th>\n",
       "      <td>NaN</td>\n",
       "      <td>NaN</td>\n",
       "      <td>NaN</td>\n",
       "      <td>NaN</td>\n",
       "      <td>56</td>\n",
       "      <td>NaN</td>\n",
       "      <td>1</td>\n",
       "    </tr>\n",
       "    <tr>\n",
       "      <th>mean</th>\n",
       "      <td>1.534167</td>\n",
       "      <td>0.235604</td>\n",
       "      <td>1288.110261</td>\n",
       "      <td>42.775844</td>\n",
       "      <td>NaN</td>\n",
       "      <td>6.492537</td>\n",
       "      <td>NaN</td>\n",
       "    </tr>\n",
       "    <tr>\n",
       "      <th>std</th>\n",
       "      <td>0.294450</td>\n",
       "      <td>0.005039</td>\n",
       "      <td>557.743977</td>\n",
       "      <td>13.523385</td>\n",
       "      <td>NaN</td>\n",
       "      <td>1.119701</td>\n",
       "      <td>NaN</td>\n",
       "    </tr>\n",
       "    <tr>\n",
       "      <th>min</th>\n",
       "      <td>1.379415</td>\n",
       "      <td>0.229948</td>\n",
       "      <td>44.629768</td>\n",
       "      <td>13.217251</td>\n",
       "      <td>NaN</td>\n",
       "      <td>6.000000</td>\n",
       "      <td>NaN</td>\n",
       "    </tr>\n",
       "    <tr>\n",
       "      <th>25%</th>\n",
       "      <td>1.385455</td>\n",
       "      <td>0.231279</td>\n",
       "      <td>1353.613343</td>\n",
       "      <td>47.022249</td>\n",
       "      <td>NaN</td>\n",
       "      <td>6.000000</td>\n",
       "      <td>NaN</td>\n",
       "    </tr>\n",
       "    <tr>\n",
       "      <th>50%</th>\n",
       "      <td>1.410677</td>\n",
       "      <td>0.234618</td>\n",
       "      <td>1545.653034</td>\n",
       "      <td>47.973725</td>\n",
       "      <td>NaN</td>\n",
       "      <td>6.000000</td>\n",
       "      <td>NaN</td>\n",
       "    </tr>\n",
       "    <tr>\n",
       "      <th>75%</th>\n",
       "      <td>1.438564</td>\n",
       "      <td>0.240007</td>\n",
       "      <td>1603.610369</td>\n",
       "      <td>49.364743</td>\n",
       "      <td>NaN</td>\n",
       "      <td>6.000000</td>\n",
       "      <td>NaN</td>\n",
       "    </tr>\n",
       "    <tr>\n",
       "      <th>max</th>\n",
       "      <td>2.213429</td>\n",
       "      <td>0.245727</td>\n",
       "      <td>1639.559637</td>\n",
       "      <td>51.400420</td>\n",
       "      <td>NaN</td>\n",
       "      <td>9.000000</td>\n",
       "      <td>NaN</td>\n",
       "    </tr>\n",
       "  </tbody>\n",
       "</table>\n",
       "</div>"
      ],
      "text/plain": [
       "        Panel thickness, average (measured)  \\\n",
       "count                             67.000000   \n",
       "unique                                  NaN   \n",
       "top                                     NaN   \n",
       "freq                                    NaN   \n",
       "mean                               1.534167   \n",
       "std                                0.294450   \n",
       "min                                1.379415   \n",
       "25%                                1.385455   \n",
       "50%                                1.410677   \n",
       "75%                                1.438564   \n",
       "max                                2.213429   \n",
       "\n",
       "        Ply thickness, average (measured)  Ultimate Tensile Strength  \\\n",
       "count                           67.000000                  67.000000   \n",
       "unique                                NaN                        NaN   \n",
       "top                                   NaN                        NaN   \n",
       "freq                                  NaN                        NaN   \n",
       "mean                             0.235604                1288.110261   \n",
       "std                              0.005039                 557.743977   \n",
       "min                              0.229948                  44.629768   \n",
       "25%                              0.231279                1353.613343   \n",
       "50%                              0.234618                1545.653034   \n",
       "75%                              0.240007                1603.610369   \n",
       "max                              0.245727                1639.559637   \n",
       "\n",
       "        Young's Modulus (11-axis)   Test Type  Ply count Specimen ID  \n",
       "count                   18.000000          67  67.000000          67  \n",
       "unique                        NaN           2        NaN          67  \n",
       "top                           NaN  0° tension        NaN    LBJ8314A  \n",
       "freq                          NaN          56        NaN           1  \n",
       "mean                    42.775844         NaN   6.492537         NaN  \n",
       "std                     13.523385         NaN   1.119701         NaN  \n",
       "min                     13.217251         NaN   6.000000         NaN  \n",
       "25%                     47.022249         NaN   6.000000         NaN  \n",
       "50%                     47.973725         NaN   6.000000         NaN  \n",
       "75%                     49.364743         NaN   6.000000         NaN  \n",
       "max                     51.400420         NaN   9.000000         NaN  "
      ]
     },
     "execution_count": 1,
     "metadata": {},
     "output_type": "execute_result"
    }
   ],
   "source": [
    "df_processed.describe(include='all')"
   ]
  },
  {
   "cell_type": "markdown",
   "id": "2ed5f055",
   "metadata": {},
   "source": [
    "The *Test Type* column summary shows that the most frequent value is '0° tension' (as expected), but there are 9 occurrences of a second test type.\n",
    "\n",
    "To identify all possible values in the *Test Type* column, use `DataFrame['Test Type'].unique()`."
   ]
  },
  {
   "cell_type": "code",
   "execution_count": 14,
   "id": "bbf246a7",
   "metadata": {
    "execution": {
     "iopub.execute_input": "2021-07-15T10:08:14.754023Z",
     "iopub.status.busy": "2021-07-15T10:08:14.754023Z",
     "iopub.status.idle": "2021-07-15T10:08:14.765999Z",
     "shell.execute_reply": "2021-07-15T10:08:14.765999Z"
    }
   },
   "outputs": [
    {
     "data": {
      "text/plain": [
       "array(['0° tension', '90° tension'], dtype=object)"
      ]
     },
     "execution_count": 1,
     "metadata": {},
     "output_type": "execute_result"
    }
   ],
   "source": [
    "df_processed['Test Type'].unique()"
   ]
  },
  {
   "cell_type": "markdown",
   "id": "3bcd09c1",
   "metadata": {},
   "source": [
    "Although there is only one populated attribute for *Ultimate Tensile Strength* and *Young's modulus*, the *Test Type* column shows that the tensile tests were performed in two different directions. \n",
    "\n",
    "Since composite materials are often highly orthotropic, the direction of the test must be taken into account when plotting the results. We can filter the DataFrame based on the *Test Type* column when plotting:"
   ]
  },
  {
   "cell_type": "code",
   "execution_count": 15,
   "id": "105c42d5",
   "metadata": {
    "execution": {
     "iopub.execute_input": "2021-07-15T10:08:14.780999Z",
     "iopub.status.busy": "2021-07-15T10:08:14.779999Z",
     "iopub.status.idle": "2021-07-15T10:08:14.936731Z",
     "shell.execute_reply": "2021-07-15T10:08:14.937732Z"
    }
   },
   "outputs": [
    {
     "data": {
      "image/png": "[encoded data removed]",
      "text/plain": [
       "<Figure size 750x500 with 1 Axes>"
      ]
     },
     "metadata": {
      "needs_background": "light"
     },
     "output_type": "display_data"
    }
   ],
   "source": [
    "ftu_0_label = rf'$F_{{tu}}, 0^{{\\circ}}$ / ${ftu_unit}$'\n",
    "df_0_tension = df_processed[df_processed['Test Type'] == '0° tension']\n",
    "\n",
    "fig, ax = plt.subplots()\n",
    "ax.scatter(data=df_0_tension,\n",
    "           x=\"Ply thickness, average (measured)\",\n",
    "           y=\"Ultimate Tensile Strength\",\n",
    "           alpha=0.75,\n",
    "           s=100)\n",
    "ax.set_xlabel(ply_thickness_label)\n",
    "ax.set_ylabel(ftu_0_label)\n",
    "_ = ax.set_title(r'$F_{tu}, 0^{{\\circ}}$ vs Average ply thickness')"
   ]
  },
  {
   "cell_type": "markdown",
   "id": "084aa00d",
   "metadata": {},
   "source": [
    "We can also overlay the 90° *Ultimate Tensile Strength* results, using `.twinx()` to plot them on a separate y-axis."
   ]
  },
  {
   "cell_type": "code",
   "execution_count": 16,
   "id": "e7852677",
   "metadata": {
    "execution": {
     "iopub.execute_input": "2021-07-15T10:08:15.010796Z",
     "iopub.status.busy": "2021-07-15T10:08:14.952850Z",
     "iopub.status.idle": "2021-07-15T10:08:15.229451Z",
     "shell.execute_reply": "2021-07-15T10:08:15.229451Z"
    },
    "tags": []
   },
   "outputs": [
    {
     "data": {
      "image/png": "[encoded data removed]",
      "text/plain": [
       "<Figure size 750x500 with 2 Axes>"
      ]
     },
     "metadata": {
      "needs_background": "light"
     },
     "output_type": "display_data"
    }
   ],
   "source": [
    "ftu_90_label = rf'$F_{{tu}}, 90^{{\\circ}}$ / ${ftu_unit}$'\n",
    "df_90_tension = df_processed[df_processed['Test Type'] == '90° tension']\n",
    "\n",
    "fig, ax1 = plt.subplots()\n",
    "ax1.scatter(data=df_0_tension,\n",
    "            x=\"Ply thickness, average (measured)\",\n",
    "            y=\"Ultimate Tensile Strength\",\n",
    "            color=\"blue\",\n",
    "            marker=\"o\",\n",
    "            alpha=0.75,\n",
    "            s=100)\n",
    "ax2 = plt.twinx()\n",
    "ax2.scatter(data=df_90_tension,\n",
    "            x=\"Ply thickness, average (measured)\",\n",
    "            y=\"Ultimate Tensile Strength\",\n",
    "            color=\"orange\",\n",
    "            marker=\"x\",\n",
    "            alpha=0.75,\n",
    "            s=100)\n",
    "\n",
    "ax1.set_xlabel(ply_thickness_label)\n",
    "ax1.set_ylabel(ftu_0_label)\n",
    "ax2.set_ylabel(ftu_90_label)\n",
    "\n",
    "h1, l1 = ax1.get_legend_handles_labels()\n",
    "h2, l2 = ax2.get_legend_handles_labels()\n",
    "\n",
    "ax1.legend(h1+h2, [ftu_0_label, ftu_90_label], loc='lower right')\n",
    "_ = ax1.set_title(r'$F_{tu}, 0^{{\\circ}}$ and $90^{{\\circ}}$ vs Average ply thickness')"
   ]
  }
 ],
 "metadata": {
  "kernelspec": {
   "display_name": "Python 3",
   "language": "python",
   "name": "python3"
  },
  "language_info": {
   "codemirror_mode": {
    "name": "ipython",
    "version": 3
   },
   "file_extension": ".py",
   "mimetype": "text/x-python",
   "name": "python",
   "nbconvert_exporter": "python",
   "pygments_lexer": "ipython3",
   "version": "3.6.8"
  }
 },
 "nbformat": 4,
 "nbformat_minor": 5
}
