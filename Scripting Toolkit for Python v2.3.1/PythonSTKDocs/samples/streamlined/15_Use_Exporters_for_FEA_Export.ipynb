{
 "cells": [
  {
   "cell_type": "markdown",
   "metadata": {},
   "source": [
    "# Export data for FEA\n",
    "Use MI exporters to export records for use with FEA, CAE or CAD packages."
   ]
  },
  {
   "cell_type": "markdown",
   "metadata": {},
   "source": [
    "## Find exporters\n",
    "Check which exporters are available for a specific table."
   ]
  },
  {
   "cell_type": "code",
   "execution_count": 1,
   "metadata": {
    "execution": {
     "iopub.execute_input": "2021-07-15T09:50:42.741106Z",
     "iopub.status.busy": "2021-07-15T09:50:42.739100Z",
     "iopub.status.idle": "2021-07-15T09:51:23.410410Z",
     "shell.execute_reply": "2021-07-15T09:51:23.410410Z"
    }
   },
   "outputs": [
    {
     "name": "stdout",
     "output_type": "stream",
     "text": [
      "\n",
      "Output of available ANSYS Workbench Exporters\n",
      "458E9A7E-C268-4ED0-9CC1-FF7438521B4F (ANSYS Workbench) - Exports linear, temperature-independent, isotropic data to the Ansys Workbench format\n",
      "CE8DCFA2-B3EE-4545-8D3E-82810FA92AFC (ANSYS Workbench) - Exports linear, temperature-dependent, isotropic data to the Ansys Workbench format\n",
      "4B0B1EA3-8760-43DF-8060-2C79CA471D4C (ANSYS Workbench) - Exports linear, temperature-independent, isotropic with simple failure data to the Ansys Workbench format\n"
     ]
    }
   ],
   "source": [
    "from GRANTA_MIScriptingToolkit import granta as mpy\n",
    "\n",
    "mi = mpy.connect('http://localhost/mi_servicelayer', autologon=True)\n",
    "db = mi.get_db(db_key='MI_Training')\n",
    "table = db.get_table('Design Data')\n",
    "\n",
    "exporters_in_table = table.get_available_exporters(package='ANSYS Workbench')\n",
    "\n",
    "print(\"\\nOutput of available ANSYS Workbench Exporters\")\n",
    "for exporter in exporters_in_table:\n",
    "    print(\"{0} ({1}) - {2}\".format(exporter.name, exporter.package, exporter.description))"
   ]
  },
  {
   "cell_type": "markdown",
   "metadata": {},
   "source": [
    "Check which exporters are applicable to a specific record."
   ]
  },
  {
   "cell_type": "code",
   "execution_count": 2,
   "metadata": {
    "execution": {
     "iopub.execute_input": "2021-07-15T09:51:23.415406Z",
     "iopub.status.busy": "2021-07-15T09:51:23.414390Z",
     "iopub.status.idle": "2021-07-15T09:51:23.532096Z",
     "shell.execute_reply": "2021-07-15T09:51:23.532096Z"
    }
   },
   "outputs": [
    {
     "name": "stdout",
     "output_type": "stream",
     "text": [
      "\n",
      "Output of exporters for 250 Grade Maraging steel:\n",
      "71CE1C21-FDEA-4119-B481-81BDC41BD900 (Abaqus 6) - Exports temperature dependent, isotropic data to the Abaqus format.\n",
      "5C560880-4FD3-4E5C-992B-4B6CEF6A055A (Abaqus 6) - Exports temperature independent, isotropic data to the Abaqus 6 format.\n",
      "911AF055-B388-439A-8AF6-EB18480E2D80 (Abaqus 6) - Linear, temperature-independent, isotropic, simple failure\n",
      "3AE2BEA5-B1DB-45D3-A431-48915B8D1317 (Abaqus 6) - Linear, temperature-independent, isotropic, simple failure with thermal expansion\n",
      "722E5C46-3633-4B72-BF93-74E8112C20C3 (Abaqus 6) - Exports temperature dependent, isotropic data to the Abaqus 6 format.\n",
      "B653C213-8BEB-42A7-8512-5F340EEBFAB4 (Abaqus 6) - Exports temperature independent, isotropic data to the Abaqus 6 format.\n",
      "458E9A7E-C268-4ED0-9CC1-FF7438521B4F (ANSYS Workbench) - Exports linear, temperature-independent, isotropic data to the Ansys Workbench format\n",
      "CE8DCFA2-B3EE-4545-8D3E-82810FA92AFC (ANSYS Workbench) - Exports linear, temperature-dependent, isotropic data to the Ansys Workbench format\n",
      "4B0B1EA3-8760-43DF-8060-2C79CA471D4C (ANSYS Workbench) - Exports linear, temperature-independent, isotropic with simple failure data to the Ansys Workbench format\n"
     ]
    }
   ],
   "source": [
    "rec = table.search_for_records_by_name('250 Grade Maraging, Maraged at 900F, Plate, Thickness: 0.1875 to 0.251 in, AMS 6520, S basis')[0]\n",
    "applicable_exporters = rec.get_available_exporters()\n",
    "print(\"\\nOutput of exporters for 250 Grade Maraging steel:\")\n",
    "\n",
    "for exporter in applicable_exporters:\n",
    "    print(\"{0} ({1}) - {2}\".format(exporter.name,\n",
    "                                   exporter.package,\n",
    "                                   exporter.description))"
   ]
  },
  {
   "cell_type": "markdown",
   "metadata": {},
   "source": [
    "## Working with parameters\n",
    "Some exporters support parameters. The exported parameters have default values but they can also be set manually.\n",
    "\n",
    "Get the required parameters for an exporter."
   ]
  },
  {
   "cell_type": "code",
   "execution_count": 3,
   "metadata": {
    "execution": {
     "iopub.execute_input": "2021-07-15T09:51:23.536096Z",
     "iopub.status.busy": "2021-07-15T09:51:23.534096Z",
     "iopub.status.idle": "2021-07-15T09:51:26.370151Z",
     "shell.execute_reply": "2021-07-15T09:51:26.371153Z"
    }
   },
   "outputs": [
    {
     "name": "stdout",
     "output_type": "stream",
     "text": [
      "{'Time': <ParameterDefinition name: Time, type: Unrestricted numeric, unit: hr>}\n"
     ]
    }
   ],
   "source": [
    "exporter_to_use = rec.get_available_exporters(package=\"Abaqus 6\",\n",
    "                                              model=\"Linear, temperature-dependent, isotropic, thermal, plastic\")[0]\n",
    "\n",
    "parameters_required = exporter_to_use.get_parameters_required_for_export([rec])\n",
    "print(parameters_required)"
   ]
  },
  {
   "cell_type": "markdown",
   "metadata": {},
   "source": [
    "Set the parameter values and perform the export to obtain the material card for use with FEA software. Provide one or more records to the exporter, up to the maximum number specified in the exporter configuration file. The records will be exported to the same material card."
   ]
  },
  {
   "cell_type": "code",
   "execution_count": 4,
   "metadata": {
    "execution": {
     "iopub.execute_input": "2021-07-15T09:51:26.374158Z",
     "iopub.status.busy": "2021-07-15T09:51:26.374158Z",
     "iopub.status.idle": "2021-07-15T09:51:28.406482Z",
     "shell.execute_reply": "2021-07-15T09:51:28.407481Z"
    }
   },
   "outputs": [
    {
     "name": "stdout",
     "output_type": "stream",
     "text": [
      "**\r\n",
      "**Granta Material Name: 250 Grade Maraging, Maraged at 900F, Plate, Thickness: 0.1875 to 0.251 in, AMS 6520, S basis\r\n",
      "**Model Type: Linear, temperature-dependent, isotropic, thermal, plastic\r\n",
      "**Unit System: SI (Consistent)\r\n",
      "**Export User: DOMAIN\\username\r\n",
      "**Export DateTime: 2021-07-15T09:51:26.8735379+00:00\r\n",
      "**Database Name: MI Training\r\n",
      "**Table Name: Design Data\r\n",
      "**Material Record History Id: 20673\r\n",
      "**Density: 7.92e+3 kg/m^3\r\n",
      "**Thermal conductivity with temperature: 37 datapoints W/m.°C\r\n",
      "**Thermal expansion coefficient with temperature: 103 datapoints strain/°C\r\n",
      "**Tensile strength, yield with temperature: 0 datapoints Pa\r\n",
      "**Tensile modulus with temperature: 0 datapoints Pa\r\n",
      "**Poissons ratio: 3.10e-1\r\n",
      "**Thermal diffusivity with temperature: [No Value]\r\n",
      "**\r\n",
      "**Comments\r\n",
      "**\r\n",
      "**LinearIsoTempThermalPlastic.xslt: Transformed CAE material model data\r\n",
      "**(Linear, temperature-dependent, isotropic, thermal, plastic) to Abaqus 6 format.\r\n",
      "**\r\n",
      "**\r\n",
      "*MATERIAL, NAME = A250_Grade_Maraging_Maraged_at\r\n",
      "**\r\n",
      "*DENSITY\r\n",
      "7.92e+3\r\n",
      "**\r\n",
      "**\r\n",
      "**ELASTIC\r\n",
      "** [No Value]\r\n",
      "**\r\n",
      "**PLASTIC\r\n",
      "** [No Value]\r\n",
      "**\r\n",
      "*EXPANSION, ZERO=2.93e+2\r\n",
      "5.41e-6, 1.09e+1\r\n",
      "5.58e-6, 2.20e+1\r\n",
      "5.75e-6, 3.32e+1\r\n",
      "5.92e-6, 4.43e+1\r\n",
      "6.09e-6, 5.54e+1\r\n",
      "6.25e-6, 6.65e+1\r\n",
      "6.41e-6, 7.76e+1\r\n",
      "6.57e-6, 8.87e+1\r\n",
      "6.73e-6, 9.98e+1\r\n",
      "6.88e-6, 1.11e+2\r\n",
      "7.03e-6, 1.22e+2\r\n",
      "7.17e-6, 1.33e+2\r\n",
      "7.31e-6, 1.44e+2\r\n",
      "7.45e-6, 1.55e+2\r\n",
      "7.58e-6, 1.66e+2\r\n",
      "7.71e-6, 1.78e+2\r\n",
      "7.83e-6, 1.89e+2\r\n",
      "7.95e-6, 2.00e+2\r\n",
      "8.07e-6, 2.11e+2\r\n",
      "8.18e-6, 2.22e+2\r\n",
      "8.30e-6, 2.33e+2\r\n",
      "8.40e-6, 2.44e+2\r\n",
      "8.51e-6, 2.55e+2\r\n",
      "8.61e-6, 2.66e+2\r\n",
      "8.71e-6, 2.78e+2\r\n",
      "8.81e-6, 2.89e+2\r\n",
      "8.91e-6, 3.00e+2\r\n",
      "9.00e-6, 3.11e+2\r\n",
      "9.10e-6, 3.22e+2\r\n",
      "9.19e-6, 3.33e+2\r\n",
      "9.28e-6, 3.44e+2\r\n",
      "9.36e-6, 3.55e+2\r\n",
      "9.45e-6, 3.66e+2\r\n",
      "9.53e-6, 3.78e+2\r\n",
      "9.61e-6, 3.89e+2\r\n",
      "9.69e-6, 4.00e+2\r\n",
      "9.77e-6, 4.11e+2\r\n",
      "9.84e-6, 4.22e+2\r\n",
      "9.91e-6, 4.33e+2\r\n",
      "9.98e-6, 4.44e+2\r\n",
      "1.01e-5, 4.55e+2\r\n",
      "1.01e-5, 4.66e+2\r\n",
      "1.02e-5, 4.78e+2\r\n",
      "1.02e-5, 4.89e+2\r\n",
      "1.03e-5, 5.00e+2\r\n",
      "1.03e-5, 5.11e+2\r\n",
      "1.04e-5, 5.22e+2\r\n",
      "1.04e-5, 5.33e+2\r\n",
      "1.05e-5, 5.44e+2\r\n",
      "1.05e-5, 5.55e+2\r\n",
      "1.06e-5, 5.66e+2\r\n",
      "1.06e-5, 5.78e+2\r\n",
      "1.06e-5, 5.89e+2\r\n",
      "1.07e-5, 6.00e+2\r\n",
      "1.07e-5, 6.11e+2\r\n",
      "1.07e-5, 6.22e+2\r\n",
      "1.07e-5, 6.33e+2\r\n",
      "1.07e-5, 6.44e+2\r\n",
      "1.08e-5, 6.55e+2\r\n",
      "1.08e-5, 6.66e+2\r\n",
      "1.08e-5, 6.78e+2\r\n",
      "1.08e-5, 6.89e+2\r\n",
      "1.08e-5, 7.00e+2\r\n",
      "1.08e-5, 7.11e+2\r\n",
      "1.08e-5, 7.22e+2\r\n",
      "1.08e-5, 7.33e+2\r\n",
      "1.08e-5, 7.44e+2\r\n",
      "1.08e-5, 7.55e+2\r\n",
      "1.08e-5, 7.66e+2\r\n",
      "1.08e-5, 7.78e+2\r\n",
      "1.08e-5, 7.89e+2\r\n",
      "1.08e-5, 8.00e+2\r\n",
      "1.07e-5, 8.11e+2\r\n",
      "1.07e-5, 8.22e+2\r\n",
      "1.06e-5, 8.33e+2\r\n",
      "1.06e-5, 8.44e+2\r\n",
      "1.05e-5, 8.55e+2\r\n",
      "1.04e-5, 8.66e+2\r\n",
      "1.02e-5, 8.78e+2\r\n",
      "1.00e-5, 8.89e+2\r\n",
      "9.86e-6, 9.00e+2\r\n",
      "9.66e-6, 9.11e+2\r\n",
      "9.45e-6, 9.22e+2\r\n",
      "9.24e-6, 9.33e+2\r\n",
      "9.03e-6, 9.44e+2\r\n",
      "8.84e-6, 9.55e+2\r\n",
      "8.68e-6, 9.66e+2\r\n",
      "8.54e-6, 9.78e+2\r\n",
      "8.42e-6, 9.89e+2\r\n",
      "8.34e-6, 1.00e+3\r\n",
      "8.28e-6, 1.01e+3\r\n",
      "8.25e-6, 1.02e+3\r\n",
      "8.25e-6, 1.03e+3\r\n",
      "8.27e-6, 1.04e+3\r\n",
      "8.31e-6, 1.06e+3\r\n",
      "8.37e-6, 1.07e+3\r\n",
      "8.44e-6, 1.08e+3\r\n",
      "8.54e-6, 1.09e+3\r\n",
      "8.66e-6, 1.10e+3\r\n",
      "8.82e-6, 1.11e+3\r\n",
      "9.02e-6, 1.12e+3\r\n",
      "9.29e-6, 1.13e+3\r\n",
      "9.67e-6, 1.14e+3\r\n",
      "**\r\n",
      "**\r\n",
      "*CONDUCTIVITY\r\n",
      "2.51e+1, 3.00e+2\r\n",
      "2.54e+1, 3.11e+2\r\n",
      "2.56e+1, 3.22e+2\r\n",
      "2.59e+1, 3.33e+2\r\n",
      "2.62e+1, 3.44e+2\r\n",
      "2.65e+1, 3.55e+2\r\n",
      "2.67e+1, 3.66e+2\r\n",
      "2.70e+1, 3.78e+2\r\n",
      "2.73e+1, 3.89e+2\r\n",
      "2.75e+1, 4.00e+2\r\n",
      "2.78e+1, 4.11e+2\r\n",
      "2.80e+1, 4.22e+2\r\n",
      "2.83e+1, 4.33e+2\r\n",
      "2.85e+1, 4.44e+2\r\n",
      "2.87e+1, 4.55e+2\r\n",
      "2.89e+1, 4.66e+2\r\n",
      "2.91e+1, 4.78e+2\r\n",
      "2.93e+1, 4.89e+2\r\n",
      "2.94e+1, 5.00e+2\r\n",
      "2.96e+1, 5.11e+2\r\n",
      "2.98e+1, 5.22e+2\r\n",
      "2.99e+1, 5.33e+2\r\n",
      "3.00e+1, 5.44e+2\r\n",
      "3.02e+1, 5.55e+2\r\n",
      "3.03e+1, 5.66e+2\r\n",
      "3.04e+1, 5.78e+2\r\n",
      "3.05e+1, 5.89e+2\r\n",
      "3.05e+1, 6.00e+2\r\n",
      "3.06e+1, 6.11e+2\r\n",
      "3.07e+1, 6.22e+2\r\n",
      "3.08e+1, 6.33e+2\r\n",
      "3.08e+1, 6.44e+2\r\n",
      "3.09e+1, 6.55e+2\r\n",
      "3.09e+1, 6.66e+2\r\n",
      "3.10e+1, 6.78e+2\r\n",
      "3.10e+1, 6.89e+2\r\n",
      "3.11e+1, 7.00e+2\r\n",
      "**\r\n",
      "**\r\n",
      "**SPECIFIC HEAT\r\n",
      "** [No Value]\r\n",
      "*NODE\r\n",
      "1, 0.0, 0.0, 0.0\r\n",
      "*ELEMENT, TYPE=CPE4, ELSET=EALL\r\n",
      "1, 1, 2, 5, 4\r\n",
      "\n"
     ]
    }
   ],
   "source": [
    "parameter_values = {\"Time\": 100.0}\n",
    "for parameter_name in parameters_required.keys():\n",
    "    parameters_required[parameter_name].value_for_exporters = parameter_values[parameter_name]\n",
    "\n",
    "material_card = exporter_to_use.run_exporter([rec], parameter_defs=parameters_required)\n",
    "print(material_card)"
   ]
  },
  {
   "cell_type": "markdown",
   "metadata": {},
   "source": [
    "Save the exported data using the settings provided in the .exp file. The filename, extension, and file encoding scheme are left as their defaults."
   ]
  },
  {
   "cell_type": "code",
   "execution_count": 5,
   "metadata": {
    "execution": {
     "iopub.execute_input": "2021-07-15T09:51:28.421239Z",
     "iopub.status.busy": "2021-07-15T09:51:28.419240Z",
     "iopub.status.idle": "2021-07-15T09:51:28.431237Z",
     "shell.execute_reply": "2021-07-15T09:51:28.432236Z"
    }
   },
   "outputs": [
    {
     "name": "stdout",
     "output_type": "stream",
     "text": [
      "Exporter output saved to \"./Example_Export.inp\"\n"
     ]
    }
   ],
   "source": [
    "path_to_save = \"./\"\n",
    "file_name = 'Example_Export'\n",
    "exporter_to_use.save(path_to_save, file_name=\"Example_Export\")\n",
    "file_extension = exporter_to_use.default_file_extension\n",
    "print(\"Exporter output saved to \\\"{}{}.{}\\\"\".format(path_to_save, file_name, file_extension))"
   ]
  }
 ],
 "metadata": {
  "kernelspec": {
   "display_name": "Python 3",
   "language": "python",
   "name": "python3"
  },
  "language_info": {
   "codemirror_mode": {
    "name": "ipython",
    "version": 3
   },
   "file_extension": ".py",
   "mimetype": "text/x-python",
   "name": "python",
   "nbconvert_exporter": "python",
   "pygments_lexer": "ipython3",
   "version": "3.6.8"
  }
 },
 "nbformat": 4,
 "nbformat_minor": 2
}
