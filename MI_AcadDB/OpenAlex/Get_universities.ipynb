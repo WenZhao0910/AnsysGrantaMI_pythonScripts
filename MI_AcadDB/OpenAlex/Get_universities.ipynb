{
 "cells": [
  {
   "cell_type": "markdown",
   "id": "9c8f345f",
   "metadata": {},
   "source": [
    "# Example how create list of universities in a country"
   ]
  },
  {
   "cell_type": "markdown",
   "id": "3f259f54",
   "metadata": {},
   "source": [
    "This example is based on the OpenAlex (https://openalex.org/) API. \n",
    "\n",
    "OpenAlex is a free and open catalog of the world's scholarly papers, researchers, journals, and institutions — along with all the ways they're connected to one another.\n",
    "\n",
    "Using OpenAlex, you can build your own scholarly search engine, recommender service, or knowledge graph. You can help manage research by tracking citation impact, spotting promising new research areas, and identifying and promoting work from underrepresented groups. And you can do research on research itself, in areas like bibliometrics, science and technology studies, and Science of science policy.\n",
    "\n",
    "For more info refer to https://openalex.org/about\n",
    "For more info on the API refer to https://docs.openalex.org/"
   ]
  },
  {
   "cell_type": "markdown",
   "id": "56869ae3",
   "metadata": {},
   "source": [
    "### Import needed packages"
   ]
  },
  {
   "cell_type": "code",
   "execution_count": 1,
   "id": "4e309bc6",
   "metadata": {},
   "outputs": [],
   "source": [
    "import requests\n",
    "import csv\n",
    "import sys\n",
    "for line in sys.stdin:\n",
    "    # Decode what you receive:\n",
    "    line = line.decode('iso8859-1')\n",
    "\n",
    "    # Work with Unicode internally:\n",
    "    line = line.upper()\n",
    "\n",
    "    # Encode what you send:\n",
    "    line = line.encode('utf-8')\n",
    "    sys.stdout.write(line)"
   ]
  },
  {
   "cell_type": "markdown",
   "id": "a93a5736",
   "metadata": {},
   "source": [
    "### Build the query\n",
    "This is expressed as an url "
   ]
  },
  {
   "cell_type": "code",
   "execution_count": 7,
   "id": "12b1e8ed",
   "metadata": {},
   "outputs": [],
   "source": [
    "query_url = 'https://api.openalex.org/institutions?filter=country_code:BR,works_count:%3E500,type:education&per-page=200'"
   ]
  },
  {
   "cell_type": "markdown",
   "id": "bd009bc7-351a-4945-8714-7d5e4e61b85e",
   "metadata": {},
   "source": [
    "In this case we ask openalex.org for all institutions available (/institution) and then filter by country, Italy (country_code:IT), having minimum of 500 publication per year (works_count:%3E500) to clean from vary small/online institutions, by type (type:education) to get universities only, and finally we limit the results we get to 200 universities. \n",
    "\n",
    "Note: the entities are sorted by publications per year. \n",
    "\n"
   ]
  },
  {
   "cell_type": "markdown",
   "id": "d4e2d036",
   "metadata": {},
   "source": [
    "### Make the query and explore results"
   ]
  },
  {
   "cell_type": "code",
   "execution_count": 8,
   "id": "017deeb6",
   "metadata": {},
   "outputs": [],
   "source": [
    "res_json = requests.get(query_url).json()\n",
    "\n"
   ]
  },
  {
   "cell_type": "markdown",
   "id": "c11d149b",
   "metadata": {},
   "source": [
    "The response has three sections "
   ]
  },
  {
   "cell_type": "code",
   "execution_count": 9,
   "id": "ee4b2b78",
   "metadata": {},
   "outputs": [
    {
     "data": {
      "text/plain": [
       "dict_keys(['meta', 'results', 'group_by'])"
      ]
     },
     "execution_count": 9,
     "metadata": {},
     "output_type": "execute_result"
    }
   ],
   "source": [
    "res_json.keys()"
   ]
  },
  {
   "cell_type": "markdown",
   "id": "143aff28",
   "metadata": {},
   "source": [
    "'meta' contains info about the query"
   ]
  },
  {
   "cell_type": "code",
   "execution_count": 10,
   "id": "a8378ac7",
   "metadata": {},
   "outputs": [
    {
     "data": {
      "text/plain": [
       "{'count': 300, 'db_response_time_ms': 74, 'page': 1, 'per_page': 200}"
      ]
     },
     "execution_count": 10,
     "metadata": {},
     "output_type": "execute_result"
    }
   ],
   "source": [
    "res_json['meta']"
   ]
  },
  {
   "cell_type": "markdown",
   "id": "35a520b4",
   "metadata": {},
   "source": [
    "We got 86 results.\n",
    "\n",
    "The 'results' sections contains the actual results. It is a list of dictionaries containing the following informations"
   ]
  },
  {
   "cell_type": "code",
   "execution_count": 11,
   "id": "0b064616",
   "metadata": {},
   "outputs": [
    {
     "name": "stdout",
     "output_type": "stream",
     "text": [
      "dict_keys(['id', 'ror', 'display_name', 'country_code', 'type', 'homepage_url', 'image_url', 'image_thumbnail_url', 'display_name_acronyms', 'display_name_alternatives', 'works_count', 'cited_by_count', 'ids', 'geo', 'international', 'associated_institutions', 'counts_by_year', 'x_concepts', 'works_api_url', 'updated_date', 'created_date'])\n"
     ]
    }
   ],
   "source": [
    "print(res_json['results'][0].keys())"
   ]
  },
  {
   "cell_type": "markdown",
   "id": "21db4ded",
   "metadata": {},
   "source": [
    "Let's now extract some info and add to a list."
   ]
  },
  {
   "cell_type": "code",
   "execution_count": 12,
   "id": "4468b290",
   "metadata": {},
   "outputs": [],
   "source": [
    "it_unis = [['name', 'local name', 'homepage','Alternative names', 'image url', 'country', 'city', 'key subjects', 'key subject scores', 'institutions']]\n",
    "for uni in res_json['results']:\n",
    "    try:\n",
    "        local_name = uni['international']['display_name']['it']\n",
    "    except:\n",
    "        local_name = ''\n",
    "    key_subjects = [concept['display_name'] for concept in uni['x_concepts'] ]\n",
    "    key_subject_score = [concept['score'] for concept in uni['x_concepts'] ]\n",
    "    related_institutions = [inst['display_name'] for inst in uni['associated_institutions']] \n",
    "       \n",
    "    it_unis.append((uni['display_name'],local_name, uni['homepage_url'],uni['display_name_alternatives'],uni['image_url'], uni['geo']['country'], uni['geo']['city'],key_subjects,key_subject_score,related_institutions))"
   ]
  },
  {
   "cell_type": "markdown",
   "id": "f34c0a99",
   "metadata": {},
   "source": [
    "The first row is an header"
   ]
  },
  {
   "cell_type": "code",
   "execution_count": 13,
   "id": "3cf8339c",
   "metadata": {},
   "outputs": [
    {
     "name": "stdout",
     "output_type": "stream",
     "text": [
      "['name', 'local name', 'homepage', 'Alternative names', 'image url', 'country', 'city', 'key subjects', 'key subject scores', 'institutions']\n"
     ]
    }
   ],
   "source": [
    "print(it_unis[0])"
   ]
  },
  {
   "cell_type": "markdown",
   "id": "7c0536b6",
   "metadata": {},
   "source": [
    "Each row is then an university"
   ]
  },
  {
   "cell_type": "code",
   "execution_count": 14,
   "id": "d7f477f5",
   "metadata": {},
   "outputs": [
    {
     "name": "stdout",
     "output_type": "stream",
     "text": [
      "('Universidade de São Paulo', 'Universidade de São Paulo', 'http://www5.usp.br/en/', [], 'https://upload.wikimedia.org/wikipedia/commons/2/2f/Webysther_20170627_-_Bras%%C3%%A3o_USP.svg', 'Brazil', 'São Paulo', ['Biology', 'Medicine', 'Chemistry', 'Physics', 'Internal medicine', 'Genetics', 'Biochemistry', 'Pathology', 'Mathematics', 'Psychology', 'Computer science', 'Organic chemistry', 'Engineering', 'Quantum mechanics'], [64.8, 56.8, 44.4, 36.5, 35.8, 31.1, 31.0, 24.9, 24.2, 24.0, 23.8, 23.4, 22.7, 20.9], ['Clinics Hospital of Ribeirão Preto', 'Hospital das Clínicas da Faculdade de Medicina da Universidade de São Paulo', 'Instituto Butantan'])\n"
     ]
    }
   ],
   "source": [
    "print(it_unis[1])"
   ]
  },
  {
   "cell_type": "markdown",
   "id": "9f51138c",
   "metadata": {},
   "source": [
    "We can now save the results to file (.csv)"
   ]
  },
  {
   "cell_type": "code",
   "execution_count": 15,
   "id": "d85cb439",
   "metadata": {
    "code_folding": []
   },
   "outputs": [],
   "source": [
    "with open(\"french_uni.csv\",\"w+\") as my_csv:\n",
    "    csvWriter = csv.writer(my_csv,delimiter=',')\n",
    "    csvWriter.writerows(it_unis)"
   ]
  },
  {
   "cell_type": "markdown",
   "id": "77ec59e6",
   "metadata": {},
   "source": [
    "Or use the stk to write them in MI"
   ]
  },
  {
   "cell_type": "code",
   "execution_count": null,
   "id": "59245399",
   "metadata": {},
   "outputs": [],
   "source": [
    "# TODO"
   ]
  },
  {
   "cell_type": "code",
   "execution_count": null,
   "id": "3594d164",
   "metadata": {},
   "outputs": [],
   "source": []
  },
  {
   "cell_type": "code",
   "execution_count": null,
   "id": "22df02a3-3b7d-4f5c-8d76-5a49fb5d8a53",
   "metadata": {},
   "outputs": [],
   "source": []
  }
 ],
 "metadata": {
  "hide_input": false,
  "kernelspec": {
   "display_name": "Python 3 (ipykernel)",
   "language": "python",
   "name": "python3"
  },
  "language_info": {
   "codemirror_mode": {
    "name": "ipython",
    "version": 3
   },
   "file_extension": ".py",
   "mimetype": "text/x-python",
   "name": "python",
   "nbconvert_exporter": "python",
   "pygments_lexer": "ipython3",
   "version": "3.9.7"
  }
 },
 "nbformat": 4,
 "nbformat_minor": 5
}
