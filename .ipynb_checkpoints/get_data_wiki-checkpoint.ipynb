{
 "cells": [
  {
   "cell_type": "code",
   "execution_count": 2,
   "id": "fa82ff0a-f864-412d-b46b-0eee38d27d0e",
   "metadata": {},
   "outputs": [],
   "source": [
    "#Import the tkinter library\n",
    "import tkinter as tk\n",
    "from tkinter import *\n",
    "import wikipedia"
   ]
  },
  {
   "cell_type": "code",
   "execution_count": 4,
   "id": "80e51392-4259-4a27-b282-f1b414057b95",
   "metadata": {},
   "outputs": [],
   "source": [
    "win = Tk()\n",
    "win.geometry(\"700x500\")\n",
    "win.title(\"Wikipedia Summary\")\n",
    "\n",
    "result = wikipedia.search(\"Aix-Marseille University\")\n",
    "\n",
    "# get the page Details\n",
    "page = wikipedia.page(result[0])\n",
    "\n",
    "# Get the summary\n",
    "summary = page.summary\n",
    "\n",
    "# T = tk.Text(win, height=200, width=70)\n",
    "# T.pack()\n",
    "# T.insert(tk.END, summary)\n",
    "# win.mainloop()\n",
    "\n",
    "print(summary)"
   ]
  },
  {
   "cell_type": "code",
   "execution_count": 6,
   "id": "da85cd8d-4083-4e0f-8762-8f7dc46d5697",
   "metadata": {},
   "outputs": [
    {
     "name": "stdout",
     "output_type": "stream",
     "text": [
      "Aix-Marseille University (AMU; French: Aix-Marseille Université; formally incorporated as Université d'Aix-Marseille) is a public research university located in the Provence region of southern France. It was founded in 1409 when Louis II of Anjou, Count of Provence, petitioned the Pisan Antipope Alexander V to establish the University of Provence, making it one of the oldest university-level institutions in France. The institution came into its current form following a reunification of the University of Provence, the University of the Mediterranean and Paul Cézanne University. The reunification became effective on 1 January 2012, resulting in the creation of the largest university in the French-speaking world, with about 80,000 students. AMU has the largest budget of any academic institution in the Francophone world, standing at €750 million. It is consistently ranked among the top 200 universities in the world and is ranked within the top 5 universities in France according to ARWU, USNWR, and CWTS.The university is organized around five main campuses situated in Aix-en-Provence and Marseille. Apart from its major campuses, AMU owns and operates facilities in Arles, Aubagne, Avignon, Digne-les-Bains, Gap, La Ciotat, Lambesc and Salon-de-Provence. The university is headquartered in the 7th arrondissement of Marseille.AMU has produced many notable alumni in the fields of law, politics, business, science, academia and arts. To date, there have been four Nobel Prize laureates amongst its alumni and faculty, as well as a two-time recipient of the Pulitzer Prize, four César Award winners, multiple heads of state or government, parliamentary speakers, government ministers, ambassadors and members of the constituent academies of the Institut de France.\n",
      "AMU has hundreds of research and teaching partnerships, including close collaboration with the French National Centre for Scientific Research (CNRS) and the French Alternative Energies and Atomic Energy Commission (CEA). AMU is a member of numerous academic organisations including the European University Association (EUA) and the Mediterranean Universities Union (UNIMED).\n"
     ]
    }
   ],
   "source": [
    "print(summary)"
   ]
  },
  {
   "cell_type": "code",
   "execution_count": null,
   "id": "b9bf654b-dfa7-4c0a-92dd-d3afc57a0c41",
   "metadata": {},
   "outputs": [],
   "source": []
  }
 ],
 "metadata": {
  "kernelspec": {
   "display_name": "Python 3 (ipykernel)",
   "language": "python",
   "name": "python3"
  },
  "language_info": {
   "codemirror_mode": {
    "name": "ipython",
    "version": 3
   },
   "file_extension": ".py",
   "mimetype": "text/x-python",
   "name": "python",
   "nbconvert_exporter": "python",
   "pygments_lexer": "ipython3",
   "version": "3.9.7"
  }
 },
 "nbformat": 4,
 "nbformat_minor": 5
}
