{
 "cells": [
  {
   "cell_type": "markdown",
   "id": "d92314a7",
   "metadata": {},
   "source": [
    "# Create scatter plots\n",
    "\n",
    "Export multiple attributes from a table and use the `pandas`, `matplotlib` and `seaborn` packages to compare material properties using 2D, 3D, and 4D scatter plots.\n",
    "\n",
    "This example uses data from the *MaterialUniverse* table in the *MI Training* database."
   ]
  },
  {
   "cell_type": "markdown",
   "id": "2ed376f5",
   "metadata": {},
   "source": [
    "## Get data from Granta MI"
   ]
  },
  {
   "cell_type": "markdown",
   "id": "b1af8e5d",
   "metadata": {},
   "source": [
    "Connect to MI and specify a database and table."
   ]
  },
  {
   "cell_type": "code",
   "execution_count": 1,
   "id": "9f1762f2",
   "metadata": {
    "execution": {
     "iopub.execute_input": "2022-05-10T22:40:39.259310Z",
     "iopub.status.busy": "2022-05-10T22:40:39.259310Z",
     "iopub.status.idle": "2022-05-10T22:40:47.840538Z",
     "shell.execute_reply": "2022-05-10T22:40:47.840538Z"
    },
    "tags": []
   },
   "outputs": [],
   "source": [
    "from GRANTA_MIScriptingToolkit import granta as mi\n",
    "\n",
    "session = mi.Session('localhost', autologon=True)\n",
    "training_db = session.get_db('MI Training')\n",
    "training_db.set_unit_system('SI (Consistent)')\n",
    "material_universe = training_db.get_table('MaterialUniverse')"
   ]
  },
  {
   "cell_type": "markdown",
   "id": "606c71e7",
   "metadata": {},
   "source": [
    "Specify the records whose attributes you want to plot. In this case, all records in the table are used, but you can use other MI Scripting Toolkit methods to define a list of records (for example, `search_criterion()`)."
   ]
  },
  {
   "cell_type": "code",
   "execution_count": 2,
   "id": "18bc3a54",
   "metadata": {
    "execution": {
     "iopub.execute_input": "2022-05-10T22:40:47.840538Z",
     "iopub.status.busy": "2022-05-10T22:40:47.840538Z",
     "iopub.status.idle": "2022-05-10T22:40:48.543772Z",
     "shell.execute_reply": "2022-05-10T22:40:48.543772Z"
    },
    "tags": []
   },
   "outputs": [],
   "source": [
    "records = material_universe.all_records(include_generics=False, include_folders=False)"
   ]
  },
  {
   "cell_type": "markdown",
   "id": "21cd6946",
   "metadata": {},
   "source": [
    "Bulk export the attributes you want to plot. (The attribute names are stored in a list for later use.)"
   ]
  },
  {
   "cell_type": "code",
   "execution_count": 3,
   "id": "8f6927b4",
   "metadata": {
    "execution": {
     "iopub.execute_input": "2022-05-10T22:40:48.543772Z",
     "iopub.status.busy": "2022-05-10T22:40:48.543772Z",
     "iopub.status.idle": "2022-05-10T22:41:08.525109Z",
     "shell.execute_reply": "2022-05-10T22:41:08.525109Z"
    },
    "tags": []
   },
   "outputs": [],
   "source": [
    "attributes = ['Designation', 'Base', 'Transparency', \"Young's modulus\", 'Density', 'Tensile strength',\n",
    "              'Electrical resistivity']\n",
    "material_universe.bulk_fetch(records, attributes=attributes)"
   ]
  },
  {
   "cell_type": "markdown",
   "id": "84482964",
   "metadata": {},
   "source": [
    "## Process the data using `pandas`"
   ]
  },
  {
   "cell_type": "markdown",
   "id": "0204d9d8",
   "metadata": {},
   "source": [
    "### Build a DataFrame"
   ]
  },
  {
   "cell_type": "markdown",
   "id": "856b305b",
   "metadata": {},
   "source": [
    "A `pandas` DataFrame can be built from a `List` of `Dicts`, where each dictionary in the list corresponds to a separate row in the DataFrame. Each key-value pair in the `Dict` corresponds to a column and the cell value in that column,\n",
    "respectively.\n",
    "\n",
    "First generate the list of dictionaries, and then use this list to create a DataFrame. Here, we are using the `Record.id` property as the DataFrame index, but any column with a unique value for each record can be used."
   ]
  },
  {
   "cell_type": "code",
   "execution_count": 4,
   "id": "1bd02f30",
   "metadata": {
    "execution": {
     "iopub.execute_input": "2022-05-10T22:41:08.525109Z",
     "iopub.status.busy": "2022-05-10T22:41:08.525109Z",
     "iopub.status.idle": "2022-05-10T22:41:08.835109Z",
     "shell.execute_reply": "2022-05-10T22:41:08.835109Z"
    }
   },
   "outputs": [],
   "source": [
    "import pandas as pd\n",
    "\n",
    "def get_attr_vals(r):\n",
    "    return {mi_attr: r.attributes[mi_attr].value for mi_attr in attributes}\n",
    "\n",
    "data = [{'id': r.id, **get_attr_vals(r)} for r in records]\n",
    "df = pd.DataFrame(data).set_index('id')"
   ]
  },
  {
   "cell_type": "markdown",
   "id": "710bf624",
   "metadata": {},
   "source": [
    "Use the DataFrame `.head()` method to output the first few rows of the DataFrame and check the structure."
   ]
  },
  {
   "cell_type": "code",
   "execution_count": 5,
   "id": "e99ac9a4",
   "metadata": {
    "execution": {
     "iopub.execute_input": "2022-05-10T22:41:08.835109Z",
     "iopub.status.busy": "2022-05-10T22:41:08.835109Z",
     "iopub.status.idle": "2022-05-10T22:41:08.855109Z",
     "shell.execute_reply": "2022-05-10T22:41:08.855109Z"
    }
   },
   "outputs": [
    {
     "data": {
      "text/html": [
       "<div>\n",
       "<style scoped>\n",
       "    .dataframe tbody tr th:only-of-type {\n",
       "        vertical-align: middle;\n",
       "    }\n",
       "\n",
       "    .dataframe tbody tr th {\n",
       "        vertical-align: top;\n",
       "    }\n",
       "\n",
       "    .dataframe thead th {\n",
       "        text-align: right;\n",
       "    }\n",
       "</style>\n",
       "<table border=\"1\" class=\"dataframe\">\n",
       "  <thead>\n",
       "    <tr style=\"text-align: right;\">\n",
       "      <th></th>\n",
       "      <th>Designation</th>\n",
       "      <th>Base</th>\n",
       "      <th>Transparency</th>\n",
       "      <th>Young's modulus</th>\n",
       "      <th>Density</th>\n",
       "      <th>Tensile strength</th>\n",
       "      <th>Electrical resistivity</th>\n",
       "    </tr>\n",
       "    <tr>\n",
       "      <th>id</th>\n",
       "      <th></th>\n",
       "      <th></th>\n",
       "      <th></th>\n",
       "      <th></th>\n",
       "      <th></th>\n",
       "      <th></th>\n",
       "      <th></th>\n",
       "    </tr>\n",
       "  </thead>\n",
       "  <tbody>\n",
       "    <tr>\n",
       "      <th>8925</th>\n",
       "      <td>1720</td>\n",
       "      <td>Oxide</td>\n",
       "      <td>Transparent</td>\n",
       "      <td>{'low': 84800000000.0, 'high': 89100000000.0}</td>\n",
       "      <td>{'low': 2490.0, 'high': 2540.0}</td>\n",
       "      <td>{'low': 39900001.525878906, 'high': 43900001.5...</td>\n",
       "      <td>{'low': 999999977819630.9, 'high': 9.999999562...</td>\n",
       "    </tr>\n",
       "    <tr>\n",
       "      <th>8926</th>\n",
       "      <td>1723</td>\n",
       "      <td>Oxide</td>\n",
       "      <td>Transparent</td>\n",
       "      <td>{'low': 83900000000.0, 'high': 88100000000.0}</td>\n",
       "      <td>{'low': 2610.0, 'high': 2660.0}</td>\n",
       "      <td>{'low': 37599998.474121094, 'high': 41400001.5...</td>\n",
       "      <td>{'low': 999999977819630.9, 'high': 9.999999562...</td>\n",
       "    </tr>\n",
       "    <tr>\n",
       "      <th>8927</th>\n",
       "      <td>9617</td>\n",
       "      <td>Oxide</td>\n",
       "      <td>Opaque</td>\n",
       "      <td>{'low': 84000000000.0, 'high': 88000000000.0}</td>\n",
       "      <td>{'low': 2500.0, 'high': 2599.9999046325684}</td>\n",
       "      <td>{'low': 37700000.76293945, 'high': 39599998.47...</td>\n",
       "      <td>{'low': 99999997781963.08, 'high': 1.000000013...</td>\n",
       "    </tr>\n",
       "    <tr>\n",
       "      <th>8928</th>\n",
       "      <td>6750</td>\n",
       "      <td>Oxide</td>\n",
       "      <td>Opaque</td>\n",
       "      <td>{'low': 57300000000.0, 'high': 75900000000.0}</td>\n",
       "      <td>{'low': 2560.0, 'high': 2610.0}</td>\n",
       "      <td>{'low': 25399999.618530273, 'high': 34000000.0}</td>\n",
       "      <td>{'low': 99999997781963.08, 'high': 1.000000013...</td>\n",
       "    </tr>\n",
       "    <tr>\n",
       "      <th>8930</th>\n",
       "      <td>7059</td>\n",
       "      <td>Oxide</td>\n",
       "      <td>Transparent</td>\n",
       "      <td>{'low': 66300003051.75781, 'high': 69699996948...</td>\n",
       "      <td>{'low': 2730.0000190734863, 'high': 2779.99997...</td>\n",
       "      <td>{'low': 29500000.0, 'high': 31100000.381469727}</td>\n",
       "      <td>{'low': 99999997781963.08, 'high': 1.000000013...</td>\n",
       "    </tr>\n",
       "  </tbody>\n",
       "</table>\n",
       "</div>"
      ],
      "text/plain": [
       "     Designation   Base Transparency  \\\n",
       "id                                     \n",
       "8925        1720  Oxide  Transparent   \n",
       "8926        1723  Oxide  Transparent   \n",
       "8927        9617  Oxide       Opaque   \n",
       "8928        6750  Oxide       Opaque   \n",
       "8930        7059  Oxide  Transparent   \n",
       "\n",
       "                                        Young's modulus  \\\n",
       "id                                                        \n",
       "8925      {'low': 84800000000.0, 'high': 89100000000.0}   \n",
       "8926      {'low': 83900000000.0, 'high': 88100000000.0}   \n",
       "8927      {'low': 84000000000.0, 'high': 88000000000.0}   \n",
       "8928      {'low': 57300000000.0, 'high': 75900000000.0}   \n",
       "8930  {'low': 66300003051.75781, 'high': 69699996948...   \n",
       "\n",
       "                                                Density  \\\n",
       "id                                                        \n",
       "8925                    {'low': 2490.0, 'high': 2540.0}   \n",
       "8926                    {'low': 2610.0, 'high': 2660.0}   \n",
       "8927        {'low': 2500.0, 'high': 2599.9999046325684}   \n",
       "8928                    {'low': 2560.0, 'high': 2610.0}   \n",
       "8930  {'low': 2730.0000190734863, 'high': 2779.99997...   \n",
       "\n",
       "                                       Tensile strength  \\\n",
       "id                                                        \n",
       "8925  {'low': 39900001.525878906, 'high': 43900001.5...   \n",
       "8926  {'low': 37599998.474121094, 'high': 41400001.5...   \n",
       "8927  {'low': 37700000.76293945, 'high': 39599998.47...   \n",
       "8928    {'low': 25399999.618530273, 'high': 34000000.0}   \n",
       "8930    {'low': 29500000.0, 'high': 31100000.381469727}   \n",
       "\n",
       "                                 Electrical resistivity  \n",
       "id                                                       \n",
       "8925  {'low': 999999977819630.9, 'high': 9.999999562...  \n",
       "8926  {'low': 999999977819630.9, 'high': 9.999999562...  \n",
       "8927  {'low': 99999997781963.08, 'high': 1.000000013...  \n",
       "8928  {'low': 99999997781963.08, 'high': 1.000000013...  \n",
       "8930  {'low': 99999997781963.08, 'high': 1.000000013...  "
      ]
     },
     "execution_count": 5,
     "metadata": {},
     "output_type": "execute_result"
    }
   ],
   "source": [
    "df.head()"
   ]
  },
  {
   "cell_type": "markdown",
   "id": "04333d4f",
   "metadata": {},
   "source": [
    "### Process any range data"
   ]
  },
  {
   "cell_type": "markdown",
   "id": "31e3eaa6",
   "metadata": {},
   "source": [
    "A DataFrame cell can contain any data type we choose to store in it. However, plotting packages such as `matplotlib`\n",
    "require numerical values to be in a standard format. Some MI Scripting Toolkit data types, such as\n",
    "ranges represented as dictionaries, are not in that format and have to be processed before plotting.\n",
    "\n",
    "Below, we define a `granta_mean` function which takes a single `dict` as input and calculates either the arithmetic or\n",
    "geometric mean (depending on the signs of the input values)."
   ]
  },
  {
   "cell_type": "code",
   "execution_count": 6,
   "id": "5288dfc9",
   "metadata": {
    "execution": {
     "iopub.execute_input": "2022-05-10T22:41:08.855109Z",
     "iopub.status.busy": "2022-05-10T22:41:08.855109Z",
     "iopub.status.idle": "2022-05-10T22:41:08.865108Z",
     "shell.execute_reply": "2022-05-10T22:41:08.865108Z"
    }
   },
   "outputs": [],
   "source": [
    "import math\n",
    "\n",
    "def granta_mean(value):\n",
    "    if value is None:\n",
    "        return None\n",
    "    if 'high' not in value:\n",
    "        return value['low']\n",
    "    if 'low' not in value:\n",
    "        return value['high']\n",
    "    product = value['low'] * value['high']\n",
    "    if product > 0:\n",
    "        gm = math.sqrt(product)\n",
    "        if value['low'] > 0:\n",
    "            return gm\n",
    "        else:\n",
    "            return -gm\n",
    "    else:\n",
    "        return sum(value.values())/2"
   ]
  },
  {
   "cell_type": "markdown",
   "id": "4f70911c",
   "metadata": {},
   "source": [
    "Apply the `granta_mean` function to each cell in the *Density*, *Young's modulus*, *Tensile strength*, and *Electrical\n",
    "resistivity* columns. Store the results in a new DataFrame, and check the output to ensure the data processing worked as\n",
    "expected."
   ]
  },
  {
   "cell_type": "code",
   "execution_count": 7,
   "id": "4b7cd293",
   "metadata": {
    "execution": {
     "iopub.execute_input": "2022-05-10T22:41:08.865108Z",
     "iopub.status.busy": "2022-05-10T22:41:08.865108Z",
     "iopub.status.idle": "2022-05-10T22:41:08.885109Z",
     "shell.execute_reply": "2022-05-10T22:41:08.885109Z"
    }
   },
   "outputs": [
    {
     "data": {
      "text/html": [
       "<div>\n",
       "<style scoped>\n",
       "    .dataframe tbody tr th:only-of-type {\n",
       "        vertical-align: middle;\n",
       "    }\n",
       "\n",
       "    .dataframe tbody tr th {\n",
       "        vertical-align: top;\n",
       "    }\n",
       "\n",
       "    .dataframe thead th {\n",
       "        text-align: right;\n",
       "    }\n",
       "</style>\n",
       "<table border=\"1\" class=\"dataframe\">\n",
       "  <thead>\n",
       "    <tr style=\"text-align: right;\">\n",
       "      <th></th>\n",
       "      <th>Density</th>\n",
       "      <th>Young's modulus</th>\n",
       "      <th>Tensile strength</th>\n",
       "      <th>Electrical resistivity</th>\n",
       "    </tr>\n",
       "    <tr>\n",
       "      <th>id</th>\n",
       "      <th></th>\n",
       "      <th></th>\n",
       "      <th></th>\n",
       "      <th></th>\n",
       "    </tr>\n",
       "  </thead>\n",
       "  <tbody>\n",
       "    <tr>\n",
       "      <th>8925</th>\n",
       "      <td>2514.875742</td>\n",
       "      <td>8.692341e+10</td>\n",
       "      <td>4.185224e+07</td>\n",
       "      <td>1.000000e+16</td>\n",
       "    </tr>\n",
       "    <tr>\n",
       "      <th>8926</th>\n",
       "      <td>2634.881402</td>\n",
       "      <td>8.597436e+10</td>\n",
       "      <td>3.945428e+07</td>\n",
       "      <td>1.000000e+16</td>\n",
       "    </tr>\n",
       "    <tr>\n",
       "      <th>8927</th>\n",
       "      <td>2549.509710</td>\n",
       "      <td>8.597674e+10</td>\n",
       "      <td>3.863832e+07</td>\n",
       "      <td>1.000000e+15</td>\n",
       "    </tr>\n",
       "    <tr>\n",
       "      <th>8928</th>\n",
       "      <td>2584.879107</td>\n",
       "      <td>6.594748e+10</td>\n",
       "      <td>2.938707e+07</td>\n",
       "      <td>1.000000e+15</td>\n",
       "    </tr>\n",
       "    <tr>\n",
       "      <th>8930</th>\n",
       "      <td>2754.886563</td>\n",
       "      <td>6.797875e+10</td>\n",
       "      <td>3.028944e+07</td>\n",
       "      <td>1.000000e+15</td>\n",
       "    </tr>\n",
       "  </tbody>\n",
       "</table>\n",
       "</div>"
      ],
      "text/plain": [
       "          Density  Young's modulus  Tensile strength  Electrical resistivity\n",
       "id                                                                          \n",
       "8925  2514.875742     8.692341e+10      4.185224e+07            1.000000e+16\n",
       "8926  2634.881402     8.597436e+10      3.945428e+07            1.000000e+16\n",
       "8927  2549.509710     8.597674e+10      3.863832e+07            1.000000e+15\n",
       "8928  2584.879107     6.594748e+10      2.938707e+07            1.000000e+15\n",
       "8930  2754.886563     6.797875e+10      3.028944e+07            1.000000e+15"
      ]
     },
     "execution_count": 7,
     "metadata": {},
     "output_type": "execute_result"
    }
   ],
   "source": [
    "df_processed = df[['Density', \"Young's modulus\", 'Tensile strength', 'Electrical resistivity']].applymap(granta_mean)\n",
    "df_processed.head()"
   ]
  },
  {
   "cell_type": "markdown",
   "id": "5b376dd6",
   "metadata": {},
   "source": [
    "Since the columns now contain numeric data, we can use the `.describe()` method to provide some initial insights into\n",
    "the distribution of values in the table. (This also confirms that the `granta_mean` function worked as expected.)"
   ]
  },
  {
   "cell_type": "code",
   "execution_count": 8,
   "id": "8b73ea61",
   "metadata": {
    "execution": {
     "iopub.execute_input": "2022-05-10T22:41:08.885109Z",
     "iopub.status.busy": "2022-05-10T22:41:08.885109Z",
     "iopub.status.idle": "2022-05-10T22:41:08.905111Z",
     "shell.execute_reply": "2022-05-10T22:41:08.905111Z"
    }
   },
   "outputs": [
    {
     "data": {
      "text/html": [
       "<div>\n",
       "<style scoped>\n",
       "    .dataframe tbody tr th:only-of-type {\n",
       "        vertical-align: middle;\n",
       "    }\n",
       "\n",
       "    .dataframe tbody tr th {\n",
       "        vertical-align: top;\n",
       "    }\n",
       "\n",
       "    .dataframe thead th {\n",
       "        text-align: right;\n",
       "    }\n",
       "</style>\n",
       "<table border=\"1\" class=\"dataframe\">\n",
       "  <thead>\n",
       "    <tr style=\"text-align: right;\">\n",
       "      <th></th>\n",
       "      <th>Density</th>\n",
       "      <th>Young's modulus</th>\n",
       "      <th>Tensile strength</th>\n",
       "      <th>Electrical resistivity</th>\n",
       "    </tr>\n",
       "  </thead>\n",
       "  <tbody>\n",
       "    <tr>\n",
       "      <th>count</th>\n",
       "      <td>29.000000</td>\n",
       "      <td>2.900000e+01</td>\n",
       "      <td>2.900000e+01</td>\n",
       "      <td>2.900000e+01</td>\n",
       "    </tr>\n",
       "    <tr>\n",
       "      <th>mean</th>\n",
       "      <td>3056.118133</td>\n",
       "      <td>7.441616e+10</td>\n",
       "      <td>3.107848e+08</td>\n",
       "      <td>2.184037e+15</td>\n",
       "    </tr>\n",
       "    <tr>\n",
       "      <th>std</th>\n",
       "      <td>3201.106148</td>\n",
       "      <td>1.256091e+11</td>\n",
       "      <td>4.631297e+08</td>\n",
       "      <td>4.056391e+15</td>\n",
       "    </tr>\n",
       "    <tr>\n",
       "      <th>min</th>\n",
       "      <td>922.225549</td>\n",
       "      <td>7.509658e+05</td>\n",
       "      <td>8.289964e+06</td>\n",
       "      <td>4.298837e-08</td>\n",
       "    </tr>\n",
       "    <tr>\n",
       "      <th>25%</th>\n",
       "      <td>1184.905061</td>\n",
       "      <td>2.408319e+09</td>\n",
       "      <td>3.863832e+07</td>\n",
       "      <td>1.689970e-06</td>\n",
       "    </tr>\n",
       "    <tr>\n",
       "      <th>50%</th>\n",
       "      <td>1369.963508</td>\n",
       "      <td>1.308128e+10</td>\n",
       "      <td>6.816744e+07</td>\n",
       "      <td>4.000000e+13</td>\n",
       "    </tr>\n",
       "    <tr>\n",
       "      <th>75%</th>\n",
       "      <td>2799.839234</td>\n",
       "      <td>8.692341e+10</td>\n",
       "      <td>4.446234e+08</td>\n",
       "      <td>1.000000e+15</td>\n",
       "    </tr>\n",
       "    <tr>\n",
       "      <th>max</th>\n",
       "      <td>15597.115118</td>\n",
       "      <td>6.340347e+11</td>\n",
       "      <td>1.775671e+09</td>\n",
       "      <td>1.000000e+16</td>\n",
       "    </tr>\n",
       "  </tbody>\n",
       "</table>\n",
       "</div>"
      ],
      "text/plain": [
       "            Density  Young's modulus  Tensile strength  Electrical resistivity\n",
       "count     29.000000     2.900000e+01      2.900000e+01            2.900000e+01\n",
       "mean    3056.118133     7.441616e+10      3.107848e+08            2.184037e+15\n",
       "std     3201.106148     1.256091e+11      4.631297e+08            4.056391e+15\n",
       "min      922.225549     7.509658e+05      8.289964e+06            4.298837e-08\n",
       "25%     1184.905061     2.408319e+09      3.863832e+07            1.689970e-06\n",
       "50%     1369.963508     1.308128e+10      6.816744e+07            4.000000e+13\n",
       "75%     2799.839234     8.692341e+10      4.446234e+08            1.000000e+15\n",
       "max    15597.115118     6.340347e+11      1.775671e+09            1.000000e+16"
      ]
     },
     "execution_count": 8,
     "metadata": {},
     "output_type": "execute_result"
    }
   ],
   "source": [
    "df_processed.describe()"
   ]
  },
  {
   "cell_type": "markdown",
   "id": "0ec08319",
   "metadata": {},
   "source": [
    "### Process any text data"
   ]
  },
  {
   "cell_type": "markdown",
   "id": "2d1308ae",
   "metadata": {},
   "source": [
    "The columns *Transparency* and *Base* are based on discrete attributes. If the attributes contained\n",
    "multi-valued data then they would contain a list, and would require additional processing to make the data suitable for\n",
    "plotting. However, in this case the data is single-valued, and so the DataFrame cells contain strings. We can copy them\n",
    "into the new DataFrame."
   ]
  },
  {
   "cell_type": "code",
   "execution_count": 9,
   "id": "b64d8118",
   "metadata": {
    "execution": {
     "iopub.execute_input": "2022-05-10T22:41:08.905111Z",
     "iopub.status.busy": "2022-05-10T22:41:08.905111Z",
     "iopub.status.idle": "2022-05-10T22:41:08.925110Z",
     "shell.execute_reply": "2022-05-10T22:41:08.925110Z"
    },
    "jupyter": {
     "outputs_hidden": false
    },
    "pycharm": {
     "name": "#%%\n"
    }
   },
   "outputs": [
    {
     "data": {
      "text/html": [
       "<div>\n",
       "<style scoped>\n",
       "    .dataframe tbody tr th:only-of-type {\n",
       "        vertical-align: middle;\n",
       "    }\n",
       "\n",
       "    .dataframe tbody tr th {\n",
       "        vertical-align: top;\n",
       "    }\n",
       "\n",
       "    .dataframe thead th {\n",
       "        text-align: right;\n",
       "    }\n",
       "</style>\n",
       "<table border=\"1\" class=\"dataframe\">\n",
       "  <thead>\n",
       "    <tr style=\"text-align: right;\">\n",
       "      <th></th>\n",
       "      <th>Density</th>\n",
       "      <th>Young's modulus</th>\n",
       "      <th>Tensile strength</th>\n",
       "      <th>Electrical resistivity</th>\n",
       "      <th>Transparency</th>\n",
       "      <th>Base</th>\n",
       "    </tr>\n",
       "    <tr>\n",
       "      <th>id</th>\n",
       "      <th></th>\n",
       "      <th></th>\n",
       "      <th></th>\n",
       "      <th></th>\n",
       "      <th></th>\n",
       "      <th></th>\n",
       "    </tr>\n",
       "  </thead>\n",
       "  <tbody>\n",
       "    <tr>\n",
       "      <th>8925</th>\n",
       "      <td>2514.875742</td>\n",
       "      <td>8.692341e+10</td>\n",
       "      <td>4.185224e+07</td>\n",
       "      <td>1.000000e+16</td>\n",
       "      <td>Transparent</td>\n",
       "      <td>Oxide</td>\n",
       "    </tr>\n",
       "    <tr>\n",
       "      <th>8926</th>\n",
       "      <td>2634.881402</td>\n",
       "      <td>8.597436e+10</td>\n",
       "      <td>3.945428e+07</td>\n",
       "      <td>1.000000e+16</td>\n",
       "      <td>Transparent</td>\n",
       "      <td>Oxide</td>\n",
       "    </tr>\n",
       "    <tr>\n",
       "      <th>8927</th>\n",
       "      <td>2549.509710</td>\n",
       "      <td>8.597674e+10</td>\n",
       "      <td>3.863832e+07</td>\n",
       "      <td>1.000000e+15</td>\n",
       "      <td>Opaque</td>\n",
       "      <td>Oxide</td>\n",
       "    </tr>\n",
       "    <tr>\n",
       "      <th>8928</th>\n",
       "      <td>2584.879107</td>\n",
       "      <td>6.594748e+10</td>\n",
       "      <td>2.938707e+07</td>\n",
       "      <td>1.000000e+15</td>\n",
       "      <td>Opaque</td>\n",
       "      <td>Oxide</td>\n",
       "    </tr>\n",
       "    <tr>\n",
       "      <th>8930</th>\n",
       "      <td>2754.886563</td>\n",
       "      <td>6.797875e+10</td>\n",
       "      <td>3.028944e+07</td>\n",
       "      <td>1.000000e+15</td>\n",
       "      <td>Transparent</td>\n",
       "      <td>Oxide</td>\n",
       "    </tr>\n",
       "  </tbody>\n",
       "</table>\n",
       "</div>"
      ],
      "text/plain": [
       "          Density  Young's modulus  Tensile strength  Electrical resistivity  \\\n",
       "id                                                                             \n",
       "8925  2514.875742     8.692341e+10      4.185224e+07            1.000000e+16   \n",
       "8926  2634.881402     8.597436e+10      3.945428e+07            1.000000e+16   \n",
       "8927  2549.509710     8.597674e+10      3.863832e+07            1.000000e+15   \n",
       "8928  2584.879107     6.594748e+10      2.938707e+07            1.000000e+15   \n",
       "8930  2754.886563     6.797875e+10      3.028944e+07            1.000000e+15   \n",
       "\n",
       "     Transparency   Base  \n",
       "id                        \n",
       "8925  Transparent  Oxide  \n",
       "8926  Transparent  Oxide  \n",
       "8927       Opaque  Oxide  \n",
       "8928       Opaque  Oxide  \n",
       "8930  Transparent  Oxide  "
      ]
     },
     "execution_count": 9,
     "metadata": {},
     "output_type": "execute_result"
    }
   ],
   "source": [
    "df_processed[['Transparency', 'Base']] = df[['Transparency', 'Base']]\n",
    "df_processed.head()"
   ]
  },
  {
   "cell_type": "markdown",
   "id": "274c1852",
   "metadata": {},
   "source": [
    "Finally, the *Designation* column is based on a short-text attribute, which is always represented as a string\n",
    "and so can also be used as is.\n",
    "\n",
    "Single columns with valid Python identifiers (for example, no spaces) can be accessed as if they are properties, but\n",
    "column creation always requires the use of square brackets."
   ]
  },
  {
   "cell_type": "code",
   "execution_count": 10,
   "id": "07760eac",
   "metadata": {
    "execution": {
     "iopub.execute_input": "2022-05-10T22:41:08.925110Z",
     "iopub.status.busy": "2022-05-10T22:41:08.925110Z",
     "iopub.status.idle": "2022-05-10T22:41:08.935109Z",
     "shell.execute_reply": "2022-05-10T22:41:08.935109Z"
    },
    "jupyter": {
     "outputs_hidden": false
    },
    "pycharm": {
     "name": "#%%\n"
    }
   },
   "outputs": [
    {
     "data": {
      "text/html": [
       "<div>\n",
       "<style scoped>\n",
       "    .dataframe tbody tr th:only-of-type {\n",
       "        vertical-align: middle;\n",
       "    }\n",
       "\n",
       "    .dataframe tbody tr th {\n",
       "        vertical-align: top;\n",
       "    }\n",
       "\n",
       "    .dataframe thead th {\n",
       "        text-align: right;\n",
       "    }\n",
       "</style>\n",
       "<table border=\"1\" class=\"dataframe\">\n",
       "  <thead>\n",
       "    <tr style=\"text-align: right;\">\n",
       "      <th></th>\n",
       "      <th>Density</th>\n",
       "      <th>Young's modulus</th>\n",
       "      <th>Tensile strength</th>\n",
       "      <th>Electrical resistivity</th>\n",
       "      <th>Transparency</th>\n",
       "      <th>Base</th>\n",
       "      <th>Designation</th>\n",
       "    </tr>\n",
       "    <tr>\n",
       "      <th>id</th>\n",
       "      <th></th>\n",
       "      <th></th>\n",
       "      <th></th>\n",
       "      <th></th>\n",
       "      <th></th>\n",
       "      <th></th>\n",
       "      <th></th>\n",
       "    </tr>\n",
       "  </thead>\n",
       "  <tbody>\n",
       "    <tr>\n",
       "      <th>8925</th>\n",
       "      <td>2514.875742</td>\n",
       "      <td>8.692341e+10</td>\n",
       "      <td>4.185224e+07</td>\n",
       "      <td>1.000000e+16</td>\n",
       "      <td>Transparent</td>\n",
       "      <td>Oxide</td>\n",
       "      <td>1720</td>\n",
       "    </tr>\n",
       "    <tr>\n",
       "      <th>8926</th>\n",
       "      <td>2634.881402</td>\n",
       "      <td>8.597436e+10</td>\n",
       "      <td>3.945428e+07</td>\n",
       "      <td>1.000000e+16</td>\n",
       "      <td>Transparent</td>\n",
       "      <td>Oxide</td>\n",
       "      <td>1723</td>\n",
       "    </tr>\n",
       "    <tr>\n",
       "      <th>8927</th>\n",
       "      <td>2549.509710</td>\n",
       "      <td>8.597674e+10</td>\n",
       "      <td>3.863832e+07</td>\n",
       "      <td>1.000000e+15</td>\n",
       "      <td>Opaque</td>\n",
       "      <td>Oxide</td>\n",
       "      <td>9617</td>\n",
       "    </tr>\n",
       "    <tr>\n",
       "      <th>8928</th>\n",
       "      <td>2584.879107</td>\n",
       "      <td>6.594748e+10</td>\n",
       "      <td>2.938707e+07</td>\n",
       "      <td>1.000000e+15</td>\n",
       "      <td>Opaque</td>\n",
       "      <td>Oxide</td>\n",
       "      <td>6750</td>\n",
       "    </tr>\n",
       "    <tr>\n",
       "      <th>8930</th>\n",
       "      <td>2754.886563</td>\n",
       "      <td>6.797875e+10</td>\n",
       "      <td>3.028944e+07</td>\n",
       "      <td>1.000000e+15</td>\n",
       "      <td>Transparent</td>\n",
       "      <td>Oxide</td>\n",
       "      <td>7059</td>\n",
       "    </tr>\n",
       "  </tbody>\n",
       "</table>\n",
       "</div>"
      ],
      "text/plain": [
       "          Density  Young's modulus  Tensile strength  Electrical resistivity  \\\n",
       "id                                                                             \n",
       "8925  2514.875742     8.692341e+10      4.185224e+07            1.000000e+16   \n",
       "8926  2634.881402     8.597436e+10      3.945428e+07            1.000000e+16   \n",
       "8927  2549.509710     8.597674e+10      3.863832e+07            1.000000e+15   \n",
       "8928  2584.879107     6.594748e+10      2.938707e+07            1.000000e+15   \n",
       "8930  2754.886563     6.797875e+10      3.028944e+07            1.000000e+15   \n",
       "\n",
       "     Transparency   Base Designation  \n",
       "id                                    \n",
       "8925  Transparent  Oxide        1720  \n",
       "8926  Transparent  Oxide        1723  \n",
       "8927       Opaque  Oxide        9617  \n",
       "8928       Opaque  Oxide        6750  \n",
       "8930  Transparent  Oxide        7059  "
      ]
     },
     "execution_count": 10,
     "metadata": {},
     "output_type": "execute_result"
    }
   ],
   "source": [
    "df_processed['Designation'] = df.Designation\n",
    "df_processed.head()"
   ]
  },
  {
   "cell_type": "markdown",
   "id": "ee01b486",
   "metadata": {},
   "source": [
    "### Specify column units"
   ]
  },
  {
   "cell_type": "markdown",
   "id": "241ba3a4",
   "metadata": {},
   "source": [
    "`DataFrame` doesn't have a built-in method for specifying the units of a column. For this script, we will create a separate `dict` that provides a simple mapping between column headings and units."
   ]
  },
  {
   "cell_type": "code",
   "execution_count": 11,
   "id": "f973c1dd",
   "metadata": {
    "execution": {
     "iopub.execute_input": "2022-05-10T22:41:08.935109Z",
     "iopub.status.busy": "2022-05-10T22:41:08.935109Z",
     "iopub.status.idle": "2022-05-10T22:41:08.945110Z",
     "shell.execute_reply": "2022-05-10T22:41:08.945110Z"
    },
    "tags": []
   },
   "outputs": [
    {
     "data": {
      "text/plain": [
       "{\"Young's modulus\": 'Pa',\n",
       " 'Density': 'kg/m^3',\n",
       " 'Tensile strength': 'Pa',\n",
       " 'Electrical resistivity': 'ohm.m'}"
      ]
     },
     "execution_count": 11,
     "metadata": {},
     "output_type": "execute_result"
    }
   ],
   "source": [
    "units = {mi_attr: material_universe.attributes[mi_attr].unit for mi_attr in attributes\n",
    "         if material_universe.attributes[mi_attr].unit}\n",
    "units"
   ]
  },
  {
   "cell_type": "markdown",
   "id": "16406fcc",
   "metadata": {},
   "source": [
    "## Create scatter plots using `pandas`"
   ]
  },
  {
   "cell_type": "markdown",
   "id": "44d2f816",
   "metadata": {},
   "source": [
    "This snippet of code is optional, and is included to increase the size of all plots generated in this\n",
    "notebook:"
   ]
  },
  {
   "cell_type": "code",
   "execution_count": 12,
   "id": "db2cb880",
   "metadata": {
    "execution": {
     "iopub.execute_input": "2022-05-10T22:41:08.945110Z",
     "iopub.status.busy": "2022-05-10T22:41:08.945110Z",
     "iopub.status.idle": "2022-05-10T22:41:09.475110Z",
     "shell.execute_reply": "2022-05-10T22:41:09.475110Z"
    }
   },
   "outputs": [],
   "source": [
    "import matplotlib.pyplot as plt\n",
    "plt.rcParams['figure.dpi'] = 125"
   ]
  },
  {
   "cell_type": "markdown",
   "id": "e9c84e3e",
   "metadata": {},
   "source": [
    "Use the built-in `.plot()` method to plot the data in your DataFrame.\n",
    "\n",
    "By default, `.plot()` uses `matplotlib` to generate plots. Text wrapped in \\\\$dollar signs\\\\$ is processed as LaTeX-style math text."
   ]
  },
  {
   "cell_type": "code",
   "execution_count": 13,
   "id": "f9b4d1b4",
   "metadata": {
    "execution": {
     "iopub.execute_input": "2022-05-10T22:41:09.475110Z",
     "iopub.status.busy": "2022-05-10T22:41:09.475110Z",
     "iopub.status.idle": "2022-05-10T22:41:10.155110Z",
     "shell.execute_reply": "2022-05-10T22:41:10.155110Z"
    }
   },
   "outputs": [
    {
     "data": {
      "image/png": "[encoded data removed]",
      "text/plain": [
       "<Figure size 432x288 with 1 Axes>"
      ]
     },
     "metadata": {
      "needs_background": "light"
     },
     "output_type": "display_data"
    }
   ],
   "source": [
    "density_unit = units['Density']\n",
    "ym_unit = units[\"Young's modulus\"]\n",
    "density_label = rf'Density / ${density_unit}$'\n",
    "ym_label = rf'$E$ / ${ym_unit}$'\n",
    "\n",
    "_ = df_processed.plot(x='Density',\n",
    "                      y=\"Young's modulus\",\n",
    "                      kind='scatter',\n",
    "                      s=50,\n",
    "                      loglog=True,\n",
    "                      xlabel=density_label,\n",
    "                      ylabel=ym_label,\n",
    "                      title = 'E vs Density using DataFrame.plot()')"
   ]
  },
  {
   "cell_type": "markdown",
   "id": "49936b08",
   "metadata": {},
   "source": [
    "## Create scatter plots with `matplotlib`"
   ]
  },
  {
   "cell_type": "markdown",
   "id": "a6922490",
   "metadata": {},
   "source": [
    "Alternatively, you can use `matplotlib` directly with the DataFrame as an input. For comparison, here is the same plot using `matplotlib`. The result is the same, but the figure and axes are first created with `plt.subplots()`, the axis scales and labels modified, and then the `ax.scatter()` method is used to create the plot itself. Finally, the top-level **plt** object is used to add a title."
   ]
  },
  {
   "cell_type": "code",
   "execution_count": 14,
   "id": "308015a5",
   "metadata": {
    "execution": {
     "iopub.execute_input": "2022-05-10T22:41:10.155110Z",
     "iopub.status.busy": "2022-05-10T22:41:10.155110Z",
     "iopub.status.idle": "2022-05-10T22:41:10.575110Z",
     "shell.execute_reply": "2022-05-10T22:41:10.575110Z"
    }
   },
   "outputs": [
    {
     "data": {
      "image/png": "[encoded data removed]",
      "text/plain": [
       "<Figure size 432x288 with 1 Axes>"
      ]
     },
     "metadata": {
      "needs_background": "light"
     },
     "output_type": "display_data"
    }
   ],
   "source": [
    "import matplotlib.pyplot as plt\n",
    "\n",
    "fig, ax = plt.subplots()\n",
    "ax.set_yscale('log')\n",
    "ax.set_xscale('log')\n",
    "ax.set_ylabel(ym_label)\n",
    "ax.set_xlabel(density_label)\n",
    "ax.scatter(data=df_processed, x='Density', y=\"Young's modulus\", s=50)\n",
    "_ = ax.set_title('E vs Density using ax.scatter()')"
   ]
  },
  {
   "cell_type": "markdown",
   "id": "d76b7786",
   "metadata": {},
   "source": [
    "### Plotting data by category (discrete values)"
   ]
  },
  {
   "cell_type": "markdown",
   "id": "0a81b9db",
   "metadata": {},
   "source": [
    "Using `matplotlib` directly allows us to use the full power and flexibility of the package. For example, you can create a plot color-coded by the value of a discrete attribute by iteratively adding scatter plots to the same set of axes.\n",
    "\n",
    "The simplest way to implement this is to use the `.groupby()` DataFrame method, which generates a set of **groupby**\n",
    "objects. These behave like individual DataFrames, and can be plotted similarly to the previous example. `matplotlib` will\n",
    "automatically increment the marker color for each new plot.\n",
    "\n",
    "In the example below, the full `DataFrame` is separated into separate `groupby` objects that share the same *Base* value. These `DataFrame` rows are each plotted on their own scatter plot with a separate color. The marker is incremented manually\n",
    "through a pre-defined list, which ensures accessibility for users with color vision deficiencies."
   ]
  },
  {
   "cell_type": "code",
   "execution_count": 15,
   "id": "eef35995",
   "metadata": {
    "execution": {
     "iopub.execute_input": "2022-05-10T22:41:10.575110Z",
     "iopub.status.busy": "2022-05-10T22:41:10.575110Z",
     "iopub.status.idle": "2022-05-10T22:41:11.115111Z",
     "shell.execute_reply": "2022-05-10T22:41:11.115111Z"
    }
   },
   "outputs": [
    {
     "data": {
      "image/png": "[encoded data removed]",
      "text/plain": [
       "<Figure size 432x288 with 1 Axes>"
      ]
     },
     "metadata": {
      "needs_background": "light"
     },
     "output_type": "display_data"
    }
   ],
   "source": [
    "fig, ax = plt.subplots()\n",
    "ax.set_yscale('log')\n",
    "ax.set_xscale('log')\n",
    "ax.set_ylabel(ym_label)\n",
    "ax.set_xlabel(density_label)\n",
    "\n",
    "markers = [\"o\", \"s\", \"v\", \"^\", \"<\", \">\", \"X\"]\n",
    "\n",
    "for idx, (key, df) in enumerate(df_processed.groupby('Base')):\n",
    "    marker = markers[idx]\n",
    "    ax.scatter(data=df, x='Density', y=\"Young's modulus\", label=key, s=50, marker=marker)\n",
    "ax.set_title('E vs Density grouped by Base (using matplotlib)')\n",
    "_ = plt.legend(title='Base')"
   ]
  },
  {
   "cell_type": "markdown",
   "id": "d1fb840e",
   "metadata": {},
   "source": [
    "### Creating a 3D scatter plot"
   ]
  },
  {
   "cell_type": "markdown",
   "id": "40731f38",
   "metadata": {},
   "source": [
    "The set-up of a 3D scatter plot is slightly different to the 2D examples above, because the z-axis must be added as a subplot. Use `figure()` and `add_subplot(projection='3d')` to create a 3D figure, then use an alternative syntax to plot the data (in previous plots, the data was added using DataFrame column names, whereas this example plots the arrays themselves)."
   ]
  },
  {
   "cell_type": "code",
   "execution_count": 16,
   "id": "7c265edd",
   "metadata": {
    "execution": {
     "iopub.execute_input": "2022-05-10T22:41:11.115111Z",
     "iopub.status.busy": "2022-05-10T22:41:11.115111Z",
     "iopub.status.idle": "2022-05-10T22:41:11.255113Z",
     "shell.execute_reply": "2022-05-10T22:41:11.255113Z"
    }
   },
   "outputs": [
    {
     "data": {
      "image/png": "[encoded data removed]",
      "text/plain": [
       "<Figure size 432x288 with 1 Axes>"
      ]
     },
     "metadata": {
      "needs_background": "light"
     },
     "output_type": "display_data"
    }
   ],
   "source": [
    "rho_unit = units['Electrical resistivity']\n",
    "rho_label = rf'$\\rho$ / ${rho_unit}$'\n",
    "\n",
    "fig = plt.figure()\n",
    "ax = fig.add_subplot(projection='3d')\n",
    "ax.set_ylabel(ym_label)\n",
    "ax.set_xlabel(density_label)\n",
    "ax.set_zlabel(rho_label)\n",
    "\n",
    "ax.scatter(df_processed['Density'], df_processed[\"Young's modulus\"], df_processed['Electrical resistivity'], s=50)\n",
    "_ = ax.set_title(r'$\\rho$ vs E vs Density')"
   ]
  },
  {
   "cell_type": "markdown",
   "id": "49064085",
   "metadata": {},
   "source": [
    "### Adding a continuous color axis to a 2D scatter plot"
   ]
  },
  {
   "cell_type": "markdown",
   "id": "f4ff8fa5",
   "metadata": {},
   "source": [
    "Add a continuous color axis using the `c` and `cmap` arguments to the `plot.scatter()` constructor. \n",
    "\n",
    "This example uses the optional `norm` argument to specify an alternative method of mapping numeric values to a color in the\n",
    "colormap. The **color_norm** variable contains a logarithmic normalization which ensures color variation is used across all values of electrical resistivity.\n",
    "\n",
    "The `viridis` colormap is perceptually uniform (monotonically increases in luminance) so is accessible to users with color vision deficiencies."
   ]
  },
  {
   "cell_type": "code",
   "execution_count": 17,
   "id": "a1e47e92",
   "metadata": {
    "execution": {
     "iopub.execute_input": "2022-05-10T22:41:11.255113Z",
     "iopub.status.busy": "2022-05-10T22:41:11.255113Z",
     "iopub.status.idle": "2022-05-10T22:41:11.775114Z",
     "shell.execute_reply": "2022-05-10T22:41:11.775114Z"
    }
   },
   "outputs": [
    {
     "data": {
      "image/png": "[encoded data removed]",
      "text/plain": [
       "<Figure size 432x288 with 2 Axes>"
      ]
     },
     "metadata": {
      "needs_background": "light"
     },
     "output_type": "display_data"
    }
   ],
   "source": [
    "import matplotlib.colors as colors\n",
    "\n",
    "rho_unit = units['Electrical resistivity']\n",
    "rho_label = rf'$\\rho$ / ${rho_unit}$'\n",
    "\n",
    "fig, ax = plt.subplots()\n",
    "ax.set_yscale('log')\n",
    "ax.set_xscale('log')\n",
    "ax.set_ylabel(ym_label)\n",
    "ax.set_xlabel(density_label)\n",
    "\n",
    "res_min = df_processed['Electrical resistivity'].min()\n",
    "res_max = df_processed['Electrical resistivity'].max()\n",
    "color_norm = colors.LogNorm(vmin=res_min, vmax=res_max)\n",
    "\n",
    "sc = plt.scatter(data=df_processed,\n",
    "                 x='Density',\n",
    "                 y=\"Young's modulus\",\n",
    "                 c=\"Electrical resistivity\",\n",
    "                 s=50, cmap='viridis',\n",
    "                 norm=color_norm)\n",
    "cbar = plt.colorbar(sc)\n",
    "cbar.set_label(rho_label, rotation=270, labelpad=20)\n",
    "_ = ax.set_title(r'E vs Density and $\\rho$ (continuous marker color)')"
   ]
  },
  {
   "cell_type": "markdown",
   "id": "8cde6fa4",
   "metadata": {},
   "source": [
    "### Plotting data by category (binned point or range values)"
   ]
  },
  {
   "cell_type": "markdown",
   "id": "f25ba8f1",
   "metadata": {},
   "source": [
    "For this plot, we first use `numpy.geomspace()` to define 5 logarithmically-spaced bins and `DataFrame.cut()` to map the\n",
    "continuous *Electrical resistivity* values to those categories."
   ]
  },
  {
   "cell_type": "code",
   "execution_count": 18,
   "id": "a787cc2b",
   "metadata": {
    "execution": {
     "iopub.execute_input": "2022-05-10T22:41:11.775114Z",
     "iopub.status.busy": "2022-05-10T22:41:11.775114Z",
     "iopub.status.idle": "2022-05-10T22:41:11.795114Z",
     "shell.execute_reply": "2022-05-10T22:41:11.795114Z"
    }
   },
   "outputs": [
    {
     "data": {
      "text/html": [
       "<div>\n",
       "<style scoped>\n",
       "    .dataframe tbody tr th:only-of-type {\n",
       "        vertical-align: middle;\n",
       "    }\n",
       "\n",
       "    .dataframe tbody tr th {\n",
       "        vertical-align: top;\n",
       "    }\n",
       "\n",
       "    .dataframe thead th {\n",
       "        text-align: right;\n",
       "    }\n",
       "</style>\n",
       "<table border=\"1\" class=\"dataframe\">\n",
       "  <thead>\n",
       "    <tr style=\"text-align: right;\">\n",
       "      <th></th>\n",
       "      <th>Density</th>\n",
       "      <th>Young's modulus</th>\n",
       "      <th>Tensile strength</th>\n",
       "      <th>Electrical resistivity</th>\n",
       "      <th>Transparency</th>\n",
       "      <th>Base</th>\n",
       "      <th>Designation</th>\n",
       "      <th>Electrical resistivity (binned)</th>\n",
       "    </tr>\n",
       "    <tr>\n",
       "      <th>id</th>\n",
       "      <th></th>\n",
       "      <th></th>\n",
       "      <th></th>\n",
       "      <th></th>\n",
       "      <th></th>\n",
       "      <th></th>\n",
       "      <th></th>\n",
       "      <th></th>\n",
       "    </tr>\n",
       "  </thead>\n",
       "  <tbody>\n",
       "    <tr>\n",
       "      <th>8925</th>\n",
       "      <td>2514.875742</td>\n",
       "      <td>8.692341e+10</td>\n",
       "      <td>4.185224e+07</td>\n",
       "      <td>1.000000e+16</td>\n",
       "      <td>Transparent</td>\n",
       "      <td>Oxide</td>\n",
       "      <td>1720</td>\n",
       "      <td>Very high</td>\n",
       "    </tr>\n",
       "    <tr>\n",
       "      <th>8926</th>\n",
       "      <td>2634.881402</td>\n",
       "      <td>8.597436e+10</td>\n",
       "      <td>3.945428e+07</td>\n",
       "      <td>1.000000e+16</td>\n",
       "      <td>Transparent</td>\n",
       "      <td>Oxide</td>\n",
       "      <td>1723</td>\n",
       "      <td>Very high</td>\n",
       "    </tr>\n",
       "    <tr>\n",
       "      <th>8927</th>\n",
       "      <td>2549.509710</td>\n",
       "      <td>8.597674e+10</td>\n",
       "      <td>3.863832e+07</td>\n",
       "      <td>1.000000e+15</td>\n",
       "      <td>Opaque</td>\n",
       "      <td>Oxide</td>\n",
       "      <td>9617</td>\n",
       "      <td>Very high</td>\n",
       "    </tr>\n",
       "    <tr>\n",
       "      <th>8928</th>\n",
       "      <td>2584.879107</td>\n",
       "      <td>6.594748e+10</td>\n",
       "      <td>2.938707e+07</td>\n",
       "      <td>1.000000e+15</td>\n",
       "      <td>Opaque</td>\n",
       "      <td>Oxide</td>\n",
       "      <td>6750</td>\n",
       "      <td>Very high</td>\n",
       "    </tr>\n",
       "    <tr>\n",
       "      <th>8930</th>\n",
       "      <td>2754.886563</td>\n",
       "      <td>6.797875e+10</td>\n",
       "      <td>3.028944e+07</td>\n",
       "      <td>1.000000e+15</td>\n",
       "      <td>Transparent</td>\n",
       "      <td>Oxide</td>\n",
       "      <td>7059</td>\n",
       "      <td>Very high</td>\n",
       "    </tr>\n",
       "  </tbody>\n",
       "</table>\n",
       "</div>"
      ],
      "text/plain": [
       "          Density  Young's modulus  Tensile strength  Electrical resistivity  \\\n",
       "id                                                                             \n",
       "8925  2514.875742     8.692341e+10      4.185224e+07            1.000000e+16   \n",
       "8926  2634.881402     8.597436e+10      3.945428e+07            1.000000e+16   \n",
       "8927  2549.509710     8.597674e+10      3.863832e+07            1.000000e+15   \n",
       "8928  2584.879107     6.594748e+10      2.938707e+07            1.000000e+15   \n",
       "8930  2754.886563     6.797875e+10      3.028944e+07            1.000000e+15   \n",
       "\n",
       "     Transparency   Base Designation Electrical resistivity (binned)  \n",
       "id                                                                    \n",
       "8925  Transparent  Oxide        1720                       Very high  \n",
       "8926  Transparent  Oxide        1723                       Very high  \n",
       "8927       Opaque  Oxide        9617                       Very high  \n",
       "8928       Opaque  Oxide        6750                       Very high  \n",
       "8930  Transparent  Oxide        7059                       Very high  "
      ]
     },
     "execution_count": 18,
     "metadata": {},
     "output_type": "execute_result"
    }
   ],
   "source": [
    "import numpy as np\n",
    "min_value = df_processed['Electrical resistivity'].min()\n",
    "max_value = df_processed['Electrical resistivity'].max()\n",
    "\n",
    "# The number of values is calculated between the two values, and is one more than the required number of bins\n",
    "spacing = np.geomspace(min_value, max_value, 6)\n",
    "\n",
    "df_processed['Electrical resistivity (binned)'] = pd.cut(df_processed['Electrical resistivity'],\n",
    "                                                         spacing,\n",
    "                                                         labels=['Very low', 'Low', 'Medium', 'High', 'Very high'])\n",
    "df_processed.head()"
   ]
  },
  {
   "cell_type": "markdown",
   "id": "ca3a59d8",
   "metadata": {},
   "source": [
    "Then, we can use `.groupby()` to plot each bin with a different color and shape of marker. A `cycler.cycler` object specifies which colors will be used for each separate scatter plot."
   ]
  },
  {
   "cell_type": "code",
   "execution_count": 19,
   "id": "36a12a9a",
   "metadata": {
    "execution": {
     "iopub.execute_input": "2022-05-10T22:41:11.795114Z",
     "iopub.status.busy": "2022-05-10T22:41:11.795114Z",
     "iopub.status.idle": "2022-05-10T22:41:12.315112Z",
     "shell.execute_reply": "2022-05-10T22:41:12.315112Z"
    }
   },
   "outputs": [
    {
     "data": {
      "image/png": "[encoded data removed]",
      "text/plain": [
       "<Figure size 432x288 with 1 Axes>"
      ]
     },
     "metadata": {
      "needs_background": "light"
     },
     "output_type": "display_data"
    }
   ],
   "source": [
    "from cycler import cycler\n",
    "\n",
    "fig, ax = plt.subplots()\n",
    "ax.set_yscale('log')\n",
    "ax.set_xscale('log')\n",
    "ax.set_ylabel(ym_label)\n",
    "ax.set_xlabel(density_label)\n",
    "\n",
    "ax.set_prop_cycle(cycler('color', ['blue', 'green', 'yellow', 'orange', 'red']))\n",
    "\n",
    "for idx, (key, df) in enumerate(df_processed.groupby('Electrical resistivity (binned)')):\n",
    "    marker = markers[idx]\n",
    "    ax.scatter(data=df, x='Density', y=\"Young's modulus\", label=key, s=50, marker=marker)\n",
    "plt.legend(title='Electrical resistivity', loc='lower right')\n",
    "_ = ax.set_title(r'E vs Density and $\\rho$ (discrete marker color)')"
   ]
  },
  {
   "cell_type": "markdown",
   "id": "8e439f76",
   "metadata": {},
   "source": [
    "## Create scatter plots with `seaborn`"
   ]
  },
  {
   "cell_type": "markdown",
   "id": "9b6d62a0",
   "metadata": {},
   "source": [
    "An alternative to using `matplotlib` directly is to use `seaborn`, a wrapper of `matplotlib` that aims to make it easier to create professional-looking plots. \n",
    "\n",
    "For example, here is the *E vs rho* plot grouped by 'Base' in `seaborn`. Note that the plot itself is defined in one line, and we can specify DataFrame columns to use for the marker `hue` and `style` with no additional steps. The legend is created automatically."
   ]
  },
  {
   "cell_type": "code",
   "execution_count": 20,
   "id": "1235c488",
   "metadata": {
    "execution": {
     "iopub.execute_input": "2022-05-10T22:41:12.315112Z",
     "iopub.status.busy": "2022-05-10T22:41:12.315112Z",
     "iopub.status.idle": "2022-05-10T22:41:13.275114Z",
     "shell.execute_reply": "2022-05-10T22:41:13.275114Z"
    }
   },
   "outputs": [
    {
     "data": {
      "text/plain": [
       "Text(0.5, 1.0, 'E vs Density grouped by Base (using seaborn)')"
      ]
     },
     "execution_count": 20,
     "metadata": {},
     "output_type": "execute_result"
    },
    {
     "data": {
      "image/png": "[encoded data removed]",
      "text/plain": [
       "<Figure size 432x288 with 1 Axes>"
      ]
     },
     "metadata": {
      "needs_background": "light"
     },
     "output_type": "display_data"
    }
   ],
   "source": [
    "import seaborn as sns\n",
    "\n",
    "ax = sns.scatterplot(data=df_processed, x=\"Density\", y=\"Young's modulus\", hue=\"Base\", style=\"Base\", s=50)\n",
    "ax.set_xscale('log')\n",
    "ax.set_xlabel(density_label)\n",
    "ax.set_yscale('log')\n",
    "ax.set_ylabel(ym_label)\n",
    "ax.set_title('E vs Density grouped by Base (using seaborn)')"
   ]
  },
  {
   "cell_type": "markdown",
   "id": "da24bf67",
   "metadata": {},
   "source": [
    "### Plotting in *n* dimensions (pair plots)"
   ]
  },
  {
   "cell_type": "markdown",
   "id": "dfc42242",
   "metadata": {},
   "source": [
    "The `seaborn` package doesn't expose `matplotlib`'s 3D scatter plotting functionality. However, it can produce stacked (paired) plots of any dimensionality as required. The example below shows a comparison across 4 continuous dimensions. \n",
    "\n",
    "To avoid having to set the label of each axis, we've created a new DataFrame with the desired axis labels as column names. The labelling is then done automatically.\n",
    "\n",
    "Although `sns.pairplot` doesn't have a `style` argument, you can provide a list of markers instead."
   ]
  },
  {
   "cell_type": "code",
   "execution_count": 21,
   "id": "5c7192cb",
   "metadata": {
    "execution": {
     "iopub.execute_input": "2022-05-10T22:41:13.275114Z",
     "iopub.status.busy": "2022-05-10T22:41:13.275114Z",
     "iopub.status.idle": "2022-05-10T22:41:17.125118Z",
     "shell.execute_reply": "2022-05-10T22:41:17.125118Z"
    }
   },
   "outputs": [
    {
     "data": {
      "text/plain": [
       "<Figure size 432x288 with 0 Axes>"
      ]
     },
     "metadata": {},
     "output_type": "display_data"
    },
    {
     "data": {
      "image/png": "[encoded data removed]",
      "text/plain": [
       "<Figure size 827.625x720 with 16 Axes>"
      ]
     },
     "metadata": {
      "needs_background": "light"
     },
     "output_type": "display_data"
    }
   ],
   "source": [
    "ftu_unit = units['Tensile strength']\n",
    "ftu_label = rf'$F_{{tu}}$ / ${ftu_unit}$'\n",
    "\n",
    "column_mapping = {'Density': density_label,\n",
    "                  \"Young's modulus\": ym_label,\n",
    "                  'Tensile strength': ftu_label,\n",
    "                  'Electrical resistivity': rho_label}\n",
    "df_pairplot = df_processed.rename(columns=column_mapping)\n",
    "\n",
    "fig = plt.figure()\n",
    "g = sns.pairplot(vars=[density_label, ym_label, ftu_label, rho_label],\n",
    "                 data=df_pairplot,\n",
    "                 hue=\"Base\",\n",
    "                 markers=markers,\n",
    "                 diag_kind='None')\n",
    "\n",
    "for i in range(len(g.axes)):\n",
    "    for j in range(len(g.axes[i])):\n",
    "        g.axes[i,j].set_xscale('log')\n",
    "        g.axes[i,j].set_yscale('log')\n",
    "_ = g.fig.suptitle(r'Pair plot comparing Density, E, $F_{{{tu}}}$ and $\\rho$, grouped by Base', y=1.03)"
   ]
  },
  {
   "cell_type": "code",
   "execution_count": null,
   "id": "1d2ae3e0",
   "metadata": {},
   "outputs": [],
   "source": []
  }
 ],
 "metadata": {
  "kernelspec": {
   "display_name": "Python 3 (ipykernel)",
   "language": "python",
   "name": "python3"
  },
  "language_info": {
   "codemirror_mode": {
    "name": "ipython",
    "version": 3
   },
   "file_extension": ".py",
   "mimetype": "text/x-python",
   "name": "python",
   "nbconvert_exporter": "python",
   "pygments_lexer": "ipython3",
   "version": "3.9.12"
  }
 },
 "nbformat": 4,
 "nbformat_minor": 5
}
