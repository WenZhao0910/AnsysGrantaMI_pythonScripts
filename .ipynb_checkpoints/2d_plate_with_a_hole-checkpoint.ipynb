{
 "cells": [
  {
   "cell_type": "code",
   "execution_count": 4,
   "metadata": {
    "jupyter": {
     "outputs_hidden": false
    }
   },
   "outputs": [
    {
     "ename": "SyntaxError",
     "evalue": "invalid syntax (676911226.py, line 2)",
     "output_type": "error",
     "traceback": [
      "\u001b[1;36m  Input \u001b[1;32mIn [4]\u001b[1;36m\u001b[0m\n\u001b[1;33m    pip3 install ansys.mapdl.core\u001b[0m\n\u001b[1;37m         ^\u001b[0m\n\u001b[1;31mSyntaxError\u001b[0m\u001b[1;31m:\u001b[0m invalid syntax\n"
     ]
    }
   ],
   "source": [
    "%matplotlib inline"
   ]
  },
  {
   "cell_type": "markdown",
   "metadata": {},
   "source": [
    "MAPDL 2D Plane Stress Concentration Analysis {#ref_plane_stress_concentration}\n",
    "============================================\n",
    "\n",
    "This tutorial shows how you can use PyMAPDL to determine and verify the\n",
    "\\\"stress concentration factor\\\" when modeling using 2D plane elements\n",
    "and then verify this using 3D elements.\n",
    "\n",
    "First, start MAPDL as a service.\n"
   ]
  },
  {
   "cell_type": "code",
   "execution_count": 2,
   "metadata": {
    "jupyter": {
     "outputs_hidden": false
    }
   },
   "outputs": [
    {
     "ename": "ModuleNotFoundError",
     "evalue": "No module named 'ansys'",
     "output_type": "error",
     "traceback": [
      "\u001b[1;31m---------------------------------------------------------------------------\u001b[0m",
      "\u001b[1;31mModuleNotFoundError\u001b[0m                       Traceback (most recent call last)",
      "Input \u001b[1;32mIn [2]\u001b[0m, in \u001b[0;36m<cell line: 6>\u001b[1;34m()\u001b[0m\n\u001b[0;32m      3\u001b[0m \u001b[38;5;28;01mimport\u001b[39;00m \u001b[38;5;21;01mmatplotlib\u001b[39;00m\u001b[38;5;21;01m.\u001b[39;00m\u001b[38;5;21;01mpyplot\u001b[39;00m \u001b[38;5;28;01mas\u001b[39;00m \u001b[38;5;21;01mplt\u001b[39;00m\n\u001b[0;32m      4\u001b[0m \u001b[38;5;28;01mimport\u001b[39;00m \u001b[38;5;21;01mnumpy\u001b[39;00m \u001b[38;5;28;01mas\u001b[39;00m \u001b[38;5;21;01mnp\u001b[39;00m\n\u001b[1;32m----> 6\u001b[0m \u001b[38;5;28;01mfrom\u001b[39;00m \u001b[38;5;21;01mansys\u001b[39;00m\u001b[38;5;21;01m.\u001b[39;00m\u001b[38;5;21;01mmapdl\u001b[39;00m\u001b[38;5;21;01m.\u001b[39;00m\u001b[38;5;21;01mcore\u001b[39;00m \u001b[38;5;28;01mimport\u001b[39;00m launch_mapdl\n\u001b[0;32m      8\u001b[0m mapdl \u001b[38;5;241m=\u001b[39m launch_mapdl()\n",
      "\u001b[1;31mModuleNotFoundError\u001b[0m: No module named 'ansys'"
     ]
    }
   ],
   "source": [
    "# sphinx_gallery_thumbnail_number = 3\n",
    "\n",
    "import matplotlib.pyplot as plt\n",
    "import numpy as np\n",
    "\n",
    "from ansys.mapdl.core import launch_mapdl\n",
    "\n",
    "mapdl = launch_mapdl()"
   ]
  },
  {
   "cell_type": "markdown",
   "metadata": {},
   "source": [
    "Element Type and Material Properties\n",
    "====================================\n",
    "\n",
    "This example will use PLANE183 elements as a thin plate can be modeled\n",
    "with plane elements provided that KEYOPTION 3 is set to 3 and a\n",
    "thickness is provided.\n",
    "\n",
    "This example will use SI units.\n"
   ]
  },
  {
   "cell_type": "code",
   "execution_count": 3,
   "metadata": {
    "jupyter": {
     "outputs_hidden": false
    }
   },
   "outputs": [
    {
     "name": "stdout",
     "output_type": "stream",
     "text": [
      "LIST MATERIALS        1 TO        1 BY        1\n",
      "  PROPERTY= ALL \n",
      "\n",
      " MATERIAL NUMBER        1\n",
      "\n",
      "      TEMP        EX  \n",
      "               0.2100000E+12\n",
      "\n",
      "      TEMP        NUXY\n",
      "               0.3000000    \n",
      "\n",
      "      TEMP        DENS\n",
      "                7800.000\n"
     ]
    }
   ],
   "source": [
    "mapdl.prep7()\n",
    "mapdl.units(\"SI\")  # SI - International system (m, kg, s, K).\n",
    "\n",
    "# define a PLANE183 element type with thickness\n",
    "mapdl.et(1, \"PLANE183\", kop3=3)\n",
    "mapdl.r(1, 0.001)  # thickness of 0.001 meters)\n",
    "\n",
    "# Define a material (nominal steel in SI)\n",
    "mapdl.mp(\"EX\", 1, 210e9)  # Elastic moduli in Pa (kg/(m*s**2))\n",
    "mapdl.mp(\"DENS\", 1, 7800)  # Density in kg/m3\n",
    "mapdl.mp(\"NUXY\", 1, 0.3)  # Poisson's Ratio\n",
    "\n",
    "# list currently defined material properties\n",
    "print(mapdl.mplist())"
   ]
  },
  {
   "cell_type": "markdown",
   "metadata": {},
   "source": [
    "Geometry\n",
    "========\n",
    "\n",
    "Create a rectangular area with the hole in the middle. To correctly\n",
    "approximate an infinite plate, the maximum stress must occur far away\n",
    "from the edges of the plate. A length to width factor can approximate\n",
    "this.\n"
   ]
  },
  {
   "cell_type": "code",
   "execution_count": 4,
   "metadata": {
    "jupyter": {
     "outputs_hidden": false
    }
   },
   "outputs": [
    {
     "data": {
      "application/vnd.jupyter.widget-view+json": {
       "model_id": "d1f9d5063981443ba835867ee7294db2",
       "version_major": 2,
       "version_minor": 0
      },
      "text/plain": [
       "ViewInteractiveWidget(height=768, layout=Layout(height='auto', width='100%'), width=1024)"
      ]
     },
     "metadata": {},
     "output_type": "display_data"
    }
   ],
   "source": [
    "length = 0.4\n",
    "width = 0.1\n",
    "\n",
    "ratio = 0.3  # diameter/width\n",
    "diameter = width * ratio\n",
    "radius = diameter * 0.5\n",
    "\n",
    "\n",
    "# create the rectangle\n",
    "rect_anum = mapdl.blc4(width=length, height=width)\n",
    "\n",
    "# create a circle in the middle of the rectangle\n",
    "circ_anum = mapdl.cyl4(length / 2, width / 2, radius)\n",
    "\n",
    "# Note how pymapdl parses the output and returns the area numbers\n",
    "# created by each command.  This can be used to execute a boolean\n",
    "# operation on these areas to cut the circle out of the rectangle.\n",
    "plate_with_hole_anum = mapdl.asba(rect_anum, circ_anum)\n",
    "\n",
    "# finally, plot the lines of the plate\n",
    "mapdl.lplot(cpos=\"xy\", line_width=3, font_size=26, color_lines=True, background=\"w\")"
   ]
  },
  {
   "cell_type": "markdown",
   "metadata": {},
   "source": [
    "Meshing\n",
    "=======\n",
    "\n",
    "Mesh the plate using a higher density near the hole and a lower density\n",
    "for the remainder of the plate by setting `LESIZE` for the lines nearby\n",
    "the hole and `ESIZE` for the mesh global size.\n",
    "\n",
    "Line numbers can be identified through inspection using `lplot`\n"
   ]
  },
  {
   "cell_type": "code",
   "execution_count": 5,
   "metadata": {
    "jupyter": {
     "outputs_hidden": false
    }
   },
   "outputs": [
    {
     "data": {
      "application/vnd.jupyter.widget-view+json": {
       "model_id": "091f90c869454d028d0d62ca41614e53",
       "version_major": 2,
       "version_minor": 0
      },
      "text/plain": [
       "ViewInteractiveWidget(height=768, layout=Layout(height='auto', width='100%'), width=1024)"
      ]
     },
     "metadata": {},
     "output_type": "display_data"
    }
   ],
   "source": [
    "# ensure there are at 50 elements around the hole\n",
    "hole_esize = np.pi * diameter / 50  # 0.0002\n",
    "plate_esize = 0.01\n",
    "\n",
    "# increased the density of the mesh at the center\n",
    "mapdl.lsel(\"S\", \"LINE\", vmin=5, vmax=8)\n",
    "mapdl.lesize(\"ALL\", hole_esize, kforc=1)\n",
    "mapdl.lsel(\"ALL\")\n",
    "\n",
    "# Decrease the area mesh expansion.  This ensures that the mesh\n",
    "# remains fine nearby the hole\n",
    "mapdl.mopt(\"EXPND\", 0.7)  # default 1\n",
    "\n",
    "mapdl.esize(plate_esize)\n",
    "mapdl.amesh(plate_with_hole_anum)\n",
    "mapdl.eplot(\n",
    "    vtk=True, cpos=\"xy\", show_edges=True, show_axes=False, line_width=2, background=\"w\"\n",
    ")"
   ]
  },
  {
   "cell_type": "markdown",
   "metadata": {},
   "source": [
    "Boundary Conditions\n",
    "===================\n",
    "\n",
    "Fix the left-hand side of the plate in the X direction and set a force\n",
    "of 1 kN in the positive X direction.\n"
   ]
  },
  {
   "cell_type": "code",
   "execution_count": 6,
   "metadata": {
    "jupyter": {
     "outputs_hidden": false
    }
   },
   "outputs": [],
   "source": [
    "# Fix the left-hand side.\n",
    "mapdl.nsel(\"S\", \"LOC\", \"X\", 0)\n",
    "mapdl.d(\"ALL\", \"UX\")\n",
    "\n",
    "# Fix a single node on the left-hand side of the plate in the Y\n",
    "# direction.  Otherwise, the mesh would be allowed to move in the y\n",
    "# direction and would be an improperly constrained mesh.\n",
    "mapdl.nsel(\"R\", \"LOC\", \"Y\", width / 2)\n",
    "assert mapdl.mesh.n_node == 1\n",
    "mapdl.d(\"ALL\", \"UY\")\n",
    "\n",
    "# Apply a force on the right-hand side of the plate.  For this\n",
    "# example, we select the nodes at the right-most side of the plate.\n",
    "mapdl.nsel(\"S\", \"LOC\", \"X\", length)\n",
    "\n",
    "# Verify that only the nodes at length have been selected:\n",
    "assert np.allclose(mapdl.mesh.nodes[:, 0], length)\n",
    "\n",
    "# Next, couple the DOF for these nodes.  This lets us provide a force\n",
    "# to one node that will be spread throughout all nodes in this coupled\n",
    "# set.\n",
    "mapdl.cp(5, \"UX\", \"ALL\")\n",
    "\n",
    "# Select a single node in this set and apply a force to it\n",
    "# We use \"R\" to re-select from the current node group\n",
    "mapdl.nsel(\"R\", \"LOC\", \"Y\", width / 2)\n",
    "mapdl.f(\"ALL\", \"FX\", 1000)\n",
    "\n",
    "# finally, be sure to select all nodes again to solve the entire solution\n",
    "mapdl.allsel(mute=True)"
   ]
  },
  {
   "cell_type": "markdown",
   "metadata": {},
   "source": [
    "Solve the Static Problem\n",
    "========================\n",
    "\n",
    "Solve the static analysis\n"
   ]
  },
  {
   "cell_type": "code",
   "execution_count": 7,
   "metadata": {
    "jupyter": {
     "outputs_hidden": false
    }
   },
   "outputs": [
    {
     "name": "stdout",
     "output_type": "stream",
     "text": [
      "*** NOTE ***                            CP =       0.938   TIME= 15:29:32\n",
      " The automatic domain decomposition logic has selected the MESH domain   \n",
      " decomposition method with 2 processes per solution.                     \n",
      "\n",
      " *****  MAPDL SOLVE    COMMAND  *****\n",
      "\n",
      " *** NOTE ***                            CP =       0.938   TIME= 15:29:32\n",
      " There is no title defined for this analysis.                            \n",
      "\n",
      " *** SELECTION OF ELEMENT TECHNOLOGIES FOR APPLICABLE ELEMENTS ***\n",
      "                ---GIVE SUGGESTIONS ONLY---\n",
      "\n",
      " ELEMENT TYPE         1 IS PLANE183 WITH PLANE STRESS OPTION. NO SUGGESTION IS\n",
      " AVAILABLE.\n",
      "\n",
      "\n",
      "\n",
      " *** MAPDL - ENGINEERING ANALYSIS SYSTEM  RELEASE 2022 R2          22.2     ***\n",
      " Ansys Mechanical Enterprise                       \n",
      " 00000000  VERSION=WINDOWS x64   15:29:32  OCT 03, 2022 CP=      0.938\n",
      "\n",
      "                                                                               \n",
      "\n",
      "\n",
      "\n",
      "                       S O L U T I O N   O P T I O N S\n",
      "\n",
      "   PROBLEM DIMENSIONALITY. . . . . . . . . . . . .2-D                  \n",
      "   DEGREES OF FREEDOM. . . . . . UX   UY  \n",
      "   ANALYSIS TYPE . . . . . . . . . . . . . . . . .STATIC (STEADY-STATE)\n",
      "   GLOBALLY ASSEMBLED MATRIX . . . . . . . . . . .SYMMETRIC  \n",
      "\n",
      " *** NOTE ***                            CP =       0.938   TIME= 15:29:32\n",
      " Present time 0 is less than or equal to the previous time.  Time will   \n",
      " default to 1.                                                           \n",
      "\n",
      " *** NOTE ***                            CP =       0.938   TIME= 15:29:32\n",
      " The conditions for direct assembly have been met.  No .emat or .erot    \n",
      " files will be produced.                                                 \n",
      "\n",
      "  \n",
      "  \n",
      "     D I S T R I B U T E D   D O M A I N   D E C O M P O S E R\n",
      "  \n",
      "  ...Number of elements: 1005\n",
      "  ...Number of nodes:    3165\n",
      "  ...Decompose to 2 CPU domains\n",
      "  ...Element load balance ratio =     1.002\n",
      "\n",
      "\n",
      "                      L O A D   S T E P   O P T I O N S\n",
      "\n",
      "   LOAD STEP NUMBER. . . . . . . . . . . . . . . .     1\n",
      "   TIME AT END OF THE LOAD STEP. . . . . . . . . .  1.0000    \n",
      "   NUMBER OF SUBSTEPS. . . . . . . . . . . . . . .     1\n",
      "   STEP CHANGE BOUNDARY CONDITIONS . . . . . . . .    NO\n",
      "   PRINT OUTPUT CONTROLS . . . . . . . . . . . . .NO PRINTOUT\n",
      "   DATABASE OUTPUT CONTROLS. . . . . . . . . . . .ALL DATA WRITTEN\n",
      "                                                  FOR THE LAST SUBSTEP\n",
      "\n",
      "\n",
      " SOLUTION MONITORING INFO IS WRITTEN TO FILE= file.mntr                                                                                                                                                                                                                                                           \n",
      "\n",
      "\n",
      "\n",
      "\n",
      "            **** CENTER OF MASS, MASS, AND MASS MOMENTS OF INERTIA ****\n",
      "\n",
      "  CALCULATIONS ASSUME ELEMENT MASS AT ELEMENT CENTROID\n",
      "\n",
      "  TOTAL MASS =  0.30649    \n",
      "\n",
      "                           MOM. OF INERTIA         MOM. OF INERTIA\n",
      "  CENTER OF MASS            ABOUT ORIGIN        ABOUT CENTER OF MASS\n",
      "\n",
      "  XC =  0.20000          IXX =   0.1024E-02      IXX =   0.2577E-03\n",
      "  YC =  0.50004E-01      IYY =   0.1642E-01      IYY =   0.4157E-02\n",
      "  ZC =   0.0000          IZZ =   0.1744E-01      IZZ =   0.4414E-02\n",
      "                         IXY =  -0.3065E-02      IXY =  -0.1332E-06\n",
      "                         IYZ =    0.000          IYZ =    0.000    \n",
      "                         IZX =    0.000          IZX =    0.000    \n",
      "\n",
      "\n",
      "  *** MASS SUMMARY BY ELEMENT TYPE ***\n",
      "\n",
      "  TYPE      MASS\n",
      "     1  0.306487    \n",
      "\n",
      " Range of element maximum matrix coefficients in global coordinates\n",
      " Maximum = 1.001299206E+09 at element 401.                               \n",
      " Minimum = 360452396 at element 853.                                     \n",
      "\n",
      "   *** ELEMENT MATRIX FORMULATION TIMES\n",
      "     TYPE    NUMBER   ENAME      TOTAL CP  AVE CP\n",
      "\n",
      "        1      1005  PLANE183      0.047   0.000047\n",
      " Time at end of element matrix formulation CP = 1.03125.                 \n",
      "\n",
      " DISTRIBUTED SPARSE MATRIX DIRECT SOLVER.\n",
      "  Number of equations =        6288,    Maximum wavefront =     42\n",
      "\n",
      "  Process memory allocated for solver              =     5.136 MB\n",
      "  Process memory required for in-core solution     =     4.944 MB\n",
      "  Process memory required for out-of-core solution =     3.136 MB\n",
      "\n",
      "  Total memory allocated for solver                =    10.194 MB\n",
      "  Total memory required for in-core solution       =     9.813 MB\n",
      "  Total memory required for out-of-core solution   =     6.258 MB\n",
      "\n",
      " *** NOTE ***                            CP =       1.109   TIME= 15:29:32\n",
      " The Distributed Sparse Matrix Solver is currently running in the        \n",
      " in-core memory mode.  This memory mode uses the most amount of memory   \n",
      " in order to avoid using the hard drive as much as possible, which most  \n",
      " often results in the fastest solution time.  This mode is recommended   \n",
      " if enough physical memory is present to accommodate all of the solver   \n",
      " data.                                                                   \n",
      " Distributed sparse solver maximum pivot= 1.638913676E+09 at node 391    \n",
      " UY.                                                                     \n",
      " Distributed sparse solver minimum pivot= 7553313.85 at node 2748 UY.    \n",
      " Distributed sparse solver minimum pivot in absolute value= 7553313.85   \n",
      " at node 2748 UY.                                                        \n",
      "\n",
      "   *** ELEMENT RESULT CALCULATION TIMES\n",
      "     TYPE    NUMBER   ENAME      TOTAL CP  AVE CP\n",
      "\n",
      "        1      1005  PLANE183      0.047   0.000047\n",
      "\n",
      "   *** NODAL LOAD CALCULATION TIMES\n",
      "     TYPE    NUMBER   ENAME      TOTAL CP  AVE CP\n",
      "\n",
      "        1      1005  PLANE183      0.000   0.000000\n",
      " *** LOAD STEP     1   SUBSTEP     1  COMPLETED.    CUM ITER =      1\n",
      " *** TIME =   1.00000         TIME INC =   1.00000      NEW TRIANG MATRIX\n",
      "\n",
      "\n",
      " *** MAPDL BINARY FILE STATISTICS\n",
      "  BUFFER SIZE USED= 16384\n",
      "        0.875 MB WRITTEN ON ASSEMBLED MATRIX FILE: file0.full\n",
      "        0.688 MB WRITTEN ON RESULTS FILE: file0.rst\n"
     ]
    }
   ],
   "source": [
    "mapdl.run(\"/SOLU\")\n",
    "mapdl.antype(\"STATIC\")\n",
    "output = mapdl.solve()\n",
    "print(output)"
   ]
  },
  {
   "cell_type": "markdown",
   "metadata": {},
   "source": [
    "Post-Processing\n",
    "===============\n",
    "\n",
    "The static result can be post-processed both within MAPDL and outside of\n",
    "MAPDL using `pyansys`. This example shows how to extract the von Mises\n",
    "stress and plot it using the `pyansys` result reader.\n"
   ]
  },
  {
   "cell_type": "code",
   "execution_count": 25,
   "metadata": {
    "jupyter": {
     "outputs_hidden": false
    }
   },
   "outputs": [
    {
     "name": "stderr",
     "output_type": "stream",
     "text": [
      "C:\\Users\\dmercier\\AppData\\Local\\Programs\\Python\\Python39\\lib\\site-packages\\pyvista\\plotting\\tools.py:571: PyvistaDeprecationWarning: The usage of `parse_color` is deprecated in favor of the new `Color` class.\n",
      "  warnings.warn(\n"
     ]
    },
    {
     "data": {
      "application/vnd.jupyter.widget-view+json": {
       "model_id": "9e56abf7aac4463fb17935c62a3c5748",
       "version_major": 2,
       "version_minor": 0
      },
      "text/plain": [
       "ViewInteractiveWidget(height=768, layout=Layout(height='auto', width='100%'), width=1024)"
      ]
     },
     "metadata": {},
     "output_type": "display_data"
    }
   ],
   "source": [
    "# grab the result from the ``mapdl`` instance\n",
    "result = mapdl.result\n",
    "result.plot_principal_nodal_stress(\n",
    "    0, \"SEQV\", lighting=False, cpos=\"xy\", background=\"w\", text_color=\"k\", add_text=False\n",
    ")\n",
    "\n",
    "nnum, stress = result.principal_nodal_stress(0)\n",
    "von_mises = stress[:, -1]  # von-Mises stress is the right most column\n",
    "\n",
    "# Must use nanmax as stress is not computed at mid-side nodes\n",
    "max_stress = np.nanmax(von_mises)"
   ]
  },
  {
   "cell_type": "markdown",
   "metadata": {},
   "source": [
    "Compute the Stress Concentration\n",
    "================================\n",
    "\n",
    "The stress concentration $K_t$ is the ratio of the maximum stress at the\n",
    "hole to the far-field stress, or the mean cross sectional stress at a\n",
    "point far from the hole. Analytically, this can be computed with:\n",
    "\n",
    "$\\sigma_{nom} = \\frac{F}{wt}$\n",
    "\n",
    "Where\n",
    "\n",
    "-   $F$ is the force\n",
    "-   $w$ is the width of the plate\n",
    "-   $t$ is the thickness of the plate.\n",
    "\n",
    "Experimentally, this is computed by taking the mean of the nodes at the\n",
    "right-most side of the plate.\n"
   ]
  },
  {
   "cell_type": "code",
   "execution_count": 16,
   "metadata": {
    "jupyter": {
     "outputs_hidden": false
    }
   },
   "outputs": [
    {
     "name": "stdout",
     "output_type": "stream",
     "text": [
      "Far field von mises stress: 9.999096e+06\n"
     ]
    }
   ],
   "source": [
    "# We use nanmean here because mid-side nodes have no stress\n",
    "mask = result.mesh.nodes[:, 0] == length\n",
    "far_field_stress = np.nanmean(von_mises[mask])\n",
    "print(\"Far field von mises stress: %e\" % far_field_stress)\n",
    "# Which almost exactly equals the analytical value of 10000000.0 Pa"
   ]
  },
  {
   "cell_type": "markdown",
   "metadata": {},
   "source": [
    "Since the expected nominal stress across the cross section of the hole\n",
    "will increase as the size of the hole increases, regardless of the\n",
    "stress concentration, the stress must be adjusted to arrive at the\n",
    "correct stress. This stress is adjusted by the ratio of the width over\n",
    "the modified cross section width.\n"
   ]
  },
  {
   "cell_type": "code",
   "execution_count": 24,
   "metadata": {
    "jupyter": {
     "outputs_hidden": false
    }
   },
   "outputs": [
    {
     "name": "stdout",
     "output_type": "stream",
     "text": [
      "Stress Concentration: 3.03\n"
     ]
    }
   ],
   "source": [
    "adj = width / (width - diameter)\n",
    "stress_adj = far_field_stress * adj\n",
    "\n",
    "# The stress concentration is then simply the maximum stress divided\n",
    "# by the adjusted far-field stress.\n",
    "stress_con = max_stress / stress_adj\n",
    "print(\"Stress Concentration: %.2f\" % stress_con)"
   ]
  },
  {
   "cell_type": "markdown",
   "metadata": {},
   "source": [
    "Batch Analysis\n",
    "==============\n",
    "\n",
    "The above script can be placed within a function to compute the stress\n",
    "concentration for a variety of hole diameters. For each batch, MAPDL is\n",
    "reset and the geometry is generated from scratch.\n"
   ]
  },
  {
   "cell_type": "code",
   "execution_count": 18,
   "metadata": {
    "jupyter": {
     "outputs_hidden": false
    }
   },
   "outputs": [],
   "source": [
    "def compute_stress_con(ratio):\n",
    "    \"\"\"Compute the stress concentration for plate with a hole loaded\n",
    "    with a uniaxial force.\n",
    "    \"\"\"\n",
    "    mapdl.clear(\"NOSTART\")\n",
    "    mapdl.prep7()\n",
    "    mapdl.units(\"SI\")  # SI - International system (m, kg, s, K).\n",
    "\n",
    "    # define a PLANE183 element type with thickness\n",
    "    mapdl.et(1, \"PLANE183\", kop3=3)\n",
    "    mapdl.r(1, 0.001)  # thickness of 0.001 meters)\n",
    "\n",
    "    # Define a material (nominal steel in SI)\n",
    "    mapdl.mp(\"EX\", 1, 210e9)  # Elastic moduli in Pa (kg/(m*s**2))\n",
    "    mapdl.mp(\"DENS\", 1, 7800)  # Density in kg/m3\n",
    "    mapdl.mp(\"NUXY\", 1, 0.3)  # Poisson's Ratio\n",
    "    mapdl.emodif(\"ALL\", \"MAT\", 1)\n",
    "\n",
    "    # Geometry\n",
    "    # ~~~~~~~~\n",
    "    # Create a rectangular area with the hole in the middle\n",
    "    diameter = width * ratio\n",
    "    radius = diameter * 0.5\n",
    "\n",
    "    # create the rectangle\n",
    "    rect_anum = mapdl.blc4(width=length, height=width)\n",
    "\n",
    "    # create a circle in the middle of the rectangle\n",
    "    circ_anum = mapdl.cyl4(length / 2, width / 2, radius)\n",
    "\n",
    "    # Note how pyansys parses the output and returns the area numbers\n",
    "    # created by each command.  This can be used to execute a boolean\n",
    "    # operation on these areas to cut the circle out of the rectangle.\n",
    "    plate_with_hole_anum = mapdl.asba(rect_anum, circ_anum)\n",
    "\n",
    "    # Meshing\n",
    "    # ~~~~~~~\n",
    "    # Mesh the plate using a higher density near the hole and a lower\n",
    "    # density for the remainder of the plate\n",
    "\n",
    "    mapdl.aclear(\"all\")\n",
    "\n",
    "    # ensure there are at least 100 elements around the hole\n",
    "    hole_esize = np.pi * diameter / 100  # 0.0002\n",
    "    plate_esize = 0.01\n",
    "\n",
    "    # increased the density of the mesh at the center\n",
    "    mapdl.lsel(\"S\", \"LINE\", vmin=5, vmax=8)\n",
    "    mapdl.lesize(\"ALL\", hole_esize, kforc=1)\n",
    "    mapdl.lsel(\"ALL\")\n",
    "\n",
    "    # Decrease the area mesh expansion.  This ensures that the mesh\n",
    "    # remains fine nearby the hole\n",
    "    mapdl.mopt(\"EXPND\", 0.7)  # default 1\n",
    "\n",
    "    mapdl.esize(plate_esize)\n",
    "    mapdl.amesh(plate_with_hole_anum)\n",
    "\n",
    "    ###############################################################################\n",
    "    # Boundary Conditions\n",
    "    # ~~~~~~~~~~~~~~~~~~~\n",
    "    # Fix the left-hand side of the plate in the X direction\n",
    "    mapdl.nsel(\"S\", \"LOC\", \"X\", 0)\n",
    "    mapdl.d(\"ALL\", \"UX\")\n",
    "\n",
    "    # Fix a single node on the left-hand side of the plate in the Y direction\n",
    "    mapdl.nsel(\"R\", \"LOC\", \"Y\", width / 2)\n",
    "    assert mapdl.mesh.n_node == 1\n",
    "    mapdl.d(\"ALL\", \"UY\")\n",
    "\n",
    "    # Apply a force on the right-hand side of the plate.  For this\n",
    "    # example, we select the right-hand side of the plate.\n",
    "    mapdl.nsel(\"S\", \"LOC\", \"X\", length)\n",
    "\n",
    "    # Next, couple the DOF for these nodes\n",
    "    mapdl.cp(5, \"UX\", \"ALL\")\n",
    "\n",
    "    # Again, select a single node in this set and apply a force to it\n",
    "    mapdl.nsel(\"r\", \"loc\", \"y\", width / 2)\n",
    "    mapdl.f(\"ALL\", \"FX\", 1000)\n",
    "\n",
    "    # finally, be sure to select all nodes again to solve the entire solution\n",
    "    mapdl.allsel()\n",
    "\n",
    "    # Solve the Static Problem\n",
    "    # ~~~~~~~~~~~~~~~~~~~~~~~~\n",
    "    mapdl.run(\"/SOLU\")\n",
    "    mapdl.antype(\"STATIC\")\n",
    "    mapdl.solve()\n",
    "\n",
    "    # Post-Processing\n",
    "    # ~~~~~~~~~~~~~~~\n",
    "    # grab the stress from the result\n",
    "    result = mapdl.result\n",
    "    nnum, stress = result.principal_nodal_stress(0)\n",
    "    von_mises = stress[:, -1]\n",
    "    max_stress = np.nanmax(von_mises)\n",
    "\n",
    "    # compare to the \"far field\" stress by getting the mean value of the\n",
    "    # stress at the wall\n",
    "    mask = result.mesh.nodes[:, 0] == length\n",
    "    far_field_stress = np.nanmean(von_mises[mask])\n",
    "\n",
    "    # adjust by the cross sectional area at the hole\n",
    "    adj = width / (width - diameter)\n",
    "    stress_adj = far_field_stress * adj\n",
    "\n",
    "    # finally, compute the stress concentration\n",
    "    return max_stress / stress_adj"
   ]
  },
  {
   "cell_type": "markdown",
   "metadata": {},
   "source": [
    "Run the batch and record the stress concentration\n"
   ]
  },
  {
   "cell_type": "code",
   "execution_count": 23,
   "metadata": {
    "jupyter": {
     "outputs_hidden": false
    }
   },
   "outputs": [
    {
     "name": "stdout",
     "output_type": "stream",
     "text": [
      "    Ratio  : Stress Concentration (K_t)\n"
     ]
    },
    {
     "ename": "MapdlExitedError",
     "evalue": "MAPDL has exited",
     "output_type": "error",
     "traceback": [
      "\u001b[1;31m---------------------------------------------------------------------------\u001b[0m",
      "\u001b[1;31mMapdlExitedError\u001b[0m                          Traceback (most recent call last)",
      "Input \u001b[1;32mIn [23]\u001b[0m, in \u001b[0;36m<cell line: 4>\u001b[1;34m()\u001b[0m\n\u001b[0;32m      3\u001b[0m \u001b[38;5;28mprint\u001b[39m(\u001b[38;5;124m\"\u001b[39m\u001b[38;5;124m    Ratio  : Stress Concentration (K_t)\u001b[39m\u001b[38;5;124m\"\u001b[39m)\n\u001b[0;32m      4\u001b[0m \u001b[38;5;28;01mfor\u001b[39;00m ratio \u001b[38;5;129;01min\u001b[39;00m ratios:\n\u001b[1;32m----> 5\u001b[0m     stress_con \u001b[38;5;241m=\u001b[39m \u001b[43mcompute_stress_con\u001b[49m\u001b[43m(\u001b[49m\u001b[43mratio\u001b[49m\u001b[43m)\u001b[49m\n\u001b[0;32m      6\u001b[0m     \u001b[38;5;28mprint\u001b[39m(\u001b[38;5;124m\"\u001b[39m\u001b[38;5;132;01m%10.4f\u001b[39;00m\u001b[38;5;124m : \u001b[39m\u001b[38;5;132;01m%10.4f\u001b[39;00m\u001b[38;5;124m\"\u001b[39m \u001b[38;5;241m%\u001b[39m (ratio, stress_con))\n\u001b[0;32m      7\u001b[0m     k_t_exp\u001b[38;5;241m.\u001b[39mappend(stress_con)\n",
      "Input \u001b[1;32mIn [18]\u001b[0m, in \u001b[0;36mcompute_stress_con\u001b[1;34m(ratio)\u001b[0m\n\u001b[0;32m      1\u001b[0m \u001b[38;5;28;01mdef\u001b[39;00m \u001b[38;5;21mcompute_stress_con\u001b[39m(ratio):\n\u001b[0;32m      2\u001b[0m     \u001b[38;5;124;03m\"\"\"Compute the stress concentration for plate with a hole loaded\u001b[39;00m\n\u001b[0;32m      3\u001b[0m \u001b[38;5;124;03m    with a uniaxial force.\u001b[39;00m\n\u001b[0;32m      4\u001b[0m \u001b[38;5;124;03m    \"\"\"\u001b[39;00m\n\u001b[1;32m----> 5\u001b[0m     \u001b[43mmapdl\u001b[49m\u001b[38;5;241;43m.\u001b[39;49m\u001b[43mclear\u001b[49m\u001b[43m(\u001b[49m\u001b[38;5;124;43m\"\u001b[39;49m\u001b[38;5;124;43mNOSTART\u001b[39;49m\u001b[38;5;124;43m\"\u001b[39;49m\u001b[43m)\u001b[49m\n\u001b[0;32m      6\u001b[0m     mapdl\u001b[38;5;241m.\u001b[39mprep7()\n\u001b[0;32m      7\u001b[0m     mapdl\u001b[38;5;241m.\u001b[39munits(\u001b[38;5;124m\"\u001b[39m\u001b[38;5;124mSI\u001b[39m\u001b[38;5;124m\"\u001b[39m)  \u001b[38;5;66;03m# SI - International system (m, kg, s, K).\u001b[39;00m\n",
      "File \u001b[1;32m~\\AppData\\Local\\Programs\\Python\\Python39\\lib\\site-packages\\ansys\\mapdl\\core\\mapdl.py:638\u001b[0m, in \u001b[0;36m_MapdlCore.clear\u001b[1;34m(self, *args, **kwargs)\u001b[0m\n\u001b[0;32m    610\u001b[0m \u001b[38;5;28;01mdef\u001b[39;00m \u001b[38;5;21mclear\u001b[39m(\u001b[38;5;28mself\u001b[39m, \u001b[38;5;241m*\u001b[39margs, \u001b[38;5;241m*\u001b[39m\u001b[38;5;241m*\u001b[39mkwargs):\n\u001b[0;32m    611\u001b[0m     \u001b[38;5;124;03m\"\"\"Clear the database.\u001b[39;00m\n\u001b[0;32m    612\u001b[0m \n\u001b[0;32m    613\u001b[0m \u001b[38;5;124;03m    APDL Command: ``/CLEAR``\u001b[39;00m\n\u001b[1;32m   (...)\u001b[0m\n\u001b[0;32m    636\u001b[0m \n\u001b[0;32m    637\u001b[0m \u001b[38;5;124;03m    \"\"\"\u001b[39;00m\n\u001b[1;32m--> 638\u001b[0m     \u001b[38;5;28;43mself\u001b[39;49m\u001b[38;5;241;43m.\u001b[39;49m\u001b[43mrun\u001b[49m\u001b[43m(\u001b[49m\u001b[38;5;124;43m\"\u001b[39;49m\u001b[38;5;124;43m/CLE,NOSTART\u001b[39;49m\u001b[38;5;124;43m\"\u001b[39;49m\u001b[43m,\u001b[49m\u001b[43m \u001b[49m\u001b[43mmute\u001b[49m\u001b[38;5;241;43m=\u001b[39;49m\u001b[38;5;28;43;01mTrue\u001b[39;49;00m\u001b[43m)\u001b[49m\n",
      "File \u001b[1;32m~\\AppData\\Local\\Programs\\Python\\Python39\\lib\\site-packages\\ansys\\mapdl\\core\\mapdl.py:2704\u001b[0m, in \u001b[0;36m_MapdlCore.run\u001b[1;34m(self, command, write_to_log, mute, **kwargs)\u001b[0m\n\u001b[0;32m   2701\u001b[0m         \u001b[38;5;28mself\u001b[39m\u001b[38;5;241m.\u001b[39m_check_parameter_name(param_name)\n\u001b[0;32m   2703\u001b[0m verbose \u001b[38;5;241m=\u001b[39m kwargs\u001b[38;5;241m.\u001b[39mget(\u001b[38;5;124m\"\u001b[39m\u001b[38;5;124mverbose\u001b[39m\u001b[38;5;124m\"\u001b[39m, \u001b[38;5;28;01mFalse\u001b[39;00m)\n\u001b[1;32m-> 2704\u001b[0m text \u001b[38;5;241m=\u001b[39m \u001b[38;5;28;43mself\u001b[39;49m\u001b[38;5;241;43m.\u001b[39;49m\u001b[43m_run\u001b[49m\u001b[43m(\u001b[49m\u001b[43mcommand\u001b[49m\u001b[43m,\u001b[49m\u001b[43m \u001b[49m\u001b[43mverbose\u001b[49m\u001b[38;5;241;43m=\u001b[39;49m\u001b[43mverbose\u001b[49m\u001b[43m,\u001b[49m\u001b[43m \u001b[49m\u001b[43mmute\u001b[49m\u001b[38;5;241;43m=\u001b[39;49m\u001b[43mmute\u001b[49m\u001b[43m)\u001b[49m\n\u001b[0;32m   2706\u001b[0m \u001b[38;5;28;01mif\u001b[39;00m mute:\n\u001b[0;32m   2707\u001b[0m     \u001b[38;5;28;01mreturn\u001b[39;00m\n",
      "File \u001b[1;32m~\\AppData\\Local\\Programs\\Python\\Python39\\lib\\site-packages\\ansys\\mapdl\\core\\mapdl_grpc.py:733\u001b[0m, in \u001b[0;36mMapdlGrpc._run\u001b[1;34m(self, cmd, verbose, mute)\u001b[0m\n\u001b[0;32m    730\u001b[0m     mute \u001b[38;5;241m=\u001b[39m \u001b[38;5;28mself\u001b[39m\u001b[38;5;241m.\u001b[39m_mute\n\u001b[0;32m    732\u001b[0m \u001b[38;5;28;01mif\u001b[39;00m \u001b[38;5;28mself\u001b[39m\u001b[38;5;241m.\u001b[39m_exited:\n\u001b[1;32m--> 733\u001b[0m     \u001b[38;5;28;01mraise\u001b[39;00m MapdlExitedError\n\u001b[0;32m    735\u001b[0m \u001b[38;5;66;03m# don't allow empty commands\u001b[39;00m\n\u001b[0;32m    736\u001b[0m \u001b[38;5;28;01mif\u001b[39;00m \u001b[38;5;129;01mnot\u001b[39;00m cmd\u001b[38;5;241m.\u001b[39mstrip():\n",
      "\u001b[1;31mMapdlExitedError\u001b[0m: MAPDL has exited"
     ]
    }
   ],
   "source": [
    "k_t_exp = []\n",
    "ratios = np.linspace(0.01, 0.5, 15)\n",
    "print(\"    Ratio  : Stress Concentration (K_t)\")\n",
    "for ratio in ratios:\n",
    "    stress_con = compute_stress_con(ratio)\n",
    "    print(\"%10.4f : %10.4f\" % (ratio, stress_con))\n",
    "    k_t_exp.append(stress_con)"
   ]
  },
  {
   "cell_type": "markdown",
   "metadata": {},
   "source": [
    "Analytical Comparison\n",
    "=====================\n",
    "\n",
    "Stress concentrations are often obtained by referencing tablular results\n",
    "or polynominal fits for a variety of geometries. According to\n",
    "Peterson\\'s Stress Concentration Factors (ISBN 0470048247), the\n",
    "analytical equation for a hole in a thin plate in uniaxial tension:\n",
    "\n",
    "$k_t = 3 - 3.14\\frac{d}{h} + 3.667\\left(\\frac{d}{h}\\right)^2 - 1.527\\left(\\frac{d}{h}\\right)^3$\n",
    "\n",
    "Where:\n",
    "\n",
    "-   $k_t$ is the stress concentration\n",
    "-   $d$ is the diameter of the circle\n",
    "-   $h$ is the height of the plate\n",
    "\n",
    "As shown in the following plot, ANSYS matches the known tabular result\n",
    "for this geometry remarkably well using PLANE183 elements. The fit to\n",
    "the results may vary depending on the ratio between the height and width\n",
    "of the plate.\n"
   ]
  },
  {
   "cell_type": "code",
   "execution_count": 22,
   "metadata": {
    "jupyter": {
     "outputs_hidden": false
    }
   },
   "outputs": [
    {
     "ename": "ValueError",
     "evalue": "x and y must have same first dimension, but have shapes (15,) and (0,)",
     "output_type": "error",
     "traceback": [
      "\u001b[1;31m---------------------------------------------------------------------------\u001b[0m",
      "\u001b[1;31mValueError\u001b[0m                                Traceback (most recent call last)",
      "Input \u001b[1;32mIn [22]\u001b[0m, in \u001b[0;36m<cell line: 5>\u001b[1;34m()\u001b[0m\n\u001b[0;32m      2\u001b[0m k_t_anl \u001b[38;5;241m=\u001b[39m \u001b[38;5;241m3\u001b[39m \u001b[38;5;241m-\u001b[39m \u001b[38;5;241m3.14\u001b[39m \u001b[38;5;241m*\u001b[39m ratios \u001b[38;5;241m+\u001b[39m \u001b[38;5;241m3.667\u001b[39m \u001b[38;5;241m*\u001b[39m ratios\u001b[38;5;241m*\u001b[39m\u001b[38;5;241m*\u001b[39m\u001b[38;5;241m2\u001b[39m \u001b[38;5;241m-\u001b[39m \u001b[38;5;241m1.527\u001b[39m \u001b[38;5;241m*\u001b[39m ratios\u001b[38;5;241m*\u001b[39m\u001b[38;5;241m*\u001b[39m\u001b[38;5;241m3\u001b[39m\n\u001b[0;32m      4\u001b[0m plt\u001b[38;5;241m.\u001b[39mplot(ratios, k_t_anl, label\u001b[38;5;241m=\u001b[39m\u001b[38;5;124mr\u001b[39m\u001b[38;5;124m\"\u001b[39m\u001b[38;5;124m$K_t$ Analytical\u001b[39m\u001b[38;5;124m\"\u001b[39m)\n\u001b[1;32m----> 5\u001b[0m \u001b[43mplt\u001b[49m\u001b[38;5;241;43m.\u001b[39;49m\u001b[43mplot\u001b[49m\u001b[43m(\u001b[49m\u001b[43mratios\u001b[49m\u001b[43m,\u001b[49m\u001b[43m \u001b[49m\u001b[43mk_t_exp\u001b[49m\u001b[43m,\u001b[49m\u001b[43m \u001b[49m\u001b[43mlabel\u001b[49m\u001b[38;5;241;43m=\u001b[39;49m\u001b[38;5;124;43mr\u001b[39;49m\u001b[38;5;124;43m\"\u001b[39;49m\u001b[38;5;124;43m$K_t$ ANSYS\u001b[39;49m\u001b[38;5;124;43m\"\u001b[39;49m\u001b[43m)\u001b[49m\n\u001b[0;32m      6\u001b[0m plt\u001b[38;5;241m.\u001b[39mlegend()\n\u001b[0;32m      7\u001b[0m plt\u001b[38;5;241m.\u001b[39mxlabel(\u001b[38;5;124m\"\u001b[39m\u001b[38;5;124mRatio of Hole Diameter to Width of Plate\u001b[39m\u001b[38;5;124m\"\u001b[39m)\n",
      "File \u001b[1;32m~\\AppData\\Local\\Programs\\Python\\Python39\\lib\\site-packages\\matplotlib\\pyplot.py:2757\u001b[0m, in \u001b[0;36mplot\u001b[1;34m(scalex, scaley, data, *args, **kwargs)\u001b[0m\n\u001b[0;32m   2755\u001b[0m \u001b[38;5;129m@_copy_docstring_and_deprecators\u001b[39m(Axes\u001b[38;5;241m.\u001b[39mplot)\n\u001b[0;32m   2756\u001b[0m \u001b[38;5;28;01mdef\u001b[39;00m \u001b[38;5;21mplot\u001b[39m(\u001b[38;5;241m*\u001b[39margs, scalex\u001b[38;5;241m=\u001b[39m\u001b[38;5;28;01mTrue\u001b[39;00m, scaley\u001b[38;5;241m=\u001b[39m\u001b[38;5;28;01mTrue\u001b[39;00m, data\u001b[38;5;241m=\u001b[39m\u001b[38;5;28;01mNone\u001b[39;00m, \u001b[38;5;241m*\u001b[39m\u001b[38;5;241m*\u001b[39mkwargs):\n\u001b[1;32m-> 2757\u001b[0m     \u001b[38;5;28;01mreturn\u001b[39;00m gca()\u001b[38;5;241m.\u001b[39mplot(\n\u001b[0;32m   2758\u001b[0m         \u001b[38;5;241m*\u001b[39margs, scalex\u001b[38;5;241m=\u001b[39mscalex, scaley\u001b[38;5;241m=\u001b[39mscaley,\n\u001b[0;32m   2759\u001b[0m         \u001b[38;5;241m*\u001b[39m\u001b[38;5;241m*\u001b[39m({\u001b[38;5;124m\"\u001b[39m\u001b[38;5;124mdata\u001b[39m\u001b[38;5;124m\"\u001b[39m: data} \u001b[38;5;28;01mif\u001b[39;00m data \u001b[38;5;129;01mis\u001b[39;00m \u001b[38;5;129;01mnot\u001b[39;00m \u001b[38;5;28;01mNone\u001b[39;00m \u001b[38;5;28;01melse\u001b[39;00m {}), \u001b[38;5;241m*\u001b[39m\u001b[38;5;241m*\u001b[39mkwargs)\n",
      "File \u001b[1;32m~\\AppData\\Local\\Programs\\Python\\Python39\\lib\\site-packages\\matplotlib\\axes\\_axes.py:1632\u001b[0m, in \u001b[0;36mAxes.plot\u001b[1;34m(self, scalex, scaley, data, *args, **kwargs)\u001b[0m\n\u001b[0;32m   1390\u001b[0m \u001b[38;5;124;03m\"\"\"\u001b[39;00m\n\u001b[0;32m   1391\u001b[0m \u001b[38;5;124;03mPlot y versus x as lines and/or markers.\u001b[39;00m\n\u001b[0;32m   1392\u001b[0m \n\u001b[1;32m   (...)\u001b[0m\n\u001b[0;32m   1629\u001b[0m \u001b[38;5;124;03m(``'green'``) or hex strings (``'#008000'``).\u001b[39;00m\n\u001b[0;32m   1630\u001b[0m \u001b[38;5;124;03m\"\"\"\u001b[39;00m\n\u001b[0;32m   1631\u001b[0m kwargs \u001b[38;5;241m=\u001b[39m cbook\u001b[38;5;241m.\u001b[39mnormalize_kwargs(kwargs, mlines\u001b[38;5;241m.\u001b[39mLine2D)\n\u001b[1;32m-> 1632\u001b[0m lines \u001b[38;5;241m=\u001b[39m [\u001b[38;5;241m*\u001b[39m\u001b[38;5;28mself\u001b[39m\u001b[38;5;241m.\u001b[39m_get_lines(\u001b[38;5;241m*\u001b[39margs, data\u001b[38;5;241m=\u001b[39mdata, \u001b[38;5;241m*\u001b[39m\u001b[38;5;241m*\u001b[39mkwargs)]\n\u001b[0;32m   1633\u001b[0m \u001b[38;5;28;01mfor\u001b[39;00m line \u001b[38;5;129;01min\u001b[39;00m lines:\n\u001b[0;32m   1634\u001b[0m     \u001b[38;5;28mself\u001b[39m\u001b[38;5;241m.\u001b[39madd_line(line)\n",
      "File \u001b[1;32m~\\AppData\\Local\\Programs\\Python\\Python39\\lib\\site-packages\\matplotlib\\axes\\_base.py:312\u001b[0m, in \u001b[0;36m_process_plot_var_args.__call__\u001b[1;34m(self, data, *args, **kwargs)\u001b[0m\n\u001b[0;32m    310\u001b[0m     this \u001b[38;5;241m+\u001b[39m\u001b[38;5;241m=\u001b[39m args[\u001b[38;5;241m0\u001b[39m],\n\u001b[0;32m    311\u001b[0m     args \u001b[38;5;241m=\u001b[39m args[\u001b[38;5;241m1\u001b[39m:]\n\u001b[1;32m--> 312\u001b[0m \u001b[38;5;28;01myield from\u001b[39;00m \u001b[38;5;28;43mself\u001b[39;49m\u001b[38;5;241;43m.\u001b[39;49m\u001b[43m_plot_args\u001b[49m\u001b[43m(\u001b[49m\u001b[43mthis\u001b[49m\u001b[43m,\u001b[49m\u001b[43m \u001b[49m\u001b[43mkwargs\u001b[49m\u001b[43m)\u001b[49m\n",
      "File \u001b[1;32m~\\AppData\\Local\\Programs\\Python\\Python39\\lib\\site-packages\\matplotlib\\axes\\_base.py:498\u001b[0m, in \u001b[0;36m_process_plot_var_args._plot_args\u001b[1;34m(self, tup, kwargs, return_kwargs)\u001b[0m\n\u001b[0;32m    495\u001b[0m     \u001b[38;5;28mself\u001b[39m\u001b[38;5;241m.\u001b[39maxes\u001b[38;5;241m.\u001b[39myaxis\u001b[38;5;241m.\u001b[39mupdate_units(y)\n\u001b[0;32m    497\u001b[0m \u001b[38;5;28;01mif\u001b[39;00m x\u001b[38;5;241m.\u001b[39mshape[\u001b[38;5;241m0\u001b[39m] \u001b[38;5;241m!=\u001b[39m y\u001b[38;5;241m.\u001b[39mshape[\u001b[38;5;241m0\u001b[39m]:\n\u001b[1;32m--> 498\u001b[0m     \u001b[38;5;28;01mraise\u001b[39;00m \u001b[38;5;167;01mValueError\u001b[39;00m(\u001b[38;5;124mf\u001b[39m\u001b[38;5;124m\"\u001b[39m\u001b[38;5;124mx and y must have same first dimension, but \u001b[39m\u001b[38;5;124m\"\u001b[39m\n\u001b[0;32m    499\u001b[0m                      \u001b[38;5;124mf\u001b[39m\u001b[38;5;124m\"\u001b[39m\u001b[38;5;124mhave shapes \u001b[39m\u001b[38;5;132;01m{\u001b[39;00mx\u001b[38;5;241m.\u001b[39mshape\u001b[38;5;132;01m}\u001b[39;00m\u001b[38;5;124m and \u001b[39m\u001b[38;5;132;01m{\u001b[39;00my\u001b[38;5;241m.\u001b[39mshape\u001b[38;5;132;01m}\u001b[39;00m\u001b[38;5;124m\"\u001b[39m)\n\u001b[0;32m    500\u001b[0m \u001b[38;5;28;01mif\u001b[39;00m x\u001b[38;5;241m.\u001b[39mndim \u001b[38;5;241m>\u001b[39m \u001b[38;5;241m2\u001b[39m \u001b[38;5;129;01mor\u001b[39;00m y\u001b[38;5;241m.\u001b[39mndim \u001b[38;5;241m>\u001b[39m \u001b[38;5;241m2\u001b[39m:\n\u001b[0;32m    501\u001b[0m     \u001b[38;5;28;01mraise\u001b[39;00m \u001b[38;5;167;01mValueError\u001b[39;00m(\u001b[38;5;124mf\u001b[39m\u001b[38;5;124m\"\u001b[39m\u001b[38;5;124mx and y can be no greater than 2D, but have \u001b[39m\u001b[38;5;124m\"\u001b[39m\n\u001b[0;32m    502\u001b[0m                      \u001b[38;5;124mf\u001b[39m\u001b[38;5;124m\"\u001b[39m\u001b[38;5;124mshapes \u001b[39m\u001b[38;5;132;01m{\u001b[39;00mx\u001b[38;5;241m.\u001b[39mshape\u001b[38;5;132;01m}\u001b[39;00m\u001b[38;5;124m and \u001b[39m\u001b[38;5;132;01m{\u001b[39;00my\u001b[38;5;241m.\u001b[39mshape\u001b[38;5;132;01m}\u001b[39;00m\u001b[38;5;124m\"\u001b[39m)\n",
      "\u001b[1;31mValueError\u001b[0m: x and y must have same first dimension, but have shapes (15,) and (0,)"
     ]
    },
    {
     "data": {
      "image/png": "[encoded data removed]",
      "text/plain": [
       "<Figure size 432x288 with 1 Axes>"
      ]
     },
     "metadata": {
      "needs_background": "light"
     },
     "output_type": "display_data"
    }
   ],
   "source": [
    "# where ratio is (d/h)\n",
    "k_t_anl = 3 - 3.14 * ratios + 3.667 * ratios**2 - 1.527 * ratios**3\n",
    "\n",
    "plt.plot(ratios, k_t_anl, label=r\"$K_t$ Analytical\")\n",
    "plt.plot(ratios, k_t_exp, label=r\"$K_t$ ANSYS\")\n",
    "plt.legend()\n",
    "plt.xlabel(\"Ratio of Hole Diameter to Width of Plate\")\n",
    "plt.ylabel(\"Stress Concentration\")\n",
    "plt.show()"
   ]
  },
  {
   "cell_type": "markdown",
   "metadata": {},
   "source": [
    "stop mapdl\n"
   ]
  },
  {
   "cell_type": "code",
   "execution_count": 14,
   "metadata": {
    "jupyter": {
     "outputs_hidden": false
    }
   },
   "outputs": [],
   "source": [
    "mapdl.exit()"
   ]
  }
 ],
 "metadata": {
  "kernelspec": {
   "display_name": "Python 3 (ipykernel)",
   "language": "python",
   "name": "python3"
  },
  "language_info": {
   "codemirror_mode": {
    "name": "ipython",
    "version": 3
   },
   "file_extension": ".py",
   "mimetype": "text/x-python",
   "name": "python",
   "nbconvert_exporter": "python",
   "pygments_lexer": "ipython3",
   "version": "3.9.12"
  }
 },
 "nbformat": 4,
 "nbformat_minor": 4
}
