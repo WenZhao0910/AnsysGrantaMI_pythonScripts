{
 "cells": [
  {
   "cell_type": "code",
   "execution_count": 14,
   "id": "3a3aadeb",
   "metadata": {},
   "outputs": [
    {
     "name": "stderr",
     "output_type": "stream",
     "text": [
      "1it [00:00,  7.88it/s]"
     ]
    },
    {
     "name": "stdout",
     "output_type": "stream",
     "text": [
      "<class 'str'>\n",
      "Objectives: The effect of lead placement and programming strategies on spinal cord stimulation (SCS) therapy has been widely studied; however, there is a need to optimize these parameters to favor dorsal column (DC) over dorsal root (DR) stimulation in complex pain treatment. This study aimed to determine the optimal lateral distance between two leads and the effect of transverse stimulation using a mathematical model. Materials and Methods: A three-dimensional computational SCS and a nerve fiber model were used to determine the effect of the lateral distance between two leads at the same vertebral level T8 and the effect of the addition of anodes with two parallel leads at T8 and three different lateral distances on the model-based results (perception thresholds, activated DC fiber area and depth, and position of the first stimulated fiber). Results: With two parallel leads programmed with symmetrical polarities, the maximal DC fiber area stimulated was found for a lateral distance of 5 mm. The results also show a higher preference for DR stimulation as the lateral distance increased. The addition of positive contacts at the same level of active contacts in the second lead produces a displacement of the first stimulated fiber laterally. Conclusions: A lateral distance of 5 mm shows a DC stimulated fiber area greater than when leads are placed contiguously. The addition of anodes creates an effect whereby the area of paresthesia is not displaced to the midline, but in the opposite direction. This may be useful when the leads are too close and stimulation of one of the sides is compromised.\n",
      "<class 'str'>\n",
      "Pain-related sensory input is processed in the spinal dorsal horn (SDH) before being relayed to the brain. That processing profoundly influences whether stimuli are correctly or incorrectly perceived as painful. Significant advances have been made in identifying the types of excitatory and inhibitory neurons that comprise the SDH, and there is some information about how neuron types are con-nected, but it remains unclear how the overall circuit processes sensory input or how that processing is disrupted under chronic pain conditions. To explore SDH function, we developed a computational model of the circuit that is tightly constrained by experimental data. Our model comprises conductance-based neuron models that reproduce the characteristic firing patterns of spinal neurons. Excitatory and inhibitory neuron populations, defined by their expression of genetic markers, spiking pattern, or morphology, were synaptically connected according to available qualitative data. Using a genetic algorithm, synaptic weights were tuned to reproduce projection neuron firing rates (model output) based on primary afferent firing rates (model input) across a range of mechanical stim-ulus intensities. Disparate synaptic weight combinations could produce equivalent circuit function, revealing degeneracy that may underlie heterogeneous responses of different circuits to perturbations or pathologic insults. To validate our model, we verified that it responded to the reduction of inhibition (i.e., disinhibition) and ablation of specific neuron types in a manner consistent with experi-ments. Thus validated, our model offers a valuable resource for interpreting experimental results and testing hypotheses in silico to plan experiments for examining normal and pathologic SDH circuit function.\n",
      "<class 'float'>\n",
      "nan\n"
     ]
    },
    {
     "name": "stderr",
     "output_type": "stream",
     "text": [
      "5it [00:00, 13.90it/s]"
     ]
    },
    {
     "name": "stdout",
     "output_type": "stream",
     "text": [
      "<class 'float'>\n",
      "nan\n",
      "<class 'str'>\n",
      "Spinal cord stimulation (SCS) is a popular neurostimulation therapy for severe chronic pain. To improve stimulation efficacy, multiple modes are now used clinically, including conventional, burst, and 10-kHz SCS. Clinical observations have produced speculation that these modes target different neural elements and/or work via distinct mechanisms of action. However, in humans, these hypotheses cannot be conclusively answered via experimental methods. Therefore, we utilized computational modeling to assess the response of primary afferents, interneurons, and projection neurons to conventional, burst, and 10-kHz SCS. We found that local cell thresholds were always higher than afferent thresholds, arguing against direct recruitment of these local cells. Furthermore, although we observed relative threshold differences between conventional, burst, and 10-kHz SCS, the recruitment order was the same. Finally, contrary to previous reports, axon collateralization produced complex changes in activation thresholds of primary afferents. These results motivate future work to contextualize clinical observations across SCS paradigms.Perspective: This article presents the first computational modeling study to investigate neural recruitment during conventional, burst, and 10-kilohertz spinal cord stimulation for chronic pain within a single modeling framework. The results provide insight into these treatments' unknown mechanisms of action and offer context to interpreting clinical observations. (C) 2021 by United States Association for the Study of Pain, Inc.\n",
      "<class 'str'>\n",
      "The effect of spinal cord stimulation (SCS) using differential target multiplexed programming (DTMP) on proteins involved in the regulation of ion transport in spinal cord (SC) tissue of an animal model of neuropathic pain was evaluated in comparison to low rate (LR) SCS. Rats subjected to the spared nerve injury model (SNI) and implanted with a SCS lead were assigned to DTMP or LR and stimulated for 48 h. A No-SCS group received no stimulation, and a Sham group received no SNI or stimulation. Proteins in the dorsal ipsilateral quadrant of the stimulated SC were identified and quantified using mass spectrometry. Proteins significantly modulated by DTMP or LR relative to No-SCS were identified. Bioinformatic tools were used to identify proteins related to ion transport regulation. DTMP modulated a larger number of proteins than LR. More than 40 proteins significantly involved in the regulation of chloride (Cl-), potassium (K+), sodium (Na+), or calcium (Ca2+) ions were identified. SNI affected proteins that promote the increase of intracellular Ca2+, Na+, and K+ and decrease of intracellular Cl-. DTMP modulated proteins involved in glial response to neural injury that affect Ca2+ signaling. DTMP decreased levels of proteins related to Ca2+ transport that may result in the reduction of intracellular Ca2+. Presynaptic proteins involved in GABA vesicle formation and release were upregulated by DTMP. DTMP also upregulated postsynaptic proteins involved with elevated intracellular Cl-, while modulating proteins, expressed by astrocytes, that regulate postsynaptic Cl- inhibition. DTMP downregulated K+ regulatory proteins affected by SNI that affect neuronal depolarization, and upregulated proteins that are associated with a decrease of intracellular neuronal K+ and astrocyte uptake of extracellular K+. DTMP treatment modulated the expression of proteins with the potential to facilitate a reversal of dysregulation of ion transport and signaling associated with a model of neuropathic pain.\n",
      "<class 'str'>\n",
      "OBJECTIVE The authors' laboratory has previously demonstrated beneficial effects of noninvasive low intensity focused ultrasound (liFUS), targeted at the dorsal root ganglion (DRG), for reducing allodynia in rodent neuropathic pain models. However, in rats the DRG is 5 mm below the skin when approached laterally, while in humans the DRG is typically 5- 8 cm deep. Here, using a modified liFUS probe, the authors demonstrated the feasibility of using external liFUS for modulation of antinociceptive responses in neuropathic swine.METHODS Two cohorts of swine underwent a common peroneal nerve injury (CPNI) to induce neuropathic pain. In the first cohort, pigs (14 kg) were iteratively tested to determine treatment parameters. liFUS penetration to the L5 DRG was verified by using a thermocouple to monitor tissue temperature changes and by measuring nerve conduction velocity (NCV) at the corresponding common peroneal nerve (CPN). Pain behaviors were monitored before and after treatment. DRG was evaluated for tissue damage postmortem. Based on data from the first cohort, a treatment algorithm was developed, parameter predictions were verified, and neuropathic pain was significantly modified in a second cohort of larger swine (20 kg).RESULTS The authors performed a dose-response curve analysis in 14- kg CPNI swine. Specifically, after confirming that the liFUS probe could reach 5 cm in ex vivo tissue experiments, the authors tested liFUS in 14-kg CPNI swine. The mean +/- SEM DRG depth was 3.79 +/- 0.09 cm in this initial cohort. The parameters were determined and then extrapolated to larger animals (20 kg), and predictions were verified. Tissue temperature elevations at the treatment site did not exceed 2 degrees C, and the expected increases in the CPN NCV were observed. liFUS treatment eliminated pain guarding in all animals for the duration of follow-up (up to 1 month) and improved allodynia for 5 days postprocedure. No evidence of histological damage was seen using Fluoro-Jade and H&E staining.CONCLUSIONS The results demonstrate that a 5-cm depth can be reached with external liFUS and alters pain behavior and allodynia in a large-animal model of neuropathic pain.\n"
     ]
    },
    {
     "name": "stderr",
     "output_type": "stream",
     "text": [
      "\r",
      "7it [00:00, 14.73it/s]"
     ]
    },
    {
     "name": "stdout",
     "output_type": "stream",
     "text": [
      "<class 'str'>\n",
      "Objective: To reveal the possible contribution of changes in membrane ion concentration gradients and ion pump activity to axonal conduction/block induced by long-duration electrical stimulation. Methods: A new model for conduction and block of unmyelinated axons based on the classical Hodgkin-Huxley (HH) equations is developed to include changes in Na+ and K+ concentrations and ion pumps. The effect of long-duration stimulation on axonal conduction/block is analyzed by computer simulation using this new model. Results: The new model successfully simulates initiation, propagation, and block of action potentials induced by short-duration (multiple milliseconds) stimulations that do not significantly change the ion concentrations in the classical HH model. In addition, the activity-dependent effects such as action potential attenuation and broadening observed in animal studies are also successfully simulated by the new model. Finally, the model successfully simulates axonal block occurring after terminating a long-duration (multiple seconds) direct current (DC) stimulation as observed in recent animal studies and reveals 3 different mechanisms for the post-DC block of axonal conduction. Conclusion: Ion concentrations and pumps play an important role in post-stimulation effects and activity-dependent effects on axonal conduction/block. The duration of stimulation is a determinant factor because it influences the total charges applied to the axon, which in turn determines the ion concentrations inside and outside the axon. Significance: Despite recent clinical success of many neurostimulation therapies, the effects of long-duration stimulation on axonal conduction/block are poorly understood. This new model could significantly impact our understanding of the mechanisms underlying different neurostimulation therapies.\n",
      "<class 'str'>\n",
      "Chronic pain remains a leading cause of disability worldwide, and there is still a clinical reliance on opioids despite the medical side effects associated with their use and societal impacts associated with their abuse. An alternative approach is the use of electrical neuromodulation to produce analgesia. Direct current can block action potential propagation but leads to tissue damage if maintained. We have developed a form of ultra low frequency (ULF) biphasic current and studied its effects. In anesthetized rats, this waveform produced a rapidly developing and completely reversible conduction block in >85% of spinal sensory nerve fibers excited by peripheral stimulation. Sustained ULF currents at lower amplitudes led to a slower onset but reversible conduction block. Similar changes were seen in an animal model of neuropathic pain, where ULF waveforms blocked sensory neuron ectopic activity, known to be an important driver of clinical neuropathic pain. Using a computational model, we showed that prolonged ULF currents could induce accumulation of extracellular potassium, accounting for the slowly developing block observed in rats. Last, we tested the analgesic effects of epidural ULF currents in 20 subjects with chronic leg and back pain. Pain ratings improved by 90% after 2 weeks. One week after explanting the electrodes, pain ratings reverted to 72% of pretreatment screening value. We conclude that epidural spinal ULF neuromodulation represents a promising therapy for treating chronic pain.\n"
     ]
    },
    {
     "name": "stderr",
     "output_type": "stream",
     "text": [
      "value: Invalid type value must be of type str\n",
      "8it [00:03,  2.15it/s]\n"
     ]
    },
    {
     "ename": "GRANTA_Exception",
     "evalue": "value: Invalid type value must be of type str",
     "output_type": "error",
     "traceback": [
      "\u001b[1;31m---------------------------------------------------------------------------\u001b[0m",
      "\u001b[1;31mGRANTA_Exception\u001b[0m                          Traceback (most recent call last)",
      "Input \u001b[1;32mIn [14]\u001b[0m, in \u001b[0;36m<cell line: 12>\u001b[1;34m()\u001b[0m\n\u001b[0;32m     70\u001b[0m record\u001b[38;5;241m.\u001b[39mset_attributes([title_attribute,\n\u001b[0;32m     71\u001b[0m                        author_attribute,\n\u001b[0;32m     72\u001b[0m                        year_attribute,\n\u001b[1;32m   (...)\u001b[0m\n\u001b[0;32m     75\u001b[0m                        journal_attribute]\n\u001b[0;32m     76\u001b[0m                        )\n\u001b[0;32m     77\u001b[0m \u001b[38;5;66;03m# Update record\u001b[39;00m\n\u001b[1;32m---> 78\u001b[0m record \u001b[38;5;241m=\u001b[39m \u001b[43mmi\u001b[49m\u001b[38;5;241;43m.\u001b[39;49m\u001b[43mupdate\u001b[49m\u001b[43m(\u001b[49m\u001b[43m[\u001b[49m\u001b[43mrecord\u001b[49m\u001b[43m]\u001b[49m\u001b[43m)\u001b[49m[\u001b[38;5;241m0\u001b[39m]\n",
      "File \u001b[1;32mC:\\ProgramData\\Anaconda3\\lib\\site-packages\\GRANTA_MIScriptingToolkit\\granta\\mi.py:139\u001b[0m, in \u001b[0;36mSession.update\u001b[1;34m(self, records, update_attributes, update_links, refresh_attributes)\u001b[0m\n\u001b[0;32m    137\u001b[0m \u001b[38;5;28;01mwith\u001b[39;00m _Writer(\u001b[38;5;28mself\u001b[39m, update_links, update_attributes, refresh_targets\u001b[38;5;241m=\u001b[39mrefresh_attributes) \u001b[38;5;28;01mas\u001b[39;00m w:\n\u001b[0;32m    138\u001b[0m     \u001b[38;5;28;01mfor\u001b[39;00m r \u001b[38;5;129;01min\u001b[39;00m records:\n\u001b[1;32m--> 139\u001b[0m         w\u001b[38;5;241m.\u001b[39madd(r)\n\u001b[0;32m    140\u001b[0m records \u001b[38;5;241m=\u001b[39m w\u001b[38;5;241m.\u001b[39mresults\u001b[38;5;241m.\u001b[39mrecords\n\u001b[0;32m    141\u001b[0m \u001b[38;5;28;01mreturn\u001b[39;00m records\n",
      "File \u001b[1;32mC:\\ProgramData\\Anaconda3\\lib\\site-packages\\GRANTA_MIScriptingToolkit\\granta\\mi.py:1369\u001b[0m, in \u001b[0;36m_Writer.__exit__\u001b[1;34m(self, exc_type, exc_val, exc_tb)\u001b[0m\n\u001b[0;32m   1367\u001b[0m     \u001b[38;5;28mself\u001b[39m\u001b[38;5;241m.\u001b[39mstop_update()\n\u001b[0;32m   1368\u001b[0m     \u001b[38;5;28;01mreturn\u001b[39;00m \u001b[38;5;28;01mFalse\u001b[39;00m\n\u001b[1;32m-> 1369\u001b[0m \u001b[38;5;28;43mself\u001b[39;49m\u001b[38;5;241;43m.\u001b[39;49m\u001b[43mexecute\u001b[49m\u001b[43m(\u001b[49m\u001b[38;5;28;43mself\u001b[39;49m\u001b[38;5;241;43m.\u001b[39;49m\u001b[43m_refresh_targets\u001b[49m\u001b[43m)\u001b[49m\n",
      "File \u001b[1;32mC:\\ProgramData\\Anaconda3\\lib\\site-packages\\GRANTA_MIScriptingToolkit\\granta\\mi.py:1409\u001b[0m, in \u001b[0;36m_Writer.execute\u001b[1;34m(self, refresh_targets)\u001b[0m\n\u001b[0;32m   1407\u001b[0m \u001b[38;5;28;01mif\u001b[39;00m \u001b[38;5;28mself\u001b[39m\u001b[38;5;241m.\u001b[39m_do_attributes:\n\u001b[0;32m   1408\u001b[0m     start \u001b[38;5;241m=\u001b[39m time\u001b[38;5;241m.\u001b[39mtime()\n\u001b[1;32m-> 1409\u001b[0m     \u001b[38;5;28;43mself\u001b[39;49m\u001b[38;5;241;43m.\u001b[39;49m\u001b[43mexecute_attributes\u001b[49m\u001b[43m(\u001b[49m\u001b[43mrefresh_targets\u001b[49m\u001b[43m)\u001b[49m\n\u001b[0;32m   1410\u001b[0m     end \u001b[38;5;241m=\u001b[39m time\u001b[38;5;241m.\u001b[39mtime()\n\u001b[0;32m   1411\u001b[0m     \u001b[38;5;28mself\u001b[39m\u001b[38;5;241m.\u001b[39m_results\u001b[38;5;241m.\u001b[39madd_time(\u001b[38;5;124m\"\u001b[39m\u001b[38;5;124mexecute_attributes\u001b[39m\u001b[38;5;124m\"\u001b[39m, end\u001b[38;5;241m-\u001b[39mstart)\n",
      "File \u001b[1;32mC:\\ProgramData\\Anaconda3\\lib\\site-packages\\GRANTA_MIScriptingToolkit\\granta\\mi.py:1520\u001b[0m, in \u001b[0;36m_Writer.execute_attributes\u001b[1;34m(self, refresh_targets)\u001b[0m\n\u001b[0;32m   1518\u001b[0m iavs \u001b[38;5;241m=\u001b[39m []  \u001b[38;5;66;03m# type: List[gdl.ImportAttributeValue]\u001b[39;00m\n\u001b[0;32m   1519\u001b[0m update, erase \u001b[38;5;241m=\u001b[39m record\u001b[38;5;241m.\u001b[39m_collect_modifications()\n\u001b[1;32m-> 1520\u001b[0m \u001b[38;5;28;43mself\u001b[39;49m\u001b[38;5;241;43m.\u001b[39;49m\u001b[43m_create_import_values_to_be_modified\u001b[49m\u001b[43m(\u001b[49m\u001b[43miavs\u001b[49m\u001b[43m,\u001b[49m\u001b[43m \u001b[49m\u001b[43mupdate\u001b[49m\u001b[43m,\u001b[49m\u001b[43m \u001b[49m\u001b[43mmode\u001b[49m\u001b[38;5;241;43m=\u001b[39;49m\u001b[38;5;124;43m'\u001b[39;49m\u001b[38;5;124;43mupdate\u001b[39;49m\u001b[38;5;124;43m'\u001b[39;49m\u001b[43m)\u001b[49m\n\u001b[0;32m   1521\u001b[0m \u001b[38;5;28mself\u001b[39m\u001b[38;5;241m.\u001b[39m_create_import_values_to_be_modified(iavs, erase, mode\u001b[38;5;241m=\u001b[39m\u001b[38;5;124m'\u001b[39m\u001b[38;5;124merase\u001b[39m\u001b[38;5;124m'\u001b[39m)\n\u001b[0;32m   1522\u001b[0m pseudos \u001b[38;5;241m=\u001b[39m record\u001b[38;5;241m.\u001b[39m_collect_modifications_pseudos()\n",
      "File \u001b[1;32mC:\\ProgramData\\Anaconda3\\lib\\site-packages\\GRANTA_MIScriptingToolkit\\granta\\mi.py:1582\u001b[0m, in \u001b[0;36m_Writer._create_import_values_to_be_modified\u001b[1;34m(self, iavs, attributes, mode)\u001b[0m\n\u001b[0;32m   1580\u001b[0m     iavs\u001b[38;5;241m.\u001b[39mappend(iav)\n\u001b[0;32m   1581\u001b[0m \u001b[38;5;28;01melse\u001b[39;00m:\n\u001b[1;32m-> 1582\u001b[0m     av \u001b[38;5;241m=\u001b[39m \u001b[43mattribute\u001b[49m\u001b[38;5;241;43m.\u001b[39;49m\u001b[43m_create_value\u001b[49m\u001b[43m(\u001b[49m\u001b[43m)\u001b[49m\n\u001b[0;32m   1583\u001b[0m     \u001b[38;5;28;01mif\u001b[39;00m av:\n\u001b[0;32m   1584\u001b[0m         \u001b[38;5;28;01mif\u001b[39;00m \u001b[38;5;28misinstance\u001b[39m(av, gdl\u001b[38;5;241m.\u001b[39mFloatFunctionalSeriesDataType):\n",
      "File \u001b[1;32mC:\\ProgramData\\Anaconda3\\lib\\site-packages\\GRANTA_MIScriptingToolkit\\granta\\mi_attribute_value_classes.py:1109\u001b[0m, in \u001b[0;36mAttributeHyperlink._create_value\u001b[1;34m(self)\u001b[0m\n\u001b[0;32m   1108\u001b[0m \u001b[38;5;28;01mdef\u001b[39;00m \u001b[38;5;21m_create_value\u001b[39m(\u001b[38;5;28mself\u001b[39m):\n\u001b[1;32m-> 1109\u001b[0m     \u001b[38;5;28;01mreturn\u001b[39;00m \u001b[38;5;28;43mself\u001b[39;49m\u001b[38;5;241;43m.\u001b[39;49m\u001b[43m_create_gdl_av_from_value\u001b[49m\u001b[43m(\u001b[49m\u001b[38;5;28;43mself\u001b[39;49m\u001b[38;5;241;43m.\u001b[39;49m\u001b[43mobject\u001b[49m\u001b[43m,\u001b[49m\u001b[43m \u001b[49m\u001b[43mis_applicable\u001b[49m\u001b[38;5;241;43m=\u001b[39;49m\u001b[38;5;28;43mself\u001b[39;49m\u001b[38;5;241;43m.\u001b[39;49m\u001b[43mis_applicable\u001b[49m\u001b[43m)\u001b[49m\n",
      "File \u001b[1;32mC:\\ProgramData\\Anaconda3\\lib\\site-packages\\GRANTA_MIScriptingToolkit\\granta\\mi_attribute_value_classes.py:1118\u001b[0m, in \u001b[0;36mAttributeHyperlink._create_gdl_av_from_value\u001b[1;34m(cls, value, unit, is_applicable)\u001b[0m\n\u001b[0;32m   1116\u001b[0m     \u001b[38;5;28;01mreturn\u001b[39;00m Hyperlink(url\u001b[38;5;241m=\u001b[39mvalue)\u001b[38;5;241m.\u001b[39m_create_value(is_applicable\u001b[38;5;241m=\u001b[39mis_applicable)\n\u001b[0;32m   1117\u001b[0m \u001b[38;5;28;01melse\u001b[39;00m:\n\u001b[1;32m-> 1118\u001b[0m     \u001b[38;5;28;01mreturn\u001b[39;00m \u001b[43mvalue\u001b[49m\u001b[38;5;241;43m.\u001b[39;49m\u001b[43m_create_value\u001b[49m\u001b[43m(\u001b[49m\u001b[43mis_applicable\u001b[49m\u001b[38;5;241;43m=\u001b[39;49m\u001b[43mis_applicable\u001b[49m\u001b[43m)\u001b[49m\n",
      "File \u001b[1;32mC:\\ProgramData\\Anaconda3\\lib\\site-packages\\GRANTA_MIScriptingToolkit\\granta\\mi_attribute_value_classes.py:1000\u001b[0m, in \u001b[0;36mHyperlink._create_value\u001b[1;34m(self, is_applicable)\u001b[0m\n\u001b[0;32m    998\u001b[0m     \u001b[38;5;28;01mreturn\u001b[39;00m \u001b[38;5;28;01mNone\u001b[39;00m\n\u001b[0;32m    999\u001b[0m \u001b[38;5;28;01melse\u001b[39;00m:\n\u001b[1;32m-> 1000\u001b[0m     \u001b[38;5;28;01mreturn\u001b[39;00m \u001b[43mgdl\u001b[49m\u001b[38;5;241;43m.\u001b[39;49m\u001b[43mHyperlinkDataType\u001b[49m\u001b[43m(\u001b[49m\u001b[43mvalue\u001b[49m\u001b[38;5;241;43m=\u001b[39;49m\u001b[38;5;28;43mself\u001b[39;49m\u001b[38;5;241;43m.\u001b[39;49m\u001b[43murl\u001b[49m\u001b[43m,\u001b[49m\u001b[43m \u001b[49m\u001b[43mdescription\u001b[49m\u001b[38;5;241;43m=\u001b[39;49m\u001b[38;5;28;43mself\u001b[39;49m\u001b[38;5;241;43m.\u001b[39;49m\u001b[43mhyperlink_description\u001b[49m\u001b[43m,\u001b[49m\n\u001b[0;32m   1001\u001b[0m \u001b[43m                                 \u001b[49m\u001b[43mhyperlinkDisplay\u001b[49m\u001b[38;5;241;43m=\u001b[39;49m\u001b[38;5;28;43mself\u001b[39;49m\u001b[38;5;241;43m.\u001b[39;49m\u001b[43m_hyperlink_display\u001b[49m\u001b[43m,\u001b[49m\n\u001b[0;32m   1002\u001b[0m \u001b[43m                                 \u001b[49m\u001b[43misApplicable\u001b[49m\u001b[38;5;241;43m=\u001b[39;49m\u001b[43mis_applicable\u001b[49m\u001b[43m)\u001b[49m\n",
      "File \u001b[1;32mC:\\ProgramData\\Anaconda3\\lib\\site-packages\\GRANTA_MIScriptingToolkit\\HyperlinkDataType.py:53\u001b[0m, in \u001b[0;36mHyperlinkDataType.__init__\u001b[1;34m(self, value, description, hyperlinkDisplay, isApplicable, _isOwner)\u001b[0m\n\u001b[0;32m     50\u001b[0m \u001b[38;5;28mself\u001b[39m\u001b[38;5;241m.\u001b[39m_isOwner \u001b[38;5;241m=\u001b[39m _isOwner\n\u001b[0;32m     52\u001b[0m \u001b[38;5;28;01mif\u001b[39;00m value \u001b[38;5;129;01mis\u001b[39;00m \u001b[38;5;129;01mnot\u001b[39;00m \u001b[38;5;28;01mNone\u001b[39;00m:\n\u001b[1;32m---> 53\u001b[0m     \u001b[38;5;28mself\u001b[39m\u001b[38;5;241m.\u001b[39mvalue \u001b[38;5;241m=\u001b[39m value\n\u001b[0;32m     54\u001b[0m \u001b[38;5;28;01mif\u001b[39;00m description \u001b[38;5;129;01mis\u001b[39;00m \u001b[38;5;129;01mnot\u001b[39;00m \u001b[38;5;28;01mNone\u001b[39;00m:\n\u001b[0;32m     55\u001b[0m     \u001b[38;5;28mself\u001b[39m\u001b[38;5;241m.\u001b[39mdescription \u001b[38;5;241m=\u001b[39m description\n",
      "File \u001b[1;32mC:\\ProgramData\\Anaconda3\\lib\\site-packages\\GRANTA_MIScriptingToolkit\\HyperlinkDataType.py:128\u001b[0m, in \u001b[0;36mHyperlinkDataType.value\u001b[1;34m(self, value)\u001b[0m\n\u001b[0;32m    125\u001b[0m \u001b[38;5;129m@value\u001b[39m\u001b[38;5;241m.\u001b[39msetter\n\u001b[0;32m    126\u001b[0m \u001b[38;5;28;01mdef\u001b[39;00m \u001b[38;5;21mvalue\u001b[39m(\u001b[38;5;28mself\u001b[39m, value):\n\u001b[0;32m    127\u001b[0m     \u001b[38;5;28;01mif\u001b[39;00m \u001b[38;5;129;01mnot\u001b[39;00m \u001b[38;5;28misinstance\u001b[39m(value, Defs\u001b[38;5;241m.\u001b[39mstring_types):\n\u001b[1;32m--> 128\u001b[0m         \u001b[38;5;28;01mraise\u001b[39;00m GRANTA_Exception(\u001b[38;5;124m'\u001b[39m\u001b[38;5;124mvalue\u001b[39m\u001b[38;5;124m'\u001b[39m,\u001b[38;5;124m'\u001b[39m\u001b[38;5;124mvalue: Invalid type value must be of type str\u001b[39m\u001b[38;5;124m'\u001b[39m)\n\u001b[0;32m    129\u001b[0m     \u001b[38;5;28mself\u001b[39m\u001b[38;5;241m.\u001b[39m__SetValue(value)\n\u001b[0;32m    130\u001b[0m     \u001b[38;5;28mself\u001b[39m\u001b[38;5;241m.\u001b[39m_value \u001b[38;5;241m=\u001b[39m value\n",
      "\u001b[1;31mGRANTA_Exception\u001b[0m: value: Invalid type value must be of type str"
     ]
    }
   ],
   "source": [
    "import os\n",
    "import pandas as pd\n",
    "import GRANTA_MIScriptingToolkit\n",
    "from GRANTA_MIScriptingToolkit import granta as mpy\n",
    "import GRANTA_MIScriptingToolkit as gdl\n",
    "from tqdm import tqdm\n",
    "\n",
    "\n",
    "input_file = \"C:\\\\Users\\\\dmercier\\\\Downloads\\\\webofscience08082022.txt\" #with extension\n",
    "folder_name = \"Test\"\n",
    "\n",
    "if __name__ == \"__main__\":\n",
    "\n",
    "\n",
    "    # Parse csv file\n",
    "    df = pd.read_csv(input_file,sep=\"\\t\")\n",
    "    print(df.head())\n",
    "    mi = mpy.connect('http://azewacadmi1v1.win.ansys.com/mi_servicelayer/', autologon=True)\n",
    "    db = mi.get_db(db_key='MI_RefPapers')\n",
    "    tab = db.get_table('Granta Reference Papers')\n",
    "    # Iterate over every entry of the file\n",
    "    for i, entry in tqdm(df.iterrows()):\n",
    "        authors_str = entry[\"AU\"]\n",
    "        authors_title = \"\"\n",
    "        if type(entry[\"AU\"]) != float:\n",
    "            authors_split = authors_str.split(\";\")\n",
    "            for k in range(min(3, len(authors_split))):\n",
    "                single_author = authors_split[k].split(\",\")\n",
    "                authors_title += single_author[0] +\", \"\n",
    "            if len(authors_split) > 3:\n",
    "                authors_title += \" et al. \"\n",
    "        else:\n",
    "            authors_title = \"__NONAME__\"\n",
    "        record_name = authors_title + str(entry[\"PY\"]) + \"_\" +str(entry[\"DI\"])\n",
    "        # If the record already exists, leave it alone (server is fairly slow otherwise I'd ask it to modify details\n",
    "        # This is useful if the script has started working and unexpectedly stopped, to pick up where it left off\n",
    "        if len(tab.search_for_records_by_name(record_name)) == 0:\n",
    "            record = tab.path_from(None, tree_path=[folder_name], end_node=record_name)\n",
    "\n",
    "            tab.bulk_fetch([record], attributes=['Title',\n",
    "                                                 'Remarks - Extra Informations',\n",
    "                                                 'Author(s)',\n",
    "                                                 'Year of Publication',\n",
    "                                                 'Digital Object Identifier (DOI)',\n",
    "                                                 'Key Words / Topics',\n",
    "                                                 'Abstract (or Summary)',\n",
    "                                                 'Journal / Conference / Source'\n",
    "                                                 ])\n",
    "\n",
    "            # recover the attributes\n",
    "            title_attribute = record.attributes[\"Title\"]\n",
    "            author_attribute = record.attributes[\"Author(s)\"]\n",
    "            year_attribute = record.attributes[\"Year of Publication\"]\n",
    "            doi_attribute = record.attributes['Digital Object Identifier (DOI)']\n",
    "            #keyword_attribute = record.attributes['Key Words / Topics']\n",
    "            abstract_attribute = record.attributes[\"Abstract (or Summary)\"]\n",
    "            journal_attribute = record.attributes[\"Journal / Conference / Source\"]\n",
    "            comments_attribute = record.attributes[\"Remarks - Extra Informations\"]\n",
    "            # change their value\n",
    "            title_attribute.value = str(entry[\"TI\"])\n",
    "            author_attribute.value = str(entry[\"AU\"])\n",
    "            year_attribute.value = str(entry[\"PY\"])\n",
    "            if type(entry[\"DI\"]) != float:\n",
    "                doi_attribute.value = mpy.Hyperlink(\"https://doi.org/\"+ str(entry[\"DI\"]), hyperlink_display='New')\n",
    "            abstract_attribute.value = str(entry[\"AB\"])\n",
    "            journal_attribute.value = str(entry[\"SO\"])\n",
    "            # Set the attributes back\n",
    "            record.set_attributes([title_attribute,\n",
    "                                   author_attribute,\n",
    "                                   year_attribute,\n",
    "                                   doi_attribute,\n",
    "                                   abstract_attribute,\n",
    "                                   journal_attribute]\n",
    "                                   )\n",
    "            # Update record\n",
    "            record = mi.update([record])[0]\n"
   ]
  },
  {
   "cell_type": "code",
   "execution_count": null,
   "id": "924b4a35",
   "metadata": {},
   "outputs": [],
   "source": []
  }
 ],
 "metadata": {
  "kernelspec": {
   "display_name": "Python 3 (ipykernel)",
   "language": "python",
   "name": "python3"
  },
  "language_info": {
   "codemirror_mode": {
    "name": "ipython",
    "version": 3
   },
   "file_extension": ".py",
   "mimetype": "text/x-python",
   "name": "python",
   "nbconvert_exporter": "python",
   "pygments_lexer": "ipython3",
   "version": "3.9.12"
  }
 },
 "nbformat": 4,
 "nbformat_minor": 5
}
