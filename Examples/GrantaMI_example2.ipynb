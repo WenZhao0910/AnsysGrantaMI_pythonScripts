{
 "cells": [
  {
   "cell_type": "code",
   "execution_count": null,
   "id": "a9bca724",
   "metadata": {},
   "outputs": [],
   "source": [
    "# Import libraries\n",
    "from GRANTA_MIScriptingToolkit import granta as mpy\n",
    "import GRANTA_MIScriptingToolkit as gdl\n",
    "import matplotlib\n",
    "import matplotlib.pyplot as plt\n",
    "import numpy as np\n",
    "from matplotlib import colors\n",
    "from matplotlib.ticker import PercentFormatter\n",
    "import pandas as pd"
   ]
  },
  {
   "cell_type": "code",
   "execution_count": null,
   "id": "f7872b5b",
   "metadata": {},
   "outputs": [],
   "source": [
    "mi = mpy.connect('http://azewacadmi1v1.win.ansys.com/mi_servicelayer/', autologon=True)\n",
    "mi\n",
    "mi.dbs"
   ]
  },
  {
   "cell_type": "code",
   "execution_count": null,
   "id": "9d8f700d",
   "metadata": {},
   "outputs": [],
   "source": [
    "my_db = mi.get_db('Academic Resources Database')\n",
    "my_db.tables"
   ]
  },
  {
   "cell_type": "code",
   "execution_count": null,
   "id": "cf32edbe",
   "metadata": {},
   "outputs": [],
   "source": [
    "my_db.tables[0].children"
   ]
  },
  {
   "cell_type": "code",
   "execution_count": null,
   "id": "b191df41",
   "metadata": {},
   "outputs": [],
   "source": [
    "session = gdl.GRANTA_MISession('http://azewacadmi1v1.win.ansys.com/mi_servicelayer/', autoLogon=True)\n",
    "browseService = session.browseService\n",
    "databases = browseService.GetDatabases().databases\n",
    "\n",
    "print(\"Found {0} databases on the Granta MI Server\".format(len(databases)))\n",
    "for d in databases:\n",
    "    print(\"Database key: {0.DBKey}, Database name: {0.name}\".format(d))"
   ]
  },
  {
   "cell_type": "code",
   "execution_count": null,
   "id": "7d16b6bd",
   "metadata": {},
   "outputs": [],
   "source": [
    "df = pd.DataFrame({'DBKey': [db.DBKey for db in databases],\n",
    "                  'DBName': [db.name for db in databases]})\n",
    "df"
   ]
  },
  {
   "cell_type": "code",
   "execution_count": null,
   "id": "3497e270",
   "metadata": {},
   "outputs": [],
   "source": [
    "# Get Tables from Ref Papers DB\n",
    "dbKey = \"MI_RefPapers\"\n",
    "tables = browseService.GetTables(gdl.GetTables(DBKey=dbKey)).tableDetails\n",
    "\n",
    "print(\"Found {0} tables in database {1}\".format(len(tables), dbKey))\n",
    "for t in tables:\n",
    "    print(\"Table name: {0}\".format(t.tableReference.name))"
   ]
  },
  {
   "cell_type": "code",
   "execution_count": null,
   "id": "c56293a9",
   "metadata": {},
   "outputs": [],
   "source": [
    "# Get data from Granta ref papers table\n",
    "table = 'Granta Reference Papers'\n",
    "attribute = \"Year of Publication\"\n",
    "\n",
    "tableRef = gdl.PartialTableReference(tableName=table)\n",
    "attrRef = gdl.AttributeReference(name=attribute, DBKey=dbKey, partialTableReference=tableRef)\n",
    "searchCriterion = gdl.RecordSearchCriterion(searchAttribute=attrRef, existsSearchValue=gdl.ExistsSearchValue())\n",
    "request = gdl.CriteriaSearch(DBKey=dbKey, searchCriteria=[searchCriterion])\n",
    "\n",
    "searchResults = session.searchService.CriteriaSearch(request).searchResults\n",
    "\n",
    "df2 = pd.DataFrame({'ShortName': [r.shortName for r in searchResults],\n",
    "                     'LongName': [r.longName  for r in searchResults]})\n",
    "df2"
   ]
  },
  {
   "cell_type": "code",
   "execution_count": null,
   "id": "dbb2e2b3",
   "metadata": {},
   "outputs": [],
   "source": [
    "# Year analysis\n",
    "attribute = \"Year of Publication\"\n",
    "attributeLim = \"Principal Granta Product used\"\n",
    "\n",
    "attributesInt = [\"Year of Publication\"]\n",
    "attrRefs = [gdl.AttributeReference(name=a, DBKey=dbKey, partialTableReference=tableRef) for a in attributesInt]\n",
    "recordRefs = [r.recordReference for r in searchResults]\n",
    "request = gdl.GetRecordAttributesByRefRequest(recordReferences=recordRefs, attributeReferences=attrRefs)\n",
    "recordData = session.dataExportService.GetRecordAttributesByRef(request).recordData\n",
    "\n",
    "# Export data in a table\n",
    "s_year = [None]*len(df2)\n",
    "for attributeInt in attributesInt:\n",
    "    for idx, record in enumerate(recordData):\n",
    "        attrValueInt = next((x for x in record.attributeValues if x.attributeName == attributeInt), None)\n",
    "        s_year[idx] = attrValueInt.integerDataValue.value.real if attrValueInt else None\n",
    "    df2[attributeInt] = s_year\n",
    "df2\n",
    "\n",
    "#Plot\n",
    "figure=plt.figure(1)\n",
    "plt.hist(s_year, bins=max(s_year)-min(s_year))\n",
    "plt.xlabel('Year of Publication')\n",
    "plt.ylabel('Number of Paper')\n",
    "plt.savefig(\"Paper_Year\"+\".png\", bbox_inches='tight')"
   ]
  }
 ],
 "metadata": {
  "kernelspec": {
   "display_name": "Python 3 (ipykernel)",
   "language": "python",
   "name": "python3"
  },
  "language_info": {
   "codemirror_mode": {
    "name": "ipython",
    "version": 3
   },
   "file_extension": ".py",
   "mimetype": "text/x-python",
   "name": "python",
   "nbconvert_exporter": "python",
   "pygments_lexer": "ipython3",
   "version": "3.9.12"
  }
 },
 "nbformat": 4,
 "nbformat_minor": 5
}
