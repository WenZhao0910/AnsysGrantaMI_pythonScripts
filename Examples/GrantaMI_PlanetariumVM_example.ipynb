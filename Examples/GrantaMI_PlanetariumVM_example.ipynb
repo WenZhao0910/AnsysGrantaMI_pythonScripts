{
 "cells": [
  {
   "cell_type": "markdown",
   "id": "4449c98a",
   "metadata": {},
   "source": [
    "This example Python script let you access the Granta MI session on our internal virtual machine. You can extract or upload data into the MI databases and perform some data analysis."
   ]
  },
  {
   "cell_type": "code",
   "execution_count": 1,
   "id": "a9bca724",
   "metadata": {},
   "outputs": [],
   "source": [
    "# Import libraries\n",
    "from GRANTA_MIScriptingToolkit import granta as mpy\n",
    "import GRANTA_MIScriptingToolkit as gdl\n",
    "import matplotlib\n",
    "import matplotlib.pyplot as plt\n",
    "import numpy as np\n",
    "from matplotlib import colors\n",
    "from matplotlib.ticker import PercentFormatter\n",
    "import pandas as pd"
   ]
  },
  {
   "cell_type": "code",
   "execution_count": 2,
   "id": "b191df41",
   "metadata": {},
   "outputs": [
    {
     "name": "stdout",
     "output_type": "stream",
     "text": [
      "Found 2 databases on the Granta MI Server\n",
      "Database key: MI_PolimiDB, Database name: MI_PolimiDB\n",
      "Database key: MI_Training, Database name: MI Training\n"
     ]
    }
   ],
   "source": [
    "session = gdl.GRANTA_MISession('https://academicresearch.grantami.com/mi_servicelayer/', username=\"Flavia.Papile\", password=\"P455w07d!\")\n",
    "browseService = session.browseService\n",
    "databases = browseService.GetDatabases().databases\n",
    "\n",
    "print(\"Found {0} databases on the Granta MI Server\".format(len(databases)))\n",
    "for d in databases:\n",
    "    print(\"Database key: {0.DBKey}, Database name: {0.name}\".format(d))"
   ]
  },
  {
   "cell_type": "code",
   "execution_count": 3,
   "id": "7d16b6bd",
   "metadata": {},
   "outputs": [
    {
     "data": {
      "text/html": [
       "<div>\n",
       "<style scoped>\n",
       "    .dataframe tbody tr th:only-of-type {\n",
       "        vertical-align: middle;\n",
       "    }\n",
       "\n",
       "    .dataframe tbody tr th {\n",
       "        vertical-align: top;\n",
       "    }\n",
       "\n",
       "    .dataframe thead th {\n",
       "        text-align: right;\n",
       "    }\n",
       "</style>\n",
       "<table border=\"1\" class=\"dataframe\">\n",
       "  <thead>\n",
       "    <tr style=\"text-align: right;\">\n",
       "      <th></th>\n",
       "      <th>DBKey</th>\n",
       "      <th>DBName</th>\n",
       "    </tr>\n",
       "  </thead>\n",
       "  <tbody>\n",
       "    <tr>\n",
       "      <th>0</th>\n",
       "      <td>MI_PolimiDB</td>\n",
       "      <td>MI_PolimiDB</td>\n",
       "    </tr>\n",
       "    <tr>\n",
       "      <th>1</th>\n",
       "      <td>MI_Training</td>\n",
       "      <td>MI Training</td>\n",
       "    </tr>\n",
       "  </tbody>\n",
       "</table>\n",
       "</div>"
      ],
      "text/plain": [
       "         DBKey       DBName\n",
       "0  MI_PolimiDB  MI_PolimiDB\n",
       "1  MI_Training  MI Training"
      ]
     },
     "execution_count": 3,
     "metadata": {},
     "output_type": "execute_result"
    }
   ],
   "source": [
    "df = pd.DataFrame({'DBKey': [db.DBKey for db in databases],\n",
    "                  'DBName': [db.name for db in databases]})\n",
    "df"
   ]
  },
  {
   "cell_type": "code",
   "execution_count": 4,
   "id": "3497e270",
   "metadata": {},
   "outputs": [
    {
     "name": "stdout",
     "output_type": "stream",
     "text": [
      "Found 2 tables in database MI_PolimiDB\n",
      "Table name: Material Research Trends\n",
      "Table name: References\n"
     ]
    }
   ],
   "source": [
    "# Get Tables from Ref Papers DB\n",
    "dbKey = \"MI_PolimiDB\"\n",
    "tables = browseService.GetTables(gdl.GetTables(DBKey=dbKey)).tableDetails\n",
    "\n",
    "print(\"Found {0} tables in database {1}\".format(len(tables), dbKey))\n",
    "for t in tables:\n",
    "    print(\"Table name: {0}\".format(t.tableReference.name))"
   ]
  },
  {
   "cell_type": "code",
   "execution_count": 8,
   "id": "c56293a9",
   "metadata": {},
   "outputs": [
    {
     "data": {
      "text/html": [
       "<div>\n",
       "<style scoped>\n",
       "    .dataframe tbody tr th:only-of-type {\n",
       "        vertical-align: middle;\n",
       "    }\n",
       "\n",
       "    .dataframe tbody tr th {\n",
       "        vertical-align: top;\n",
       "    }\n",
       "\n",
       "    .dataframe thead th {\n",
       "        text-align: right;\n",
       "    }\n",
       "</style>\n",
       "<table border=\"1\" class=\"dataframe\">\n",
       "  <thead>\n",
       "    <tr style=\"text-align: right;\">\n",
       "      <th></th>\n",
       "      <th>ShortName</th>\n",
       "      <th>LongName</th>\n",
       "    </tr>\n",
       "  </thead>\n",
       "  <tbody>\n",
       "    <tr>\n",
       "      <th>0</th>\n",
       "      <td>2006_Responsive structures</td>\n",
       "      <td>2006_Responsive structures</td>\n",
       "    </tr>\n",
       "    <tr>\n",
       "      <th>1</th>\n",
       "      <td>2013_Artichair</td>\n",
       "      <td>2013_Artichair</td>\n",
       "    </tr>\n",
       "    <tr>\n",
       "      <th>2</th>\n",
       "      <td>2015_Hydromembrane</td>\n",
       "      <td>2015_Hydromembrane</td>\n",
       "    </tr>\n",
       "    <tr>\n",
       "      <th>3</th>\n",
       "      <td>2016_Wineleather</td>\n",
       "      <td>2016_Wineleather</td>\n",
       "    </tr>\n",
       "    <tr>\n",
       "      <th>4</th>\n",
       "      <td>2017_Nullabor fibre</td>\n",
       "      <td>2017_Nullabor fibre</td>\n",
       "    </tr>\n",
       "    <tr>\n",
       "      <th>...</th>\n",
       "      <td>...</td>\n",
       "      <td>...</td>\n",
       "    </tr>\n",
       "    <tr>\n",
       "      <th>74</th>\n",
       "      <td>1990_Mater-bi</td>\n",
       "      <td>1990_Mater-bi</td>\n",
       "    </tr>\n",
       "    <tr>\n",
       "      <th>75</th>\n",
       "      <td>2002_QTC</td>\n",
       "      <td>2002_QTC</td>\n",
       "    </tr>\n",
       "    <tr>\n",
       "      <th>76</th>\n",
       "      <td>2018_Biogarmentry</td>\n",
       "      <td>2018_Biogarmentry</td>\n",
       "    </tr>\n",
       "    <tr>\n",
       "      <th>77</th>\n",
       "      <td>2018_This is Grown</td>\n",
       "      <td>2018_This is Grown</td>\n",
       "    </tr>\n",
       "    <tr>\n",
       "      <th>78</th>\n",
       "      <td>2019_Rens coffee snakers</td>\n",
       "      <td>2019_Rens coffee snakers</td>\n",
       "    </tr>\n",
       "  </tbody>\n",
       "</table>\n",
       "<p>79 rows × 2 columns</p>\n",
       "</div>"
      ],
      "text/plain": [
       "                     ShortName                    LongName\n",
       "0   2006_Responsive structures  2006_Responsive structures\n",
       "1               2013_Artichair              2013_Artichair\n",
       "2           2015_Hydromembrane          2015_Hydromembrane\n",
       "3             2016_Wineleather            2016_Wineleather\n",
       "4          2017_Nullabor fibre         2017_Nullabor fibre\n",
       "..                         ...                         ...\n",
       "74               1990_Mater-bi               1990_Mater-bi\n",
       "75                    2002_QTC                    2002_QTC\n",
       "76           2018_Biogarmentry           2018_Biogarmentry\n",
       "77          2018_This is Grown          2018_This is Grown\n",
       "78    2019_Rens coffee snakers    2019_Rens coffee snakers\n",
       "\n",
       "[79 rows x 2 columns]"
      ]
     },
     "execution_count": 8,
     "metadata": {},
     "output_type": "execute_result"
    }
   ],
   "source": [
    "# Get data from Granta ref papers table\n",
    "table = 'Material Research Trends'\n",
    "attribute = \"Year of development\"\n",
    "\n",
    "tableRef = gdl.PartialTableReference(tableName=table)\n",
    "attrRef = gdl.AttributeReference(name=attribute, DBKey=dbKey, partialTableReference=tableRef)\n",
    "searchCriterion = gdl.RecordSearchCriterion(searchAttribute=attrRef, existsSearchValue=gdl.ExistsSearchValue())\n",
    "request = gdl.CriteriaSearch(DBKey=dbKey, searchCriteria=[searchCriterion])\n",
    "\n",
    "searchResults = session.searchService.CriteriaSearch(request).searchResults\n",
    "\n",
    "df2 = pd.DataFrame({'ShortName': [r.shortName for r in searchResults],\n",
    "                     'LongName': [r.longName  for r in searchResults]})\n",
    "df2"
   ]
  },
  {
   "cell_type": "code",
   "execution_count": 9,
   "id": "dbb2e2b3",
   "metadata": {},
   "outputs": [
    {
     "data": {
      "image/png": "[encoded data removed]",
      "text/plain": [
       "<Figure size 432x288 with 1 Axes>"
      ]
     },
     "metadata": {
      "needs_background": "light"
     },
     "output_type": "display_data"
    }
   ],
   "source": [
    "# Year analysis\n",
    "attribute = \"Year of development\"\n",
    "attributeLim = \"Labelling\"\n",
    "\n",
    "attributesInt = [\"Year of development\"]\n",
    "attrRefs = [gdl.AttributeReference(name=a, DBKey=dbKey, partialTableReference=tableRef) for a in attributesInt]\n",
    "recordRefs = [r.recordReference for r in searchResults]\n",
    "request = gdl.GetRecordAttributesByRefRequest(recordReferences=recordRefs, attributeReferences=attrRefs)\n",
    "recordData = session.dataExportService.GetRecordAttributesByRef(request).recordData\n",
    "\n",
    "# Export data in a table\n",
    "s_year = [None]*len(df2)\n",
    "for attributeInt in attributesInt:\n",
    "    for idx, record in enumerate(recordData):\n",
    "        attrValueInt = next((x for x in record.attributeValues if x.attributeName == attributeInt), None)\n",
    "        s_year[idx] = attrValueInt.integerDataValue.value.real if attrValueInt else None\n",
    "    df2[attributeInt] = s_year\n",
    "df2\n",
    "\n",
    "#Plot\n",
    "figure=plt.figure(1)\n",
    "plt.hist(s_year, bins=max(s_year)-min(s_year))\n",
    "plt.xlabel('Year of Material Research Trends')\n",
    "plt.ylabel('Number of Material Research Trends')\n",
    "plt.savefig(\"MaterialResearchTrends\"+\".png\", bbox_inches='tight')"
   ]
  },
  {
   "cell_type": "code",
   "execution_count": null,
   "id": "fae3e0f9",
   "metadata": {},
   "outputs": [],
   "source": []
  }
 ],
 "metadata": {
  "kernelspec": {
   "display_name": "Python 3 (ipykernel)",
   "language": "python",
   "name": "python3"
  },
  "language_info": {
   "codemirror_mode": {
    "name": "ipython",
    "version": 3
   },
   "file_extension": ".py",
   "mimetype": "text/x-python",
   "name": "python",
   "nbconvert_exporter": "python",
   "pygments_lexer": "ipython3",
   "version": "3.9.12"
  }
 },
 "nbformat": 4,
 "nbformat_minor": 5
}
