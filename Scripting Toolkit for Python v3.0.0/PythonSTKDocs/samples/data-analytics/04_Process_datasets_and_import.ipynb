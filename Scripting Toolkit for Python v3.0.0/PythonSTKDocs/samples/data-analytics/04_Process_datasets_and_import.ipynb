{
 "cells": [
  {
   "cell_type": "markdown",
   "metadata": {},
   "source": [
    "# Process datasets and import results into Granta MI"
   ]
  },
  {
   "cell_type": "markdown",
   "metadata": {},
   "source": [
    "Load raw data from a *.csv* file and run a typical tensile data analysis to extract values for *Ultimate Tensile Strength*, *Young's Modulus* and *Elongation at failure*. Import the results into Granta MI."
   ]
  },
  {
   "cell_type": "markdown",
   "metadata": {},
   "source": [
    "## Load data from CSV"
   ]
  },
  {
   "cell_type": "markdown",
   "metadata": {},
   "source": [
    "The raw *Load* vs *Displacement* data is stored in a CSV file. Import the data directly into a DataFrame using the `pandas` function `.read_csv()`."
   ]
  },
  {
   "cell_type": "code",
   "execution_count": 1,
   "metadata": {
    "execution": {
     "iopub.execute_input": "2022-05-10T22:49:58.033278Z",
     "iopub.status.busy": "2022-05-10T22:49:58.033278Z",
     "iopub.status.idle": "2022-05-10T22:49:58.393256Z",
     "shell.execute_reply": "2022-05-10T22:49:58.393256Z"
    }
   },
   "outputs": [
    {
     "data": {
      "text/html": [
       "<div>\n",
       "<style scoped>\n",
       "    .dataframe tbody tr th:only-of-type {\n",
       "        vertical-align: middle;\n",
       "    }\n",
       "\n",
       "    .dataframe tbody tr th {\n",
       "        vertical-align: top;\n",
       "    }\n",
       "\n",
       "    .dataframe thead th {\n",
       "        text-align: right;\n",
       "    }\n",
       "</style>\n",
       "<table border=\"1\" class=\"dataframe\">\n",
       "  <thead>\n",
       "    <tr style=\"text-align: right;\">\n",
       "      <th></th>\n",
       "      <th>Displacement [mm]</th>\n",
       "      <th>Load [N]</th>\n",
       "    </tr>\n",
       "  </thead>\n",
       "  <tbody>\n",
       "    <tr>\n",
       "      <th>0</th>\n",
       "      <td>0.000000</td>\n",
       "      <td>0.000</td>\n",
       "    </tr>\n",
       "    <tr>\n",
       "      <th>1</th>\n",
       "      <td>0.005282</td>\n",
       "      <td>273.392</td>\n",
       "    </tr>\n",
       "    <tr>\n",
       "      <th>2</th>\n",
       "      <td>0.005282</td>\n",
       "      <td>307.173</td>\n",
       "    </tr>\n",
       "    <tr>\n",
       "      <th>3</th>\n",
       "      <td>0.006010</td>\n",
       "      <td>331.741</td>\n",
       "    </tr>\n",
       "    <tr>\n",
       "      <th>4</th>\n",
       "      <td>0.006738</td>\n",
       "      <td>352.556</td>\n",
       "    </tr>\n",
       "  </tbody>\n",
       "</table>\n",
       "</div>"
      ],
      "text/plain": [
       "   Displacement [mm]  Load [N]\n",
       "0           0.000000     0.000\n",
       "1           0.005282   273.392\n",
       "2           0.005282   307.173\n",
       "3           0.006010   331.741\n",
       "4           0.006738   352.556"
      ]
     },
     "execution_count": 1,
     "metadata": {},
     "output_type": "execute_result"
    }
   ],
   "source": [
    "import pandas as pd\n",
    "\n",
    "df_raw = pd.read_csv('raw_test_data.csv')\n",
    "df_raw.head()"
   ]
  },
  {
   "cell_type": "markdown",
   "metadata": {},
   "source": [
    "The convention in this example is that all properties are in SI units unless otherwise specified. Create a new DataFrame, converting *Displacement* to SI units and renaming both columns."
   ]
  },
  {
   "cell_type": "code",
   "execution_count": 2,
   "metadata": {
    "execution": {
     "iopub.execute_input": "2022-05-10T22:49:58.403258Z",
     "iopub.status.busy": "2022-05-10T22:49:58.403258Z",
     "iopub.status.idle": "2022-05-10T22:49:58.423258Z",
     "shell.execute_reply": "2022-05-10T22:49:58.423258Z"
    }
   },
   "outputs": [
    {
     "data": {
      "text/html": [
       "<div>\n",
       "<style scoped>\n",
       "    .dataframe tbody tr th:only-of-type {\n",
       "        vertical-align: middle;\n",
       "    }\n",
       "\n",
       "    .dataframe tbody tr th {\n",
       "        vertical-align: top;\n",
       "    }\n",
       "\n",
       "    .dataframe thead th {\n",
       "        text-align: right;\n",
       "    }\n",
       "</style>\n",
       "<table border=\"1\" class=\"dataframe\">\n",
       "  <thead>\n",
       "    <tr style=\"text-align: right;\">\n",
       "      <th></th>\n",
       "      <th>Displacement</th>\n",
       "      <th>Load</th>\n",
       "    </tr>\n",
       "  </thead>\n",
       "  <tbody>\n",
       "    <tr>\n",
       "      <th>0</th>\n",
       "      <td>0.000000</td>\n",
       "      <td>0.000</td>\n",
       "    </tr>\n",
       "    <tr>\n",
       "      <th>1</th>\n",
       "      <td>0.000005</td>\n",
       "      <td>273.392</td>\n",
       "    </tr>\n",
       "    <tr>\n",
       "      <th>2</th>\n",
       "      <td>0.000005</td>\n",
       "      <td>307.173</td>\n",
       "    </tr>\n",
       "    <tr>\n",
       "      <th>3</th>\n",
       "      <td>0.000006</td>\n",
       "      <td>331.741</td>\n",
       "    </tr>\n",
       "    <tr>\n",
       "      <th>4</th>\n",
       "      <td>0.000007</td>\n",
       "      <td>352.556</td>\n",
       "    </tr>\n",
       "  </tbody>\n",
       "</table>\n",
       "</div>"
      ],
      "text/plain": [
       "   Displacement     Load\n",
       "0      0.000000    0.000\n",
       "1      0.000005  273.392\n",
       "2      0.000005  307.173\n",
       "3      0.000006  331.741\n",
       "4      0.000007  352.556"
      ]
     },
     "execution_count": 2,
     "metadata": {},
     "output_type": "execute_result"
    }
   ],
   "source": [
    "df = pd.DataFrame()\n",
    "df['Displacement'] = df_raw['Displacement [mm]'] / 1e3\n",
    "df['Load'] = df_raw['Load [N]']\n",
    "df.head()"
   ]
  },
  {
   "cell_type": "markdown",
   "metadata": {},
   "source": [
    "## Process the data"
   ]
  },
  {
   "cell_type": "markdown",
   "metadata": {},
   "source": [
    "### Plot Load-Displacement data"
   ]
  },
  {
   "cell_type": "markdown",
   "metadata": {},
   "source": [
    "This code snippet is optional, and is included to increase the size of all plots generated in this notebook."
   ]
  },
  {
   "cell_type": "code",
   "execution_count": 3,
   "metadata": {
    "execution": {
     "iopub.execute_input": "2022-05-10T22:49:58.423258Z",
     "iopub.status.busy": "2022-05-10T22:49:58.423258Z",
     "iopub.status.idle": "2022-05-10T22:49:58.973257Z",
     "shell.execute_reply": "2022-05-10T22:49:58.973257Z"
    }
   },
   "outputs": [],
   "source": [
    "import matplotlib.pyplot as plt\n",
    "plt.rcParams['figure.dpi'] = 125"
   ]
  },
  {
   "cell_type": "markdown",
   "metadata": {},
   "source": [
    "Use `matplotlib` to plot the Load-Displacement curve. For this plot, we've divided `df.Load` by `1e3` so the y-axis is displayed in kN."
   ]
  },
  {
   "cell_type": "code",
   "execution_count": 4,
   "metadata": {
    "execution": {
     "iopub.execute_input": "2022-05-10T22:49:58.973257Z",
     "iopub.status.busy": "2022-05-10T22:49:58.973257Z",
     "iopub.status.idle": "2022-05-10T22:49:59.103259Z",
     "shell.execute_reply": "2022-05-10T22:49:59.103259Z"
    }
   },
   "outputs": [
    {
     "data": {
      "image/png": "[encoded data removed]",
      "text/plain": [
       "<Figure size 432x288 with 1 Axes>"
      ]
     },
     "metadata": {
      "needs_background": "light"
     },
     "output_type": "display_data"
    }
   ],
   "source": [
    "import matplotlib.pyplot as plt\n",
    "\n",
    "fig, ax = plt.subplots()\n",
    "ax.plot(df.Displacement, df.Load / 1e3)\n",
    "ax.set_xlabel('Displacement / m')\n",
    "ax.set_ylabel('Load / kN')\n",
    "_ = ax.set_title('Load vs displacement')"
   ]
  },
  {
   "cell_type": "markdown",
   "metadata": {},
   "source": [
    "### Convert Load-Displacement to Stress-Strain"
   ]
  },
  {
   "cell_type": "markdown",
   "metadata": {},
   "source": [
    "Converting the Load-Displacement curve into Stress-Strain requires the gauge length and area, given here as constants in SI units. In a full workflow, these values can be loaded from a source file. \n",
    "\n",
    "Calculate the *Stress* and *Strain* and store as new columns in the DataFrame."
   ]
  },
  {
   "cell_type": "code",
   "execution_count": 5,
   "metadata": {
    "execution": {
     "iopub.execute_input": "2022-05-10T22:49:59.103259Z",
     "iopub.status.busy": "2022-05-10T22:49:59.103259Z",
     "iopub.status.idle": "2022-05-10T22:49:59.113257Z",
     "shell.execute_reply": "2022-05-10T22:49:59.113257Z"
    }
   },
   "outputs": [
    {
     "data": {
      "text/html": [
       "<div>\n",
       "<style scoped>\n",
       "    .dataframe tbody tr th:only-of-type {\n",
       "        vertical-align: middle;\n",
       "    }\n",
       "\n",
       "    .dataframe tbody tr th {\n",
       "        vertical-align: top;\n",
       "    }\n",
       "\n",
       "    .dataframe thead th {\n",
       "        text-align: right;\n",
       "    }\n",
       "</style>\n",
       "<table border=\"1\" class=\"dataframe\">\n",
       "  <thead>\n",
       "    <tr style=\"text-align: right;\">\n",
       "      <th></th>\n",
       "      <th>Displacement</th>\n",
       "      <th>Load</th>\n",
       "      <th>Strain</th>\n",
       "      <th>Stress</th>\n",
       "    </tr>\n",
       "  </thead>\n",
       "  <tbody>\n",
       "    <tr>\n",
       "      <th>0</th>\n",
       "      <td>0.000000</td>\n",
       "      <td>0.000</td>\n",
       "      <td>0.000000</td>\n",
       "      <td>0.000000e+00</td>\n",
       "    </tr>\n",
       "    <tr>\n",
       "      <th>1</th>\n",
       "      <td>0.000005</td>\n",
       "      <td>273.392</td>\n",
       "      <td>0.000066</td>\n",
       "      <td>1.208322e+07</td>\n",
       "    </tr>\n",
       "    <tr>\n",
       "      <th>2</th>\n",
       "      <td>0.000005</td>\n",
       "      <td>307.173</td>\n",
       "      <td>0.000066</td>\n",
       "      <td>1.357626e+07</td>\n",
       "    </tr>\n",
       "    <tr>\n",
       "      <th>3</th>\n",
       "      <td>0.000006</td>\n",
       "      <td>331.741</td>\n",
       "      <td>0.000075</td>\n",
       "      <td>1.466210e+07</td>\n",
       "    </tr>\n",
       "    <tr>\n",
       "      <th>4</th>\n",
       "      <td>0.000007</td>\n",
       "      <td>352.556</td>\n",
       "      <td>0.000084</td>\n",
       "      <td>1.558207e+07</td>\n",
       "    </tr>\n",
       "  </tbody>\n",
       "</table>\n",
       "</div>"
      ],
      "text/plain": [
       "   Displacement     Load    Strain        Stress\n",
       "0      0.000000    0.000  0.000000  0.000000e+00\n",
       "1      0.000005  273.392  0.000066  1.208322e+07\n",
       "2      0.000005  307.173  0.000066  1.357626e+07\n",
       "3      0.000006  331.741  0.000075  1.466210e+07\n",
       "4      0.000007  352.556  0.000084  1.558207e+07"
      ]
     },
     "execution_count": 5,
     "metadata": {},
     "output_type": "execute_result"
    }
   ],
   "source": [
    "GAUGE_WIDTH = 0.0150068\n",
    "GAUGE_THICKNESS = 0.0015077\n",
    "GAUGE_LENGTH = 0.07997724\n",
    "\n",
    "df['Strain'] = df.Displacement / GAUGE_LENGTH\n",
    "gauge_area = GAUGE_WIDTH * GAUGE_THICKNESS\n",
    "df['Stress'] = df.Load / gauge_area\n",
    "df.head()"
   ]
  },
  {
   "cell_type": "markdown",
   "metadata": {},
   "source": [
    "Now create a plot of Stress-Strain:"
   ]
  },
  {
   "cell_type": "code",
   "execution_count": 6,
   "metadata": {
    "execution": {
     "iopub.execute_input": "2022-05-10T22:49:59.113257Z",
     "iopub.status.busy": "2022-05-10T22:49:59.113257Z",
     "iopub.status.idle": "2022-05-10T22:49:59.383259Z",
     "shell.execute_reply": "2022-05-10T22:49:59.383259Z"
    }
   },
   "outputs": [
    {
     "data": {
      "image/png": "[encoded data removed]",
      "text/plain": [
       "<Figure size 432x288 with 1 Axes>"
      ]
     },
     "metadata": {
      "needs_background": "light"
     },
     "output_type": "display_data"
    }
   ],
   "source": [
    "fig, ax = plt.subplots()\n",
    "ax.plot(df.Strain, df.Stress / 1e6, zorder=0)\n",
    "ax.set_xlabel('$\\epsilon$')\n",
    "ax.set_ylabel('$\\sigma$ / MPa')\n",
    "ax.set_xlim(left=0)\n",
    "ax.set_ylim(bottom=0)\n",
    "\n",
    "_ = ax.set_title('Stress vs Strain')"
   ]
  },
  {
   "cell_type": "markdown",
   "metadata": {},
   "source": [
    "Since the plastic region extends over a large strain range, it is difficult to see detail in the elastic region. \n",
    "\n",
    "Create an inset and plot the elastic and yield region only."
   ]
  },
  {
   "cell_type": "code",
   "execution_count": 7,
   "metadata": {
    "execution": {
     "iopub.execute_input": "2022-05-10T22:49:59.383259Z",
     "iopub.status.busy": "2022-05-10T22:49:59.383259Z",
     "iopub.status.idle": "2022-05-10T22:49:59.523259Z",
     "shell.execute_reply": "2022-05-10T22:49:59.523259Z"
    }
   },
   "outputs": [
    {
     "data": {
      "image/png": "[encoded data removed]",
      "text/plain": [
       "<Figure size 432x288 with 2 Axes>"
      ]
     },
     "execution_count": 7,
     "metadata": {},
     "output_type": "execute_result"
    }
   ],
   "source": [
    "# [left, bottom, width, height] relative to the figure\n",
    "ax_inset = fig.add_axes([0.25, 0.2, 0.4, 0.35])\n",
    "\n",
    "ax_inset.plot(df.Strain, df.Stress / 1e6, label='Tensile response', zorder=0)\n",
    "ax_inset.set_xlim(0, 0.004)\n",
    "ax_inset.set_xticks([0, 0.004])\n",
    "\n",
    "ax_inset.set_ylim(0, 400)\n",
    "ax_inset.set_yticks([0, 400])\n",
    "\n",
    "ax_inset.tick_params(axis='both', which='major', labelsize=8)\n",
    "fig"
   ]
  },
  {
   "cell_type": "markdown",
   "metadata": {},
   "source": [
    "### Calculate Ultimate tensile strength"
   ]
  },
  {
   "cell_type": "markdown",
   "metadata": {},
   "source": [
    "*Ultimate tensile strength* can be calculated by taking the maximum value of the `df.Stress` column. \n",
    "\n",
    "Calculate and store the tensile strength in SI units and MPa (the latter will be used later)."
   ]
  },
  {
   "cell_type": "code",
   "execution_count": 8,
   "metadata": {
    "execution": {
     "iopub.execute_input": "2022-05-10T22:49:59.523259Z",
     "iopub.status.busy": "2022-05-10T22:49:59.523259Z",
     "iopub.status.idle": "2022-05-10T22:49:59.533260Z",
     "shell.execute_reply": "2022-05-10T22:49:59.533260Z"
    }
   },
   "outputs": [
    {
     "name": "stdout",
     "output_type": "stream",
     "text": [
      "Ultimate tensile strength: 581.13 MPa\n"
     ]
    }
   ],
   "source": [
    "tens_strength = df.Stress.max()\n",
    "tens_strength_MPa = tens_strength / 1e6\n",
    "print(f'Ultimate tensile strength: {tens_strength_MPa:.2f} MPa')"
   ]
  },
  {
   "cell_type": "markdown",
   "metadata": {},
   "source": [
    "Add a marker and annotation on the stress-strain plot above, showing the location and value of the *Ultimate tensile\n",
    "strength*."
   ]
  },
  {
   "cell_type": "code",
   "execution_count": 9,
   "metadata": {
    "execution": {
     "iopub.execute_input": "2022-05-10T22:49:59.533260Z",
     "iopub.status.busy": "2022-05-10T22:49:59.533260Z",
     "iopub.status.idle": "2022-05-10T22:49:59.643259Z",
     "shell.execute_reply": "2022-05-10T22:49:59.643259Z"
    }
   },
   "outputs": [
    {
     "data": {
      "image/png": "[encoded data removed]",
      "text/plain": [
       "<Figure size 432x288 with 2 Axes>"
      ]
     },
     "execution_count": 9,
     "metadata": {},
     "output_type": "execute_result"
    }
   ],
   "source": [
    "strain_at_uts = df.Strain[df.Stress == tens_strength].iloc[0]\n",
    "ax.scatter(x=[strain_at_uts], y=[tens_strength_MPa], color='black', marker='x', alpha=0.75, s=50, zorder=1)\n",
    "ax.annotate(rf'$\\sigma_{{ts}}$: {tens_strength_MPa:.2f} MPa',\n",
    "            xy=(strain_at_uts, tens_strength_MPa),\n",
    "            xytext=(0,-14),\n",
    "            textcoords='offset points',\n",
    "            fontsize=8)\n",
    "fig"
   ]
  },
  {
   "cell_type": "markdown",
   "metadata": {},
   "source": [
    "### Calculate Young's modulus"
   ]
  },
  {
   "cell_type": "markdown",
   "metadata": {},
   "source": [
    "Calculate *Young's modulus* by taking the gradient of the Stress-Strain curve between 5% and 25% of the total tensile strength (chordal fit method). There is no interpolation, because the Stress-Strain values closest to the 5% and 25% bounds are used."
   ]
  },
  {
   "cell_type": "code",
   "execution_count": 10,
   "metadata": {
    "execution": {
     "iopub.execute_input": "2022-05-10T22:49:59.643259Z",
     "iopub.status.busy": "2022-05-10T22:49:59.643259Z",
     "iopub.status.idle": "2022-05-10T22:49:59.653257Z",
     "shell.execute_reply": "2022-05-10T22:49:59.653257Z"
    }
   },
   "outputs": [
    {
     "name": "stdout",
     "output_type": "stream",
     "text": [
      "Young's modulus (5%-25% tensile strength): 204.65 GPa\n"
     ]
    }
   ],
   "source": [
    "LOWER_FRACTION = 0.05\n",
    "UPPER_FRACTION = 0.25\n",
    "\n",
    "def get_stress_strain_at_fraction_of_tensile_strength(fraction):\n",
    "    stress_bound = tens_strength * fraction\n",
    "    stress_difference = df.Stress - stress_bound\n",
    "    nearest_row_number = stress_difference.abs().argsort()[0]\n",
    "    nearest_row = df.iloc[nearest_row_number]\n",
    "    return nearest_row.Strain, nearest_row.Stress\n",
    "    \n",
    "lower_strain, lower_stress = get_stress_strain_at_fraction_of_tensile_strength(LOWER_FRACTION)\n",
    "upper_strain, upper_stress = get_stress_strain_at_fraction_of_tensile_strength(UPPER_FRACTION)\n",
    "\n",
    "youngs_modulus = (upper_stress - lower_stress) / (upper_strain - lower_strain)\n",
    "print(f\"Young's modulus ({LOWER_FRACTION:.0%}-{UPPER_FRACTION:.0%} tensile strength): {youngs_modulus / 1e9:.2f} GPa\")"
   ]
  },
  {
   "cell_type": "markdown",
   "metadata": {},
   "source": [
    "Add the chordal fit to the inset plot."
   ]
  },
  {
   "cell_type": "code",
   "execution_count": 11,
   "metadata": {
    "execution": {
     "iopub.execute_input": "2022-05-10T22:49:59.653257Z",
     "iopub.status.busy": "2022-05-10T22:49:59.653257Z",
     "iopub.status.idle": "2022-05-10T22:49:59.763259Z",
     "shell.execute_reply": "2022-05-10T22:49:59.763259Z"
    }
   },
   "outputs": [
    {
     "data": {
      "image/png": "[encoded data removed]",
      "text/plain": [
       "<Figure size 432x288 with 2 Axes>"
      ]
     },
     "execution_count": 11,
     "metadata": {},
     "output_type": "execute_result"
    }
   ],
   "source": [
    "stress_linear_fit = df.Strain * youngs_modulus\n",
    "ax_inset.plot(df.Strain, stress_linear_fit / 1e6, 'r--', label=\"Young's modulus\", zorder=-1)\n",
    "\n",
    "fig"
   ]
  },
  {
   "cell_type": "markdown",
   "metadata": {},
   "source": [
    "### Calculate 0.2% offset yield stress"
   ]
  },
  {
   "cell_type": "markdown",
   "metadata": {},
   "source": [
    "The offset yield stress is determined by calculating the intercept between the chordal fit line and the stress response.\n",
    "\n",
    "First add the offset chordal fit line to the plot, to show where the yield stress lies."
   ]
  },
  {
   "cell_type": "code",
   "execution_count": 12,
   "metadata": {
    "execution": {
     "iopub.execute_input": "2022-05-10T22:49:59.763259Z",
     "iopub.status.busy": "2022-05-10T22:49:59.763259Z",
     "iopub.status.idle": "2022-05-10T22:49:59.883258Z",
     "shell.execute_reply": "2022-05-10T22:49:59.883258Z"
    }
   },
   "outputs": [
    {
     "data": {
      "image/png": "[encoded data removed]",
      "text/plain": [
       "<Figure size 432x288 with 2 Axes>"
      ]
     },
     "execution_count": 12,
     "metadata": {},
     "output_type": "execute_result"
    }
   ],
   "source": [
    "STRAIN_OFFSET = 0.002\n",
    "\n",
    "strain_offset = df.Strain + STRAIN_OFFSET\n",
    "ax_inset.plot(strain_offset, stress_linear_fit / 1e6, 'k:', label=f'0.2% offset', zorder=-1)\n",
    "\n",
    "handles, labels = ax_inset.get_legend_handles_labels()\n",
    "legend_position = (0.575, 0.85)\n",
    "ax.legend(handles, labels, bbox_to_anchor=legend_position, prop={'size': 8})\n",
    "fig"
   ]
  },
  {
   "cell_type": "markdown",
   "metadata": {},
   "source": [
    "Calculate the difference between the solid blue and dotted black lines, then find the values immediately before and after the intercept. Perform a linear interpolation to find the exact value of the yield stress."
   ]
  },
  {
   "cell_type": "code",
   "execution_count": 13,
   "metadata": {
    "execution": {
     "iopub.execute_input": "2022-05-10T22:49:59.883258Z",
     "iopub.status.busy": "2022-05-10T22:49:59.883258Z",
     "iopub.status.idle": "2022-05-10T22:49:59.893256Z",
     "shell.execute_reply": "2022-05-10T22:49:59.893256Z"
    }
   },
   "outputs": [
    {
     "name": "stdout",
     "output_type": "stream",
     "text": [
      "0.2% offset yield stress: 335555698.60 MPa\n"
     ]
    }
   ],
   "source": [
    "df['find_intercept'] = df.Stress - youngs_modulus * (df.Strain - STRAIN_OFFSET)\n",
    "first_row_index_above_intercept = \\\n",
    "    df.loc[df.find_intercept < 0].sort_values(by=['find_intercept'], ascending=False).index[0]\n",
    "y_1 = df.Stress.iloc[first_row_index_above_intercept]\n",
    "x_1 = df.find_intercept.iloc[first_row_index_above_intercept]\n",
    "\n",
    "last_row_index_below_intercept = \\\n",
    "    df.loc[df.find_intercept >= 0].sort_values(by=['find_intercept'], ascending=True).index[0]\n",
    "y_0 = df.Stress.iloc[last_row_index_below_intercept]\n",
    "x_0 = df.find_intercept.iloc[last_row_index_below_intercept]\n",
    "\n",
    "yield_stress = y_0 + (-x_0) * (y_1 - y_0) / (x_1 - x_0)\n",
    "strain_at_yield = yield_stress / youngs_modulus + STRAIN_OFFSET\n",
    "\n",
    "yield_stress_MPa = yield_stress / 1e6\n",
    "print(f'0.2% offset yield stress: {yield_stress:.2f} MPa')  "
   ]
  },
  {
   "cell_type": "markdown",
   "metadata": {},
   "source": [
    "Plot the *0.2% offset yield stress* on the Stress-Strain plot. This time, plot the marker on both the full and inset\n",
    "axes, and annotate the inset."
   ]
  },
  {
   "cell_type": "code",
   "execution_count": 14,
   "metadata": {
    "execution": {
     "iopub.execute_input": "2022-05-10T22:49:59.893256Z",
     "iopub.status.busy": "2022-05-10T22:49:59.893256Z",
     "iopub.status.idle": "2022-05-10T22:50:00.033259Z",
     "shell.execute_reply": "2022-05-10T22:50:00.033259Z"
    }
   },
   "outputs": [
    {
     "data": {
      "image/png": "[encoded data removed]",
      "text/plain": [
       "<Figure size 432x288 with 2 Axes>"
      ]
     },
     "execution_count": 14,
     "metadata": {},
     "output_type": "execute_result"
    }
   ],
   "source": [
    "ax.scatter(x=[strain_at_yield], y=[yield_stress_MPa], color='black', marker='1', alpha=0.75, s=50, zorder=1)\n",
    "ax_inset.scatter(x=[strain_at_yield], y=[yield_stress_MPa], color='black', marker='1', alpha=0.75, s=50, zorder=1)\n",
    "ax_inset.annotate(rf'$\\sigma_y$: {yield_stress_MPa:.2f} MPa',\n",
    "            xy=(strain_at_yield, yield_stress_MPa),\n",
    "            xytext=(-60,6),\n",
    "            textcoords='offset points',\n",
    "            fontsize=8)\n",
    "fig"
   ]
  },
  {
   "cell_type": "markdown",
   "metadata": {},
   "source": [
    "### Calculate Elongation at failure"
   ]
  },
  {
   "cell_type": "markdown",
   "metadata": {},
   "source": [
    "The data has been pre-processed before import, so the last point in the data series is the failure point."
   ]
  },
  {
   "cell_type": "code",
   "execution_count": 15,
   "metadata": {
    "execution": {
     "iopub.execute_input": "2022-05-10T22:50:00.033259Z",
     "iopub.status.busy": "2022-05-10T22:50:00.033259Z",
     "iopub.status.idle": "2022-05-10T22:50:00.043259Z",
     "shell.execute_reply": "2022-05-10T22:50:00.043259Z"
    }
   },
   "outputs": [
    {
     "name": "stdout",
     "output_type": "stream",
     "text": [
      "Elongation at failure: 22.27%\n"
     ]
    }
   ],
   "source": [
    "stress_at_break = df.Stress.iloc[-1]\n",
    "total_strain_at_break = df.Strain.iloc[-1]\n",
    "elastic_strain_at_break = stress_at_break / youngs_modulus\n",
    "elongation = total_strain_at_break - elastic_strain_at_break\n",
    "print(f'Elongation at failure: {elongation:.2%}')  "
   ]
  },
  {
   "cell_type": "markdown",
   "metadata": {},
   "source": [
    "Plot the *Elongation at failure* on the full-range axes, and add a line between the failure point and the\n",
    "elongation value. The legend updates to include all lines on both sets of axes."
   ]
  },
  {
   "cell_type": "code",
   "execution_count": 16,
   "metadata": {
    "execution": {
     "iopub.execute_input": "2022-05-10T22:50:00.043259Z",
     "iopub.status.busy": "2022-05-10T22:50:00.043259Z",
     "iopub.status.idle": "2022-05-10T22:50:00.203260Z",
     "shell.execute_reply": "2022-05-10T22:50:00.203260Z"
    }
   },
   "outputs": [
    {
     "data": {
      "image/png": "[encoded data removed]",
      "text/plain": [
       "<Figure size 432x288 with 2 Axes>"
      ]
     },
     "execution_count": 16,
     "metadata": {},
     "output_type": "execute_result"
    }
   ],
   "source": [
    "ax.plot([total_strain_at_break, elongation], [stress_at_break / 1e6, 0], \"y-.\", label='Elongation', zorder=-1)\n",
    "ax.scatter(x=[total_strain_at_break, elongation],\n",
    "           y=[stress_at_break / 1e6, 0],\n",
    "           color='black',\n",
    "           marker='2',\n",
    "           alpha=0.75,\n",
    "           s=50,\n",
    "           zorder=1)\n",
    "\n",
    "inset_handles, inset_labels = ax_inset.get_legend_handles_labels()\n",
    "ax_handles, ax_labels = ax.get_legend_handles_labels()\n",
    "handles = inset_handles + ax_handles\n",
    "labels = inset_labels + ax_labels\n",
    "ax.get_legend().remove()\n",
    "ax.legend(handles, labels, bbox_to_anchor=legend_position, prop={'size': 8})\n",
    "\n",
    "ax.annotate(rf'$\\epsilon_f$: {elongation:.3}',\n",
    "            xy=(elongation, 0),\n",
    "            xytext=(-40,5),\n",
    "            textcoords='offset points',\n",
    "            fontsize=8)\n",
    "fig"
   ]
  },
  {
   "cell_type": "markdown",
   "metadata": {},
   "source": [
    "### Calculate True Stress-Strain"
   ]
  },
  {
   "cell_type": "markdown",
   "metadata": {},
   "source": [
    "Since there is a 1:1 relationship between engineering and true stress-strain values, *True Stress-Strain* is added to the DataFrame as additional columns."
   ]
  },
  {
   "cell_type": "code",
   "execution_count": 17,
   "metadata": {
    "execution": {
     "iopub.execute_input": "2022-05-10T22:50:00.203260Z",
     "iopub.status.busy": "2022-05-10T22:50:00.203260Z",
     "iopub.status.idle": "2022-05-10T22:50:00.223262Z",
     "shell.execute_reply": "2022-05-10T22:50:00.223262Z"
    }
   },
   "outputs": [
    {
     "data": {
      "text/html": [
       "<div>\n",
       "<style scoped>\n",
       "    .dataframe tbody tr th:only-of-type {\n",
       "        vertical-align: middle;\n",
       "    }\n",
       "\n",
       "    .dataframe tbody tr th {\n",
       "        vertical-align: top;\n",
       "    }\n",
       "\n",
       "    .dataframe thead th {\n",
       "        text-align: right;\n",
       "    }\n",
       "</style>\n",
       "<table border=\"1\" class=\"dataframe\">\n",
       "  <thead>\n",
       "    <tr style=\"text-align: right;\">\n",
       "      <th></th>\n",
       "      <th>Displacement</th>\n",
       "      <th>Load</th>\n",
       "      <th>Strain</th>\n",
       "      <th>Stress</th>\n",
       "      <th>find_intercept</th>\n",
       "      <th>True_Strain</th>\n",
       "      <th>True_Stress</th>\n",
       "    </tr>\n",
       "  </thead>\n",
       "  <tbody>\n",
       "    <tr>\n",
       "      <th>0</th>\n",
       "      <td>0.000000</td>\n",
       "      <td>0.000</td>\n",
       "      <td>0.000000</td>\n",
       "      <td>0.000000e+00</td>\n",
       "      <td>4.093098e+08</td>\n",
       "      <td>0.000000</td>\n",
       "      <td>0.000000e+00</td>\n",
       "    </tr>\n",
       "    <tr>\n",
       "      <th>1</th>\n",
       "      <td>0.000005</td>\n",
       "      <td>273.392</td>\n",
       "      <td>0.000066</td>\n",
       "      <td>1.208322e+07</td>\n",
       "      <td>4.078764e+08</td>\n",
       "      <td>0.000066</td>\n",
       "      <td>1.208402e+07</td>\n",
       "    </tr>\n",
       "    <tr>\n",
       "      <th>2</th>\n",
       "      <td>0.000005</td>\n",
       "      <td>307.173</td>\n",
       "      <td>0.000066</td>\n",
       "      <td>1.357626e+07</td>\n",
       "      <td>4.093694e+08</td>\n",
       "      <td>0.000066</td>\n",
       "      <td>1.357715e+07</td>\n",
       "    </tr>\n",
       "    <tr>\n",
       "      <th>3</th>\n",
       "      <td>0.000006</td>\n",
       "      <td>331.741</td>\n",
       "      <td>0.000075</td>\n",
       "      <td>1.466210e+07</td>\n",
       "      <td>4.085924e+08</td>\n",
       "      <td>0.000075</td>\n",
       "      <td>1.466320e+07</td>\n",
       "    </tr>\n",
       "    <tr>\n",
       "      <th>4</th>\n",
       "      <td>0.000007</td>\n",
       "      <td>352.556</td>\n",
       "      <td>0.000084</td>\n",
       "      <td>1.558207e+07</td>\n",
       "      <td>4.076494e+08</td>\n",
       "      <td>0.000084</td>\n",
       "      <td>1.558338e+07</td>\n",
       "    </tr>\n",
       "  </tbody>\n",
       "</table>\n",
       "</div>"
      ],
      "text/plain": [
       "   Displacement     Load    Strain        Stress  find_intercept  True_Strain  \\\n",
       "0      0.000000    0.000  0.000000  0.000000e+00    4.093098e+08     0.000000   \n",
       "1      0.000005  273.392  0.000066  1.208322e+07    4.078764e+08     0.000066   \n",
       "2      0.000005  307.173  0.000066  1.357626e+07    4.093694e+08     0.000066   \n",
       "3      0.000006  331.741  0.000075  1.466210e+07    4.085924e+08     0.000075   \n",
       "4      0.000007  352.556  0.000084  1.558207e+07    4.076494e+08     0.000084   \n",
       "\n",
       "    True_Stress  \n",
       "0  0.000000e+00  \n",
       "1  1.208402e+07  \n",
       "2  1.357715e+07  \n",
       "3  1.466320e+07  \n",
       "4  1.558338e+07  "
      ]
     },
     "execution_count": 17,
     "metadata": {},
     "output_type": "execute_result"
    }
   ],
   "source": [
    "import numpy as np\n",
    "\n",
    "ts_position = df.Stress[df.Stress == tens_strength].index[0]\n",
    "\n",
    "# true strain = ln(1 + eng strain)\n",
    "df['True_Strain'] = np.log(1 + df.Strain[df.Strain.index <= ts_position])\n",
    "\n",
    "# true stress = eng stress * (1 + eng strain)\n",
    "df['True_Stress'] = df.Stress[df.Stress.index <= ts_position] * (1 + df.True_Strain)\n",
    "df.head()"
   ]
  },
  {
   "cell_type": "markdown",
   "metadata": {},
   "source": [
    "Create a new plot to compare Engineering and True Stress-Strain."
   ]
  },
  {
   "cell_type": "code",
   "execution_count": 18,
   "metadata": {
    "execution": {
     "iopub.execute_input": "2022-05-10T22:50:00.223262Z",
     "iopub.status.busy": "2022-05-10T22:50:00.223262Z",
     "iopub.status.idle": "2022-05-10T22:50:00.343259Z",
     "shell.execute_reply": "2022-05-10T22:50:00.343259Z"
    }
   },
   "outputs": [
    {
     "data": {
      "image/png": "[encoded data removed]",
      "text/plain": [
       "<Figure size 432x288 with 1 Axes>"
      ]
     },
     "metadata": {
      "needs_background": "light"
     },
     "output_type": "display_data"
    }
   ],
   "source": [
    "fig, ax = plt.subplots()\n",
    "ax.plot(df.Strain, df.Stress / 1e6, label='Engineering Stress', linestyle='--')\n",
    "ax.plot(df.True_Strain, df.True_Stress / 1e6, label='True Stress')\n",
    "ax.set_xlabel('$\\epsilon$')\n",
    "ax.set_ylabel('$\\sigma$ / MPa')\n",
    "ax.set_xlim(left=0)\n",
    "ax.set_ylim(bottom=0)\n",
    "ax.legend()\n",
    "_ = ax.set_title('Engineering and True Stress vs Strain')"
   ]
  },
  {
   "cell_type": "markdown",
   "metadata": {},
   "source": [
    "### Calculate True Stress-True Plastic Strain"
   ]
  },
  {
   "cell_type": "markdown",
   "metadata": {},
   "source": [
    "Create a new DataFrame to store the *True Stress-True Plastic Strain*, since the x axis is different to *Stress-Strain*."
   ]
  },
  {
   "cell_type": "code",
   "execution_count": 19,
   "metadata": {
    "execution": {
     "iopub.execute_input": "2022-05-10T22:50:00.343259Z",
     "iopub.status.busy": "2022-05-10T22:50:00.343259Z",
     "iopub.status.idle": "2022-05-10T22:50:00.363258Z",
     "shell.execute_reply": "2022-05-10T22:50:00.363258Z"
    }
   },
   "outputs": [
    {
     "data": {
      "text/html": [
       "<div>\n",
       "<style scoped>\n",
       "    .dataframe tbody tr th:only-of-type {\n",
       "        vertical-align: middle;\n",
       "    }\n",
       "\n",
       "    .dataframe tbody tr th {\n",
       "        vertical-align: top;\n",
       "    }\n",
       "\n",
       "    .dataframe thead th {\n",
       "        text-align: right;\n",
       "    }\n",
       "</style>\n",
       "<table border=\"1\" class=\"dataframe\">\n",
       "  <thead>\n",
       "    <tr style=\"text-align: right;\">\n",
       "      <th></th>\n",
       "      <th>Strain</th>\n",
       "      <th>Stress</th>\n",
       "    </tr>\n",
       "  </thead>\n",
       "  <tbody>\n",
       "    <tr>\n",
       "      <th>0</th>\n",
       "      <td>0.000000</td>\n",
       "      <td>3.355557e+08</td>\n",
       "    </tr>\n",
       "    <tr>\n",
       "      <th>1</th>\n",
       "      <td>0.000008</td>\n",
       "      <td>3.370594e+08</td>\n",
       "    </tr>\n",
       "    <tr>\n",
       "      <th>2</th>\n",
       "      <td>0.000029</td>\n",
       "      <td>3.374152e+08</td>\n",
       "    </tr>\n",
       "    <tr>\n",
       "      <th>3</th>\n",
       "      <td>0.000050</td>\n",
       "      <td>3.377409e+08</td>\n",
       "    </tr>\n",
       "    <tr>\n",
       "      <th>4</th>\n",
       "      <td>0.000067</td>\n",
       "      <td>3.380495e+08</td>\n",
       "    </tr>\n",
       "  </tbody>\n",
       "</table>\n",
       "</div>"
      ],
      "text/plain": [
       "     Strain        Stress\n",
       "0  0.000000  3.355557e+08\n",
       "1  0.000008  3.370594e+08\n",
       "2  0.000029  3.374152e+08\n",
       "3  0.000050  3.377409e+08\n",
       "4  0.000067  3.380495e+08"
      ]
     },
     "execution_count": 19,
     "metadata": {},
     "output_type": "execute_result"
    }
   ],
   "source": [
    "df_plastic = pd.DataFrame()\n",
    "plastic_strain = df.True_Strain - df.True_Stress / youngs_modulus - STRAIN_OFFSET\n",
    "df_plastic['Strain'] = plastic_strain[plastic_strain > 0]\n",
    "\n",
    "# Get only the stress values with a corresponding strain\n",
    "df_plastic['Stress'] = df.True_Stress.align(df_plastic.Strain, join='right')[0]\n",
    "\n",
    "# Manually add the first point Strain = 0, Stress = yield stress\n",
    "first_point = pd.DataFrame({'Strain': [0], 'Stress': [yield_stress]})\n",
    "df_plastic = pd.concat([first_point, df_plastic], ignore_index=True)\n",
    "df_plastic.head()"
   ]
  },
  {
   "cell_type": "markdown",
   "metadata": {},
   "source": [
    "Plot *True Stress-True Plastic Strain*. Force the x limit to be 0, but not the y limit (the curve starts at the *Yield stress*)."
   ]
  },
  {
   "cell_type": "code",
   "execution_count": 20,
   "metadata": {
    "execution": {
     "iopub.execute_input": "2022-05-10T22:50:00.363258Z",
     "iopub.status.busy": "2022-05-10T22:50:00.363258Z",
     "iopub.status.idle": "2022-05-10T22:50:00.463259Z",
     "shell.execute_reply": "2022-05-10T22:50:00.463259Z"
    }
   },
   "outputs": [
    {
     "data": {
      "image/png": "[encoded data removed]",
      "text/plain": [
       "<Figure size 432x288 with 1 Axes>"
      ]
     },
     "metadata": {
      "needs_background": "light"
     },
     "output_type": "display_data"
    }
   ],
   "source": [
    "df_plastic['Stress_MPa'] = df_plastic.Stress / 1e6\n",
    "\n",
    "fig, ax = plt.subplots()\n",
    "ax.plot(df_plastic.Strain, df_plastic.Stress_MPa, label='True Stress')\n",
    "ax.set_xlabel('$\\epsilon$')\n",
    "ax.set_ylabel('$\\sigma$ / MPa')\n",
    "ax.set_xlim(left=0)\n",
    "_ = ax.set_title('True Stress vs True Plastic Strain')"
   ]
  },
  {
   "cell_type": "markdown",
   "metadata": {},
   "source": [
    "## Import data and results into Granta MI"
   ]
  },
  {
   "cell_type": "markdown",
   "metadata": {},
   "source": [
    "Finally, import the raw data, processed data and results into a new Granta MI record. \n",
    "\n",
    "Connect to Granta MI and specify a database and table."
   ]
  },
  {
   "cell_type": "code",
   "execution_count": 21,
   "metadata": {
    "ExecuteTime": {
     "end_time": "2016-04-06T13:22:20.420000",
     "start_time": "2016-04-06T13:22:20.379000"
    },
    "execution": {
     "iopub.execute_input": "2022-05-10T22:50:00.463259Z",
     "iopub.status.busy": "2022-05-10T22:50:00.463259Z",
     "iopub.status.idle": "2022-05-10T22:50:06.725658Z",
     "shell.execute_reply": "2022-05-10T22:50:06.725658Z"
    }
   },
   "outputs": [],
   "source": [
    "from GRANTA_MIScriptingToolkit import granta as mpy\n",
    "session = mpy.connect('localhost', autologon=True)\n",
    "db = session.get_db('MI Training')\n",
    "tensile_test_table = db.get_table('Tensile Test Data')"
   ]
  },
  {
   "cell_type": "markdown",
   "metadata": {},
   "source": [
    "Create a new record to import the data into, using `datetime.now()` to ensure the record name is unique. \n",
    "\n",
    "At this stage, the record has only been created in the MI Scripting Toolkit. The changes will be pushed to Granta MI when `session.update()` is called at the end of the notebook."
   ]
  },
  {
   "cell_type": "code",
   "execution_count": 22,
   "metadata": {
    "execution": {
     "iopub.execute_input": "2022-05-10T22:50:06.725658Z",
     "iopub.status.busy": "2022-05-10T22:50:06.725658Z",
     "iopub.status.idle": "2022-05-10T22:50:14.014938Z",
     "shell.execute_reply": "2022-05-10T22:50:14.014938Z"
    }
   },
   "outputs": [],
   "source": [
    "from datetime import datetime\n",
    "\n",
    "now = datetime.now().strftime(\"%c\")\n",
    "record_name = 'Tensile analysis {}'.format(now)\n",
    "\n",
    "record = tensile_test_table.path_from(tensile_test_table, ['Data Analytics'], record_name)"
   ]
  },
  {
   "cell_type": "markdown",
   "metadata": {},
   "source": [
    "### Create and populate point attributes"
   ]
  },
  {
   "cell_type": "markdown",
   "metadata": {},
   "source": [
    "Define a function to write a dict of attribute name-value pairs to point attributes on the record. Each dict will\n",
    "contain values with a single unit."
   ]
  },
  {
   "cell_type": "code",
   "execution_count": 23,
   "metadata": {
    "execution": {
     "iopub.execute_input": "2022-05-10T22:50:14.024988Z",
     "iopub.status.busy": "2022-05-10T22:50:14.024988Z",
     "iopub.status.idle": "2022-05-10T22:50:14.035023Z",
     "shell.execute_reply": "2022-05-10T22:50:14.035023Z"
    }
   },
   "outputs": [],
   "source": [
    "def write_points(attrs, unit):\n",
    "    for name, value in attrs.items():\n",
    "        a = record.attributes[name]\n",
    "        a.points = [value]\n",
    "        a.unit = unit\n",
    "        record.set_attributes([a])"
   ]
  },
  {
   "cell_type": "markdown",
   "metadata": {},
   "source": [
    "Build the dicts of attribute name-value pairs and call the function above on each. (The strain values are dimensionless but\n",
    "will be imported as a percentage, so they are multiplied by 100 before import.)"
   ]
  },
  {
   "cell_type": "code",
   "execution_count": 24,
   "metadata": {
    "execution": {
     "iopub.execute_input": "2022-05-10T22:50:14.035023Z",
     "iopub.status.busy": "2022-05-10T22:50:14.035023Z",
     "iopub.status.idle": "2022-05-10T22:50:21.106359Z",
     "shell.execute_reply": "2022-05-10T22:50:21.106359Z"
    }
   },
   "outputs": [],
   "source": [
    "stress_attrs = {'Ultimate Tensile Strength': tens_strength,\n",
    "                \"Young's Modulus (11-axis)\": youngs_modulus,\n",
    "                '0.2% Offset Yield Stress': yield_stress}\n",
    "strain_attrs = {'Strain at Ultimate Tensile Strength': strain_at_uts * 100,\n",
    "                'Elongation': elongation * 100,\n",
    "                'Strain at Tensile Failure': total_strain_at_break * 100}\n",
    "length_attrs = {'Gauge Length': GAUGE_LENGTH,\n",
    "                'Gauge Width': GAUGE_WIDTH,\n",
    "                'Gauge Thickness': GAUGE_THICKNESS}\n",
    "area_attrs = {'Gauge Area': gauge_area}\n",
    "\n",
    "write_points(stress_attrs, 'Pa')\n",
    "write_points(strain_attrs, '%')\n",
    "write_points(length_attrs, 'm')\n",
    "write_points(area_attrs, 'm^2')"
   ]
  },
  {
   "cell_type": "markdown",
   "metadata": {},
   "source": [
    "### Create and populate text attributes"
   ]
  },
  {
   "cell_type": "markdown",
   "metadata": {},
   "source": [
    "Define a similar function for text attributes:"
   ]
  },
  {
   "cell_type": "code",
   "execution_count": 25,
   "metadata": {
    "execution": {
     "iopub.execute_input": "2022-05-10T22:50:21.106359Z",
     "iopub.status.busy": "2022-05-10T22:50:21.106359Z",
     "iopub.status.idle": "2022-05-10T22:50:21.116360Z",
     "shell.execute_reply": "2022-05-10T22:50:21.116360Z"
    }
   },
   "outputs": [],
   "source": [
    "def write_text(attrs):\n",
    "    for name, value in attrs.items():\n",
    "        a = record.attributes[name]\n",
    "        a.value = value\n",
    "        record.set_attributes([a])"
   ]
  },
  {
   "cell_type": "markdown",
   "metadata": {},
   "source": [
    "Define the dict of text attributes, and call the function above. We've defined the attribute values manually, but they could easily be read from the source file."
   ]
  },
  {
   "cell_type": "code",
   "execution_count": 26,
   "metadata": {
    "execution": {
     "iopub.execute_input": "2022-05-10T22:50:21.116360Z",
     "iopub.status.busy": "2022-05-10T22:50:21.116360Z",
     "iopub.status.idle": "2022-05-10T22:50:21.126359Z",
     "shell.execute_reply": "2022-05-10T22:50:21.126359Z"
    }
   },
   "outputs": [],
   "source": [
    "range_text = f'Linear fit between [{LOWER_FRACTION:.1%}:{UPPER_FRACTION:.1%}] of Tensile strength'\n",
    "text_attrs = {\"Young's Modulus Calculation\": 'Chord',\n",
    "              'Test Type': 'Tensile',\n",
    "              'Testing Standards': 'ASTM E8',\n",
    "              'Alloy': 'AMS 6520',\n",
    "              'Modulus Calculation Range': range_text}\n",
    "write_text(text_attrs)"
   ]
  },
  {
   "cell_type": "markdown",
   "metadata": {},
   "source": [
    "### Create and populate functional attributes"
   ]
  },
  {
   "cell_type": "markdown",
   "metadata": {},
   "source": [
    "Finally, define a function to import functional attributes."
   ]
  },
  {
   "cell_type": "code",
   "execution_count": 27,
   "metadata": {
    "execution": {
     "iopub.execute_input": "2022-05-10T22:50:21.126359Z",
     "iopub.status.busy": "2022-05-10T22:50:21.126359Z",
     "iopub.status.idle": "2022-05-10T22:50:21.136360Z",
     "shell.execute_reply": "2022-05-10T22:50:21.136360Z"
    }
   },
   "outputs": [],
   "source": [
    "def write_functional(attr_name, y_unit, x_unit, x_name, y_values, x_values):\n",
    "    a = record.attributes[attr_name]\n",
    "    a.unit = y_unit\n",
    "    a.parameters[x_name].unit = x_unit\n",
    "    a.xaxis[x_name] = True\n",
    "    for x, y in zip(x_values, y_values):\n",
    "        a.add_point({'y': y, x_name: x})\n",
    "    record.set_attributes([a])"
   ]
  },
  {
   "cell_type": "markdown",
   "metadata": {},
   "source": [
    "Call the function for each curve generated in this script."
   ]
  },
  {
   "cell_type": "code",
   "execution_count": 28,
   "metadata": {
    "execution": {
     "iopub.execute_input": "2022-05-10T22:50:21.136360Z",
     "iopub.status.busy": "2022-05-10T22:50:21.136360Z",
     "iopub.status.idle": "2022-05-10T22:50:21.326361Z",
     "shell.execute_reply": "2022-05-10T22:50:21.326361Z"
    }
   },
   "outputs": [],
   "source": [
    "write_functional(attr_name='Load vs Displacement',\n",
    "                y_unit='N',\n",
    "                x_unit='m',\n",
    "                x_name='Displacement',\n",
    "                y_values = df.Load,\n",
    "                x_values = df.Displacement)\n",
    "\n",
    "write_functional(attr_name='Tensile Response (11 axis)',\n",
    "                y_unit='Pa',\n",
    "                x_unit='strain',\n",
    "                x_name='Strain',\n",
    "                y_values = df.Stress,\n",
    "                x_values = df.Strain)\n",
    "\n",
    "write_functional(attr_name='True Stress vs True Plastic Strain',\n",
    "                y_unit='Pa',\n",
    "                x_unit='strain',\n",
    "                x_name='Strain',\n",
    "                y_values = df_plastic.Stress,\n",
    "                x_values = df_plastic.Strain)"
   ]
  },
  {
   "cell_type": "markdown",
   "metadata": {},
   "source": [
    "### Write your changes to Granta MI"
   ]
  },
  {
   "cell_type": "code",
   "execution_count": 29,
   "metadata": {
    "execution": {
     "iopub.execute_input": "2022-05-10T22:50:21.326361Z",
     "iopub.status.busy": "2022-05-10T22:50:21.326361Z",
     "iopub.status.idle": "2022-05-10T22:50:24.621545Z",
     "shell.execute_reply": "2022-05-10T22:50:24.621545Z"
    },
    "tags": []
   },
   "outputs": [
    {
     "data": {
      "text/plain": [
       "[<Record long name:Tensile analysis Tue May 10 23:50:06 2022>]"
      ]
     },
     "execution_count": 29,
     "metadata": {},
     "output_type": "execute_result"
    }
   ],
   "source": [
    "session.update([record])"
   ]
  }
 ],
 "metadata": {
  "kernelspec": {
   "display_name": "Python 3",
   "language": "python",
   "name": "python3"
  },
  "language_info": {
   "codemirror_mode": {
    "name": "ipython",
    "version": 3
   },
   "file_extension": ".py",
   "mimetype": "text/x-python",
   "name": "python",
   "nbconvert_exporter": "python",
   "pygments_lexer": "ipython3",
   "version": "3.8.10"
  },
  "latex_envs": {
   "bibliofile": "biblio.bib",
   "cite_by": "apalike",
   "current_citInitial": 1,
   "eqLabelWithNumbers": true,
   "eqNumInitial": 0
  }
 },
 "nbformat": 4,
 "nbformat_minor": 4
}
