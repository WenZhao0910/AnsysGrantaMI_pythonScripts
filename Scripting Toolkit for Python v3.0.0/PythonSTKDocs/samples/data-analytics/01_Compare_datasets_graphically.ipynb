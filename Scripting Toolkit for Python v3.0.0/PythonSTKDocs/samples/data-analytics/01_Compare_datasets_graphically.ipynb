{
 "cells": [
  {
   "cell_type": "markdown",
   "id": "3b4c7cf4",
   "metadata": {},
   "source": [
    "# Compare datasets graphically\n",
    "\n",
    "Export AM build information and tensile test results from different tables in the *MI Training* database, process the data using a `pandas` DataFrame, and plot summaries of the data using `matplotlib` and `seaborn`."
   ]
  },
  {
   "cell_type": "markdown",
   "id": "b49bd9a7",
   "metadata": {},
   "source": [
    "## Get data from Granta MI"
   ]
  },
  {
   "cell_type": "markdown",
   "id": "0c91be49",
   "metadata": {},
   "source": [
    "Connect to MI and specify a database."
   ]
  },
  {
   "cell_type": "code",
   "execution_count": 1,
   "id": "98cd0b42",
   "metadata": {
    "execution": {
     "iopub.execute_input": "2022-05-10T22:43:06.857338Z",
     "iopub.status.busy": "2022-05-10T22:43:06.857338Z",
     "iopub.status.idle": "2022-05-10T22:43:07.817292Z",
     "shell.execute_reply": "2022-05-10T22:43:07.817292Z"
    },
    "tags": []
   },
   "outputs": [],
   "source": [
    "from GRANTA_MIScriptingToolkit import granta as mi\n",
    "\n",
    "session = mi.Session('localhost', autologon=True)\n",
    "training_db = session.get_db('MI Training')\n",
    "training_db.set_unit_system('Metric')"
   ]
  },
  {
   "cell_type": "markdown",
   "id": "83e6c9a4",
   "metadata": {},
   "source": [
    "Specify the records and attributes you want to export from the first table. \n",
    "\n",
    "For this example, we need *Build ID* and *Travel Speed* for all records in the *AM Builds* table."
   ]
  },
  {
   "cell_type": "code",
   "execution_count": 2,
   "id": "9435b295",
   "metadata": {
    "execution": {
     "iopub.execute_input": "2022-05-10T22:43:07.817292Z",
     "iopub.status.busy": "2022-05-10T22:43:07.817292Z",
     "iopub.status.idle": "2022-05-10T22:43:09.687950Z",
     "shell.execute_reply": "2022-05-10T22:43:09.687950Z"
    },
    "tags": []
   },
   "outputs": [],
   "source": [
    "am_builds = training_db.get_table('AM Builds')\n",
    "build_records = am_builds.all_records()\n",
    "build_attributes = ['Build ID', 'Travel Speed']\n",
    "am_builds.bulk_fetch(build_records, attributes=build_attributes)"
   ]
  },
  {
   "cell_type": "markdown",
   "id": "17aaf58a",
   "metadata": {},
   "source": [
    "Specify the records you want to export from the second table. Here, a link group is used to export only records linked to records in the first table. \n",
    "\n",
    "Alternatively, you can specify a table with no link groups to the original table, as long as you can join the two datasets later on. For example, we could search for all records created after a certain date, or tested on a certain machine."
   ]
  },
  {
   "cell_type": "code",
   "execution_count": 3,
   "id": "2e424014",
   "metadata": {
    "execution": {
     "iopub.execute_input": "2022-05-10T22:43:09.687950Z",
     "iopub.status.busy": "2022-05-10T22:43:09.687950Z",
     "iopub.status.idle": "2022-05-10T22:43:15.029942Z",
     "shell.execute_reply": "2022-05-10T22:43:15.029942Z"
    }
   },
   "outputs": [],
   "source": [
    "link_group = 'Tensile tests from this build'\n",
    "\n",
    "# Use a set comprehension to ensure we only select each record once\n",
    "tensile_test_records = {tr for br in build_records for tr in br.links[link_group]}\n",
    "tensile_test_records = list(tensile_test_records)"
   ]
  },
  {
   "cell_type": "markdown",
   "id": "47fc9a11",
   "metadata": {},
   "source": [
    "Specify the attributes you want to export from the second table. *Build ID* will be used to relate the tensile tests to the appropriate build data."
   ]
  },
  {
   "cell_type": "code",
   "execution_count": 4,
   "id": "8688d70f",
   "metadata": {
    "execution": {
     "iopub.execute_input": "2022-05-10T22:43:15.029942Z",
     "iopub.status.busy": "2022-05-10T22:43:15.029942Z",
     "iopub.status.idle": "2022-05-10T22:43:22.290194Z",
     "shell.execute_reply": "2022-05-10T22:43:22.290194Z"
    }
   },
   "outputs": [],
   "source": [
    "tensile_test_data = training_db.get_table('Tensile Test Data')\n",
    "tensile_attributes = ['Build ID', 'Specimen ID', '0.2% Offset Yield Stress', 'Ultimate Tensile Strength', 'Specimen Orientation']\n",
    "tensile_test_data.bulk_fetch(tensile_test_records, attributes=tensile_attributes)"
   ]
  },
  {
   "cell_type": "markdown",
   "id": "13efeb5a",
   "metadata": {},
   "source": [
    "## Use DataFrames to pre-process and append data"
   ]
  },
  {
   "cell_type": "markdown",
   "id": "7a418cc7",
   "metadata": {},
   "source": [
    "### Build a separate DataFrame for each table"
   ]
  },
  {
   "cell_type": "markdown",
   "id": "90d5fc86",
   "metadata": {},
   "source": [
    "Create a DataFrame for each Granta MI table. The DataFrames are built from two separate lists of dictionaries:"
   ]
  },
  {
   "cell_type": "code",
   "execution_count": 5,
   "id": "a4edc964",
   "metadata": {
    "execution": {
     "iopub.execute_input": "2022-05-10T22:43:22.290194Z",
     "iopub.status.busy": "2022-05-10T22:43:22.290194Z",
     "iopub.status.idle": "2022-05-10T22:43:22.300194Z",
     "shell.execute_reply": "2022-05-10T22:43:22.300194Z"
    }
   },
   "outputs": [],
   "source": [
    "def get_attr_vals(attributes, r):\n",
    "    return {mi_attr: r.attributes[mi_attr].value for mi_attr in attributes}\n",
    "\n",
    "build_data = [get_attr_vals(build_attributes, r) for r in build_records]\n",
    "tensile_data = [get_attr_vals(tensile_attributes, r) for r in tensile_test_records]"
   ]
  },
  {
   "cell_type": "markdown",
   "id": "2f8ef706",
   "metadata": {},
   "source": [
    "Create a DataFrame `build_df` that contains the build records. Set the DataFrame index to be the *Build ID* attribute\n",
    "value."
   ]
  },
  {
   "cell_type": "code",
   "execution_count": 6,
   "id": "475d7b7d",
   "metadata": {
    "execution": {
     "iopub.execute_input": "2022-05-10T22:43:22.300194Z",
     "iopub.status.busy": "2022-05-10T22:43:22.300194Z",
     "iopub.status.idle": "2022-05-10T22:43:22.630195Z",
     "shell.execute_reply": "2022-05-10T22:43:22.630195Z"
    }
   },
   "outputs": [
    {
     "data": {
      "text/html": [
       "<div>\n",
       "<style scoped>\n",
       "    .dataframe tbody tr th:only-of-type {\n",
       "        vertical-align: middle;\n",
       "    }\n",
       "\n",
       "    .dataframe tbody tr th {\n",
       "        vertical-align: top;\n",
       "    }\n",
       "\n",
       "    .dataframe thead th {\n",
       "        text-align: right;\n",
       "    }\n",
       "</style>\n",
       "<table border=\"1\" class=\"dataframe\">\n",
       "  <thead>\n",
       "    <tr style=\"text-align: right;\">\n",
       "      <th></th>\n",
       "      <th>Travel Speed</th>\n",
       "    </tr>\n",
       "    <tr>\n",
       "      <th>Build ID</th>\n",
       "      <th></th>\n",
       "    </tr>\n",
       "  </thead>\n",
       "  <tbody>\n",
       "    <tr>\n",
       "      <th>2013-04-15 CLAD-2321 01</th>\n",
       "      <td>0.0086</td>\n",
       "    </tr>\n",
       "    <tr>\n",
       "      <th>2013-04-16 CLAD-2321 02</th>\n",
       "      <td>0.0096</td>\n",
       "    </tr>\n",
       "    <tr>\n",
       "      <th>2013-04-17 CLAD-2321 03</th>\n",
       "      <td>0.0106</td>\n",
       "    </tr>\n",
       "    <tr>\n",
       "      <th>2013-04-17 CLAD-2321 04</th>\n",
       "      <td>0.0116</td>\n",
       "    </tr>\n",
       "    <tr>\n",
       "      <th>2013-04-17 CLAD-2321 05</th>\n",
       "      <td>0.0126</td>\n",
       "    </tr>\n",
       "  </tbody>\n",
       "</table>\n",
       "</div>"
      ],
      "text/plain": [
       "                         Travel Speed\n",
       "Build ID                             \n",
       "2013-04-15 CLAD-2321 01        0.0086\n",
       "2013-04-16 CLAD-2321 02        0.0096\n",
       "2013-04-17 CLAD-2321 03        0.0106\n",
       "2013-04-17 CLAD-2321 04        0.0116\n",
       "2013-04-17 CLAD-2321 05        0.0126"
      ]
     },
     "execution_count": 6,
     "metadata": {},
     "output_type": "execute_result"
    }
   ],
   "source": [
    "import pandas as pd\n",
    "\n",
    "build_df = pd.DataFrame(build_data).set_index('Build ID')\n",
    "build_df.head()"
   ]
  },
  {
   "cell_type": "markdown",
   "id": "6db27233",
   "metadata": {},
   "source": [
    "Create a second DataFrame, `tensile_df`, that contains the tensile test results. Again, set the index to be the\n",
    "*Build ID* attribute value."
   ]
  },
  {
   "cell_type": "code",
   "execution_count": 7,
   "id": "5873d60c",
   "metadata": {
    "execution": {
     "iopub.execute_input": "2022-05-10T22:43:22.630195Z",
     "iopub.status.busy": "2022-05-10T22:43:22.630195Z",
     "iopub.status.idle": "2022-05-10T22:43:22.650193Z",
     "shell.execute_reply": "2022-05-10T22:43:22.650193Z"
    }
   },
   "outputs": [
    {
     "data": {
      "text/html": [
       "<div>\n",
       "<style scoped>\n",
       "    .dataframe tbody tr th:only-of-type {\n",
       "        vertical-align: middle;\n",
       "    }\n",
       "\n",
       "    .dataframe tbody tr th {\n",
       "        vertical-align: top;\n",
       "    }\n",
       "\n",
       "    .dataframe thead th {\n",
       "        text-align: right;\n",
       "    }\n",
       "</style>\n",
       "<table border=\"1\" class=\"dataframe\">\n",
       "  <thead>\n",
       "    <tr style=\"text-align: right;\">\n",
       "      <th></th>\n",
       "      <th>Specimen ID</th>\n",
       "      <th>0.2% Offset Yield Stress</th>\n",
       "      <th>Ultimate Tensile Strength</th>\n",
       "      <th>Specimen Orientation</th>\n",
       "    </tr>\n",
       "    <tr>\n",
       "      <th>Build ID</th>\n",
       "      <th></th>\n",
       "      <th></th>\n",
       "      <th></th>\n",
       "      <th></th>\n",
       "    </tr>\n",
       "  </thead>\n",
       "  <tbody>\n",
       "    <tr>\n",
       "      <th>2013-04-17 CLAD-2321 03</th>\n",
       "      <td>L15L14AD 3T</td>\n",
       "      <td>115.11</td>\n",
       "      <td>149.900</td>\n",
       "      <td>L</td>\n",
       "    </tr>\n",
       "    <tr>\n",
       "      <th>2013-04-17 CLAD-2321 04</th>\n",
       "      <td>L16L14AA34T</td>\n",
       "      <td>127.70</td>\n",
       "      <td>136.420</td>\n",
       "      <td>LT</td>\n",
       "    </tr>\n",
       "    <tr>\n",
       "      <th>2013-04-15 CLAD-2321 01</th>\n",
       "      <td>L13L12AA7T</td>\n",
       "      <td>132.43</td>\n",
       "      <td>131.400</td>\n",
       "      <td>L</td>\n",
       "    </tr>\n",
       "    <tr>\n",
       "      <th>2013-04-17 CLAD-2321 04</th>\n",
       "      <td>L16L14AA22T</td>\n",
       "      <td>127.50</td>\n",
       "      <td>135.660</td>\n",
       "      <td>LT</td>\n",
       "    </tr>\n",
       "    <tr>\n",
       "      <th>2013-04-17 CLAD-2321 04</th>\n",
       "      <td>L16L14AA1T</td>\n",
       "      <td>133.10</td>\n",
       "      <td>141.835</td>\n",
       "      <td>L</td>\n",
       "    </tr>\n",
       "  </tbody>\n",
       "</table>\n",
       "</div>"
      ],
      "text/plain": [
       "                         Specimen ID  0.2% Offset Yield Stress  \\\n",
       "Build ID                                                         \n",
       "2013-04-17 CLAD-2321 03  L15L14AD 3T                    115.11   \n",
       "2013-04-17 CLAD-2321 04  L16L14AA34T                    127.70   \n",
       "2013-04-15 CLAD-2321 01   L13L12AA7T                    132.43   \n",
       "2013-04-17 CLAD-2321 04  L16L14AA22T                    127.50   \n",
       "2013-04-17 CLAD-2321 04   L16L14AA1T                    133.10   \n",
       "\n",
       "                         Ultimate Tensile Strength Specimen Orientation  \n",
       "Build ID                                                                 \n",
       "2013-04-17 CLAD-2321 03                    149.900                    L  \n",
       "2013-04-17 CLAD-2321 04                    136.420                   LT  \n",
       "2013-04-15 CLAD-2321 01                    131.400                    L  \n",
       "2013-04-17 CLAD-2321 04                    135.660                   LT  \n",
       "2013-04-17 CLAD-2321 04                    141.835                    L  "
      ]
     },
     "execution_count": 7,
     "metadata": {},
     "output_type": "execute_result"
    }
   ],
   "source": [
    "tensile_df = pd.DataFrame(tensile_data).set_index('Build ID')\n",
    "tensile_df.head()"
   ]
  },
  {
   "cell_type": "markdown",
   "id": "4f7272eb",
   "metadata": {},
   "source": [
    "### Join the dataframes"
   ]
  },
  {
   "cell_type": "markdown",
   "id": "9d72a5a0",
   "metadata": {},
   "source": [
    "Use the `dataframe.join()` method to create a DataFrame with both sets of data. The join type will default to left-join if not specified; this is fine in our example because the records were linked via a smart link in Granta MI, and so the set of indices is the same for both DataFrames."
   ]
  },
  {
   "cell_type": "code",
   "execution_count": 8,
   "id": "972bce86",
   "metadata": {
    "execution": {
     "iopub.execute_input": "2022-05-10T22:43:22.650193Z",
     "iopub.status.busy": "2022-05-10T22:43:22.650193Z",
     "iopub.status.idle": "2022-05-10T22:43:22.670195Z",
     "shell.execute_reply": "2022-05-10T22:43:22.670195Z"
    }
   },
   "outputs": [
    {
     "data": {
      "text/html": [
       "<div>\n",
       "<style scoped>\n",
       "    .dataframe tbody tr th:only-of-type {\n",
       "        vertical-align: middle;\n",
       "    }\n",
       "\n",
       "    .dataframe tbody tr th {\n",
       "        vertical-align: top;\n",
       "    }\n",
       "\n",
       "    .dataframe thead th {\n",
       "        text-align: right;\n",
       "    }\n",
       "</style>\n",
       "<table border=\"1\" class=\"dataframe\">\n",
       "  <thead>\n",
       "    <tr style=\"text-align: right;\">\n",
       "      <th></th>\n",
       "      <th>Travel Speed</th>\n",
       "      <th>Specimen ID</th>\n",
       "      <th>0.2% Offset Yield Stress</th>\n",
       "      <th>Ultimate Tensile Strength</th>\n",
       "      <th>Specimen Orientation</th>\n",
       "    </tr>\n",
       "    <tr>\n",
       "      <th>Build ID</th>\n",
       "      <th></th>\n",
       "      <th></th>\n",
       "      <th></th>\n",
       "      <th></th>\n",
       "      <th></th>\n",
       "    </tr>\n",
       "  </thead>\n",
       "  <tbody>\n",
       "    <tr>\n",
       "      <th>2013-04-15 CLAD-2321 01</th>\n",
       "      <td>0.0086</td>\n",
       "      <td>L13L12AA7T</td>\n",
       "      <td>132.430</td>\n",
       "      <td>131.40</td>\n",
       "      <td>L</td>\n",
       "    </tr>\n",
       "    <tr>\n",
       "      <th>2013-04-15 CLAD-2321 01</th>\n",
       "      <td>0.0086</td>\n",
       "      <td>L13L12AA11T</td>\n",
       "      <td>127.300</td>\n",
       "      <td>126.81</td>\n",
       "      <td>AT</td>\n",
       "    </tr>\n",
       "    <tr>\n",
       "      <th>2013-04-15 CLAD-2321 01</th>\n",
       "      <td>0.0086</td>\n",
       "      <td>L13L12AA13T</td>\n",
       "      <td>121.125</td>\n",
       "      <td>121.77</td>\n",
       "      <td>LT</td>\n",
       "    </tr>\n",
       "    <tr>\n",
       "      <th>2013-04-15 CLAD-2321 01</th>\n",
       "      <td>0.0086</td>\n",
       "      <td>L13L12AA17T</td>\n",
       "      <td>121.885</td>\n",
       "      <td>122.76</td>\n",
       "      <td>LT</td>\n",
       "    </tr>\n",
       "    <tr>\n",
       "      <th>2013-04-15 CLAD-2321 01</th>\n",
       "      <td>0.0086</td>\n",
       "      <td>L13L12AA9T</td>\n",
       "      <td>133.000</td>\n",
       "      <td>123.75</td>\n",
       "      <td>L</td>\n",
       "    </tr>\n",
       "  </tbody>\n",
       "</table>\n",
       "</div>"
      ],
      "text/plain": [
       "                         Travel Speed  Specimen ID  0.2% Offset Yield Stress  \\\n",
       "Build ID                                                                       \n",
       "2013-04-15 CLAD-2321 01        0.0086   L13L12AA7T                   132.430   \n",
       "2013-04-15 CLAD-2321 01        0.0086  L13L12AA11T                   127.300   \n",
       "2013-04-15 CLAD-2321 01        0.0086  L13L12AA13T                   121.125   \n",
       "2013-04-15 CLAD-2321 01        0.0086  L13L12AA17T                   121.885   \n",
       "2013-04-15 CLAD-2321 01        0.0086   L13L12AA9T                   133.000   \n",
       "\n",
       "                         Ultimate Tensile Strength Specimen Orientation  \n",
       "Build ID                                                                 \n",
       "2013-04-15 CLAD-2321 01                     131.40                    L  \n",
       "2013-04-15 CLAD-2321 01                     126.81                   AT  \n",
       "2013-04-15 CLAD-2321 01                     121.77                   LT  \n",
       "2013-04-15 CLAD-2321 01                     122.76                   LT  \n",
       "2013-04-15 CLAD-2321 01                     123.75                    L  "
      ]
     },
     "execution_count": 8,
     "metadata": {},
     "output_type": "execute_result"
    }
   ],
   "source": [
    "df = build_df.join(tensile_df)\n",
    "df.head()"
   ]
  },
  {
   "cell_type": "markdown",
   "id": "0a24f3d3",
   "metadata": {},
   "source": [
    "### Units"
   ]
  },
  {
   "cell_type": "markdown",
   "id": "3c2ec7ef",
   "metadata": {},
   "source": [
    "Finally, create a `units` dict so you can create plots with meaningful axis labels."
   ]
  },
  {
   "cell_type": "code",
   "execution_count": 9,
   "id": "f9cd2385",
   "metadata": {
    "execution": {
     "iopub.execute_input": "2022-05-10T22:43:22.670195Z",
     "iopub.status.busy": "2022-05-10T22:43:22.670195Z",
     "iopub.status.idle": "2022-05-10T22:43:22.680194Z",
     "shell.execute_reply": "2022-05-10T22:43:22.680194Z"
    },
    "tags": []
   },
   "outputs": [
    {
     "data": {
      "text/plain": [
       "{'Travel Speed': 'm/s',\n",
       " '0.2% Offset Yield Stress': 'MPa',\n",
       " 'Ultimate Tensile Strength': 'MPa'}"
      ]
     },
     "execution_count": 9,
     "metadata": {},
     "output_type": "execute_result"
    }
   ],
   "source": [
    "attr_defs = [am_builds.attributes[attr] for attr in build_attributes] + \\\n",
    "            [tensile_test_data.attributes[attr] for attr in tensile_attributes]\n",
    "units = {attr.name: attr.unit for attr in attr_defs if attr.unit}\n",
    "units"
   ]
  },
  {
   "cell_type": "markdown",
   "id": "d3a9a989",
   "metadata": {},
   "source": [
    "## Plot the data"
   ]
  },
  {
   "cell_type": "markdown",
   "id": "4a310fbc",
   "metadata": {},
   "source": [
    "This code snippet is optional, and is included to increase the size of all plots generated in this\n",
    "notebook."
   ]
  },
  {
   "cell_type": "code",
   "execution_count": 10,
   "id": "bcf0c840",
   "metadata": {
    "execution": {
     "iopub.execute_input": "2022-05-10T22:43:22.680194Z",
     "iopub.status.busy": "2022-05-10T22:43:22.680194Z",
     "iopub.status.idle": "2022-05-10T22:43:23.230194Z",
     "shell.execute_reply": "2022-05-10T22:43:23.230194Z"
    }
   },
   "outputs": [],
   "source": [
    "import matplotlib.pyplot as plt\n",
    "plt.rcParams['figure.dpi'] = 125"
   ]
  },
  {
   "cell_type": "markdown",
   "id": "6bea9433",
   "metadata": {},
   "source": [
    "### Investigate the relationship between two properties\n",
    "\n",
    "Create a scatter plot comparing *Ultimate Tensile Strength* of samples to the *Travel Speed* used during the build."
   ]
  },
  {
   "cell_type": "code",
   "execution_count": 11,
   "id": "239fc1dd",
   "metadata": {
    "execution": {
     "iopub.execute_input": "2022-05-10T22:43:23.230194Z",
     "iopub.status.busy": "2022-05-10T22:43:23.230194Z",
     "iopub.status.idle": "2022-05-10T22:43:24.010197Z",
     "shell.execute_reply": "2022-05-10T22:43:24.010197Z"
    }
   },
   "outputs": [
    {
     "data": {
      "image/png": "[encoded data removed]",
      "text/plain": [
       "<Figure size 432x288 with 1 Axes>"
      ]
     },
     "metadata": {
      "needs_background": "light"
     },
     "output_type": "display_data"
    }
   ],
   "source": [
    "import seaborn as sns\n",
    "\n",
    "travel_speed_unit = units['Travel Speed']\n",
    "ftu_unit = units[\"Ultimate Tensile Strength\"]\n",
    "travel_speed_label = rf'Travel Speed / ${travel_speed_unit}$'\n",
    "ftu_label = rf'$F_{{tu}}$ / ${ftu_unit}$'\n",
    "\n",
    "ax = sns.scatterplot(data=df, x=\"Travel Speed\", y=\"Ultimate Tensile Strength\", alpha=0.75, s=100)\n",
    "ax.set_xlabel(travel_speed_label)\n",
    "ax.set_ylabel(ftu_label)\n",
    "_ = ax.set_title('$F_{{tu}}$ vs Travel Speed')"
   ]
  },
  {
   "cell_type": "markdown",
   "id": "7e67e876",
   "metadata": {},
   "source": [
    "There is a clear dependence of the *Ultimate Tensile Strength* on the *Travel Speed*. It is also clear that *Travel Speed*\n",
    "is an independent variable, with the values chosen for each build falling into a set of well-defined bins. \n",
    "\n",
    "Instead of judging the distribution by eye, we can use box plots to describe the distribution of values."
   ]
  },
  {
   "cell_type": "code",
   "execution_count": 12,
   "id": "d282292e",
   "metadata": {
    "execution": {
     "iopub.execute_input": "2022-05-10T22:43:24.010197Z",
     "iopub.status.busy": "2022-05-10T22:43:24.010197Z",
     "iopub.status.idle": "2022-05-10T22:43:24.150263Z",
     "shell.execute_reply": "2022-05-10T22:43:24.150263Z"
    },
    "tags": []
   },
   "outputs": [
    {
     "data": {
      "image/png": "[encoded data removed]",
      "text/plain": [
       "<Figure size 432x288 with 1 Axes>"
      ]
     },
     "metadata": {
      "needs_background": "light"
     },
     "output_type": "display_data"
    }
   ],
   "source": [
    "ax = sns.boxplot(data=df, x=\"Travel Speed\", y=\"Ultimate Tensile Strength\")\n",
    "ax.set_xlabel(travel_speed_label)\n",
    "ax.set_ylabel(ftu_label)\n",
    "_ = ax.set_title('$F_{{tu}}$ vs Travel Speed (Box Plot)')"
   ]
  },
  {
   "cell_type": "markdown",
   "id": "66feefa4",
   "metadata": {},
   "source": [
    "For a more detailed view of the distribution, we can replace the box plots with violin plots."
   ]
  },
  {
   "cell_type": "code",
   "execution_count": 13,
   "id": "99fb57d4",
   "metadata": {
    "execution": {
     "iopub.execute_input": "2022-05-10T22:43:24.150263Z",
     "iopub.status.busy": "2022-05-10T22:43:24.150263Z",
     "iopub.status.idle": "2022-05-10T22:43:24.310263Z",
     "shell.execute_reply": "2022-05-10T22:43:24.310263Z"
    },
    "tags": []
   },
   "outputs": [
    {
     "data": {
      "image/png": "[encoded data removed]",
      "text/plain": [
       "<Figure size 432x288 with 1 Axes>"
      ]
     },
     "metadata": {
      "needs_background": "light"
     },
     "output_type": "display_data"
    }
   ],
   "source": [
    "ax = sns.violinplot(data=df, x=\"Travel Speed\", y=\"Ultimate Tensile Strength\")\n",
    "ax.set_xlabel(travel_speed_label)\n",
    "ax.set_ylabel(ftu_label)\n",
    "_ = ax.set_title('$F_{{tu}}$ vs Travel Speed (Violin Plot)')"
   ]
  },
  {
   "cell_type": "markdown",
   "id": "9a28b6f6",
   "metadata": {
    "tags": []
   },
   "source": [
    "### Investigate the impact of a third property"
   ]
  },
  {
   "cell_type": "markdown",
   "id": "213f7b9e",
   "metadata": {
    "tags": []
   },
   "source": [
    "The orientation of each specimen during the test was also exported, but not included on the plots above. \n",
    "\n",
    "The simplest way to visualize this data is to add it to the original scatter plot as a color axis."
   ]
  },
  {
   "cell_type": "code",
   "execution_count": 14,
   "id": "0593ffa2",
   "metadata": {
    "execution": {
     "iopub.execute_input": "2022-05-10T22:43:24.310263Z",
     "iopub.status.busy": "2022-05-10T22:43:24.310263Z",
     "iopub.status.idle": "2022-05-10T22:43:24.480263Z",
     "shell.execute_reply": "2022-05-10T22:43:24.480263Z"
    }
   },
   "outputs": [
    {
     "data": {
      "image/png": "[encoded data removed]",
      "text/plain": [
       "<Figure size 432x288 with 1 Axes>"
      ]
     },
     "metadata": {
      "needs_background": "light"
     },
     "output_type": "display_data"
    }
   ],
   "source": [
    "ax = sns.scatterplot(data=df,\n",
    "                     x=\"Travel Speed\",\n",
    "                     y=\"Ultimate Tensile Strength\",\n",
    "                     alpha=0.75,\n",
    "                     s=100,\n",
    "                     hue='Specimen Orientation',\n",
    "                     style='Specimen Orientation')\n",
    "ax.set_xlabel(travel_speed_label)\n",
    "ax.set_ylabel(ftu_label)\n",
    "_ = ax.set_title('$F_{{tu}}$ vs Travel Speed Grouped by Specimen Orientation')"
   ]
  },
  {
   "cell_type": "markdown",
   "id": "4e265c90",
   "metadata": {},
   "source": [
    "This scatter plot contains different markers for each orientation, but is difficult to interpret. Some difference in\n",
    "distribution is visible for each orientation, but it's difficult to discern any detail.\n",
    "\n",
    "A clearer representation would be to add the orientation to the violin plot above. This can be done with a 'split' violin plot, but only for two values of *Specimen Orientation*. We can remove the 'AT' results from the dataset, but first we want to check how many data points would be removed using the `DataFrame.value_counts()` method."
   ]
  },
  {
   "cell_type": "code",
   "execution_count": 15,
   "id": "61ab6311",
   "metadata": {
    "execution": {
     "iopub.execute_input": "2022-05-10T22:43:24.480263Z",
     "iopub.status.busy": "2022-05-10T22:43:24.480263Z",
     "iopub.status.idle": "2022-05-10T22:43:24.490264Z",
     "shell.execute_reply": "2022-05-10T22:43:24.490264Z"
    }
   },
   "outputs": [
    {
     "data": {
      "text/plain": [
       "L     34\n",
       "LT    32\n",
       "AT     7\n",
       "Name: Specimen Orientation, dtype: int64"
      ]
     },
     "execution_count": 15,
     "metadata": {},
     "output_type": "execute_result"
    }
   ],
   "source": [
    "df['Specimen Orientation'].value_counts()"
   ]
  },
  {
   "cell_type": "markdown",
   "id": "8c41054a",
   "metadata": {},
   "source": [
    "There are only 7 values for 'AT', which is less than 10% of the overall dataset. \n",
    "\n",
    "The code below creates a series of `True` or `False` values in `rows_to_keep` (set to `True` if the value is in the specified list). `rows_to_keep` is then passed as a selector into the DataFrame, which maps the list onto the DataFrame rows and returns a new DataFrame with only the `True` rows included."
   ]
  },
  {
   "cell_type": "code",
   "execution_count": 16,
   "id": "5c85f282",
   "metadata": {
    "execution": {
     "iopub.execute_input": "2022-05-10T22:43:24.490264Z",
     "iopub.status.busy": "2022-05-10T22:43:24.490264Z",
     "iopub.status.idle": "2022-05-10T22:43:24.500262Z",
     "shell.execute_reply": "2022-05-10T22:43:24.500262Z"
    }
   },
   "outputs": [
    {
     "data": {
      "text/html": [
       "<div>\n",
       "<style scoped>\n",
       "    .dataframe tbody tr th:only-of-type {\n",
       "        vertical-align: middle;\n",
       "    }\n",
       "\n",
       "    .dataframe tbody tr th {\n",
       "        vertical-align: top;\n",
       "    }\n",
       "\n",
       "    .dataframe thead th {\n",
       "        text-align: right;\n",
       "    }\n",
       "</style>\n",
       "<table border=\"1\" class=\"dataframe\">\n",
       "  <thead>\n",
       "    <tr style=\"text-align: right;\">\n",
       "      <th></th>\n",
       "      <th>Travel Speed</th>\n",
       "      <th>Specimen ID</th>\n",
       "      <th>0.2% Offset Yield Stress</th>\n",
       "      <th>Ultimate Tensile Strength</th>\n",
       "      <th>Specimen Orientation</th>\n",
       "    </tr>\n",
       "    <tr>\n",
       "      <th>Build ID</th>\n",
       "      <th></th>\n",
       "      <th></th>\n",
       "      <th></th>\n",
       "      <th></th>\n",
       "      <th></th>\n",
       "    </tr>\n",
       "  </thead>\n",
       "  <tbody>\n",
       "    <tr>\n",
       "      <th>2013-04-15 CLAD-2321 01</th>\n",
       "      <td>0.0086</td>\n",
       "      <td>L13L12AA7T</td>\n",
       "      <td>132.430</td>\n",
       "      <td>131.40</td>\n",
       "      <td>L</td>\n",
       "    </tr>\n",
       "    <tr>\n",
       "      <th>2013-04-15 CLAD-2321 01</th>\n",
       "      <td>0.0086</td>\n",
       "      <td>L13L12AA13T</td>\n",
       "      <td>121.125</td>\n",
       "      <td>121.77</td>\n",
       "      <td>LT</td>\n",
       "    </tr>\n",
       "    <tr>\n",
       "      <th>2013-04-15 CLAD-2321 01</th>\n",
       "      <td>0.0086</td>\n",
       "      <td>L13L12AA17T</td>\n",
       "      <td>121.885</td>\n",
       "      <td>122.76</td>\n",
       "      <td>LT</td>\n",
       "    </tr>\n",
       "    <tr>\n",
       "      <th>2013-04-15 CLAD-2321 01</th>\n",
       "      <td>0.0086</td>\n",
       "      <td>L13L12AA9T</td>\n",
       "      <td>133.000</td>\n",
       "      <td>123.75</td>\n",
       "      <td>L</td>\n",
       "    </tr>\n",
       "    <tr>\n",
       "      <th>2013-04-15 CLAD-2321 01</th>\n",
       "      <td>0.0086</td>\n",
       "      <td>L13L12AA3T</td>\n",
       "      <td>126.065</td>\n",
       "      <td>125.37</td>\n",
       "      <td>L</td>\n",
       "    </tr>\n",
       "  </tbody>\n",
       "</table>\n",
       "</div>"
      ],
      "text/plain": [
       "                         Travel Speed  Specimen ID  0.2% Offset Yield Stress  \\\n",
       "Build ID                                                                       \n",
       "2013-04-15 CLAD-2321 01        0.0086   L13L12AA7T                   132.430   \n",
       "2013-04-15 CLAD-2321 01        0.0086  L13L12AA13T                   121.125   \n",
       "2013-04-15 CLAD-2321 01        0.0086  L13L12AA17T                   121.885   \n",
       "2013-04-15 CLAD-2321 01        0.0086   L13L12AA9T                   133.000   \n",
       "2013-04-15 CLAD-2321 01        0.0086   L13L12AA3T                   126.065   \n",
       "\n",
       "                         Ultimate Tensile Strength Specimen Orientation  \n",
       "Build ID                                                                 \n",
       "2013-04-15 CLAD-2321 01                     131.40                    L  \n",
       "2013-04-15 CLAD-2321 01                     121.77                   LT  \n",
       "2013-04-15 CLAD-2321 01                     122.76                   LT  \n",
       "2013-04-15 CLAD-2321 01                     123.75                    L  \n",
       "2013-04-15 CLAD-2321 01                     125.37                    L  "
      ]
     },
     "execution_count": 16,
     "metadata": {},
     "output_type": "execute_result"
    }
   ],
   "source": [
    "rows_to_keep = df['Specimen Orientation'].map(lambda x: x in ['L', 'LT'])\n",
    "df_L_or_LT = df[rows_to_keep]\n",
    "df_L_or_LT.head()"
   ]
  },
  {
   "cell_type": "markdown",
   "id": "43dec8ff",
   "metadata": {},
   "source": [
    "Re-run `.value_counts()` from before to confirm the change was successful."
   ]
  },
  {
   "cell_type": "code",
   "execution_count": 17,
   "id": "62c44f9c",
   "metadata": {
    "execution": {
     "iopub.execute_input": "2022-05-10T22:43:24.500262Z",
     "iopub.status.busy": "2022-05-10T22:43:24.500262Z",
     "iopub.status.idle": "2022-05-10T22:43:24.510262Z",
     "shell.execute_reply": "2022-05-10T22:43:24.510262Z"
    }
   },
   "outputs": [
    {
     "data": {
      "text/plain": [
       "L     34\n",
       "LT    32\n",
       "Name: Specimen Orientation, dtype: int64"
      ]
     },
     "execution_count": 17,
     "metadata": {},
     "output_type": "execute_result"
    }
   ],
   "source": [
    "df_L_or_LT['Specimen Orientation'].value_counts()"
   ]
  },
  {
   "cell_type": "markdown",
   "id": "ba663345",
   "metadata": {},
   "source": [
    "Specify `split=True` in the `sns.violinplot` constructor to show the two distributions side-by-side. The dependence\n",
    "on *Specimen Orientation* is now much clearer."
   ]
  },
  {
   "cell_type": "code",
   "execution_count": 18,
   "id": "91bff858",
   "metadata": {
    "execution": {
     "iopub.execute_input": "2022-05-10T22:43:24.510262Z",
     "iopub.status.busy": "2022-05-10T22:43:24.510262Z",
     "iopub.status.idle": "2022-05-10T22:43:24.700264Z",
     "shell.execute_reply": "2022-05-10T22:43:24.700264Z"
    },
    "tags": []
   },
   "outputs": [
    {
     "data": {
      "image/png": "[encoded data removed]",
      "text/plain": [
       "<Figure size 432x288 with 1 Axes>"
      ]
     },
     "metadata": {
      "needs_background": "light"
     },
     "output_type": "display_data"
    }
   ],
   "source": [
    "ax = sns.violinplot(data=df_L_or_LT,\n",
    "                    x=\"Travel Speed\",\n",
    "                    y=\"Ultimate Tensile Strength\",\n",
    "                    hue=\"Specimen Orientation\",\n",
    "                    split=True,\n",
    "                    saturation=0.5)\n",
    "ax.set_xlabel(travel_speed_label)\n",
    "ax.set_ylabel(ftu_label)\n",
    "ax.legend(title='Specimen Orientation', loc='lower center')\n",
    "_ = ax.set_title('$F_{{tu}}$ vs Travel Speed and Specimen Orientation (Split Violin Plot)')"
   ]
  }
 ],
 "metadata": {
  "kernelspec": {
   "display_name": "Python 3",
   "language": "python",
   "name": "python3"
  },
  "language_info": {
   "codemirror_mode": {
    "name": "ipython",
    "version": 3
   },
   "file_extension": ".py",
   "mimetype": "text/x-python",
   "name": "python",
   "nbconvert_exporter": "python",
   "pygments_lexer": "ipython3",
   "version": "3.8.10"
  }
 },
 "nbformat": 4,
 "nbformat_minor": 5
}
