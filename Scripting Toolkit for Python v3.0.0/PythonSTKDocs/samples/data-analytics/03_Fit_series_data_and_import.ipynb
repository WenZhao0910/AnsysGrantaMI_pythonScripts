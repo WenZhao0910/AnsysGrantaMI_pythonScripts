{
 "cells": [
  {
   "cell_type": "markdown",
   "metadata": {},
   "source": [
    "# Fit series data and import fit results\n",
    "\n",
    "Analyze high-cycle fatigue test data and fit a fatigue model using SciPy, using an approach suitable for automation\n",
    "with either MI Data Flow or as a simple scheduled task (cron job)."
   ]
  },
  {
   "cell_type": "markdown",
   "metadata": {},
   "source": [
    "## Connect to Granta MI\n",
    "\n",
    "Specify a database and tables."
   ]
  },
  {
   "cell_type": "code",
   "execution_count": 1,
   "metadata": {
    "execution": {
     "iopub.execute_input": "2022-05-10T22:47:30.448277Z",
     "iopub.status.busy": "2022-05-10T22:47:30.448277Z",
     "iopub.status.idle": "2022-05-10T22:47:32.408288Z",
     "shell.execute_reply": "2022-05-10T22:47:32.408288Z"
    }
   },
   "outputs": [],
   "source": [
    "from GRANTA_MIScriptingToolkit import granta as mpy\n",
    "\n",
    "s = mpy.Session('localhost', autologon=True)\n",
    "database = s.get_db('MI Training')\n",
    "statistics_table = database.get_table('Fatigue Statistical Data')\n",
    "test_data_table = database.get_table('Fatigue Test Data')"
   ]
  },
  {
   "cell_type": "markdown",
   "metadata": {},
   "source": [
    "## Search for records with statistical data\n",
    "\n",
    "This script will perform a fatigue analysis on the first record whose *Statistical Analysis Status* is set to 'In Progress', but it can easily be generalised to operate on multiple statistical data records.\n",
    "\n",
    "First, perform a criteria search to find the target record."
   ]
  },
  {
   "cell_type": "code",
   "execution_count": 2,
   "metadata": {
    "execution": {
     "iopub.execute_input": "2022-05-10T22:47:32.408288Z",
     "iopub.status.busy": "2022-05-10T22:47:32.408288Z",
     "iopub.status.idle": "2022-05-10T22:47:33.288289Z",
     "shell.execute_reply": "2022-05-10T22:47:33.288289Z"
    }
   },
   "outputs": [
    {
     "name": "stdout",
     "output_type": "stream",
     "text": [
      "Found 1 corresponding HCF test results.\n",
      "Analyzing fatigue data for \"7075 T6, R=0, T=430F\".\n"
     ]
    }
   ],
   "source": [
    "criterion_type = statistics_table.attributes['Material type'].search_criterion(contains='Aluminum alloys')\n",
    "criterion_status = statistics_table.attributes['Statistical Analysis Status'].search_criterion(contains='In Progress')\n",
    "records = statistics_table.search_for_records_where([criterion_type, criterion_status])\n",
    "print('Found ' + str(len(records)) + ' corresponding HCF test results.')\n",
    "\n",
    "r = records[0]\n",
    "print('Analyzing fatigue data for \"' + str(r.name) + '\".')"
   ]
  },
  {
   "cell_type": "markdown",
   "metadata": {},
   "source": [
    "## Get the source data for the record\n",
    "\n",
    "Get the *R-Ratio* and *Test Temperature* values from the record, and fetch the corresponding test results. Then read the attribute values from the test result records into a `pandas` DataFrame for plotting and analysis."
   ]
  },
  {
   "cell_type": "code",
   "execution_count": 3,
   "metadata": {
    "execution": {
     "iopub.execute_input": "2022-05-10T22:47:33.298290Z",
     "iopub.status.busy": "2022-05-10T22:47:33.298290Z",
     "iopub.status.idle": "2022-05-10T22:48:06.261558Z",
     "shell.execute_reply": "2022-05-10T22:48:06.261558Z"
    }
   },
   "outputs": [
    {
     "name": "stdout",
     "output_type": "stream",
     "text": [
      "Found 66 corresponding HCF test results.\n"
     ]
    }
   ],
   "source": [
    "import pandas as pd\n",
    "import statistics\n",
    "\n",
    "r_ratio = statistics.mean(r.attributes['Target R-Ratio Range'].value.values())\n",
    "test_temperature = statistics.mean(r.attributes['Test Temperature Range'].value.values())\n",
    "material_id = r.attributes['Alloy'].value + '-' + r.attributes['Condition'].value + '/' + r.attributes['Form'].value\n",
    "\n",
    "criterion_r_ratio = test_data_table.attributes['Target r-ratio'].search_criterion(less_than=r_ratio,\n",
    "                                                                                  greater_than=r_ratio)\n",
    "criterion_temperature = test_data_table.attributes['Test temperature'].search_criterion(less_than=test_temperature,\n",
    "                                                                                        greater_than=test_temperature)\n",
    "criterion_material_id = test_data_table.attributes['Material ID'].search_criterion(contains=material_id)\n",
    "records = test_data_table.search_for_records_where([criterion_r_ratio, criterion_temperature, criterion_material_id])\n",
    "\n",
    "print(\"Found \" + str(len(records)) + \" corresponding HCF test results.\")\n",
    "\n",
    "t_results = [\"Cyclic life\", \"Maximum stress\", \"Fatigue failure\"]\n",
    "\n",
    "rs_dict = {\"ShortName\" : [r.short_name for r in records]}\n",
    "for attribute in t_results:\n",
    "    if test_data_table.attributes[attribute].type == 'POIN':\n",
    "        rs_dict[attribute] = [r.attributes[attribute].value for r in records]\n",
    "    if test_data_table.attributes[attribute].type == 'DISC':\n",
    "        rs_dict[attribute] = [r.attributes[attribute].value[0] for r in records]\n",
    "\n",
    "rs_df = pd.DataFrame(rs_dict)"
   ]
  },
  {
   "cell_type": "markdown",
   "metadata": {},
   "source": [
    "## Fit the data\n",
    "\n",
    "Fit the fatigue test data using the SciPy `curve_fit()` function, and create a new DataFrame for the fitted data and the lower bound."
   ]
  },
  {
   "cell_type": "code",
   "execution_count": 4,
   "metadata": {
    "execution": {
     "iopub.execute_input": "2022-05-10T22:48:06.261558Z",
     "iopub.status.busy": "2022-05-10T22:48:06.261558Z",
     "iopub.status.idle": "2022-05-10T22:48:06.471559Z",
     "shell.execute_reply": "2022-05-10T22:48:06.471559Z"
    }
   },
   "outputs": [
    {
     "data": {
      "text/html": [
       "<div>\n",
       "<style scoped>\n",
       "    .dataframe tbody tr th:only-of-type {\n",
       "        vertical-align: middle;\n",
       "    }\n",
       "\n",
       "    .dataframe tbody tr th {\n",
       "        vertical-align: top;\n",
       "    }\n",
       "\n",
       "    .dataframe thead th {\n",
       "        text-align: right;\n",
       "    }\n",
       "</style>\n",
       "<table border=\"1\" class=\"dataframe\">\n",
       "  <thead>\n",
       "    <tr style=\"text-align: right;\">\n",
       "      <th></th>\n",
       "      <th>Cyclic life</th>\n",
       "      <th>Type</th>\n",
       "      <th>Maximum stress</th>\n",
       "    </tr>\n",
       "  </thead>\n",
       "  <tbody>\n",
       "    <tr>\n",
       "      <th>0</th>\n",
       "      <td>5000.000000</td>\n",
       "      <td>Fitted Data</td>\n",
       "      <td>527.961774</td>\n",
       "    </tr>\n",
       "    <tr>\n",
       "      <th>1</th>\n",
       "      <td>5870.634799</td>\n",
       "      <td>Fitted Data</td>\n",
       "      <td>520.792044</td>\n",
       "    </tr>\n",
       "    <tr>\n",
       "      <th>2</th>\n",
       "      <td>6892.870589</td>\n",
       "      <td>Fitted Data</td>\n",
       "      <td>513.719678</td>\n",
       "    </tr>\n",
       "    <tr>\n",
       "      <th>3</th>\n",
       "      <td>8093.105189</td>\n",
       "      <td>Fitted Data</td>\n",
       "      <td>506.743355</td>\n",
       "    </tr>\n",
       "    <tr>\n",
       "      <th>4</th>\n",
       "      <td>9502.332991</td>\n",
       "      <td>Fitted Data</td>\n",
       "      <td>499.861771</td>\n",
       "    </tr>\n",
       "  </tbody>\n",
       "</table>\n",
       "</div>"
      ],
      "text/plain": [
       "   Cyclic life         Type  Maximum stress\n",
       "0  5000.000000  Fitted Data      527.961774\n",
       "1  5870.634799  Fitted Data      520.792044\n",
       "2  6892.870589  Fitted Data      513.719678\n",
       "3  8093.105189  Fitted Data      506.743355\n",
       "4  9502.332991  Fitted Data      499.861771"
      ]
     },
     "execution_count": 4,
     "metadata": {},
     "output_type": "execute_result"
    }
   ],
   "source": [
    "from scipy.optimize import curve_fit\n",
    "import numpy as np\n",
    "\n",
    "def fatigue_func(x, A1, A2):\n",
    "    return 10 **(A2 * np.log10(x) - A1)\n",
    "                   \n",
    "(A1, A2), pcov = curve_fit(fatigue_func, rs_df['Cyclic life'], rs_df['Maximum stress'],\n",
    "                           bounds=([-500.0, -500.0], [500.0, 500.0]))\n",
    "\n",
    "min_coefficient = 0.9\n",
    "x = np.geomspace(rs_df['Cyclic life'].min(), rs_df['Cyclic life'].max(), rs_df['Cyclic life'].count())\n",
    "fitted_series = 10 **(A2 * np.log10(x) - A1)\n",
    "\n",
    "fitted_df = pd.DataFrame(index=x,\n",
    "                         data=np.transpose([fitted_series, min_coefficient*fitted_series]),\n",
    "                         columns=['Fitted Data', 'Minimum']).reset_index().melt(id_vars=['index'])\\\n",
    "                    .rename(columns={'index': 'Cyclic life', 'value': 'Maximum stress', 'variable': 'Type'})\n",
    "\n",
    "fitted_df.head()"
   ]
  },
  {
   "cell_type": "markdown",
   "metadata": {},
   "source": [
    "## Plot the data\n",
    "\n",
    "Create a scatter plot of the source data (*Maximum stress* vs *Number of cycles*)."
   ]
  },
  {
   "cell_type": "code",
   "execution_count": 5,
   "metadata": {
    "execution": {
     "iopub.execute_input": "2022-05-10T22:48:06.471559Z",
     "iopub.status.busy": "2022-05-10T22:48:06.471559Z",
     "iopub.status.idle": "2022-05-10T22:48:07.351560Z",
     "shell.execute_reply": "2022-05-10T22:48:07.351560Z"
    }
   },
   "outputs": [
    {
     "data": {
      "image/png": "[encoded data removed]",
      "text/plain": [
       "<Figure size 432x288 with 1 Axes>"
      ]
     },
     "metadata": {
      "needs_background": "light"
     },
     "output_type": "display_data"
    }
   ],
   "source": [
    "import seaborn as sns\n",
    "from matplotlib import pyplot as plt\n",
    "\n",
    "plt.rcParams['figure.dpi'] = 125\n",
    "\n",
    "fig, ax = plt.subplots()\n",
    "ax = sns.scatterplot(data=rs_df, y='Maximum stress', x='Cyclic life', hue='Fatigue failure', ax=ax)\n",
    "\n",
    "plt.title(\"Fatigue data\")\n",
    "plt.xlabel(\"Number of cycles\")\n",
    "plt.ylabel(\"Max. stress / \" + test_data_table.attributes['Maximum stress'].unit)\n",
    "plt.show()"
   ]
  },
  {
   "cell_type": "markdown",
   "metadata": {},
   "source": [
    "Add the fitted curve and the minimum curve to the plot, and set the x-axis scale to logarithmic."
   ]
  },
  {
   "cell_type": "code",
   "execution_count": 6,
   "metadata": {
    "execution": {
     "iopub.execute_input": "2022-05-10T22:48:07.351560Z",
     "iopub.status.busy": "2022-05-10T22:48:07.351560Z",
     "iopub.status.idle": "2022-05-10T22:48:07.831618Z",
     "shell.execute_reply": "2022-05-10T22:48:07.831618Z"
    }
   },
   "outputs": [
    {
     "data": {
      "image/png": "[encoded data removed]",
      "text/plain": [
       "<Figure size 432x288 with 1 Axes>"
      ]
     },
     "execution_count": 6,
     "metadata": {},
     "output_type": "execute_result"
    }
   ],
   "source": [
    "sns.lineplot(data=fitted_df, x='Cyclic life', y='Maximum stress', hue='Type', ax=ax)\n",
    "ax.set(xscale='log')\n",
    "\n",
    "fig"
   ]
  },
  {
   "cell_type": "markdown",
   "metadata": {},
   "source": [
    "## Import the fitted data to Granta MI\n",
    "\n",
    "Replace the data in the original record's functional attribute *Maximum Stress v Cycles (Equivalent Stress)* with the fitted data. Use `Session.update()` to push the changes to Granta MI."
   ]
  },
  {
   "cell_type": "code",
   "execution_count": 7,
   "metadata": {
    "execution": {
     "iopub.execute_input": "2022-05-10T22:48:07.831618Z",
     "iopub.status.busy": "2022-05-10T22:48:07.831618Z",
     "iopub.status.idle": "2022-05-10T22:48:08.780317Z",
     "shell.execute_reply": "2022-05-10T22:48:08.780317Z"
    }
   },
   "outputs": [
    {
     "name": "stdout",
     "output_type": "stream",
     "text": [
      "Updated attributes in 7075 T6, R=0, T=430F.\n"
     ]
    }
   ],
   "source": [
    "fit = r.attributes['Maximum Stress v Cycles (Equivalent Stress)']\n",
    "fit.clear()\n",
    "fit.unit = test_data_table.attributes['Maximum stress'].unit\n",
    "\n",
    "for _, row in fitted_df.iterrows():\n",
    "    fit.add_point({'y': row['Maximum stress'],\n",
    "                   'Number of Cycles': row['Cyclic life'],\n",
    "                   'Data Type': row['Type'],\n",
    "                   'Stress Ratio': r_ratio})\n",
    "for _, row in rs_df.iterrows():\n",
    "    fit.add_point({'y': row['Maximum stress'],\n",
    "                   'Number of Cycles': row['Cyclic life'],\n",
    "                   'Data Type': 'Test Data',\n",
    "                   'Stress Ratio': r_ratio})\n",
    "\n",
    "fit.series_linestyles[3] = 'Markers'\n",
    "\n",
    "r.attributes[\"Equivalent Stress, A1\"].points = [A1]\n",
    "r.attributes[\"Equivalent Stress, A2\"].points = [A2]\n",
    "r.attributes[\"Statistical Analysis Status\"].value = [\"Complete\"]\n",
    "r.set_attributes([r.attributes[\"Equivalent Stress, A1\"], r.attributes[\"Equivalent Stress, A2\"],\n",
    "                  r.attributes[\"Statistical Analysis Status\"], fit])\n",
    "fit.value\n",
    "s.update([r])\n",
    "print('Updated attributes in ' + str(r.name) + '.')"
   ]
  },
  {
   "cell_type": "markdown",
   "metadata": {},
   "source": [
    "## Create traceability links\n",
    "\n",
    "Add a record link group, and use `Session.update_links()` to push the changes to Granta MI."
   ]
  },
  {
   "cell_type": "code",
   "execution_count": 8,
   "metadata": {
    "execution": {
     "iopub.execute_input": "2022-05-10T22:48:08.780317Z",
     "iopub.status.busy": "2022-05-10T22:48:08.780317Z",
     "iopub.status.idle": "2022-05-10T22:48:09.680001Z",
     "shell.execute_reply": "2022-05-10T22:48:09.680001Z"
    }
   },
   "outputs": [
    {
     "name": "stdout",
     "output_type": "stream",
     "text": [
      "Updated links in 7075 T6, R=0, T=430F.\n"
     ]
    }
   ],
   "source": [
    "rec_link_group = r.links['Fatigue Test Data']\n",
    "for rsi in records:\n",
    "    rec_link_group.add(rsi)\n",
    "r.set_links('Fatigue Test Data',rec_link_group)\n",
    "s.update_links([r])\n",
    "print('Updated links in ' + str(r.name) + '.')"
   ]
  },
  {
   "cell_type": "code",
   "execution_count": null,
   "metadata": {},
   "outputs": [],
   "source": []
  }
 ],
 "metadata": {
  "kernelspec": {
   "display_name": "Python 3",
   "language": "python",
   "name": "python3"
  },
  "language_info": {
   "codemirror_mode": {
    "name": "ipython",
    "version": 3
   },
   "file_extension": ".py",
   "mimetype": "text/x-python",
   "name": "python",
   "nbconvert_exporter": "python",
   "pygments_lexer": "ipython3",
   "version": "3.8.10"
  }
 },
 "nbformat": 4,
 "nbformat_minor": 4
}
