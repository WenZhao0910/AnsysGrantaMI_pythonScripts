{
 "cells": [
  {
   "cell_type": "markdown",
   "metadata": {},
   "source": [
    "# Calculate statistics for a set of records\n",
    "\n",
    "Summarise (roll up) test results into new statistical data records. \n",
    "\n",
    "In this example, the tests are stored in *Tensile Test Data* table and the statistical data is stored in *Tensile Statistical Data*. Since the sample data is arranged by specimen, the mean and other statistics will be stored by specimen in the new record.\n",
    "\n",
    "Statistical data is commonly stored using meta-attributes. Here, we store the mean of each property as the attribute value, and statistical results (*Minimum*, *Maximum*, *Median*, *Range* and *Standard Deviation*) as its meta-attributes whenever possible."
   ]
  },
  {
   "cell_type": "markdown",
   "metadata": {},
   "source": [
    "## Define a function which rolls up an attribute\n",
    "\n",
    "Create a function to calculate statistics for, and store the values on the meta-attributes of, a target attribute.\n",
    "\n",
    "The `rollup_point_attribute()` method below is a general example which will work whether meta-attributes are present or not, or if the number of samples is too small to provide meaningful statistics. It checks if each named meta-attribute exists, then sets existing meta-attributes and updates them by calling `Record.set_attributes()`.\n",
    "\n",
    "To simplify your own roll-up, you can:\n",
    "\n",
    "* Make sure there are meta-attributes for roll-up statistics on all relevant attributes when setting up a Granta MI schema.\n",
    "* Make sure all the target attributes in your script have the same meta-attributes.\n",
    "* Set up a workflow where all statistical data records are created new."
   ]
  },
  {
   "cell_type": "code",
   "execution_count": 1,
   "metadata": {
    "execution": {
     "iopub.execute_input": "2022-05-10T22:54:28.469192Z",
     "iopub.status.busy": "2022-05-10T22:54:28.469192Z",
     "iopub.status.idle": "2022-05-10T22:54:28.859179Z",
     "shell.execute_reply": "2022-05-10T22:54:28.859179Z"
    }
   },
   "outputs": [],
   "source": [
    "import statistics\n",
    "from typing import List\n",
    "from GRANTA_MIScriptingToolkit import granta as mpy\n",
    "\n",
    "def rollup_point_attribute(source_attributes: List[mpy.AttributeValue],\n",
    "                           target_attribute: mpy.AttributeValue, record: mpy.Record) -> None:\n",
    "    assert all([isinstance(attr.value, float) for attr in source_attributes]), \\\n",
    "        \"Multi-valued points are not supported by this script\"\n",
    "\n",
    "    values = [attr.value for attr in source_attributes if attr.value]\n",
    "\n",
    "    if len(values) == 0:\n",
    "        return\n",
    "\n",
    "    target_attribute.unit = source_attributes[0].unit\n",
    "    target_attribute.value = [statistics.mean(values)]\n",
    "    updated_meta_attributes = []\n",
    "\n",
    "    if 'Minimum' in target_attribute.meta_attributes:\n",
    "        target_attribute.meta_attributes['Minimum'].value = min(values)\n",
    "        target_attribute.meta_attributes['Minimum'].unit = target_attribute.unit\n",
    "        updated_meta_attributes.append('Minimum')\n",
    "\n",
    "    if 'Maximum' in target_attribute.meta_attributes:\n",
    "        target_attribute.meta_attributes['Maximum'].value = max(values)\n",
    "        target_attribute.meta_attributes['Maximum'].unit = target_attribute.unit\n",
    "        updated_meta_attributes.append('Maximum')\n",
    "\n",
    "    if 'Median' in target_attribute.meta_attributes:\n",
    "        target_attribute.meta_attributes['Median'].value = statistics.median(values)\n",
    "        target_attribute.meta_attributes['Median'].unit = target_attribute.unit\n",
    "        updated_meta_attributes.append('Median')\n",
    "\n",
    "    if 'Number of Samples' in target_attribute.meta_attributes:\n",
    "        target_attribute.meta_attributes['Number of Samples'].value = len(values)\n",
    "        updated_meta_attributes.append('Number of Samples')\n",
    "\n",
    "    if 'Range' in target_attribute.meta_attributes:\n",
    "        target_attribute.meta_attributes['Range'].value = max(values) - min(values)\n",
    "        target_attribute.meta_attributes['Range'].unit = target_attribute.unit\n",
    "        updated_meta_attributes.append('Range')\n",
    "\n",
    "    if len(values) > 2 and 'Standard Deviation' in target_attribute.meta_attributes:\n",
    "        target_attribute.meta_attributes['Standard Deviation'].value = statistics.stdev(values)\n",
    "        target_attribute.meta_attributes['Standard Deviation'].unit = target_attribute.unit\n",
    "        updated_meta_attributes.append('Standard Deviation')\n",
    "\n",
    "    record.set_attributes([target_attribute] + \n",
    "                          [target_attribute.meta_attributes[updated_meta] for updated_meta in updated_meta_attributes])"
   ]
  },
  {
   "cell_type": "markdown",
   "metadata": {},
   "source": [
    "## Define a function which copies attribute values\n",
    "\n",
    "Define a `copy_attribute()` function which copies an attribute value from the source records, for example a *Specimen ID* stored in a short-text attribute, or a test temperature. \n",
    "\n",
    "This example supports several attribute types, and could easily be extended to support others such as discrete or hyperlink."
   ]
  },
  {
   "cell_type": "code",
   "execution_count": 2,
   "metadata": {
    "execution": {
     "iopub.execute_input": "2022-05-10T22:54:28.859179Z",
     "iopub.status.busy": "2022-05-10T22:54:28.859179Z",
     "iopub.status.idle": "2022-05-10T22:54:28.869180Z",
     "shell.execute_reply": "2022-05-10T22:54:28.869180Z"
    }
   },
   "outputs": [],
   "source": [
    "def copy_attribute(source_attributes: List[mpy.AttributeValue],\n",
    "                   target_attribute: mpy.AttributeValue, record: mpy.Record) -> None:\n",
    "    if target_attribute.type == 'POIN':\n",
    "        assert all([isinstance(attr.value, float) for attr in source_attributes]), \\\n",
    "            \"Multi-valued points are not supported by this script\"\n",
    "        values = set([attr.value for attr in source_attributes if attr.value])\n",
    "        assert len(values) == 1, \"Values must be identical to copy, received '{0}'\".format(', '.join(values))\n",
    "        target_attribute.value = values.pop()\n",
    "    elif target_attribute.type == 'DISC':\n",
    "        values = set([val for attr in source_attributes for val in attr.value if attr.value])\n",
    "        assert len(values) == 1, \"Values must be identical to copy, received '{0}'\".format(', '.join(values))\n",
    "        target_attribute.value = [values.pop()]\n",
    "    else:\n",
    "        values = set([attr.value for attr in source_attributes if attr.value])\n",
    "        assert len(values) == 1, \"Values must be identical to copy, received '{0}'\".format(', '.join(values))\n",
    "        target_attribute.value = values.pop()\n",
    "    record.set_attributes([target_attribute])"
   ]
  },
  {
   "cell_type": "markdown",
   "metadata": {},
   "source": [
    "## Get test data from Granta MI\n",
    "\n",
    "Composite data in Granta MI is stored according to layup orientation and *Specimen ID*. The roll-up process retains\n",
    "the overall structure of the records, but creates a single new record for each specimen.\n",
    "\n",
    "Connect to Granta MI and fetch the folder corresponding to the composite *3M, S-Glass Unitape S2/SP381*:"
   ]
  },
  {
   "cell_type": "code",
   "execution_count": 3,
   "metadata": {
    "execution": {
     "iopub.execute_input": "2022-05-10T22:54:28.869180Z",
     "iopub.status.busy": "2022-05-10T22:54:28.869180Z",
     "iopub.status.idle": "2022-05-10T22:54:36.834299Z",
     "shell.execute_reply": "2022-05-10T22:54:36.834299Z"
    }
   },
   "outputs": [
    {
     "name": "stdout",
     "output_type": "stream",
     "text": [
      "<Record long name:3M, S-Glass Unitape S2/SP381>\n"
     ]
    }
   ],
   "source": [
    "s = mpy.Session('localhost', autologon=True)\n",
    "db = s.get_db('MI Training')\n",
    "test_table = db.get_table('Tensile Test Data')\n",
    "statistics_table = db.get_table('Tensile Statistical Data')\n",
    "\n",
    "material_record = test_table.search_for_records_by_name('3M, S-Glass Unitape S2/SP381')[0]\n",
    "print(material_record)"
   ]
  },
  {
   "cell_type": "markdown",
   "metadata": {},
   "source": [
    "To make processing easier, convert the structure of the data from\n",
    "\n",
    "    Material => Orientation => RTD => Specimen => Test result\n",
    "\n",
    "to a dictionary with each layer indexed by name (removing the redundant layers):\n",
    "\n",
    "    { Orientation name :\n",
    "        { Specimen name :\n",
    "            [ Test 1,\n",
    "              Test 2 ...\n",
    "            ]\n",
    "        }\n",
    "    }\n",
    "\n",
    "Although this structure is sufficient for this example, a network library or tree wrapper class might be better suited to dealing with advanced tree-traversal."
   ]
  },
  {
   "cell_type": "code",
   "execution_count": 4,
   "metadata": {
    "execution": {
     "iopub.execute_input": "2022-05-10T22:54:36.844296Z",
     "iopub.status.busy": "2022-05-10T22:54:36.844296Z",
     "iopub.status.idle": "2022-05-10T22:54:40.265998Z",
     "shell.execute_reply": "2022-05-10T22:54:40.265998Z"
    }
   },
   "outputs": [],
   "source": [
    "orientation_records = material_record.children\n",
    "test_records = {\n",
    "    orientation.name: {\n",
    "        specimen.name: specimen.children for specimen in\n",
    "        test_table.get_records_from_path(orientation, ['RTD'], use_short_names=True)}\n",
    "    for orientation in orientation_records\n",
    "}"
   ]
  },
  {
   "cell_type": "markdown",
   "metadata": {},
   "source": [
    "Define the attributes you want to calculate statistics for, and those you want to copy from the test records.\n",
    "\n",
    "To fetch large numbers of records or attributes efficiently, use the `table.bulk_fetch()` method (see [Example 19 - Streamlined API Performance Tuning](../streamlined/19_Streamlined_API_performance_tuning.ipynb))."
   ]
  },
  {
   "cell_type": "code",
   "execution_count": 5,
   "metadata": {
    "execution": {
     "iopub.execute_input": "2022-05-10T22:54:40.265998Z",
     "iopub.status.busy": "2022-05-10T22:54:40.265998Z",
     "iopub.status.idle": "2022-05-10T22:54:46.815399Z",
     "shell.execute_reply": "2022-05-10T22:54:46.815399Z"
    }
   },
   "outputs": [],
   "source": [
    "attributes_to_rollup = [\"Ultimate Tensile Strength\",\n",
    "                        \"Young's Modulus (11-axis)\"]\n",
    "attributes_to_copy = [\"Test Temperature\",\n",
    "                      \"Test Type\",\n",
    "                      \"Material designation\",\n",
    "                      \"Composite system type\",\n",
    "                      \"Specimen ID\",\n",
    "                      \"Test Environment\"]\n",
    "\n",
    "test_table.bulk_fetch([test\n",
    "                       for orientation in test_records.values()\n",
    "                       for specimen in orientation.values()\n",
    "                       for test in specimen],\n",
    "                       attributes_to_copy + attributes_to_rollup)"
   ]
  },
  {
   "cell_type": "markdown",
   "metadata": {},
   "source": [
    "Create box-plots for three of the specimens using the `seaborn` plotting libraries, first 'flattening' the data into a usable list of `numpy` arrays.\n",
    "\n",
    "Alternatively, you could convert the data into a `pandas` DataFrame at this point (useful if you needed to process the data further)."
   ]
  },
  {
   "cell_type": "code",
   "execution_count": 6,
   "metadata": {
    "execution": {
     "iopub.execute_input": "2022-05-10T22:54:46.815399Z",
     "iopub.status.busy": "2022-05-10T22:54:46.815399Z",
     "iopub.status.idle": "2022-05-10T22:54:48.125403Z",
     "shell.execute_reply": "2022-05-10T22:54:48.125403Z"
    }
   },
   "outputs": [
    {
     "data": {
      "image/png": "[encoded data removed]",
      "text/plain": [
       "<Figure size 432x288 with 1 Axes>"
      ]
     },
     "metadata": {
      "needs_background": "light"
     },
     "output_type": "display_data"
    }
   ],
   "source": [
    "import seaborn as sns\n",
    "import numpy as np\n",
    "import matplotlib.pyplot as plt\n",
    "\n",
    "plt.rcParams['figure.dpi'] = 125\n",
    "\n",
    "specimens_to_plot = ['LBJ42', 'LBJ53', 'LBJ62']\n",
    "specimen_data = {specimen_name: test_records['0° tension'][specimen_name] for specimen_name in specimens_to_plot}\n",
    "plot_data = [\n",
    "    np.array([test.attributes['Ultimate Tensile Strength'].value for test in specimen])\n",
    "    for specimen in specimen_data.values()\n",
    "]\n",
    "\n",
    "y_unit = test_table.attributes['Ultimate Tensile Strength'].unit\n",
    "\n",
    "sns.set(context='notebook', style='ticks')\n",
    "f, ax = plt.subplots()\n",
    "sns.boxplot(data=plot_data, width=0.6)\n",
    "sns.stripplot(data=plot_data, size=4, color=\".3\", linewidth=0)\n",
    "\n",
    "ax.set_xticklabels(specimens_to_plot)\n",
    "ax.set_ylabel('Ultimate Tensile Strength / {0}'.format(y_unit))\n",
    "ax.set_xlabel('Specimen')\n",
    "ax.set_title('Tensile Strength Distribution')\n",
    "ax.yaxis.grid(True)\n",
    "plt.show()"
   ]
  },
  {
   "cell_type": "markdown",
   "metadata": {},
   "source": [
    "Perform the roll-up by creating the new records and iterating through the attributes defined above, copying or rolling up as required. Here we've used the `table.path_from()` method to create a folder path and each new roll-up record.\n",
    "\n",
    "Finally, use `Session.update()` to write the new record to the server, then set and update links between the new statistical data record and the test records it summarises."
   ]
  },
  {
   "cell_type": "code",
   "execution_count": 7,
   "metadata": {
    "execution": {
     "iopub.execute_input": "2022-05-10T22:54:48.125403Z",
     "iopub.status.busy": "2022-05-10T22:54:48.125403Z",
     "iopub.status.idle": "2022-05-10T22:55:07.091249Z",
     "shell.execute_reply": "2022-05-10T22:55:07.091249Z"
    }
   },
   "outputs": [
    {
     "name": "stdout",
     "output_type": "stream",
     "text": [
      "Rollup completed for the specimen 'LBU15', view this record at 'http://localhost/mi/datasheet.aspx?dbKey=MI_Training&recordHistoryGuid=f5658dcb-92ca-483b-8030-56dc5425808d'\n"
     ]
    },
    {
     "name": "stdout",
     "output_type": "stream",
     "text": [
      "Rollup completed for the specimen 'LBU14', view this record at 'http://localhost/mi/datasheet.aspx?dbKey=MI_Training&recordHistoryGuid=68cf80ee-e3e6-4750-b7bf-09ebb7e5edba'\n"
     ]
    },
    {
     "name": "stdout",
     "output_type": "stream",
     "text": [
      "Rollup completed for the specimen 'LBJ83', view this record at 'http://localhost/mi/datasheet.aspx?dbKey=MI_Training&recordHistoryGuid=b1cd29ec-b306-4df3-a91b-ee24946a3c5d'\n"
     ]
    },
    {
     "name": "stdout",
     "output_type": "stream",
     "text": [
      "Rollup completed for the specimen 'LBJ62', view this record at 'http://localhost/mi/datasheet.aspx?dbKey=MI_Training&recordHistoryGuid=4c1641c8-94bf-45aa-9db3-59973e323073'\n"
     ]
    },
    {
     "name": "stdout",
     "output_type": "stream",
     "text": [
      "Rollup completed for the specimen 'LBJ53', view this record at 'http://localhost/mi/datasheet.aspx?dbKey=MI_Training&recordHistoryGuid=8144b3e2-42d5-4b90-8988-3b26cbb75e30'\n"
     ]
    },
    {
     "name": "stdout",
     "output_type": "stream",
     "text": [
      "Rollup completed for the specimen 'LBJ42', view this record at 'http://localhost/mi/datasheet.aspx?dbKey=MI_Training&recordHistoryGuid=38bbda49-86be-4948-8479-2c132f723b49'\n"
     ]
    },
    {
     "name": "stdout",
     "output_type": "stream",
     "text": [
      "Rollup completed for the specimen 'LBJ14', view this record at 'http://localhost/mi/datasheet.aspx?dbKey=MI_Training&recordHistoryGuid=68d8f45c-b366-4358-ae79-e21a25bce69b'\n"
     ]
    },
    {
     "name": "stdout",
     "output_type": "stream",
     "text": [
      "Rollup completed for the specimen 'LBJ13', view this record at 'http://localhost/mi/datasheet.aspx?dbKey=MI_Training&recordHistoryGuid=7d32b08e-6b4c-49a7-b82a-70a3971dedfd'\n"
     ]
    }
   ],
   "source": [
    "import datetime\n",
    "timestamp = datetime.datetime.utcnow().isoformat()\n",
    "for orientation, specimens in test_records.items():\n",
    "    for specimen, test_runs in specimens.items():\n",
    "        rollup_record = statistics_table.path_from(None,\n",
    "                                                   ['Epoxy/Glass', '3M, S-Glass Unitape S2/SP381',\n",
    "                                                    timestamp,\n",
    "                                                    orientation,\n",
    "                                                    'RTD'],\n",
    "                                                   specimen,\n",
    "                                                   color='Aqua')\n",
    "        for rollup in attributes_to_rollup:\n",
    "            source_attributes = [test_run.attributes[rollup] for test_run in test_runs]\n",
    "            try:\n",
    "                target_attribute = rollup_record.attributes[rollup]\n",
    "                rollup_point_attribute(source_attributes, target_attribute, rollup_record)\n",
    "            except AssertionError:\n",
    "                continue\n",
    "            except KeyError:\n",
    "                print(\"No attribute in target table to roll attribute '{0}' into.\".format(rollup))\n",
    "                continue\n",
    "\n",
    "        for copy_attr in attributes_to_copy:\n",
    "            source_attributes = [test_run.attributes[copy_attr] for test_run in test_runs]\n",
    "            try:\n",
    "                target_attribute = rollup_record.attributes[copy_attr]\n",
    "                copy_attribute(source_attributes, target_attribute, rollup_record)\n",
    "            except AssertionError:\n",
    "                continue\n",
    "            except KeyError:\n",
    "                print(\"No attribute in target table to copy attribute '{0}' into.\".format(copy_attr))\n",
    "                continue\n",
    "\n",
    "        rollup_record = s.update([rollup_record])[0]\n",
    "        rollup_record.set_links('Tensile Test Data', test_runs)\n",
    "\n",
    "        rollup_record = s.update_links([rollup_record])[0]\n",
    "        print(\"Rollup completed for the specimen '{0}', view this record at '{1}'\".format(rollup_record.name,\n",
    "                                                                                          rollup_record.viewer_url))"
   ]
  },
  {
   "cell_type": "code",
   "execution_count": null,
   "metadata": {},
   "outputs": [],
   "source": []
  }
 ],
 "metadata": {
  "kernelspec": {
   "display_name": "Python 3 (ipykernel)",
   "language": "python",
   "name": "python3"
  },
  "language_info": {
   "codemirror_mode": {
    "name": "ipython",
    "version": 3
   },
   "file_extension": ".py",
   "mimetype": "text/x-python",
   "name": "python",
   "nbconvert_exporter": "python",
   "pygments_lexer": "ipython3",
   "version": "3.8.10"
  }
 },
 "nbformat": 4,
 "nbformat_minor": 4
}
