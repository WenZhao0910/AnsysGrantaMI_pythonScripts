{
 "cells": [
  {
   "cell_type": "markdown",
   "metadata": {},
   "source": [
    "# Unicode support in Python 2.7 and 3.4 or later\n",
    "\n",
    "This example demonstrates Unicode support when using strings in Python 2.7 and 3.4 or later.\n",
    "\n",
    "## Prerequisites\n",
    "\n",
    "Import required Python packages, and declare the source file as being encoded in UTF-8. This declaration is necessary if you wish to paste symbols from other locations into string literals. The declaration is not necessary if you use any of the supported escape sequences (see below)."
   ]
  },
  {
   "cell_type": "code",
   "execution_count": 1,
   "metadata": {
    "execution": {
     "iopub.execute_input": "2022-05-10T22:38:25.534066Z",
     "iopub.status.busy": "2022-05-10T22:38:25.534066Z",
     "iopub.status.idle": "2022-05-10T22:38:25.634065Z",
     "shell.execute_reply": "2022-05-10T22:38:25.634065Z"
    }
   },
   "outputs": [],
   "source": [
    "# -*- coding: utf-8 -*-\n",
    "import datetime\n",
    "import GRANTA_MIScriptingToolkit as gdl"
   ]
  },
  {
   "cell_type": "markdown",
   "metadata": {},
   "source": [
    "Define 4 helper functions to simplify the code. The functions will: \n",
    "\n",
    "1. Format the current time (used to set the record name)\n",
    "2. Perform a record name search\n",
    "3. Perform a data export\n",
    "4. Perform a data import"
   ]
  },
  {
   "cell_type": "code",
   "execution_count": 2,
   "metadata": {
    "execution": {
     "iopub.execute_input": "2022-05-10T22:38:25.634065Z",
     "iopub.status.busy": "2022-05-10T22:38:25.634065Z",
     "iopub.status.idle": "2022-05-10T22:38:25.644066Z",
     "shell.execute_reply": "2022-05-10T22:38:25.644066Z"
    }
   },
   "outputs": [],
   "source": [
    "# Function 1\n",
    "def NowString():\n",
    "    return datetime.datetime.now().strftime(\"%d/%m/%Y %H:%M:%S\")\n",
    "\n",
    "# Function 2\n",
    "def FindRecord(gdlSession, dbKey, tableName, recordName):\n",
    "    \"\"\" \n",
    "    Finds a record by name\n",
    "    :returns: :py:mod:`SearchResult <GRANTA_MIScriptingToolkit.SearchResult>`\n",
    "    \"\"\"\n",
    "    req = gdl.RecordNameSearchRequest(caseSensitiveNames=False, recordName=recordName, populateGUIDs=True, searchShortNames=True, searchFullNames=True)\n",
    "    req.table = gdl.TableReference(DBKey=dbKey, name=tableName)\n",
    "    resp = gdlSession.searchService.RecordNameSearch(req)\n",
    "    return resp.searchResults[0]\n",
    "\n",
    "# Function 3\n",
    "def GetRecordData(session, recordRef, attribs):\n",
    "    \"\"\" \n",
    "    A wrapper for a data Export\n",
    "    Return a dictionary of record attributes (retrieved from an export), ie, name -> AttributeValue\n",
    "    \"\"\"\n",
    "    exp = session.dataExportService\n",
    "    req = gdl.GetRecordAttributesByRefRequest()\n",
    "    req.recordReferences = [recordRef]\n",
    "    req.attributeReferences = attribs\n",
    "    resp = exp.GetRecordAttributesByRef(req)\n",
    "    data = resp.recordData[0]\n",
    "    return {av.attributeName : av for av in data.attributeValues}\n",
    "\n",
    "# Function 4\n",
    "def DoImport(session, recordName, parentRecord, importAttributeValues):\n",
    "    \"\"\"\n",
    "    A wrapper for a data import\n",
    "    \"\"\"\n",
    "    newRecordData = gdl.ImportRecord(recordName=recordName,\n",
    "                                     existingRecord=parentRecord,\n",
    "                                     importAttributeValues=importAttributeValues)\n",
    "        \n",
    "    request = gdl.SetRecordAttributesRequest(importRecords=[newRecordData])\n",
    "    response = session.dataImportService.SetRecordAttributes(request)\n",
    "    return response.recordsImported[0]"
   ]
  },
  {
   "cell_type": "markdown",
   "metadata": {},
   "source": [
    "## Create a Granta MI session\n",
    "Import the GRANTA_MIScriptingToolkit package, and create a connection to a Granta MI server."
   ]
  },
  {
   "cell_type": "code",
   "execution_count": 3,
   "metadata": {
    "execution": {
     "iopub.execute_input": "2022-05-10T22:38:25.644066Z",
     "iopub.status.busy": "2022-05-10T22:38:25.644066Z",
     "iopub.status.idle": "2022-05-10T22:38:25.904068Z",
     "shell.execute_reply": "2022-05-10T22:38:25.904068Z"
    }
   },
   "outputs": [
    {
     "name": "stdout",
     "output_type": "stream",
     "text": [
      "Session created\n"
     ]
    }
   ],
   "source": [
    "session = gdl.GRANTA_MISession('http://localhost/mi_servicelayer', autoLogon=True)\n",
    "\n",
    "print(\"Session created\")              "
   ]
  },
  {
   "cell_type": "markdown",
   "metadata": {},
   "source": [
    "## Use data import operations to view Unicode support \n",
    "There are several ways of writing strings that contain special characters (e.g. symbols, accented letters) in Python, using either Unicode strings or byte strings. Here is a list demonstrating some common syntaxes for doing so:"
   ]
  },
  {
   "cell_type": "code",
   "execution_count": 4,
   "metadata": {
    "execution": {
     "iopub.execute_input": "2022-05-10T22:38:25.924068Z",
     "iopub.status.busy": "2022-05-10T22:38:25.924068Z",
     "iopub.status.idle": "2022-05-10T22:38:25.934067Z",
     "shell.execute_reply": "2022-05-10T22:38:25.934067Z"
    }
   },
   "outputs": [],
   "source": [
    "vals = [u'🍌 it is a banana!',                          # Unicode literal (requires UTF-8 source declaration)\n",
    "        u'\\U0001F34C it is a banana!',                 # Unicode codepoint escape sequence\n",
    "        u'\\U0001F34C it is a banana!'.encode(\"utf-8\"), # UTF-8 binary data from Python's \"encode\" function \n",
    "        b'\\xF0\\x9F\\x8D\\x8C it is a banana!'            # UTF-8 binary data manually typed by an experienced user\n",
    "    ]"
   ]
  },
  {
   "cell_type": "markdown",
   "metadata": {},
   "source": [
    "Specify a folder to import new records under."
   ]
  },
  {
   "cell_type": "code",
   "execution_count": 5,
   "metadata": {
    "execution": {
     "iopub.execute_input": "2022-05-10T22:38:25.934067Z",
     "iopub.status.busy": "2022-05-10T22:38:25.934067Z",
     "iopub.status.idle": "2022-05-10T22:38:26.104078Z",
     "shell.execute_reply": "2022-05-10T22:38:26.104078Z"
    }
   },
   "outputs": [],
   "source": [
    "dbkey = \"MI_Training\"\n",
    "tableName = \"Training Exercise for Import\"\n",
    "target = FindRecord(session, dbkey, tableName, \"Metal\").recordReference"
   ]
  },
  {
   "cell_type": "markdown",
   "metadata": {},
   "source": [
    "Import 4 new records into the database. Each of the records you import will contain the same data, even though the input data is written with a different syntax. You can check that the data is identical by viewing the records in MI Viewer, or by exporting the data from the database and checking it using Python."
   ]
  },
  {
   "cell_type": "code",
   "execution_count": 6,
   "metadata": {
    "execution": {
     "iopub.execute_input": "2022-05-10T22:38:26.114078Z",
     "iopub.status.busy": "2022-05-10T22:38:26.114078Z",
     "iopub.status.idle": "2022-05-10T22:38:27.454084Z",
     "shell.execute_reply": "2022-05-10T22:38:27.454084Z"
    }
   },
   "outputs": [
    {
     "name": "stdout",
     "output_type": "stream",
     "text": [
      "New record imported: UnicodeDemo[10/05/2022 23:38:26]-0. You can inspect this record in MI Viewer.\n",
      "Success: True\n"
     ]
    },
    {
     "name": "stdout",
     "output_type": "stream",
     "text": [
      "New record imported: UnicodeDemo[10/05/2022 23:38:26]-1. You can inspect this record in MI Viewer.\n",
      "Success: True\n"
     ]
    },
    {
     "name": "stdout",
     "output_type": "stream",
     "text": [
      "New record imported: UnicodeDemo[10/05/2022 23:38:26]-2. You can inspect this record in MI Viewer.\n",
      "Success: True\n"
     ]
    },
    {
     "name": "stdout",
     "output_type": "stream",
     "text": [
      "New record imported: UnicodeDemo[10/05/2022 23:38:27]-3. You can inspect this record in MI Viewer.\n",
      "Success: True\n"
     ]
    }
   ],
   "source": [
    "for index, stval in enumerate(vals):\n",
    "    value = gdl.ShortTextDataType(value=stval)\n",
    "    attributeRef = gdl.AttributeReference(name=\"Composition\", partialTableReference=gdl.PartialTableReference(tableName=tableName), DBKey=dbkey)\n",
    "    attribute = gdl.ImportAttributeValue(shortTextDataValue=value, attributeReference=attributeRef)\n",
    "\n",
    "    importedRecord = DoImport(session, \"UnicodeDemo[{0}]-{1}\".format(NowString(), index), target, [attribute])\n",
    "\n",
    "    importedRef = importedRecord.recordReference\n",
    "    print(\"New record imported: {0}. You can inspect this record in MI Viewer.\".format(importedRecord.shortName))\n",
    "\n",
    "    data = GetRecordData(session, importedRef, [attributeRef])\n",
    "    check = (u'🍌 it is a banana!' == data[\"Composition\"].shortTextDataType.value)\n",
    "    print(\"Success: {0}\".format(check))"
   ]
  },
  {
   "cell_type": "code",
   "execution_count": null,
   "metadata": {},
   "outputs": [],
   "source": []
  }
 ],
 "metadata": {
  "anaconda-cloud": {},
  "kernelspec": {
   "display_name": "Python 3",
   "language": "python",
   "name": "python3"
  },
  "language_info": {
   "codemirror_mode": {
    "name": "ipython",
    "version": 3
   },
   "file_extension": ".py",
   "mimetype": "text/x-python",
   "name": "python",
   "nbconvert_exporter": "python",
   "pygments_lexer": "ipython3",
   "version": "3.8.10"
  }
 },
 "nbformat": 4,
 "nbformat_minor": 2
}
