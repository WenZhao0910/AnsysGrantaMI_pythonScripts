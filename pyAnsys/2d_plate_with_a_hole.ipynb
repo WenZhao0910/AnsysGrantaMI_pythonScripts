{
 "cells": [
  {
   "cell_type": "code",
   "execution_count": 21,
   "metadata": {
    "jupyter": {
     "outputs_hidden": false
    }
   },
   "outputs": [],
   "source": [
    "%matplotlib inline"
   ]
  },
  {
   "cell_type": "markdown",
   "metadata": {},
   "source": [
    "MAPDL 2D Plane Stress Concentration Analysis {#ref_plane_stress_concentration}\n",
    "============================================\n",
    "\n",
    "This tutorial shows how you can use PyMAPDL to determine and verify the\n",
    "\\\"stress concentration factor\\\" when modeling using 2D plane elements\n",
    "and then verify this using 3D elements.\n",
    "\n",
    "First, start MAPDL as a service.\n"
   ]
  },
  {
   "cell_type": "code",
   "execution_count": 40,
   "metadata": {
    "jupyter": {
     "outputs_hidden": false
    }
   },
   "outputs": [
    {
     "data": {
      "text/plain": [
       "<ansys.mapdl.core.mapdl_grpc.MapdlGrpc object at 0x0000014779C28700>"
      ]
     },
     "execution_count": 40,
     "metadata": {},
     "output_type": "execute_result"
    }
   ],
   "source": [
    "# sphinx_gallery_thumbnail_number = 3\n",
    "\n",
    "import matplotlib.pyplot as plt\n",
    "import numpy as np\n",
    "\n",
    "from ansys.mapdl.core import launch_mapdl\n",
    "\n",
    "mapdl = launch_mapdl()"
   ]
  },
  {
   "cell_type": "code",
   "execution_count": 41,
   "metadata": {},
   "outputs": [
    {
     "name": "stdout",
     "output_type": "stream",
     "text": [
      "Product:             Ansys Mechanical Enterprise\n",
      "MAPDL Version:       22.2\n",
      "ansys.mapdl Version: 0.63.2\n",
      "\n"
     ]
    }
   ],
   "source": [
    "from ansys.mapdl.core import Mapdl\n",
    "ip = '127.0.0.1'\n",
    "mapdl = Mapdl(ip=ip, port=50052, start_instance=False)\n",
    "print(mapdl)"
   ]
  },
  {
   "cell_type": "code",
   "execution_count": 23,
   "metadata": {
    "jupyter": {
     "outputs_hidden": false
    }
   },
   "outputs": [
    {
     "name": "stdout",
     "output_type": "stream",
     "text": [
      "LIST MATERIALS        1 TO        1 BY        1\n",
      "  PROPERTY= ALL \n",
      "\n",
      " MATERIAL NUMBER        1\n",
      "\n",
      "      TEMP        EX  \n",
      "               0.2100000E+12\n",
      "\n",
      "      TEMP        NUXY\n",
      "               0.3000000    \n",
      "\n",
      "      TEMP        DENS\n",
      "                7800.000\n"
     ]
    }
   ],
   "source": [
    "mapdl.prep7()\n",
    "mapdl.units(\"SI\")  # SI - International system (m, kg, s, K).\n",
    "\n",
    "# define a PLANE183 element type with thickness\n",
    "mapdl.et(1, \"PLANE183\", kop3=3)\n",
    "mapdl.r(1, 0.001)  # thickness of 0.001 meters)\n",
    "\n",
    "# Define a material (nominal steel in SI)\n",
    "mapdl.mp(\"EX\", 1, 210e9)  # Elastic moduli in Pa (kg/(m*s**2))\n",
    "mapdl.mp(\"DENS\", 1, 7800)  # Density in kg/m3\n",
    "mapdl.mp(\"NUXY\", 1, 0.3)  # Poisson's Ratio\n",
    "\n",
    "# list currently defined material properties\n",
    "print(mapdl.mplist())"
   ]
  },
  {
   "cell_type": "markdown",
   "metadata": {},
   "source": [
    "Geometry\n",
    "========\n",
    "\n",
    "Create a rectangular area with the hole in the middle. To correctly\n",
    "approximate an infinite plate, the maximum stress must occur far away\n",
    "from the edges of the plate. A length to width factor can approximate\n",
    "this.\n"
   ]
  },
  {
   "cell_type": "code",
   "execution_count": 24,
   "metadata": {
    "jupyter": {
     "outputs_hidden": false
    }
   },
   "outputs": [
    {
     "data": {
      "application/vnd.jupyter.widget-view+json": {
       "model_id": "a8e6f04c34b043aab81c10654b730d62",
       "version_major": 2,
       "version_minor": 0
      },
      "text/plain": [
       "ViewInteractiveWidget(height=768, layout=Layout(height='auto', width='100%'), width=1024)"
      ]
     },
     "metadata": {},
     "output_type": "display_data"
    }
   ],
   "source": [
    "length = 0.4\n",
    "width = 0.1\n",
    "\n",
    "ratio = 0.3  # diameter/width\n",
    "diameter = width * ratio\n",
    "radius = diameter * 0.5\n",
    "\n",
    "\n",
    "# create the rectangle\n",
    "rect_anum = mapdl.blc4(width=length, height=width)\n",
    "\n",
    "# create a circle in the middle of the rectangle\n",
    "circ_anum = mapdl.cyl4(length / 2, width / 2, radius)\n",
    "\n",
    "# Note how pymapdl parses the output and returns the area numbers\n",
    "# created by each command.  This can be used to execute a boolean\n",
    "# operation on these areas to cut the circle out of the rectangle.\n",
    "plate_with_hole_anum = mapdl.asba(rect_anum, circ_anum)\n",
    "\n",
    "# finally, plot the lines of the plate\n",
    "mapdl.lplot(cpos=\"xy\", line_width=3, font_size=26, color_lines=True, background=\"w\")"
   ]
  },
  {
   "cell_type": "markdown",
   "metadata": {},
   "source": [
    "Meshing\n",
    "=======\n",
    "\n",
    "Mesh the plate using a higher density near the hole and a lower density\n",
    "for the remainder of the plate by setting `LESIZE` for the lines nearby\n",
    "the hole and `ESIZE` for the mesh global size.\n",
    "\n",
    "Line numbers can be identified through inspection using `lplot`\n"
   ]
  },
  {
   "cell_type": "code",
   "execution_count": 25,
   "metadata": {
    "jupyter": {
     "outputs_hidden": false
    }
   },
   "outputs": [
    {
     "data": {
      "application/vnd.jupyter.widget-view+json": {
       "model_id": "e79fd6d82cfa408ea9aa63cf112449bb",
       "version_major": 2,
       "version_minor": 0
      },
      "text/plain": [
       "ViewInteractiveWidget(height=768, layout=Layout(height='auto', width='100%'), width=1024)"
      ]
     },
     "metadata": {},
     "output_type": "display_data"
    }
   ],
   "source": [
    "# ensure there are at 50 elements around the hole\n",
    "hole_esize = np.pi * diameter / 50  # 0.0002\n",
    "plate_esize = 0.01\n",
    "\n",
    "# increased the density of the mesh at the center\n",
    "mapdl.lsel(\"S\", \"LINE\", vmin=5, vmax=8)\n",
    "mapdl.lesize(\"ALL\", hole_esize, kforc=1)\n",
    "mapdl.lsel(\"ALL\")\n",
    "\n",
    "# Decrease the area mesh expansion.  This ensures that the mesh\n",
    "# remains fine nearby the hole\n",
    "mapdl.mopt(\"EXPND\", 0.7)  # default 1\n",
    "\n",
    "mapdl.esize(plate_esize)\n",
    "mapdl.amesh(plate_with_hole_anum)\n",
    "mapdl.eplot(\n",
    "    vtk=True, cpos=\"xy\", show_edges=True, show_axes=False, line_width=2, background=\"w\"\n",
    ")"
   ]
  },
  {
   "cell_type": "markdown",
   "metadata": {},
   "source": [
    "Boundary Conditions\n",
    "===================\n",
    "\n",
    "Fix the left-hand side of the plate in the X direction and set a force\n",
    "of 1 kN in the positive X direction.\n"
   ]
  },
  {
   "cell_type": "code",
   "execution_count": 26,
   "metadata": {
    "jupyter": {
     "outputs_hidden": false
    }
   },
   "outputs": [],
   "source": [
    "# Fix the left-hand side.\n",
    "mapdl.nsel(\"S\", \"LOC\", \"X\", 0)\n",
    "mapdl.d(\"ALL\", \"UX\")\n",
    "\n",
    "# Fix a single node on the left-hand side of the plate in the Y\n",
    "# direction.  Otherwise, the mesh would be allowed to move in the y\n",
    "# direction and would be an improperly constrained mesh.\n",
    "mapdl.nsel(\"R\", \"LOC\", \"Y\", width / 2)\n",
    "assert mapdl.mesh.n_node == 1\n",
    "mapdl.d(\"ALL\", \"UY\")\n",
    "\n",
    "# Apply a force on the right-hand side of the plate.  For this\n",
    "# example, we select the nodes at the right-most side of the plate.\n",
    "mapdl.nsel(\"S\", \"LOC\", \"X\", length)\n",
    "\n",
    "# Verify that only the nodes at length have been selected:\n",
    "assert np.allclose(mapdl.mesh.nodes[:, 0], length)\n",
    "\n",
    "# Next, couple the DOF for these nodes.  This lets us provide a force\n",
    "# to one node that will be spread throughout all nodes in this coupled\n",
    "# set.\n",
    "mapdl.cp(5, \"UX\", \"ALL\")\n",
    "\n",
    "# Select a single node in this set and apply a force to it\n",
    "# We use \"R\" to re-select from the current node group\n",
    "mapdl.nsel(\"R\", \"LOC\", \"Y\", width / 2)\n",
    "mapdl.f(\"ALL\", \"FX\", 1000)\n",
    "\n",
    "# finally, be sure to select all nodes again to solve the entire solution\n",
    "mapdl.allsel(mute=True)"
   ]
  },
  {
   "cell_type": "markdown",
   "metadata": {},
   "source": [
    "Solve the Static Problem\n",
    "========================\n",
    "\n",
    "Solve the static analysis\n"
   ]
  },
  {
   "cell_type": "code",
   "execution_count": 27,
   "metadata": {
    "jupyter": {
     "outputs_hidden": false
    }
   },
   "outputs": [
    {
     "name": "stdout",
     "output_type": "stream",
     "text": [
      "*** NOTE ***                            CP =       0.828   TIME= 14:57:18\n",
      " The automatic domain decomposition logic has selected the MESH domain   \n",
      " decomposition method with 2 processes per solution.                     \n",
      "\n",
      " *****  MAPDL SOLVE    COMMAND  *****\n",
      "\n",
      " *** NOTE ***                            CP =       0.828   TIME= 14:57:18\n",
      " There is no title defined for this analysis.                            \n",
      "\n",
      " *** SELECTION OF ELEMENT TECHNOLOGIES FOR APPLICABLE ELEMENTS ***\n",
      "                ---GIVE SUGGESTIONS ONLY---\n",
      "\n",
      " ELEMENT TYPE         1 IS PLANE183 WITH PLANE STRESS OPTION. NO SUGGESTION IS\n",
      " AVAILABLE.\n",
      "\n",
      "\n",
      "\n",
      " *** MAPDL - ENGINEERING ANALYSIS SYSTEM  RELEASE 2022 R2          22.2     ***\n",
      " Ansys Mechanical Enterprise                       \n",
      " 00000000  VERSION=WINDOWS x64   14:57:18  OCT 05, 2022 CP=      0.859\n",
      "\n",
      "                                                                               \n",
      "\n",
      "\n",
      "\n",
      "                       S O L U T I O N   O P T I O N S\n",
      "\n",
      "   PROBLEM DIMENSIONALITY. . . . . . . . . . . . .2-D                  \n",
      "   DEGREES OF FREEDOM. . . . . . UX   UY  \n",
      "   ANALYSIS TYPE . . . . . . . . . . . . . . . . .STATIC (STEADY-STATE)\n",
      "   GLOBALLY ASSEMBLED MATRIX . . . . . . . . . . .SYMMETRIC  \n",
      "\n",
      " *** NOTE ***                            CP =       0.859   TIME= 14:57:18\n",
      " Present time 0 is less than or equal to the previous time.  Time will   \n",
      " default to 1.                                                           \n",
      "\n",
      " *** NOTE ***                            CP =       0.859   TIME= 14:57:18\n",
      " The conditions for direct assembly have been met.  No .emat or .erot    \n",
      " files will be produced.                                                 \n",
      "\n",
      "  \n",
      "  \n",
      "     D I S T R I B U T E D   D O M A I N   D E C O M P O S E R\n",
      "  \n",
      "  ...Number of elements: 1005\n",
      "  ...Number of nodes:    3165\n",
      "  ...Decompose to 2 CPU domains\n",
      "  ...Element load balance ratio =     1.002\n",
      "\n",
      "\n",
      "                      L O A D   S T E P   O P T I O N S\n",
      "\n",
      "   LOAD STEP NUMBER. . . . . . . . . . . . . . . .     1\n",
      "   TIME AT END OF THE LOAD STEP. . . . . . . . . .  1.0000    \n",
      "   NUMBER OF SUBSTEPS. . . . . . . . . . . . . . .     1\n",
      "   STEP CHANGE BOUNDARY CONDITIONS . . . . . . . .    NO\n",
      "   PRINT OUTPUT CONTROLS . . . . . . . . . . . . .NO PRINTOUT\n",
      "   DATABASE OUTPUT CONTROLS. . . . . . . . . . . .ALL DATA WRITTEN\n",
      "                                                  FOR THE LAST SUBSTEP\n",
      "\n",
      "\n",
      " SOLUTION MONITORING INFO IS WRITTEN TO FILE= file.mntr                                                                                                                                                                                                                                                           \n",
      "\n",
      "\n",
      "\n",
      "\n",
      "            **** CENTER OF MASS, MASS, AND MASS MOMENTS OF INERTIA ****\n",
      "\n",
      "  CALCULATIONS ASSUME ELEMENT MASS AT ELEMENT CENTROID\n",
      "\n",
      "  TOTAL MASS =  0.30649    \n",
      "\n",
      "                           MOM. OF INERTIA         MOM. OF INERTIA\n",
      "  CENTER OF MASS            ABOUT ORIGIN        ABOUT CENTER OF MASS\n",
      "\n",
      "  XC =  0.20000          IXX =   0.1024E-02      IXX =   0.2577E-03\n",
      "  YC =  0.50004E-01      IYY =   0.1642E-01      IYY =   0.4157E-02\n",
      "  ZC =   0.0000          IZZ =   0.1744E-01      IZZ =   0.4414E-02\n",
      "                         IXY =  -0.3065E-02      IXY =  -0.1332E-06\n",
      "                         IYZ =    0.000          IYZ =    0.000    \n",
      "                         IZX =    0.000          IZX =    0.000    \n",
      "\n",
      "\n",
      "  *** MASS SUMMARY BY ELEMENT TYPE ***\n",
      "\n",
      "  TYPE      MASS\n",
      "     1  0.306487    \n",
      "\n",
      " Range of element maximum matrix coefficients in global coordinates\n",
      " Maximum = 1.001299206E+09 at element 401.                               \n",
      " Minimum = 360452396 at element 853.                                     \n",
      "\n",
      "   *** ELEMENT MATRIX FORMULATION TIMES\n",
      "     TYPE    NUMBER   ENAME      TOTAL CP  AVE CP\n",
      "\n",
      "        1      1005  PLANE183      0.047   0.000047\n",
      " Time at end of element matrix formulation CP = 0.921875.                \n",
      "\n",
      " DISTRIBUTED SPARSE MATRIX DIRECT SOLVER.\n",
      "  Number of equations =        6288,    Maximum wavefront =     42\n",
      "\n",
      "  Process memory allocated for solver              =     5.136 MB\n",
      "  Process memory required for in-core solution     =     4.944 MB\n",
      "  Process memory required for out-of-core solution =     3.136 MB\n",
      "\n",
      "  Total memory allocated for solver                =    10.194 MB\n",
      "  Total memory required for in-core solution       =     9.813 MB\n",
      "  Total memory required for out-of-core solution   =     6.258 MB\n",
      "\n",
      " *** NOTE ***                            CP =       1.000   TIME= 14:57:18\n",
      " The Distributed Sparse Matrix Solver is currently running in the        \n",
      " in-core memory mode.  This memory mode uses the most amount of memory   \n",
      " in order to avoid using the hard drive as much as possible, which most  \n",
      " often results in the fastest solution time.  This mode is recommended   \n",
      " if enough physical memory is present to accommodate all of the solver   \n",
      " data.                                                                   \n",
      " Distributed sparse solver maximum pivot= 1.638913676E+09 at node 391    \n",
      " UY.                                                                     \n",
      " Distributed sparse solver minimum pivot= 7553313.85 at node 2748 UY.    \n",
      " Distributed sparse solver minimum pivot in absolute value= 7553313.85   \n",
      " at node 2748 UY.                                                        \n",
      "\n",
      "   *** ELEMENT RESULT CALCULATION TIMES\n",
      "     TYPE    NUMBER   ENAME      TOTAL CP  AVE CP\n",
      "\n",
      "        1      1005  PLANE183      0.078   0.000078\n",
      "\n",
      "   *** NODAL LOAD CALCULATION TIMES\n",
      "     TYPE    NUMBER   ENAME      TOTAL CP  AVE CP\n",
      "\n",
      "        1      1005  PLANE183      0.000   0.000000\n",
      " *** LOAD STEP     1   SUBSTEP     1  COMPLETED.    CUM ITER =      1\n",
      " *** TIME =   1.00000         TIME INC =   1.00000      NEW TRIANG MATRIX\n",
      "\n",
      "\n",
      " *** MAPDL BINARY FILE STATISTICS\n",
      "  BUFFER SIZE USED= 16384\n",
      "        0.875 MB WRITTEN ON ASSEMBLED MATRIX FILE: file0.full\n",
      "        0.688 MB WRITTEN ON RESULTS FILE: file0.rst\n"
     ]
    }
   ],
   "source": [
    "mapdl.run(\"/SOLU\")\n",
    "mapdl.antype(\"STATIC\")\n",
    "output = mapdl.solve()\n",
    "print(output)"
   ]
  },
  {
   "cell_type": "markdown",
   "metadata": {},
   "source": [
    "Post-Processing\n",
    "===============\n",
    "\n",
    "The static result can be post-processed both within MAPDL and outside of\n",
    "MAPDL using `pyansys`. This example shows how to extract the von Mises\n",
    "stress and plot it using the `pyansys` result reader.\n"
   ]
  },
  {
   "cell_type": "code",
   "execution_count": 28,
   "metadata": {
    "jupyter": {
     "outputs_hidden": false
    }
   },
   "outputs": [
    {
     "name": "stderr",
     "output_type": "stream",
     "text": [
      "C:\\ProgramData\\Anaconda3\\lib\\site-packages\\pyvista\\plotting\\tools.py:571: PyvistaDeprecationWarning: The usage of `parse_color` is deprecated in favor of the new `Color` class.\n",
      "  warnings.warn(\n"
     ]
    },
    {
     "data": {
      "application/vnd.jupyter.widget-view+json": {
       "model_id": "de20317b00fd40e0b146622a0eb8788f",
       "version_major": 2,
       "version_minor": 0
      },
      "text/plain": [
       "ViewInteractiveWidget(height=768, layout=Layout(height='auto', width='100%'), width=1024)"
      ]
     },
     "metadata": {},
     "output_type": "display_data"
    }
   ],
   "source": [
    "# grab the result from the ``mapdl`` instance\n",
    "result = mapdl.result\n",
    "result.plot_principal_nodal_stress(\n",
    "    0, \"SEQV\", lighting=False, cpos=\"xy\", background=\"w\", text_color=\"k\", add_text=False\n",
    ")\n",
    "\n",
    "nnum, stress = result.principal_nodal_stress(0)\n",
    "von_mises = stress[:, -1]  # von-Mises stress is the right most column\n",
    "\n",
    "# Must use nanmax as stress is not computed at mid-side nodes\n",
    "max_stress = np.nanmax(von_mises)"
   ]
  },
  {
   "cell_type": "markdown",
   "metadata": {},
   "source": [
    "Compute the Stress Concentration\n",
    "================================\n",
    "\n",
    "The stress concentration $K_t$ is the ratio of the maximum stress at the\n",
    "hole to the far-field stress, or the mean cross sectional stress at a\n",
    "point far from the hole. Analytically, this can be computed with:\n",
    "\n",
    "$\\sigma_{nom} = \\frac{F}{wt}$\n",
    "\n",
    "Where\n",
    "\n",
    "-   $F$ is the force\n",
    "-   $w$ is the width of the plate\n",
    "-   $t$ is the thickness of the plate.\n",
    "\n",
    "Experimentally, this is computed by taking the mean of the nodes at the\n",
    "right-most side of the plate.\n"
   ]
  },
  {
   "cell_type": "code",
   "execution_count": 29,
   "metadata": {
    "jupyter": {
     "outputs_hidden": false
    }
   },
   "outputs": [
    {
     "name": "stdout",
     "output_type": "stream",
     "text": [
      "Far field von mises stress: 9.999966e+06\n"
     ]
    }
   ],
   "source": [
    "# We use nanmean here because mid-side nodes have no stress\n",
    "mask = result.mesh.nodes[:, 0] == length\n",
    "far_field_stress = np.nanmean(von_mises[mask])\n",
    "print(\"Far field von mises stress: %e\" % far_field_stress)\n",
    "# Which almost exactly equals the analytical value of 10000000.0 Pa"
   ]
  },
  {
   "cell_type": "markdown",
   "metadata": {},
   "source": [
    "Since the expected nominal stress across the cross section of the hole\n",
    "will increase as the size of the hole increases, regardless of the\n",
    "stress concentration, the stress must be adjusted to arrive at the\n",
    "correct stress. This stress is adjusted by the ratio of the width over\n",
    "the modified cross section width.\n"
   ]
  },
  {
   "cell_type": "code",
   "execution_count": 30,
   "metadata": {
    "jupyter": {
     "outputs_hidden": false
    }
   },
   "outputs": [
    {
     "name": "stdout",
     "output_type": "stream",
     "text": [
      "Stress Concentration: 2.34\n"
     ]
    }
   ],
   "source": [
    "adj = width / (width - diameter)\n",
    "stress_adj = far_field_stress * adj\n",
    "\n",
    "# The stress concentration is then simply the maximum stress divided\n",
    "# by the adjusted far-field stress.\n",
    "stress_con = max_stress / stress_adj\n",
    "print(\"Stress Concentration: %.2f\" % stress_con)"
   ]
  },
  {
   "cell_type": "markdown",
   "metadata": {},
   "source": [
    "Batch Analysis\n",
    "==============\n",
    "\n",
    "The above script can be placed within a function to compute the stress\n",
    "concentration for a variety of hole diameters. For each batch, MAPDL is\n",
    "reset and the geometry is generated from scratch.\n"
   ]
  },
  {
   "cell_type": "code",
   "execution_count": 31,
   "metadata": {
    "jupyter": {
     "outputs_hidden": false
    }
   },
   "outputs": [],
   "source": [
    "def compute_stress_con(ratio):\n",
    "    \"\"\"Compute the stress concentration for plate with a hole loaded\n",
    "    with a uniaxial force.\n",
    "    \"\"\"\n",
    "    mapdl.clear(\"NOSTART\")\n",
    "    mapdl.prep7()\n",
    "    mapdl.units(\"SI\")  # SI - International system (m, kg, s, K).\n",
    "\n",
    "    # define a PLANE183 element type with thickness\n",
    "    mapdl.et(1, \"PLANE183\", kop3=3)\n",
    "    mapdl.r(1, 0.001)  # thickness of 0.001 meters)\n",
    "\n",
    "    # Define a material (nominal steel in SI)\n",
    "    mapdl.mp(\"EX\", 1, 210e9)  # Elastic moduli in Pa (kg/(m*s**2))\n",
    "    mapdl.mp(\"DENS\", 1, 7800)  # Density in kg/m3\n",
    "    mapdl.mp(\"NUXY\", 1, 0.3)  # Poisson's Ratio\n",
    "    mapdl.emodif(\"ALL\", \"MAT\", 1)\n",
    "\n",
    "    # Geometry\n",
    "    # ~~~~~~~~\n",
    "    # Create a rectangular area with the hole in the middle\n",
    "    diameter = width * ratio\n",
    "    radius = diameter * 0.5\n",
    "\n",
    "    # create the rectangle\n",
    "    rect_anum = mapdl.blc4(width=length, height=width)\n",
    "\n",
    "    # create a circle in the middle of the rectangle\n",
    "    circ_anum = mapdl.cyl4(length / 2, width / 2, radius)\n",
    "\n",
    "    # Note how pyansys parses the output and returns the area numbers\n",
    "    # created by each command.  This can be used to execute a boolean\n",
    "    # operation on these areas to cut the circle out of the rectangle.\n",
    "    plate_with_hole_anum = mapdl.asba(rect_anum, circ_anum)\n",
    "\n",
    "    # Meshing\n",
    "    # ~~~~~~~\n",
    "    # Mesh the plate using a higher density near the hole and a lower\n",
    "    # density for the remainder of the plate\n",
    "\n",
    "    mapdl.aclear(\"all\")\n",
    "\n",
    "    # ensure there are at least 100 elements around the hole\n",
    "    hole_esize = np.pi * diameter / 100  # 0.0002\n",
    "    plate_esize = 0.01\n",
    "\n",
    "    # increased the density of the mesh at the center\n",
    "    mapdl.lsel(\"S\", \"LINE\", vmin=5, vmax=8)\n",
    "    mapdl.lesize(\"ALL\", hole_esize, kforc=1)\n",
    "    mapdl.lsel(\"ALL\")\n",
    "\n",
    "    # Decrease the area mesh expansion.  This ensures that the mesh\n",
    "    # remains fine nearby the hole\n",
    "    mapdl.mopt(\"EXPND\", 0.7)  # default 1\n",
    "\n",
    "    mapdl.esize(plate_esize)\n",
    "    mapdl.amesh(plate_with_hole_anum)\n",
    "\n",
    "    ###############################################################################\n",
    "    # Boundary Conditions\n",
    "    # ~~~~~~~~~~~~~~~~~~~\n",
    "    # Fix the left-hand side of the plate in the X direction\n",
    "    mapdl.nsel(\"S\", \"LOC\", \"X\", 0)\n",
    "    mapdl.d(\"ALL\", \"UX\")\n",
    "\n",
    "    # Fix a single node on the left-hand side of the plate in the Y direction\n",
    "    mapdl.nsel(\"R\", \"LOC\", \"Y\", width / 2)\n",
    "    assert mapdl.mesh.n_node == 1\n",
    "    mapdl.d(\"ALL\", \"UY\")\n",
    "\n",
    "    # Apply a force on the right-hand side of the plate.  For this\n",
    "    # example, we select the right-hand side of the plate.\n",
    "    mapdl.nsel(\"S\", \"LOC\", \"X\", length)\n",
    "\n",
    "    # Next, couple the DOF for these nodes\n",
    "    mapdl.cp(5, \"UX\", \"ALL\")\n",
    "\n",
    "    # Again, select a single node in this set and apply a force to it\n",
    "    mapdl.nsel(\"r\", \"loc\", \"y\", width / 2)\n",
    "    mapdl.f(\"ALL\", \"FX\", 1000)\n",
    "\n",
    "    # finally, be sure to select all nodes again to solve the entire solution\n",
    "    mapdl.allsel()\n",
    "\n",
    "    # Solve the Static Problem\n",
    "    # ~~~~~~~~~~~~~~~~~~~~~~~~\n",
    "    mapdl.run(\"/SOLU\")\n",
    "    mapdl.antype(\"STATIC\")\n",
    "    mapdl.solve()\n",
    "\n",
    "    # Post-Processing\n",
    "    # ~~~~~~~~~~~~~~~\n",
    "    # grab the stress from the result\n",
    "    result = mapdl.result\n",
    "    nnum, stress = result.principal_nodal_stress(0)\n",
    "    von_mises = stress[:, -1]\n",
    "    max_stress = np.nanmax(von_mises)\n",
    "\n",
    "    # compare to the \"far field\" stress by getting the mean value of the\n",
    "    # stress at the wall\n",
    "    mask = result.mesh.nodes[:, 0] == length\n",
    "    far_field_stress = np.nanmean(von_mises[mask])\n",
    "\n",
    "    # adjust by the cross sectional area at the hole\n",
    "    adj = width / (width - diameter)\n",
    "    stress_adj = far_field_stress * adj\n",
    "\n",
    "    # finally, compute the stress concentration\n",
    "    return max_stress / stress_adj"
   ]
  },
  {
   "cell_type": "markdown",
   "metadata": {},
   "source": [
    "Run the batch and record the stress concentration\n"
   ]
  },
  {
   "cell_type": "code",
   "execution_count": 32,
   "metadata": {
    "jupyter": {
     "outputs_hidden": false
    }
   },
   "outputs": [
    {
     "name": "stdout",
     "output_type": "stream",
     "text": [
      "    Ratio  : Stress Concentration (K_t)\n",
      "    0.0100 :     3.3066\n",
      "    0.0450 :     2.8606\n",
      "    0.0800 :     2.7565\n",
      "    0.1150 :     2.6636\n",
      "    0.1500 :     2.5838\n",
      "    0.1850 :     2.5031\n",
      "    0.2200 :     2.4326\n",
      "    0.2550 :     2.3653\n",
      "    0.2900 :     2.3061\n",
      "    0.3250 :     2.2514\n",
      "    0.3600 :     2.2017\n",
      "    0.3950 :     2.1551\n",
      "    0.4300 :     2.1148\n",
      "    0.4650 :     2.0777\n",
      "    0.5000 :     2.0411\n"
     ]
    }
   ],
   "source": [
    "k_t_exp = []\n",
    "ratios = np.linspace(0.01, 0.5, 15)\n",
    "print(\"    Ratio  : Stress Concentration (K_t)\")\n",
    "for ratio in ratios:\n",
    "    stress_con = compute_stress_con(ratio)\n",
    "    print(\"%10.4f : %10.4f\" % (ratio, stress_con))\n",
    "    k_t_exp.append(stress_con)"
   ]
  },
  {
   "cell_type": "markdown",
   "metadata": {},
   "source": [
    "Analytical Comparison\n",
    "=====================\n",
    "\n",
    "Stress concentrations are often obtained by referencing tablular results\n",
    "or polynominal fits for a variety of geometries. According to\n",
    "Peterson\\'s Stress Concentration Factors (ISBN 0470048247), the\n",
    "analytical equation for a hole in a thin plate in uniaxial tension:\n",
    "\n",
    "$k_t = 3 - 3.14\\frac{d}{h} + 3.667\\left(\\frac{d}{h}\\right)^2 - 1.527\\left(\\frac{d}{h}\\right)^3$\n",
    "\n",
    "Where:\n",
    "\n",
    "-   $k_t$ is the stress concentration\n",
    "-   $d$ is the diameter of the circle\n",
    "-   $h$ is the height of the plate\n",
    "\n",
    "As shown in the following plot, ANSYS matches the known tabular result\n",
    "for this geometry remarkably well using PLANE183 elements. The fit to\n",
    "the results may vary depending on the ratio between the height and width\n",
    "of the plate.\n"
   ]
  },
  {
   "cell_type": "code",
   "execution_count": 33,
   "metadata": {
    "jupyter": {
     "outputs_hidden": false
    }
   },
   "outputs": [
    {
     "data": {
      "image/png": "[encoded data removed]",
      "text/plain": [
       "<Figure size 432x288 with 1 Axes>"
      ]
     },
     "metadata": {
      "needs_background": "light"
     },
     "output_type": "display_data"
    }
   ],
   "source": [
    "# where ratio is (d/h)\n",
    "k_t_anl = 3 - 3.14 * ratios + 3.667 * ratios**2 - 1.527 * ratios**3\n",
    "\n",
    "plt.plot(ratios, k_t_anl, label=r\"$K_t$ Analytical\")\n",
    "plt.plot(ratios, k_t_exp, label=r\"$K_t$ ANSYS\")\n",
    "plt.legend()\n",
    "plt.xlabel(\"Ratio of Hole Diameter to Width of Plate\")\n",
    "plt.ylabel(\"Stress Concentration\")\n",
    "plt.show()"
   ]
  },
  {
   "cell_type": "markdown",
   "metadata": {},
   "source": [
    "stop mapdl\n"
   ]
  },
  {
   "cell_type": "code",
   "execution_count": 34,
   "metadata": {
    "jupyter": {
     "outputs_hidden": false
    }
   },
   "outputs": [],
   "source": [
    "mapdl.exit()"
   ]
  }
 ],
 "metadata": {
  "kernelspec": {
   "display_name": "Python 3 (ipykernel)",
   "language": "python",
   "name": "python3"
  },
  "language_info": {
   "codemirror_mode": {
    "name": "ipython",
    "version": 3
   },
   "file_extension": ".py",
   "mimetype": "text/x-python",
   "name": "python",
   "nbconvert_exporter": "python",
   "pygments_lexer": "ipython3",
   "version": "3.9.12"
  }
 },
 "nbformat": 4,
 "nbformat_minor": 4
}
