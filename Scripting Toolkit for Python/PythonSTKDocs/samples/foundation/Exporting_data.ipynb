{
 "cells": [
  {
   "cell_type": "markdown",
   "metadata": {},
   "source": [
    "# Exporting data\n",
    "\n",
    "Export the values of Ultimate tensile strength, Modulus, Baseline fiber volume, and Poisson's ratio for a set of records from the MI Training database.\n",
    "\n",
    "This example demonstrates:\n",
    "\n",
    "* Retrieving a list of databases from a Granta MI server\n",
    "* Browsing the tables of a Granta MI database\n",
    "* Searching a Granta MI database using the *CriteriaSearch* operation\n",
    "* Retrieving values for attributes of a record\n",
    "\n",
    "## Create a Granta MI Session\n",
    "\n",
    "Import the GRANTA_MIScriptingToolkit package, and create a connection to a Granta MI server."
   ]
  },
  {
   "cell_type": "code",
   "execution_count": 1,
   "metadata": {
    "execution": {
     "iopub.execute_input": "2022-05-10T22:22:34.568010Z",
     "iopub.status.busy": "2022-05-10T22:22:34.567012Z",
     "iopub.status.idle": "2022-05-10T22:22:35.079214Z",
     "shell.execute_reply": "2022-05-10T22:22:35.079214Z"
    }
   },
   "outputs": [],
   "source": [
    "import GRANTA_MIScriptingToolkit as gdl\n",
    "\n",
    "session = gdl.GRANTA_MISession('http://localhost/mi_servicelayer', autoLogon=True)"
   ]
  },
  {
   "cell_type": "markdown",
   "metadata": {},
   "source": [
    "## Get the Databases\n",
    "\n",
    "Access the browse service from the session and execute the *GetDatabases* method."
   ]
  },
  {
   "cell_type": "code",
   "execution_count": 2,
   "metadata": {
    "execution": {
     "iopub.execute_input": "2022-05-10T22:22:35.082214Z",
     "iopub.status.busy": "2022-05-10T22:22:35.082214Z",
     "iopub.status.idle": "2022-05-10T22:22:35.638214Z",
     "shell.execute_reply": "2022-05-10T22:22:35.638214Z"
    }
   },
   "outputs": [
    {
     "name": "stdout",
     "output_type": "stream",
     "text": [
      "Found 1 databases on the Granta MI Server\n",
      "Database key: MI_Training, Database name: MI Training\n"
     ]
    }
   ],
   "source": [
    "browseService = session.browseService\n",
    "databases = browseService.GetDatabases().databases\n",
    "\n",
    "print(\"Found {0} databases on the Granta MI Server\".format(len(databases)))\n",
    "for d in databases:\n",
    "    print(\"Database key: {0.DBKey}, Database name: {0.name}\".format(d))"
   ]
  },
  {
   "cell_type": "markdown",
   "metadata": {},
   "source": [
    "Use pandas to display the available databases."
   ]
  },
  {
   "cell_type": "code",
   "execution_count": 3,
   "metadata": {
    "execution": {
     "iopub.execute_input": "2022-05-10T22:22:35.649214Z",
     "iopub.status.busy": "2022-05-10T22:22:35.649214Z",
     "iopub.status.idle": "2022-05-10T22:22:35.954214Z",
     "shell.execute_reply": "2022-05-10T22:22:35.954214Z"
    }
   },
   "outputs": [
    {
     "data": {
      "text/html": [
       "<div>\n",
       "<style scoped>\n",
       "    .dataframe tbody tr th:only-of-type {\n",
       "        vertical-align: middle;\n",
       "    }\n",
       "\n",
       "    .dataframe tbody tr th {\n",
       "        vertical-align: top;\n",
       "    }\n",
       "\n",
       "    .dataframe thead th {\n",
       "        text-align: right;\n",
       "    }\n",
       "</style>\n",
       "<table border=\"1\" class=\"dataframe\">\n",
       "  <thead>\n",
       "    <tr style=\"text-align: right;\">\n",
       "      <th></th>\n",
       "      <th>DBKey</th>\n",
       "      <th>DBName</th>\n",
       "    </tr>\n",
       "  </thead>\n",
       "  <tbody>\n",
       "    <tr>\n",
       "      <th>0</th>\n",
       "      <td>MI_Training</td>\n",
       "      <td>MI Training</td>\n",
       "    </tr>\n",
       "  </tbody>\n",
       "</table>\n",
       "</div>"
      ],
      "text/plain": [
       "                    DBKey                 DBName\n",
       "0             MI_Training            MI Training"
      ]
     },
     "execution_count": 3,
     "metadata": {},
     "output_type": "execute_result"
    }
   ],
   "source": [
    "import pandas as pd\n",
    "\n",
    "df = pd.DataFrame({'DBKey': [db.DBKey for db in databases],\n",
    "                  'DBName': [db.name for db in databases]})\n",
    "df"
   ]
  },
  {
   "cell_type": "markdown",
   "metadata": {},
   "source": [
    "## Get the tables in a database\n",
    "\n",
    "Use the *GetTables* method from the browse service to see what tables are available in the MI Training database."
   ]
  },
  {
   "cell_type": "code",
   "execution_count": 4,
   "metadata": {
    "execution": {
     "iopub.execute_input": "2022-05-10T22:22:35.957216Z",
     "iopub.status.busy": "2022-05-10T22:22:35.956215Z",
     "iopub.status.idle": "2022-05-10T22:22:39.120077Z",
     "shell.execute_reply": "2022-05-10T22:22:39.120077Z"
    }
   },
   "outputs": [
    {
     "name": "stdout",
     "output_type": "stream",
     "text": [
      "Found 20 tables in database MI_Training\n",
      "Table name: MaterialUniverse\n",
      "Table name: ProcessUniverse\n",
      "Table name: Restricted Substances\n",
      "Table name: Legislations and Lists\n",
      "Table name: Design Data\n",
      "Table name: Composite Design Data\n",
      "Table name: Tensile Statistical Data\n",
      "Table name: Tensile Test Data\n",
      "Table name: Shear Test Data\n",
      "Table name: Fatigue Statistical Data\n",
      "Table name: Fatigue Test Data\n",
      "Table name: Specification Values\n",
      "Table name: Metals Pedigree\n",
      "Table name: Composite Pedigree\n",
      "Table name: AM Builds\n",
      "Table name: Machine learning: Test data\n",
      "Table name: Machine learning: Builds\n",
      "Table name: Training Exercise (completed)\n",
      "Table name: Training Exercise for Import\n",
      "Table name: Files for Training\n"
     ]
    }
   ],
   "source": [
    "dbKey = \"MI_Training\"\n",
    "\n",
    "tables = browseService.GetTables(gdl.GetTables(DBKey=dbKey)).tableDetails\n",
    "\n",
    "print(\"Found {0} tables in database {1}\".format(len(tables), dbKey))\n",
    "for t in tables:\n",
    "    print(\"Table name: {0}\".format(t.tableReference.name))"
   ]
  },
  {
   "cell_type": "markdown",
   "metadata": {},
   "source": [
    "## Searching a database\n",
    "\n",
    "Search MI Training for all records in the Tensile Test Data table which have a defined *Young's modulus (11-axis) (normalized)*"
   ]
  },
  {
   "cell_type": "code",
   "execution_count": 5,
   "metadata": {
    "execution": {
     "iopub.execute_input": "2022-05-10T22:22:39.123074Z",
     "iopub.status.busy": "2022-05-10T22:22:39.123074Z",
     "iopub.status.idle": "2022-05-10T22:22:40.496750Z",
     "shell.execute_reply": "2022-05-10T22:22:40.496750Z"
    }
   },
   "outputs": [],
   "source": [
    "table = 'Tensile Test Data'\n",
    "attribute = \"Young's modulus (11-axis) (normalized)\"\n",
    "\n",
    "tableRef = gdl.PartialTableReference(tableName=table)\n",
    "attrRef = gdl.AttributeReference(name=attribute, DBKey=dbKey, partialTableReference=tableRef)\n",
    "searchCriterion = gdl.RecordSearchCriterion(searchAttribute=attrRef, existsSearchValue=gdl.ExistsSearchValue())\n",
    "request = gdl.CriteriaSearch(DBKey=dbKey, searchCriteria=[searchCriterion])\n",
    "\n",
    "searchResults = session.searchService.CriteriaSearch(request).searchResults"
   ]
  },
  {
   "cell_type": "markdown",
   "metadata": {},
   "source": [
    "Print the *shortName* and *longName* of each of the records returned by the search."
   ]
  },
  {
   "cell_type": "code",
   "execution_count": 6,
   "metadata": {
    "execution": {
     "iopub.execute_input": "2022-05-10T22:22:40.500754Z",
     "iopub.status.busy": "2022-05-10T22:22:40.500754Z",
     "iopub.status.idle": "2022-05-10T22:22:40.512752Z",
     "shell.execute_reply": "2022-05-10T22:22:40.512752Z"
    }
   },
   "outputs": [
    {
     "data": {
      "text/html": [
       "<div>\n",
       "<style scoped>\n",
       "    .dataframe tbody tr th:only-of-type {\n",
       "        vertical-align: middle;\n",
       "    }\n",
       "\n",
       "    .dataframe tbody tr th {\n",
       "        vertical-align: top;\n",
       "    }\n",
       "\n",
       "    .dataframe thead th {\n",
       "        text-align: right;\n",
       "    }\n",
       "</style>\n",
       "<table border=\"1\" class=\"dataframe\">\n",
       "  <thead>\n",
       "    <tr style=\"text-align: right;\">\n",
       "      <th></th>\n",
       "      <th>ShortName</th>\n",
       "      <th>LongName</th>\n",
       "    </tr>\n",
       "  </thead>\n",
       "  <tbody>\n",
       "    <tr>\n",
       "      <th>0</th>\n",
       "      <td>LBJ6213A</td>\n",
       "      <td>S-Glass Unitape S2/SP381, 3M, 0° tension, Spec...</td>\n",
       "    </tr>\n",
       "    <tr>\n",
       "      <th>1</th>\n",
       "      <td>LBJ4211A</td>\n",
       "      <td>S-Glass Unitape S2/SP381, 3M, 0° tension, Spec...</td>\n",
       "    </tr>\n",
       "    <tr>\n",
       "      <th>2</th>\n",
       "      <td>LBJ4213A</td>\n",
       "      <td>S-Glass Unitape S2/SP381, 3M, 0° tension, Spec...</td>\n",
       "    </tr>\n",
       "    <tr>\n",
       "      <th>3</th>\n",
       "      <td>LBJ1311A</td>\n",
       "      <td>S-Glass Unitape S2/SP381, 3M, 0° tension, Spec...</td>\n",
       "    </tr>\n",
       "    <tr>\n",
       "      <th>4</th>\n",
       "      <td>LBJ1312A</td>\n",
       "      <td>S-Glass Unitape S2/SP381, 3M, 0° tension, Spec...</td>\n",
       "    </tr>\n",
       "    <tr>\n",
       "      <th>5</th>\n",
       "      <td>LBJ8311A</td>\n",
       "      <td>S-Glass Unitape S2/SP381, 3M, 0° tension, Spec...</td>\n",
       "    </tr>\n",
       "    <tr>\n",
       "      <th>6</th>\n",
       "      <td>LBJ6214A</td>\n",
       "      <td>S-Glass Unitape S2/SP381, 3M, 0° tension, Spec...</td>\n",
       "    </tr>\n",
       "    <tr>\n",
       "      <th>7</th>\n",
       "      <td>LBJ5313A</td>\n",
       "      <td>S-Glass Unitape S2/SP381, 3M, 0° tension, Spec...</td>\n",
       "    </tr>\n",
       "    <tr>\n",
       "      <th>8</th>\n",
       "      <td>LBJ4212A</td>\n",
       "      <td>S-Glass Unitape S2/SP381, 3M, 0° tension, Spec...</td>\n",
       "    </tr>\n",
       "    <tr>\n",
       "      <th>9</th>\n",
       "      <td>LBJ1313A</td>\n",
       "      <td>S-Glass Unitape S2/SP381, 3M, 0° tension, Spec...</td>\n",
       "    </tr>\n",
       "    <tr>\n",
       "      <th>10</th>\n",
       "      <td>LBJ8312A</td>\n",
       "      <td>S-Glass Unitape S2/SP381, 3M, 0° tension, Spec...</td>\n",
       "    </tr>\n",
       "    <tr>\n",
       "      <th>11</th>\n",
       "      <td>LBJ8313A</td>\n",
       "      <td>S-Glass Unitape S2/SP381, 3M, 0° tension, Spec...</td>\n",
       "    </tr>\n",
       "    <tr>\n",
       "      <th>12</th>\n",
       "      <td>LBJ6212A</td>\n",
       "      <td>S-Glass Unitape S2/SP381, 3M, 0° tension, Spec...</td>\n",
       "    </tr>\n",
       "    <tr>\n",
       "      <th>13</th>\n",
       "      <td>LBJ5311A</td>\n",
       "      <td>S-Glass Unitape S2/SP381, 3M, 0° tension, Spec...</td>\n",
       "    </tr>\n",
       "    <tr>\n",
       "      <th>14</th>\n",
       "      <td>LBJ5312A</td>\n",
       "      <td>S-Glass Unitape S2/SP381, 3M, 0° tension, Spec...</td>\n",
       "    </tr>\n",
       "  </tbody>\n",
       "</table>\n",
       "</div>"
      ],
      "text/plain": [
       "   ShortName                                           LongName\n",
       "0   LBJ6213A  S-Glass Unitape S2/SP381, 3M, 0° tension, Spec...\n",
       "1   LBJ4211A  S-Glass Unitape S2/SP381, 3M, 0° tension, Spec...\n",
       "2   LBJ4213A  S-Glass Unitape S2/SP381, 3M, 0° tension, Spec...\n",
       "3   LBJ1311A  S-Glass Unitape S2/SP381, 3M, 0° tension, Spec...\n",
       "4   LBJ1312A  S-Glass Unitape S2/SP381, 3M, 0° tension, Spec...\n",
       "5   LBJ8311A  S-Glass Unitape S2/SP381, 3M, 0° tension, Spec...\n",
       "6   LBJ6214A  S-Glass Unitape S2/SP381, 3M, 0° tension, Spec...\n",
       "7   LBJ5313A  S-Glass Unitape S2/SP381, 3M, 0° tension, Spec...\n",
       "8   LBJ4212A  S-Glass Unitape S2/SP381, 3M, 0° tension, Spec...\n",
       "9   LBJ1313A  S-Glass Unitape S2/SP381, 3M, 0° tension, Spec...\n",
       "10  LBJ8312A  S-Glass Unitape S2/SP381, 3M, 0° tension, Spec...\n",
       "11  LBJ8313A  S-Glass Unitape S2/SP381, 3M, 0° tension, Spec...\n",
       "12  LBJ6212A  S-Glass Unitape S2/SP381, 3M, 0° tension, Spec...\n",
       "13  LBJ5311A  S-Glass Unitape S2/SP381, 3M, 0° tension, Spec...\n",
       "14  LBJ5312A  S-Glass Unitape S2/SP381, 3M, 0° tension, Spec..."
      ]
     },
     "execution_count": 6,
     "metadata": {},
     "output_type": "execute_result"
    }
   ],
   "source": [
    "df2 = pd.DataFrame({'ShortName': [r.shortName for r in searchResults],\n",
    "                     'LongName': [r.longName  for r in searchResults]})\n",
    "df2"
   ]
  },
  {
   "cell_type": "markdown",
   "metadata": {},
   "source": [
    "## Export data from records\n",
    "\n",
    "Create attribute references for the attributes you want to export and export data from all records."
   ]
  },
  {
   "cell_type": "code",
   "execution_count": 7,
   "metadata": {
    "execution": {
     "iopub.execute_input": "2022-05-10T22:22:40.515750Z",
     "iopub.status.busy": "2022-05-10T22:22:40.515750Z",
     "iopub.status.idle": "2022-05-10T22:22:40.992919Z",
     "shell.execute_reply": "2022-05-10T22:22:40.992919Z"
    }
   },
   "outputs": [],
   "source": [
    "attributes = [\"Young's Modulus (11-axis) (normalized)\", \"Ultimate tensile strength (normalized)\",\n",
    "\t\t\t  \"Baseline fiber volume\", \"Elastic Poisson's Ratio (12-plane)\"]\n",
    "\n",
    "attrRefs = [gdl.AttributeReference(name=a, DBKey=dbKey, partialTableReference=tableRef) for a in attributes]\n",
    "recordRefs = [r.recordReference for r in searchResults]\n",
    "request = gdl.GetRecordAttributesByRefRequest(recordReferences=recordRefs, attributeReferences=attrRefs)\n",
    "       \n",
    "recordData = session.dataExportService.GetRecordAttributesByRef(request).recordData"
   ]
  },
  {
   "cell_type": "markdown",
   "metadata": {},
   "source": [
    "Print the values of the attributes from the exported records. Note that some records may not have values for all attributes."
   ]
  },
  {
   "cell_type": "code",
   "execution_count": 8,
   "metadata": {
    "execution": {
     "iopub.execute_input": "2022-05-10T22:22:40.995922Z",
     "iopub.status.busy": "2022-05-10T22:22:40.995922Z",
     "iopub.status.idle": "2022-05-10T22:22:41.024919Z",
     "shell.execute_reply": "2022-05-10T22:22:41.024919Z"
    }
   },
   "outputs": [
    {
     "data": {
      "text/html": [
       "<div>\n",
       "<style scoped>\n",
       "    .dataframe tbody tr th:only-of-type {\n",
       "        vertical-align: middle;\n",
       "    }\n",
       "\n",
       "    .dataframe tbody tr th {\n",
       "        vertical-align: top;\n",
       "    }\n",
       "\n",
       "    .dataframe thead th {\n",
       "        text-align: right;\n",
       "    }\n",
       "</style>\n",
       "<table border=\"1\" class=\"dataframe\">\n",
       "  <thead>\n",
       "    <tr style=\"text-align: right;\">\n",
       "      <th></th>\n",
       "      <th>ShortName</th>\n",
       "      <th>LongName</th>\n",
       "      <th>Young's Modulus (11-axis) (normalized)</th>\n",
       "      <th>Ultimate tensile strength (normalized)</th>\n",
       "      <th>Baseline fiber volume</th>\n",
       "      <th>Elastic Poisson's Ratio (12-plane)</th>\n",
       "    </tr>\n",
       "  </thead>\n",
       "  <tbody>\n",
       "    <tr>\n",
       "      <th>0</th>\n",
       "      <td>LBJ6213A</td>\n",
       "      <td>S-Glass Unitape S2/SP381, 3M, 0° tension, Spec...</td>\n",
       "      <td>47.911673</td>\n",
       "      <td>1392.975515</td>\n",
       "      <td>53.473</td>\n",
       "      <td>0.266</td>\n",
       "    </tr>\n",
       "    <tr>\n",
       "      <th>1</th>\n",
       "      <td>LBJ4211A</td>\n",
       "      <td>S-Glass Unitape S2/SP381, 3M, 0° tension, Spec...</td>\n",
       "      <td>48.028883</td>\n",
       "      <td>1535.152318</td>\n",
       "      <td>53.473</td>\n",
       "      <td>0.242</td>\n",
       "    </tr>\n",
       "    <tr>\n",
       "      <th>2</th>\n",
       "      <td>LBJ4213A</td>\n",
       "      <td>S-Glass Unitape S2/SP381, 3M, 0° tension, Spec...</td>\n",
       "      <td>48.042673</td>\n",
       "      <td>1601.486784</td>\n",
       "      <td>53.473</td>\n",
       "      <td>0.259</td>\n",
       "    </tr>\n",
       "    <tr>\n",
       "      <th>3</th>\n",
       "      <td>LBJ1311A</td>\n",
       "      <td>S-Glass Unitape S2/SP381, 3M, 0° tension, Spec...</td>\n",
       "      <td>47.118775</td>\n",
       "      <td>1566.964731</td>\n",
       "      <td>53.473</td>\n",
       "      <td>0.272</td>\n",
       "    </tr>\n",
       "    <tr>\n",
       "      <th>4</th>\n",
       "      <td>LBJ1312A</td>\n",
       "      <td>S-Glass Unitape S2/SP381, 3M, 0° tension, Spec...</td>\n",
       "      <td>47.828935</td>\n",
       "      <td>1557.622334</td>\n",
       "      <td>53.473</td>\n",
       "      <td>0.252</td>\n",
       "    </tr>\n",
       "    <tr>\n",
       "      <th>5</th>\n",
       "      <td>LBJ8311A</td>\n",
       "      <td>S-Glass Unitape S2/SP381, 3M, 0° tension, Spec...</td>\n",
       "      <td>48.428779</td>\n",
       "      <td>1556.643278</td>\n",
       "      <td>53.473</td>\n",
       "      <td>0.272</td>\n",
       "    </tr>\n",
       "    <tr>\n",
       "      <th>6</th>\n",
       "      <td>LBJ6214A</td>\n",
       "      <td>S-Glass Unitape S2/SP381, 3M, 0° tension, Spec...</td>\n",
       "      <td>46.387931</td>\n",
       "      <td>1322.511090</td>\n",
       "      <td>53.473</td>\n",
       "      <td>0.264</td>\n",
       "    </tr>\n",
       "    <tr>\n",
       "      <th>7</th>\n",
       "      <td>LBJ5313A</td>\n",
       "      <td>S-Glass Unitape S2/SP381, 3M, 0° tension, Spec...</td>\n",
       "      <td>47.249776</td>\n",
       "      <td>1490.005443</td>\n",
       "      <td>53.473</td>\n",
       "      <td>0.253</td>\n",
       "    </tr>\n",
       "    <tr>\n",
       "      <th>8</th>\n",
       "      <td>LBJ4212A</td>\n",
       "      <td>S-Glass Unitape S2/SP381, 3M, 0° tension, Spec...</td>\n",
       "      <td>45.774298</td>\n",
       "      <td>1580.774931</td>\n",
       "      <td>53.473</td>\n",
       "      <td>0.306</td>\n",
       "    </tr>\n",
       "    <tr>\n",
       "      <th>9</th>\n",
       "      <td>LBJ1313A</td>\n",
       "      <td>S-Glass Unitape S2/SP381, 3M, 0° tension, Spec...</td>\n",
       "      <td>44.236767</td>\n",
       "      <td>1505.711702</td>\n",
       "      <td>53.473</td>\n",
       "      <td>0.264</td>\n",
       "    </tr>\n",
       "    <tr>\n",
       "      <th>10</th>\n",
       "      <td>LBJ8312A</td>\n",
       "      <td>S-Glass Unitape S2/SP381, 3M, 0° tension, Spec...</td>\n",
       "      <td>49.276835</td>\n",
       "      <td>1559.477024</td>\n",
       "      <td>53.473</td>\n",
       "      <td>0.258</td>\n",
       "    </tr>\n",
       "    <tr>\n",
       "      <th>11</th>\n",
       "      <td>LBJ8313A</td>\n",
       "      <td>S-Glass Unitape S2/SP381, 3M, 0° tension, Spec...</td>\n",
       "      <td>47.966831</td>\n",
       "      <td>1571.811746</td>\n",
       "      <td>53.473</td>\n",
       "      <td>0.251</td>\n",
       "    </tr>\n",
       "    <tr>\n",
       "      <th>12</th>\n",
       "      <td>LBJ6212A</td>\n",
       "      <td>S-Glass Unitape S2/SP381, 3M, 0° tension, Spec...</td>\n",
       "      <td>49.076887</td>\n",
       "      <td>1379.806528</td>\n",
       "      <td>53.473</td>\n",
       "      <td>0.270</td>\n",
       "    </tr>\n",
       "    <tr>\n",
       "      <th>13</th>\n",
       "      <td>LBJ5311A</td>\n",
       "      <td>S-Glass Unitape S2/SP381, 3M, 0° tension, Spec...</td>\n",
       "      <td>48.725254</td>\n",
       "      <td>1559.456339</td>\n",
       "      <td>53.473</td>\n",
       "      <td>0.254</td>\n",
       "    </tr>\n",
       "    <tr>\n",
       "      <th>14</th>\n",
       "      <td>LBJ5312A</td>\n",
       "      <td>S-Glass Unitape S2/SP381, 3M, 0° tension, Spec...</td>\n",
       "      <td>48.835570</td>\n",
       "      <td>1483.241686</td>\n",
       "      <td>53.473</td>\n",
       "      <td>0.272</td>\n",
       "    </tr>\n",
       "  </tbody>\n",
       "</table>\n",
       "</div>"
      ],
      "text/plain": [
       "   ShortName                                           LongName  \\\n",
       "0   LBJ6213A  S-Glass Unitape S2/SP381, 3M, 0° tension, Spec...   \n",
       "1   LBJ4211A  S-Glass Unitape S2/SP381, 3M, 0° tension, Spec...   \n",
       "2   LBJ4213A  S-Glass Unitape S2/SP381, 3M, 0° tension, Spec...   \n",
       "3   LBJ1311A  S-Glass Unitape S2/SP381, 3M, 0° tension, Spec...   \n",
       "4   LBJ1312A  S-Glass Unitape S2/SP381, 3M, 0° tension, Spec...   \n",
       "5   LBJ8311A  S-Glass Unitape S2/SP381, 3M, 0° tension, Spec...   \n",
       "6   LBJ6214A  S-Glass Unitape S2/SP381, 3M, 0° tension, Spec...   \n",
       "7   LBJ5313A  S-Glass Unitape S2/SP381, 3M, 0° tension, Spec...   \n",
       "8   LBJ4212A  S-Glass Unitape S2/SP381, 3M, 0° tension, Spec...   \n",
       "9   LBJ1313A  S-Glass Unitape S2/SP381, 3M, 0° tension, Spec...   \n",
       "10  LBJ8312A  S-Glass Unitape S2/SP381, 3M, 0° tension, Spec...   \n",
       "11  LBJ8313A  S-Glass Unitape S2/SP381, 3M, 0° tension, Spec...   \n",
       "12  LBJ6212A  S-Glass Unitape S2/SP381, 3M, 0° tension, Spec...   \n",
       "13  LBJ5311A  S-Glass Unitape S2/SP381, 3M, 0° tension, Spec...   \n",
       "14  LBJ5312A  S-Glass Unitape S2/SP381, 3M, 0° tension, Spec...   \n",
       "\n",
       "    Young's Modulus (11-axis) (normalized)  \\\n",
       "0                                47.911673   \n",
       "1                                48.028883   \n",
       "2                                48.042673   \n",
       "3                                47.118775   \n",
       "4                                47.828935   \n",
       "5                                48.428779   \n",
       "6                                46.387931   \n",
       "7                                47.249776   \n",
       "8                                45.774298   \n",
       "9                                44.236767   \n",
       "10                               49.276835   \n",
       "11                               47.966831   \n",
       "12                               49.076887   \n",
       "13                               48.725254   \n",
       "14                               48.835570   \n",
       "\n",
       "    Ultimate tensile strength (normalized)  Baseline fiber volume  \\\n",
       "0                              1392.975515                 53.473   \n",
       "1                              1535.152318                 53.473   \n",
       "2                              1601.486784                 53.473   \n",
       "3                              1566.964731                 53.473   \n",
       "4                              1557.622334                 53.473   \n",
       "5                              1556.643278                 53.473   \n",
       "6                              1322.511090                 53.473   \n",
       "7                              1490.005443                 53.473   \n",
       "8                              1580.774931                 53.473   \n",
       "9                              1505.711702                 53.473   \n",
       "10                             1559.477024                 53.473   \n",
       "11                             1571.811746                 53.473   \n",
       "12                             1379.806528                 53.473   \n",
       "13                             1559.456339                 53.473   \n",
       "14                             1483.241686                 53.473   \n",
       "\n",
       "    Elastic Poisson's Ratio (12-plane)  \n",
       "0                                0.266  \n",
       "1                                0.242  \n",
       "2                                0.259  \n",
       "3                                0.272  \n",
       "4                                0.252  \n",
       "5                                0.272  \n",
       "6                                0.264  \n",
       "7                                0.253  \n",
       "8                                0.306  \n",
       "9                                0.264  \n",
       "10                               0.258  \n",
       "11                               0.251  \n",
       "12                               0.270  \n",
       "13                               0.254  \n",
       "14                               0.272  "
      ]
     },
     "execution_count": 8,
     "metadata": {},
     "output_type": "execute_result"
    }
   ],
   "source": [
    "s = [None]*len(df2)\n",
    "for attribute in attributes:\n",
    "    for idx, record in enumerate(recordData):\n",
    "        attrValue = next((x for x in record.attributeValues if x.attributeName == attribute), None)\n",
    "        s[idx] = attrValue.pointDataType.points[0].value if attrValue else None\n",
    "    df2[attribute] = s\n",
    "    \n",
    "df2"
   ]
  },
  {
   "cell_type": "markdown",
   "metadata": {},
   "source": [
    "Create a plot of the exported values"
   ]
  },
  {
   "cell_type": "code",
   "execution_count": 9,
   "metadata": {
    "execution": {
     "iopub.execute_input": "2022-05-10T22:22:41.027922Z",
     "iopub.status.busy": "2022-05-10T22:22:41.027922Z",
     "iopub.status.idle": "2022-05-10T22:22:42.073921Z",
     "shell.execute_reply": "2022-05-10T22:22:42.073921Z"
    }
   },
   "outputs": [
    {
     "data": {
      "text/plain": [
       "<AxesSubplot:xlabel='Ultimate tensile strength (normalized)', ylabel=\"Young's Modulus (11-axis) (normalized)\">"
      ]
     },
     "execution_count": 9,
     "metadata": {},
     "output_type": "execute_result"
    },
    {
     "data": {
      "image/png": "[encoded data removed]",
      "text/plain": [
       "<Figure size 720x504 with 2 Axes>"
      ]
     },
     "metadata": {
      "needs_background": "light"
     },
     "output_type": "display_data"
    }
   ],
   "source": [
    "import matplotlib\n",
    "\n",
    "df2.plot.scatter(x=\"Ultimate tensile strength (normalized)\", y=\"Young's Modulus (11-axis) (normalized)\", loglog=False,\n",
    "\t\t\t\t c=\"Elastic Poisson's Ratio (12-plane)\", colormap=\"afmhot\", norm=matplotlib.colors.LogNorm(),\n",
    "                 grid=True, figsize=(10, 7))"
   ]
  },
  {
   "cell_type": "code",
   "execution_count": null,
   "metadata": {},
   "outputs": [],
   "source": []
  }
 ],
 "metadata": {
  "anaconda-cloud": {},
  "kernelspec": {
   "display_name": "Python 3",
   "language": "python",
   "name": "python3"
  },
  "language_info": {
   "codemirror_mode": {
    "name": "ipython",
    "version": 3
   },
   "file_extension": ".py",
   "mimetype": "text/x-python",
   "name": "python",
   "nbconvert_exporter": "python",
   "pygments_lexer": "ipython3",
   "version": "3.8.10"
  }
 },
 "nbformat": 4,
 "nbformat_minor": 1
}
