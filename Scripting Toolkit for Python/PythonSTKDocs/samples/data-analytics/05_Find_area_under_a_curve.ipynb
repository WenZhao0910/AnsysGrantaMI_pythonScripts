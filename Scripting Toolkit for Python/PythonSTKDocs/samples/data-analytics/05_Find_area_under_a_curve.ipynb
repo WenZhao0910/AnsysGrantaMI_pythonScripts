{
 "cells": [
  {
   "cell_type": "markdown",
   "id": "6c53cc47",
   "metadata": {},
   "source": [
    "# Find the area under a curve\n",
    "\n",
    "Calculate the area under a set of temperature-dependent stress-strain curves with `numpy` and `scipy`, and determine how the toughness and energy stored in the material up to the yield point varies with temperature."
   ]
  },
  {
   "cell_type": "markdown",
   "id": "febd0bfb",
   "metadata": {},
   "source": [
    "## Connect to Granta MI"
   ]
  },
  {
   "cell_type": "markdown",
   "id": "29a888c6",
   "metadata": {},
   "source": [
    "Create a session, and specify a database and table."
   ]
  },
  {
   "cell_type": "code",
   "execution_count": 1,
   "id": "d0ff4626",
   "metadata": {
    "execution": {
     "iopub.execute_input": "2022-05-10T22:52:11.977297Z",
     "iopub.status.busy": "2022-05-10T22:52:11.977297Z",
     "iopub.status.idle": "2022-05-10T22:52:13.897667Z",
     "shell.execute_reply": "2022-05-10T22:52:13.897667Z"
    },
    "tags": []
   },
   "outputs": [],
   "source": [
    "from GRANTA_MIScriptingToolkit import granta as mi\n",
    "\n",
    "session = mi.Session('localhost', autologon=True)\n",
    "training_db = session.get_db('MI Training')\n",
    "training_db.set_unit_system('SI (Consistent)')\n",
    "design_data = training_db.get_table('Design Data')"
   ]
  },
  {
   "cell_type": "markdown",
   "id": "1bacc768",
   "metadata": {},
   "source": [
    "Specify the record you want to export using a lookup value (requires MI Scripting Toolkit 2.3 or later)."
   ]
  },
  {
   "cell_type": "code",
   "execution_count": 2,
   "id": "bcfd4530",
   "metadata": {
    "execution": {
     "iopub.execute_input": "2022-05-10T22:52:13.897667Z",
     "iopub.status.busy": "2022-05-10T22:52:13.897667Z",
     "iopub.status.idle": "2022-05-10T22:52:26.715618Z",
     "shell.execute_reply": "2022-05-10T22:52:26.715618Z"
    },
    "tags": []
   },
   "outputs": [],
   "source": [
    "record = design_data.get_record_by_lookup_value(attribute_name='Common Name', lookup_value='250 Grade Maraging')"
   ]
  },
  {
   "cell_type": "markdown",
   "id": "9aad05bb",
   "metadata": {},
   "source": [
    "Get the attribute data you need from the record. (*Yield Stress* and *Tensile Modulus* are needed to calculate the yield point at each temperature.)"
   ]
  },
  {
   "cell_type": "code",
   "execution_count": 3,
   "id": "08190189",
   "metadata": {
    "execution": {
     "iopub.execute_input": "2022-05-10T22:52:26.715618Z",
     "iopub.status.busy": "2022-05-10T22:52:26.715618Z",
     "iopub.status.idle": "2022-05-10T22:52:32.444037Z",
     "shell.execute_reply": "2022-05-10T22:52:32.444037Z"
    },
    "tags": []
   },
   "outputs": [],
   "source": [
    "stress_strain = record.attributes['Tensile Stress/Strain, L']\n",
    "yield_stress = record.attributes['Tens. Yield Stress (L-dir) with Temp.']\n",
    "youngs_modulus = record.attributes['Tensile Modulus (L-dir) with Temp.']"
   ]
  },
  {
   "cell_type": "markdown",
   "id": "a56b2f55",
   "metadata": {},
   "source": [
    "## Use a DataFrame to prepare the data"
   ]
  },
  {
   "cell_type": "markdown",
   "id": "534f5c88",
   "metadata": {},
   "source": [
    "### Build a DataFrame for each functional attribute"
   ]
  },
  {
   "cell_type": "markdown",
   "id": "3a692565",
   "metadata": {},
   "source": [
    "MI Scripting Toolkit's list-of-lists format for functional data can be loaded directly into a DataFrame, as long as you separate the datum into the first list item (the column headers) and the subsequent list items (the datapoints)."
   ]
  },
  {
   "cell_type": "code",
   "execution_count": 4,
   "id": "6bef3322",
   "metadata": {
    "execution": {
     "iopub.execute_input": "2022-05-10T22:52:32.444037Z",
     "iopub.status.busy": "2022-05-10T22:52:32.444037Z",
     "iopub.status.idle": "2022-05-10T22:52:32.734039Z",
     "shell.execute_reply": "2022-05-10T22:52:32.734039Z"
    },
    "tags": []
   },
   "outputs": [
    {
     "data": {
      "text/html": [
       "<div>\n",
       "<style scoped>\n",
       "    .dataframe tbody tr th:only-of-type {\n",
       "        vertical-align: middle;\n",
       "    }\n",
       "\n",
       "    .dataframe tbody tr th {\n",
       "        vertical-align: top;\n",
       "    }\n",
       "\n",
       "    .dataframe thead th {\n",
       "        text-align: right;\n",
       "    }\n",
       "</style>\n",
       "<table border=\"1\" class=\"dataframe\">\n",
       "  <thead>\n",
       "    <tr style=\"text-align: right;\">\n",
       "      <th></th>\n",
       "      <th>Y min (Tensile Stress/Strain, L [Pa])</th>\n",
       "      <th>Y max (Tensile Stress/Strain, L [Pa])</th>\n",
       "      <th>Strain [strain]</th>\n",
       "      <th>Temperature [°C]</th>\n",
       "      <th>Time [s]</th>\n",
       "      <th>Other []</th>\n",
       "      <th>Stress/Strain Curve Type []</th>\n",
       "      <th>Estimated point?</th>\n",
       "    </tr>\n",
       "  </thead>\n",
       "  <tbody>\n",
       "    <tr>\n",
       "      <th>0</th>\n",
       "      <td>0.000000e+00</td>\n",
       "      <td>0.000000e+00</td>\n",
       "      <td>0.00000</td>\n",
       "      <td>-73.332999</td>\n",
       "      <td>1800.0</td>\n",
       "      <td>None</td>\n",
       "      <td>Yield</td>\n",
       "      <td>False</td>\n",
       "    </tr>\n",
       "    <tr>\n",
       "      <th>1</th>\n",
       "      <td>3.964486e+08</td>\n",
       "      <td>3.964486e+08</td>\n",
       "      <td>0.00209</td>\n",
       "      <td>-73.332999</td>\n",
       "      <td>1800.0</td>\n",
       "      <td>None</td>\n",
       "      <td>Yield</td>\n",
       "      <td>False</td>\n",
       "    </tr>\n",
       "    <tr>\n",
       "      <th>2</th>\n",
       "      <td>7.136074e+08</td>\n",
       "      <td>7.136074e+08</td>\n",
       "      <td>0.00376</td>\n",
       "      <td>-73.332999</td>\n",
       "      <td>1800.0</td>\n",
       "      <td>None</td>\n",
       "      <td>Yield</td>\n",
       "      <td>False</td>\n",
       "    </tr>\n",
       "    <tr>\n",
       "      <th>3</th>\n",
       "      <td>1.030766e+09</td>\n",
       "      <td>1.030766e+09</td>\n",
       "      <td>0.00544</td>\n",
       "      <td>-73.332999</td>\n",
       "      <td>1800.0</td>\n",
       "      <td>None</td>\n",
       "      <td>Yield</td>\n",
       "      <td>False</td>\n",
       "    </tr>\n",
       "    <tr>\n",
       "      <th>4</th>\n",
       "      <td>1.268635e+09</td>\n",
       "      <td>1.268635e+09</td>\n",
       "      <td>0.00669</td>\n",
       "      <td>-73.332999</td>\n",
       "      <td>1800.0</td>\n",
       "      <td>None</td>\n",
       "      <td>Yield</td>\n",
       "      <td>False</td>\n",
       "    </tr>\n",
       "  </tbody>\n",
       "</table>\n",
       "</div>"
      ],
      "text/plain": [
       "   Y min (Tensile Stress/Strain, L [Pa])  \\\n",
       "0                           0.000000e+00   \n",
       "1                           3.964486e+08   \n",
       "2                           7.136074e+08   \n",
       "3                           1.030766e+09   \n",
       "4                           1.268635e+09   \n",
       "\n",
       "   Y max (Tensile Stress/Strain, L [Pa])  Strain [strain]  Temperature [°C]  \\\n",
       "0                           0.000000e+00          0.00000        -73.332999   \n",
       "1                           3.964486e+08          0.00209        -73.332999   \n",
       "2                           7.136074e+08          0.00376        -73.332999   \n",
       "3                           1.030766e+09          0.00544        -73.332999   \n",
       "4                           1.268635e+09          0.00669        -73.332999   \n",
       "\n",
       "   Time [s] Other [] Stress/Strain Curve Type []  Estimated point?  \n",
       "0    1800.0     None                       Yield             False  \n",
       "1    1800.0     None                       Yield             False  \n",
       "2    1800.0     None                       Yield             False  \n",
       "3    1800.0     None                       Yield             False  \n",
       "4    1800.0     None                       Yield             False  "
      ]
     },
     "execution_count": 4,
     "metadata": {},
     "output_type": "execute_result"
    }
   ],
   "source": [
    "import pandas as pd\n",
    "\n",
    "def functional_to_dataframe(attr):\n",
    "    headers = attr.value[0]\n",
    "    func_data = attr.value[1:]\n",
    "    df = pd.DataFrame(func_data, columns=headers)\n",
    "    return df\n",
    "\n",
    "df_stress_strain = functional_to_dataframe(stress_strain)\n",
    "df_yield_stress = functional_to_dataframe(yield_stress)\n",
    "df_youngs_modulus = functional_to_dataframe(youngs_modulus)\n",
    "df_stress_strain.head()"
   ]
  },
  {
   "cell_type": "markdown",
   "id": "472b1ea3",
   "metadata": {},
   "source": [
    "### Refine the data"
   ]
  },
  {
   "cell_type": "markdown",
   "id": "cb4769a4",
   "metadata": {},
   "source": [
    "Define a function that takes a DataFrame and performs the following transformations as needed:\n",
    "\n",
    "* Removes columns that aren't required, including the duplicated y-axis column\n",
    "\n",
    "* Renames the x and y columns\n",
    "\n",
    "* Copies columns"
   ]
  },
  {
   "cell_type": "code",
   "execution_count": 5,
   "id": "4dd167f9",
   "metadata": {
    "execution": {
     "iopub.execute_input": "2022-05-10T22:52:32.734039Z",
     "iopub.status.busy": "2022-05-10T22:52:32.734039Z",
     "iopub.status.idle": "2022-05-10T22:52:32.744039Z",
     "shell.execute_reply": "2022-05-10T22:52:32.744039Z"
    }
   },
   "outputs": [],
   "source": [
    "def clean_dataframe(df, y_name, x_name, columns_to_drop=None, columns_to_keep=None):\n",
    "    if not columns_to_drop:\n",
    "        columns_to_drop = []\n",
    "    if not columns_to_keep:\n",
    "        columns_to_keep = []\n",
    "    new_df = df.drop(columns=[f'Y max ({y_name})']+[f'Y min ({y_name})']+columns_to_drop)\n",
    "    new_df['y'] = df[[f'Y max ({y_name})', f'Y min ({y_name})']].mean(axis=1)\n",
    "    new_df = new_df.rename(columns={x_name: 'x'})\n",
    "    new_df[columns_to_keep] = df[columns_to_keep]\n",
    "    return new_df"
   ]
  },
  {
   "cell_type": "markdown",
   "id": "65b52f7d",
   "metadata": {},
   "source": [
    "Use this function to create 'clean' versions of all three DataFrames."
   ]
  },
  {
   "cell_type": "code",
   "execution_count": 6,
   "id": "377c1fab",
   "metadata": {
    "execution": {
     "iopub.execute_input": "2022-05-10T22:52:32.744039Z",
     "iopub.status.busy": "2022-05-10T22:52:32.744039Z",
     "iopub.status.idle": "2022-05-10T22:52:32.764040Z",
     "shell.execute_reply": "2022-05-10T22:52:32.764040Z"
    }
   },
   "outputs": [
    {
     "data": {
      "text/html": [
       "<div>\n",
       "<style scoped>\n",
       "    .dataframe tbody tr th:only-of-type {\n",
       "        vertical-align: middle;\n",
       "    }\n",
       "\n",
       "    .dataframe tbody tr th {\n",
       "        vertical-align: top;\n",
       "    }\n",
       "\n",
       "    .dataframe thead th {\n",
       "        text-align: right;\n",
       "    }\n",
       "</style>\n",
       "<table border=\"1\" class=\"dataframe\">\n",
       "  <thead>\n",
       "    <tr style=\"text-align: right;\">\n",
       "      <th></th>\n",
       "      <th>x</th>\n",
       "      <th>Temperature</th>\n",
       "      <th>y</th>\n",
       "    </tr>\n",
       "  </thead>\n",
       "  <tbody>\n",
       "    <tr>\n",
       "      <th>0</th>\n",
       "      <td>0.00000</td>\n",
       "      <td>-73.332999</td>\n",
       "      <td>0.000000e+00</td>\n",
       "    </tr>\n",
       "    <tr>\n",
       "      <th>1</th>\n",
       "      <td>0.00209</td>\n",
       "      <td>-73.332999</td>\n",
       "      <td>3.964486e+08</td>\n",
       "    </tr>\n",
       "    <tr>\n",
       "      <th>2</th>\n",
       "      <td>0.00376</td>\n",
       "      <td>-73.332999</td>\n",
       "      <td>7.136074e+08</td>\n",
       "    </tr>\n",
       "    <tr>\n",
       "      <th>3</th>\n",
       "      <td>0.00544</td>\n",
       "      <td>-73.332999</td>\n",
       "      <td>1.030766e+09</td>\n",
       "    </tr>\n",
       "    <tr>\n",
       "      <th>4</th>\n",
       "      <td>0.00669</td>\n",
       "      <td>-73.332999</td>\n",
       "      <td>1.268635e+09</td>\n",
       "    </tr>\n",
       "  </tbody>\n",
       "</table>\n",
       "</div>"
      ],
      "text/plain": [
       "         x  Temperature             y\n",
       "0  0.00000   -73.332999  0.000000e+00\n",
       "1  0.00209   -73.332999  3.964486e+08\n",
       "2  0.00376   -73.332999  7.136074e+08\n",
       "3  0.00544   -73.332999  1.030766e+09\n",
       "4  0.00669   -73.332999  1.268635e+09"
      ]
     },
     "execution_count": 6,
     "metadata": {},
     "output_type": "execute_result"
    }
   ],
   "source": [
    "df_stress_strain_clean = clean_dataframe(df=df_stress_strain, \n",
    "                                         y_name='Tensile Stress/Strain, L [Pa]', \n",
    "                                         x_name='Strain [strain]', \n",
    "                                         columns_to_drop=['Y max (Tensile Stress/Strain, L [Pa])',\n",
    "                                                          'Time [s]',\n",
    "                                                          'Estimated point?',\n",
    "                                                          'Other []',\n",
    "                                                          'Stress/Strain Curve Type []'], \n",
    "                                         columns_to_keep=['Temperature [°C]'])\n",
    "df_stress_strain_clean = df_stress_strain_clean.rename(columns={'Temperature [°C]': 'Temperature'})\n",
    "df_stress_strain_clean.head()"
   ]
  },
  {
   "cell_type": "code",
   "execution_count": 7,
   "id": "1bd466f9",
   "metadata": {
    "execution": {
     "iopub.execute_input": "2022-05-10T22:52:32.764040Z",
     "iopub.status.busy": "2022-05-10T22:52:32.764040Z",
     "iopub.status.idle": "2022-05-10T22:52:32.774039Z",
     "shell.execute_reply": "2022-05-10T22:52:32.774039Z"
    }
   },
   "outputs": [
    {
     "data": {
      "text/html": [
       "<div>\n",
       "<style scoped>\n",
       "    .dataframe tbody tr th:only-of-type {\n",
       "        vertical-align: middle;\n",
       "    }\n",
       "\n",
       "    .dataframe tbody tr th {\n",
       "        vertical-align: top;\n",
       "    }\n",
       "\n",
       "    .dataframe thead th {\n",
       "        text-align: right;\n",
       "    }\n",
       "</style>\n",
       "<table border=\"1\" class=\"dataframe\">\n",
       "  <thead>\n",
       "    <tr style=\"text-align: right;\">\n",
       "      <th></th>\n",
       "      <th>x</th>\n",
       "      <th>y</th>\n",
       "    </tr>\n",
       "  </thead>\n",
       "  <tbody>\n",
       "    <tr>\n",
       "      <th>0</th>\n",
       "      <td>-195.555602</td>\n",
       "      <td>2.034443e+09</td>\n",
       "    </tr>\n",
       "    <tr>\n",
       "      <th>1</th>\n",
       "      <td>-184.444403</td>\n",
       "      <td>1.994060e+09</td>\n",
       "    </tr>\n",
       "    <tr>\n",
       "      <th>2</th>\n",
       "      <td>-173.333296</td>\n",
       "      <td>1.957518e+09</td>\n",
       "    </tr>\n",
       "    <tr>\n",
       "      <th>3</th>\n",
       "      <td>-162.221999</td>\n",
       "      <td>1.924320e+09</td>\n",
       "    </tr>\n",
       "    <tr>\n",
       "      <th>4</th>\n",
       "      <td>-151.110999</td>\n",
       "      <td>1.894287e+09</td>\n",
       "    </tr>\n",
       "  </tbody>\n",
       "</table>\n",
       "</div>"
      ],
      "text/plain": [
       "            x             y\n",
       "0 -195.555602  2.034443e+09\n",
       "1 -184.444403  1.994060e+09\n",
       "2 -173.333296  1.957518e+09\n",
       "3 -162.221999  1.924320e+09\n",
       "4 -151.110999  1.894287e+09"
      ]
     },
     "execution_count": 7,
     "metadata": {},
     "output_type": "execute_result"
    }
   ],
   "source": [
    "df_yield_stress_clean = clean_dataframe(df=df_yield_stress, \n",
    "                                        y_name='Tens. Yield Stress (L-dir) with Temp. [Pa]', \n",
    "                                        x_name='Temperature [°C]', \n",
    "                                        columns_to_drop=['Y max (Tens. Yield Stress (L-dir) with Temp. [Pa])',\n",
    "                                                         'Time [s]',\n",
    "                                                         'Estimated point?',\n",
    "                                                         'Other []'])\n",
    "df_yield_stress_clean.head()"
   ]
  },
  {
   "cell_type": "code",
   "execution_count": 8,
   "id": "f6beb521",
   "metadata": {
    "execution": {
     "iopub.execute_input": "2022-05-10T22:52:32.774039Z",
     "iopub.status.busy": "2022-05-10T22:52:32.774039Z",
     "iopub.status.idle": "2022-05-10T22:52:32.784040Z",
     "shell.execute_reply": "2022-05-10T22:52:32.784040Z"
    }
   },
   "outputs": [
    {
     "data": {
      "text/html": [
       "<div>\n",
       "<style scoped>\n",
       "    .dataframe tbody tr th:only-of-type {\n",
       "        vertical-align: middle;\n",
       "    }\n",
       "\n",
       "    .dataframe tbody tr th {\n",
       "        vertical-align: top;\n",
       "    }\n",
       "\n",
       "    .dataframe thead th {\n",
       "        text-align: right;\n",
       "    }\n",
       "</style>\n",
       "<table border=\"1\" class=\"dataframe\">\n",
       "  <thead>\n",
       "    <tr style=\"text-align: right;\">\n",
       "      <th></th>\n",
       "      <th>x</th>\n",
       "      <th>y</th>\n",
       "    </tr>\n",
       "  </thead>\n",
       "  <tbody>\n",
       "    <tr>\n",
       "      <th>0</th>\n",
       "      <td>-73.332999</td>\n",
       "      <td>1.891060e+11</td>\n",
       "    </tr>\n",
       "    <tr>\n",
       "      <th>1</th>\n",
       "      <td>-62.222006</td>\n",
       "      <td>1.886130e+11</td>\n",
       "    </tr>\n",
       "    <tr>\n",
       "      <th>2</th>\n",
       "      <td>-51.110999</td>\n",
       "      <td>1.879552e+11</td>\n",
       "    </tr>\n",
       "    <tr>\n",
       "      <th>3</th>\n",
       "      <td>-40.000006</td>\n",
       "      <td>1.872244e+11</td>\n",
       "    </tr>\n",
       "    <tr>\n",
       "      <th>4</th>\n",
       "      <td>-28.888998</td>\n",
       "      <td>1.864384e+11</td>\n",
       "    </tr>\n",
       "  </tbody>\n",
       "</table>\n",
       "</div>"
      ],
      "text/plain": [
       "           x             y\n",
       "0 -73.332999  1.891060e+11\n",
       "1 -62.222006  1.886130e+11\n",
       "2 -51.110999  1.879552e+11\n",
       "3 -40.000006  1.872244e+11\n",
       "4 -28.888998  1.864384e+11"
      ]
     },
     "execution_count": 8,
     "metadata": {},
     "output_type": "execute_result"
    }
   ],
   "source": [
    "df_youngs_modulus_clean = clean_dataframe(df=df_youngs_modulus, \n",
    "                                          y_name='Tensile Modulus (L-dir) with Temp. [Pa]', \n",
    "                                          x_name='Temperature [°C]', \n",
    "                                          columns_to_drop=['Y max (Tensile Modulus (L-dir) with Temp. [Pa])',\n",
    "                                                           'Time [s]',\n",
    "                                                           'Estimated point?',\n",
    "                                                           'Other []'])\n",
    "df_youngs_modulus_clean.head()"
   ]
  },
  {
   "cell_type": "markdown",
   "id": "f3b5dfe9",
   "metadata": {},
   "source": [
    "## Calculate the area under the curves"
   ]
  },
  {
   "cell_type": "markdown",
   "id": "030b1547",
   "metadata": {},
   "source": [
    "### Calculate the yield strain for each temperature"
   ]
  },
  {
   "cell_type": "markdown",
   "id": "f14193c6",
   "metadata": {},
   "source": [
    "We need to integrate from x = 0 to the yield strain value. To calculate the yield strain, we require the exact *Young's modulus* and *Yield stress* at each temperature.\n",
    "\n",
    "Our data may not have a value at that temperature, so use the `interp1d` function to interpolate between datapoints."
   ]
  },
  {
   "cell_type": "code",
   "execution_count": 9,
   "id": "6ab61d0d",
   "metadata": {
    "execution": {
     "iopub.execute_input": "2022-05-10T22:52:32.784040Z",
     "iopub.status.busy": "2022-05-10T22:52:32.784040Z",
     "iopub.status.idle": "2022-05-10T22:52:32.934037Z",
     "shell.execute_reply": "2022-05-10T22:52:32.934037Z"
    }
   },
   "outputs": [],
   "source": [
    "from scipy.interpolate import interp1d\n",
    "\n",
    "modulus_x = df_youngs_modulus_clean.x\n",
    "modulus_y = df_youngs_modulus_clean.y\n",
    "f_modulus = interp1d(modulus_x, modulus_y, kind='cubic')\n",
    "\n",
    "yield_x = df_yield_stress_clean.x\n",
    "yield_y = df_yield_stress_clean.y\n",
    "f_yield = interp1d(yield_x, yield_y, kind='cubic')"
   ]
  },
  {
   "cell_type": "markdown",
   "id": "f99b8fa4",
   "metadata": {},
   "source": [
    "Define a function, `get_yield_strain_at()`, to calculate the yield strain from the interpolated values of *Young's modulus* and *Yield stress*. Assume an offset strain value of 0.02%."
   ]
  },
  {
   "cell_type": "code",
   "execution_count": 10,
   "id": "9fd214b4",
   "metadata": {
    "execution": {
     "iopub.execute_input": "2022-05-10T22:52:32.934037Z",
     "iopub.status.busy": "2022-05-10T22:52:32.934037Z",
     "iopub.status.idle": "2022-05-10T22:52:32.944039Z",
     "shell.execute_reply": "2022-05-10T22:52:32.944039Z"
    }
   },
   "outputs": [],
   "source": [
    "OFFSET_STRAIN = 0.0002\n",
    "\n",
    "def get_yield_strain_at(temp):\n",
    "    modulus = f_modulus(temp)\n",
    "    yield_stress = f_yield(temp)\n",
    "    yield_strain = yield_stress / modulus + OFFSET_STRAIN\n",
    "    return yield_strain"
   ]
  },
  {
   "cell_type": "markdown",
   "id": "347d4ea5",
   "metadata": {},
   "source": [
    "### Re-sample the stress-strain curve up to the yield strain point"
   ]
  },
  {
   "cell_type": "markdown",
   "id": "a28f2f0a",
   "metadata": {},
   "source": [
    "Define a function to generate a re-sampled set of x-y points for the stress-strain curve, up to the yield strain value. \n",
    "\n",
    "Use `get_yield_strain_at()` to calculate the x limit of the resampling, then create a new set of linearly-spaced x values up to this limit. Then use `interp1d` to calculate the corresponding set of y values."
   ]
  },
  {
   "cell_type": "code",
   "execution_count": 11,
   "id": "cf733586",
   "metadata": {
    "execution": {
     "iopub.execute_input": "2022-05-10T22:52:32.944039Z",
     "iopub.status.busy": "2022-05-10T22:52:32.944039Z",
     "iopub.status.idle": "2022-05-10T22:52:32.954037Z",
     "shell.execute_reply": "2022-05-10T22:52:32.954037Z"
    }
   },
   "outputs": [],
   "source": [
    "import numpy as np\n",
    "\n",
    "def resample_stress_strain(x, y, x_t):\n",
    "    yield_strain = get_yield_strain_at(x_t)\n",
    "    xnew = np.linspace(0, yield_strain, num=101, endpoint=True)\n",
    "    f = interp1d(x, y, kind='cubic')\n",
    "    ynew = f(xnew)\n",
    "    return xnew, ynew"
   ]
  },
  {
   "cell_type": "markdown",
   "id": "b568426a",
   "metadata": {},
   "source": [
    "### Perform the numerical integration"
   ]
  },
  {
   "cell_type": "markdown",
   "id": "00c4a4a7",
   "metadata": {},
   "source": [
    "Define a function that uses Simpson's rule to perform the numerical integration on the resampled data points."
   ]
  },
  {
   "cell_type": "code",
   "execution_count": 12,
   "id": "bdf1e360",
   "metadata": {
    "execution": {
     "iopub.execute_input": "2022-05-10T22:52:32.954037Z",
     "iopub.status.busy": "2022-05-10T22:52:32.954037Z",
     "iopub.status.idle": "2022-05-10T22:52:33.084040Z",
     "shell.execute_reply": "2022-05-10T22:52:33.084040Z"
    }
   },
   "outputs": [],
   "source": [
    "from scipy.integrate import simps\n",
    "\n",
    "def area_under_stress_strain_curve(temp, df_single_temp):    \n",
    "    x = df_single_temp.x\n",
    "    y = df_single_temp.y\n",
    "    xnew, ynew = resample_stress_strain(x, y, temp)\n",
    "    result = simps(ynew, xnew)\n",
    "    return result"
   ]
  },
  {
   "cell_type": "markdown",
   "id": "b113420e",
   "metadata": {},
   "source": [
    "### Run the calculations for each stress-strain curve"
   ]
  },
  {
   "cell_type": "markdown",
   "id": "eb7a0e88",
   "metadata": {},
   "source": [
    "Use the `DataFrame.groupby()` function to generate sub-DataFrames for each unique temperature value. Iterate over these, storing the results of `area_under_stress_strain_curve()` in a dict."
   ]
  },
  {
   "cell_type": "code",
   "execution_count": 13,
   "id": "843ab127",
   "metadata": {
    "execution": {
     "iopub.execute_input": "2022-05-10T22:52:33.084040Z",
     "iopub.status.busy": "2022-05-10T22:52:33.084040Z",
     "iopub.status.idle": "2022-05-10T22:52:33.104036Z",
     "shell.execute_reply": "2022-05-10T22:52:33.104036Z"
    },
    "tags": []
   },
   "outputs": [
    {
     "data": {
      "text/html": [
       "<div>\n",
       "<style scoped>\n",
       "    .dataframe tbody tr th:only-of-type {\n",
       "        vertical-align: middle;\n",
       "    }\n",
       "\n",
       "    .dataframe tbody tr th {\n",
       "        vertical-align: top;\n",
       "    }\n",
       "\n",
       "    .dataframe thead th {\n",
       "        text-align: right;\n",
       "    }\n",
       "</style>\n",
       "<table border=\"1\" class=\"dataframe\">\n",
       "  <thead>\n",
       "    <tr style=\"text-align: right;\">\n",
       "      <th></th>\n",
       "      <th>x</th>\n",
       "      <th>y</th>\n",
       "    </tr>\n",
       "  </thead>\n",
       "  <tbody>\n",
       "    <tr>\n",
       "      <th>0</th>\n",
       "      <td>-73.332999</td>\n",
       "      <td>8.500280e+06</td>\n",
       "    </tr>\n",
       "    <tr>\n",
       "      <th>1</th>\n",
       "      <td>26.666986</td>\n",
       "      <td>7.931329e+06</td>\n",
       "    </tr>\n",
       "    <tr>\n",
       "      <th>2</th>\n",
       "      <td>148.889001</td>\n",
       "      <td>7.063305e+06</td>\n",
       "    </tr>\n",
       "    <tr>\n",
       "      <th>3</th>\n",
       "      <td>315.555994</td>\n",
       "      <td>6.036317e+06</td>\n",
       "    </tr>\n",
       "    <tr>\n",
       "      <th>4</th>\n",
       "      <td>426.667017</td>\n",
       "      <td>5.433286e+06</td>\n",
       "    </tr>\n",
       "    <tr>\n",
       "      <th>5</th>\n",
       "      <td>537.777979</td>\n",
       "      <td>2.680041e+06</td>\n",
       "    </tr>\n",
       "  </tbody>\n",
       "</table>\n",
       "</div>"
      ],
      "text/plain": [
       "            x             y\n",
       "0  -73.332999  8.500280e+06\n",
       "1   26.666986  7.931329e+06\n",
       "2  148.889001  7.063305e+06\n",
       "3  315.555994  6.036317e+06\n",
       "4  426.667017  5.433286e+06\n",
       "5  537.777979  2.680041e+06"
      ]
     },
     "execution_count": 13,
     "metadata": {},
     "output_type": "execute_result"
    }
   ],
   "source": [
    "def_groupedby_temperature = df_stress_strain_clean.groupby('Temperature')\n",
    "results = [{'x': t, 'y': area_under_stress_strain_curve(t, df)} for t, df in def_groupedby_temperature]\n",
    "df_results = pd.DataFrame(results)\n",
    "df_results"
   ]
  },
  {
   "cell_type": "markdown",
   "id": "f68db6cc",
   "metadata": {},
   "source": [
    "## Plot the results"
   ]
  },
  {
   "cell_type": "markdown",
   "id": "01d58ed1",
   "metadata": {},
   "source": [
    "This code snippet is optional, and is included to increase the size of all plots generated in this notebook."
   ]
  },
  {
   "cell_type": "code",
   "execution_count": 14,
   "id": "dfd97f8f",
   "metadata": {
    "execution": {
     "iopub.execute_input": "2022-05-10T22:52:33.104036Z",
     "iopub.status.busy": "2022-05-10T22:52:33.104036Z",
     "iopub.status.idle": "2022-05-10T22:52:33.604037Z",
     "shell.execute_reply": "2022-05-10T22:52:33.604037Z"
    }
   },
   "outputs": [],
   "source": [
    "import matplotlib.pyplot as plt\n",
    "plt.rcParams['figure.dpi'] = 125"
   ]
  },
  {
   "cell_type": "markdown",
   "id": "69801898",
   "metadata": {},
   "source": [
    "### Plot Deformation Energy vs Temperature"
   ]
  },
  {
   "cell_type": "markdown",
   "id": "6a59bb1d",
   "metadata": {},
   "source": [
    "Plot the accumulated energy (or *Deformation Energy* $U_T$) vs *Temperature*. As temperature increases, the deformation energy stored up to the yield point is reduced."
   ]
  },
  {
   "cell_type": "code",
   "execution_count": 15,
   "id": "ff4428ea",
   "metadata": {
    "execution": {
     "iopub.execute_input": "2022-05-10T22:52:33.604037Z",
     "iopub.status.busy": "2022-05-10T22:52:33.604037Z",
     "iopub.status.idle": "2022-05-10T22:52:33.954038Z",
     "shell.execute_reply": "2022-05-10T22:52:33.954038Z"
    },
    "tags": []
   },
   "outputs": [
    {
     "data": {
      "image/png": "[encoded data removed]",
      "text/plain": [
       "<Figure size 432x288 with 1 Axes>"
      ]
     },
     "metadata": {
      "needs_background": "light"
     },
     "output_type": "display_data"
    }
   ],
   "source": [
    "from matplotlib import pyplot as plt\n",
    "\n",
    "energy_per_volume_unit = 'Jm^{{-3}}'\n",
    "temperature_unit = '°C'\n",
    "x_label = rf'$T$ / ${temperature_unit}$'\n",
    "y_label = rf'$U_T$ / ${energy_per_volume_unit}$'\n",
    "\n",
    "fig, ax = plt.subplots()\n",
    "ax.plot(df_results['x'], df_results['y'])\n",
    "ax.set_ylabel(y_label)\n",
    "ax.set_xlabel(x_label)\n",
    "_ = ax.set_title('Deformation Energy $U_T$ vs Temperature')"
   ]
  },
  {
   "cell_type": "markdown",
   "id": "2eef413d",
   "metadata": {},
   "source": [
    "### Compare Deformation Energy at temperature extrema"
   ]
  },
  {
   "cell_type": "markdown",
   "id": "84255d12",
   "metadata": {},
   "source": [
    "The area under the high- and low-temperature *Stress-Strain* curves can be shown graphically, providing a\n",
    "more visual comparison. "
   ]
  },
  {
   "cell_type": "markdown",
   "id": "a46b9c87",
   "metadata": {},
   "source": [
    "Create a basic *Stress-Strain* plot at both temperatures, dividing the plotted y values by $10^6$ and changing the\n",
    "y-axis units to MPa. Add the legend manually."
   ]
  },
  {
   "cell_type": "code",
   "execution_count": 16,
   "id": "9d4b3bae",
   "metadata": {
    "execution": {
     "iopub.execute_input": "2022-05-10T22:52:33.954038Z",
     "iopub.status.busy": "2022-05-10T22:52:33.954038Z",
     "iopub.status.idle": "2022-05-10T22:52:34.084038Z",
     "shell.execute_reply": "2022-05-10T22:52:34.084038Z"
    }
   },
   "outputs": [
    {
     "data": {
      "image/png": "[encoded data removed]",
      "text/plain": [
       "<Figure size 432x288 with 1 Axes>"
      ]
     },
     "metadata": {
      "needs_background": "light"
     },
     "output_type": "display_data"
    }
   ],
   "source": [
    "# Low temperature\n",
    "t_low = df_stress_strain_clean.Temperature.min()\n",
    "df_ss_t_low = df_stress_strain_clean[df_stress_strain_clean.Temperature == t_low]\n",
    "\n",
    "# High temperature\n",
    "t_high = df_stress_strain_clean.Temperature.max()\n",
    "df_ss_t_high = df_stress_strain_clean[df_stress_strain_clean.Temperature == t_high]\n",
    "\n",
    "x_label = rf'$\\epsilon$'\n",
    "y_label = rf'$\\sigma$ / MPa'\n",
    "\n",
    "fig, ax = plt.subplots()\n",
    "ax.set_ylabel(y_label)\n",
    "ax.set_xlabel(x_label)\n",
    "\n",
    "ax.plot(df_ss_t_low.x, df_ss_t_low['y'] / 1e6, color='blue', label=f'T = {t_low:.2f} °C')\n",
    "ax.plot(df_ss_t_high['x'], df_ss_t_high['y'] / 1e6, color='red', label=f'T = {t_high:.2f} °C')\n",
    "\n",
    "handles, labels = ax.get_legend_handles_labels()\n",
    "_ = ax.legend(handles, labels)"
   ]
  },
  {
   "cell_type": "markdown",
   "id": "96ecccf6",
   "metadata": {},
   "source": [
    "Next, use the functions you defined above to calculate the stress-strain curves up to the yield stress."
   ]
  },
  {
   "cell_type": "code",
   "execution_count": 17,
   "id": "48bb14ac",
   "metadata": {
    "execution": {
     "iopub.execute_input": "2022-05-10T22:52:34.084038Z",
     "iopub.status.busy": "2022-05-10T22:52:34.084038Z",
     "iopub.status.idle": "2022-05-10T22:52:34.094049Z",
     "shell.execute_reply": "2022-05-10T22:52:34.094049Z"
    }
   },
   "outputs": [],
   "source": [
    "# Low temperature\n",
    "xnew_t_low, ynew_t_low = resample_stress_strain(df_ss_t_low.x, df_ss_t_low.y / 1e6, t_low)\n",
    "\n",
    "# High temperature\n",
    "xnew_t_high, ynew_t_high = resample_stress_strain(df_ss_t_high.x, df_ss_t_high.y / 1e6, t_high)"
   ]
  },
  {
   "cell_type": "markdown",
   "id": "4f0b10e1",
   "metadata": {},
   "source": [
    "Use `ax.fill_between()` to fill the space between the resampled curves and the x-axis, and set the lower limit for both axes to 0. (`fig` forces jupyter to re-plot the existing chart.)"
   ]
  },
  {
   "cell_type": "code",
   "execution_count": 18,
   "id": "13be9ec9",
   "metadata": {
    "execution": {
     "iopub.execute_input": "2022-05-10T22:52:34.094049Z",
     "iopub.status.busy": "2022-05-10T22:52:34.094049Z",
     "iopub.status.idle": "2022-05-10T22:52:34.194061Z",
     "shell.execute_reply": "2022-05-10T22:52:34.194061Z"
    }
   },
   "outputs": [
    {
     "data": {
      "image/png": "[encoded data removed]",
      "text/plain": [
       "<Figure size 432x288 with 1 Axes>"
      ]
     },
     "execution_count": 18,
     "metadata": {},
     "output_type": "execute_result"
    }
   ],
   "source": [
    "ax.fill_between(xnew_t_low, 0, ynew_t_low, facecolor=\"none\", hatch=\"...\", edgecolor=\"blue\")\n",
    "ax.fill_between(xnew_t_high, 0, ynew_t_high, facecolor=\"none\", hatch=\"\\\\\", edgecolor=\"red\")\n",
    "\n",
    "ax.set_xlim(left=0)\n",
    "ax.set_ylim(bottom=0)\n",
    "\n",
    "fig"
   ]
  },
  {
   "cell_type": "markdown",
   "id": "8bdf0130",
   "metadata": {},
   "source": [
    "Finally, add a chart title and annotate the filled areas with the corresponding *Deformation Energy*. \n",
    "\n",
    "To render the *Deformation Energy* value in standard form, we've defined a function which returns the mantissa and exponent, and inserted them into LaTeX-formatted strings."
   ]
  },
  {
   "cell_type": "code",
   "execution_count": 19,
   "id": "82d51529",
   "metadata": {
    "execution": {
     "iopub.execute_input": "2022-05-10T22:52:34.194061Z",
     "iopub.status.busy": "2022-05-10T22:52:34.194061Z",
     "iopub.status.idle": "2022-05-10T22:52:34.364061Z",
     "shell.execute_reply": "2022-05-10T22:52:34.364061Z"
    }
   },
   "outputs": [
    {
     "data": {
      "image/png": "[encoded data removed]",
      "text/plain": [
       "<Figure size 432x288 with 1 Axes>"
      ]
     },
     "execution_count": 19,
     "metadata": {},
     "output_type": "execute_result"
    }
   ],
   "source": [
    "energy_low = df_results.y[0]\n",
    "energy_high = df_results.y.iloc[-1]\n",
    "\n",
    "import math\n",
    "\n",
    "def get_mantissa_and_exponent(x):\n",
    "    exponent = int(math.floor(math.log10(abs(x))))\n",
    "    mantissa = x / 10**exponent\n",
    "    return f'{mantissa:.2f}', f'{exponent}'\n",
    "\n",
    "arrow_props = {'facecolor': 'black', 'arrowstyle': '-'}\n",
    "\n",
    "ax.annotate(r'$U_T = {0} \\times 10^{{{1}}} \\enspace Jm^{{-3}}$'.format(*get_mantissa_and_exponent(energy_low)),\n",
    "            xy=(0.008, 125),\n",
    "            xytext=(0.010, 140),\n",
    "            arrowprops=arrow_props)\n",
    "\n",
    "ax.annotate(r'$U_T = {0} \\times 10^{{{1}}} \\enspace Jm^{{-3}}$'.format(*get_mantissa_and_exponent(energy_high)),\n",
    "            xy=(0.004, 15),\n",
    "            xytext=(0.010, 35),\n",
    "            arrowprops=arrow_props)\n",
    "ax.set_title('Stress vs strain of 250 Maraging Steel')\n",
    "fig"
   ]
  },
  {
   "cell_type": "code",
   "execution_count": null,
   "id": "5ab74e74-cd8e-4d22-9bc5-6b6325f18cc7",
   "metadata": {},
   "outputs": [],
   "source": []
  }
 ],
 "metadata": {
  "kernelspec": {
   "display_name": "Python 3",
   "language": "python",
   "name": "python3"
  },
  "language_info": {
   "codemirror_mode": {
    "name": "ipython",
    "version": 3
   },
   "file_extension": ".py",
   "mimetype": "text/x-python",
   "name": "python",
   "nbconvert_exporter": "python",
   "pygments_lexer": "ipython3",
   "version": "3.9.10"
  }
 },
 "nbformat": 4,
 "nbformat_minor": 5
}
