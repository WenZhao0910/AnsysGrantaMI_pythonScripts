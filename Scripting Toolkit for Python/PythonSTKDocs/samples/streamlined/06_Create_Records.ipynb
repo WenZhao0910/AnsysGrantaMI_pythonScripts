{
 "cells": [
  {
   "cell_type": "markdown",
   "metadata": {},
   "source": [
    "# Create Records\n",
    "Create records and delete (or withdraw) them in bulk."
   ]
  },
  {
   "cell_type": "markdown",
   "metadata": {},
   "source": [
    "## Specify a table"
   ]
  },
  {
   "cell_type": "code",
   "execution_count": 1,
   "metadata": {
    "execution": {
     "iopub.execute_input": "2022-05-10T21:39:23.324889Z",
     "iopub.status.busy": "2022-05-10T21:39:23.324889Z",
     "iopub.status.idle": "2022-05-10T21:39:29.085042Z",
     "shell.execute_reply": "2022-05-10T21:39:29.085042Z"
    }
   },
   "outputs": [],
   "source": [
    "from datetime import datetime\n",
    "from GRANTA_MIScriptingToolkit import granta as mpy\n",
    "\n",
    "mi = mpy.connect('http://localhost/mi_servicelayer', autologon=True)\n",
    "table = mi.get_db(db_key=\"MI_Training\").get_table(\"Files for Training\")"
   ]
  },
  {
   "cell_type": "markdown",
   "metadata": {},
   "source": [
    "## Create records\n",
    "Decide which folder the new records will be added to (you can use the table itself as a parent for a 'top-level' record)."
   ]
  },
  {
   "cell_type": "code",
   "execution_count": 2,
   "metadata": {
    "execution": {
     "iopub.execute_input": "2022-05-10T21:39:29.085042Z",
     "iopub.status.busy": "2022-05-10T21:39:29.085042Z",
     "iopub.status.idle": "2022-05-10T21:39:29.560889Z",
     "shell.execute_reply": "2022-05-10T21:39:29.560889Z"
    }
   },
   "outputs": [],
   "source": [
    "parent = table.search_for_records_by_name(\"Other\")[0]"
   ]
  },
  {
   "cell_type": "markdown",
   "metadata": {},
   "source": [
    "Create five new **Record** objects."
   ]
  },
  {
   "cell_type": "code",
   "execution_count": 3,
   "metadata": {
    "execution": {
     "iopub.execute_input": "2022-05-10T21:39:29.560889Z",
     "iopub.status.busy": "2022-05-10T21:39:29.560889Z",
     "iopub.status.idle": "2022-05-10T21:39:29.580875Z",
     "shell.execute_reply": "2022-05-10T21:39:29.580875Z"
    }
   },
   "outputs": [
    {
     "data": {
      "text/plain": [
       "[<Record long name:STK Example 6:Tue May 10 22:39:29 2022 - 0>,\n",
       " <Record long name:STK Example 6:Tue May 10 22:39:29 2022 - 1>,\n",
       " <Record long name:STK Example 6:Tue May 10 22:39:29 2022 - 2>,\n",
       " <Record long name:STK Example 6:Tue May 10 22:39:29 2022 - 3>,\n",
       " <Record long name:STK Example 6:Tue May 10 22:39:29 2022 - 4>]"
      ]
     },
     "execution_count": 3,
     "metadata": {},
     "output_type": "execute_result"
    }
   ],
   "source": [
    "now = datetime.now().strftime(\"%c\")\n",
    "recordNames = ['STK Example 6:{} - {}'.format(now, i) for i in range(5)]\n",
    "new_records = [table.create_record(n, parent=parent, subsets={\"All files\"}) for n in recordNames]\n",
    "new_records"
   ]
  },
  {
   "cell_type": "markdown",
   "metadata": {},
   "source": [
    "## Write your changes to MI \n",
    "The new records are created on the server when update() is called."
   ]
  },
  {
   "cell_type": "code",
   "execution_count": 4,
   "metadata": {
    "execution": {
     "iopub.execute_input": "2022-05-10T21:39:29.590874Z",
     "iopub.status.busy": "2022-05-10T21:39:29.590874Z",
     "iopub.status.idle": "2022-05-10T21:39:31.590937Z",
     "shell.execute_reply": "2022-05-10T21:39:31.590937Z"
    }
   },
   "outputs": [
    {
     "name": "stdout",
     "output_type": "stream",
     "text": [
      "new records:\n",
      "http://localhost/mi/datasheet.aspx?dbKey=MI_Training&recordHistoryGuid=581b2007-2187-4b36-afd8-8ca93eb7948a\n",
      "http://localhost/mi/datasheet.aspx?dbKey=MI_Training&recordHistoryGuid=19801677-d394-4cf3-8240-4f7e2c36e79a\n",
      "http://localhost/mi/datasheet.aspx?dbKey=MI_Training&recordHistoryGuid=fba84a68-75b1-471d-b30f-7ab466431583\n",
      "http://localhost/mi/datasheet.aspx?dbKey=MI_Training&recordHistoryGuid=5ef36de6-3904-4b0f-8bbe-466028f55219\n",
      "http://localhost/mi/datasheet.aspx?dbKey=MI_Training&recordHistoryGuid=d0744252-d558-4fc5-96e1-b93a9ed2ceba\n"
     ]
    }
   ],
   "source": [
    "recs = mi.update(new_records)\n",
    "\n",
    "print(\"new records:\")\n",
    "for rec in recs:\n",
    "    print(rec.viewer_url)"
   ]
  },
  {
   "cell_type": "markdown",
   "metadata": {},
   "source": [
    "## Delete the records\n",
    "This method interacts directly with the server; updating is not necessary. If the table is version-controlled, the records are withdrawn instead."
   ]
  },
  {
   "cell_type": "code",
   "execution_count": 5,
   "metadata": {
    "execution": {
     "iopub.execute_input": "2022-05-10T21:39:31.590937Z",
     "iopub.status.busy": "2022-05-10T21:39:31.590937Z",
     "iopub.status.idle": "2022-05-10T21:39:32.756839Z",
     "shell.execute_reply": "2022-05-10T21:39:32.756839Z"
    }
   },
   "outputs": [],
   "source": [
    "mi.bulk_delete_or_withdraw_records(recs)"
   ]
  }
 ],
 "metadata": {
  "kernelspec": {
   "display_name": "Python 3",
   "language": "python",
   "name": "python3"
  },
  "language_info": {
   "codemirror_mode": {
    "name": "ipython",
    "version": 3
   },
   "file_extension": ".py",
   "mimetype": "text/x-python",
   "name": "python",
   "nbconvert_exporter": "python",
   "pygments_lexer": "ipython3",
   "version": "3.8.10"
  }
 },
 "nbformat": 4,
 "nbformat_minor": 2
}
