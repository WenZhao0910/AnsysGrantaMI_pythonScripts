{
 "cells": [
  {
   "cell_type": "code",
   "execution_count": 5,
   "id": "a9bca724",
   "metadata": {},
   "outputs": [],
   "source": [
    "# Import libraries\n",
    "from GRANTA_MIScriptingToolkit import granta as mpy\n",
    "import GRANTA_MIScriptingToolkit as gdl\n",
    "import matplotlib\n",
    "import matplotlib.pyplot as plt\n",
    "import numpy as np\n",
    "from matplotlib import colors\n",
    "from matplotlib.ticker import PercentFormatter\n",
    "import pandas as pd\n",
    "#from wordcloud import WordCloud"
   ]
  },
  {
   "cell_type": "code",
   "execution_count": 6,
   "id": "f7872b5b",
   "metadata": {},
   "outputs": [
    {
     "data": {
      "text/plain": [
       "[<Database: ASM Medical Materials, unit system: Database>,\n",
       " <Database: BiCrystal Project, unit system: Database>,\n",
       " <Database: Sustainability, unit system: Database>,\n",
       " <Database: JAHM Curve Data, unit system: Database>,\n",
       " <Database: Lvl 3 - Built Environment, unit system: Database>,\n",
       " <Database: Restricted Substances, unit system: Database>,\n",
       " <Database: MI Asphalt Database, unit system: Database>,\n",
       " <Database: HighTemperatureSuperconductors_SynthesisCharacterization, unit system: Database>,\n",
       " <Database: Academic Resources Database, unit system: Database>,\n",
       " <Database: Additive Manufacturing Template, unit system: Database>,\n",
       " <Database: MI Product Design Projects, unit system: Database>,\n",
       " <Database: Main, unit system: Database>,\n",
       " <Database: MI_HC_Team, unit system: Database>,\n",
       " <Database: Composites Template, unit system: Database>,\n",
       " <Database: Human Biological Materials, unit system: Database>,\n",
       " <Database: MI Training, unit system: Database>,\n",
       " <Database: MI Blank Database, unit system: Database>]"
      ]
     },
     "execution_count": 6,
     "metadata": {},
     "output_type": "execute_result"
    }
   ],
   "source": [
    "mi = mpy.connect('http://azewacadmi1v1.win.ansys.com/mi_servicelayer/', autologon=True)\n",
    "mi\n",
    "mi.dbs"
   ]
  },
  {
   "cell_type": "code",
   "execution_count": 7,
   "id": "9d8f700d",
   "metadata": {},
   "outputs": [
    {
     "data": {
      "text/plain": [
       "[<Table name: Materials, subsets: set()>,\n",
       " <Table name: Experimental Tests, subsets: set()>,\n",
       " <Table name: Geometry, subsets: set()>,\n",
       " <Table name: Turbulent Models, subsets: set()>,\n",
       " <Table name: Spinal Cord Stimulation Models, subsets: set()>,\n",
       " <Table name: Numerical Models, subsets: set()>,\n",
       " <Table name: Reference Papers, subsets: set()>]"
      ]
     },
     "execution_count": 7,
     "metadata": {},
     "output_type": "execute_result"
    }
   ],
   "source": [
    "my_db = mi.get_db('MI_HC_Team')\n",
    "my_db.tables"
   ]
  },
  {
   "cell_type": "code",
   "execution_count": 8,
   "id": "cf32edbe",
   "metadata": {},
   "outputs": [
    {
     "data": {
      "text/plain": [
       "[<Record long name:model lambda>,\n",
       " <Record long name:all models summarized>,\n",
       " <Record long name:Papier no2 test David>]"
      ]
     },
     "execution_count": 8,
     "metadata": {},
     "output_type": "execute_result"
    }
   ],
   "source": [
    "my_db.tables[4].children"
   ]
  },
  {
   "cell_type": "code",
   "execution_count": 9,
   "id": "b191df41",
   "metadata": {},
   "outputs": [
    {
     "name": "stdout",
     "output_type": "stream",
     "text": [
      "Found 17 databases on the Granta MI Server\n",
      "Database key: MI_ASM_Medical_Materials_1.54.3_2022_R1, Database name: ASM Medical Materials\n",
      "Database key: MI_BiCrystalProject, Database name: BiCrystal Project\n",
      "Database key: MU_Sandbox_Energy_systems, Database name: Sustainability\n",
      "Database key: MI_JAHM_1.3.3m_2021_R2, Database name: JAHM Curve Data\n",
      "Database key: Lvl3_BuildingEnvironment, Database name: Lvl 3 - Built Environment\n",
      "Database key: MI_Restricted_Substances, Database name: Restricted Substances\n",
      "Database key: MI_Asphalt, Database name: MI Asphalt Database\n",
      "Database key: HighTemperatureSuperconductors_SynthesisCharacterization, Database name: HighTemperatureSuperconductors_SynthesisCharacterization\n",
      "Database key: MI_RefPapers, Database name: Academic Resources Database\n",
      "Database key: MI_Template_Additive_Manufacturing, Database name: Additive Manufacturing Template\n",
      "Database key: MI_ProductDesign, Database name: MI Product Design Projects\n",
      "Database key: EduPack, Database name: Main\n",
      "Database key: MI_HC_Team, Database name: MI_HC_Team\n",
      "Database key: MI_CompositeTemplate_3.0.11m_2022_R1, Database name: Composites Template\n",
      "Database key: MI_Human_Biological_Materials_1.3.10m_2021_R2, Database name: Human Biological Materials\n",
      "Database key: MI_Training, Database name: MI Training\n",
      "Database key: MI_Blank_2021_R2, Database name: MI Blank Database\n"
     ]
    }
   ],
   "source": [
    "session = gdl.GRANTA_MISession('http://azewacadmi1v1.win.ansys.com/mi_servicelayer/', autoLogon=True)\n",
    "browseService = session.browseService\n",
    "databases = browseService.GetDatabases().databases\n",
    "\n",
    "print(\"Found {0} databases on the Granta MI Server\".format(len(databases)))\n",
    "for d in databases:\n",
    "    print(\"Database key: {0.DBKey}, Database name: {0.name}\".format(d))"
   ]
  },
  {
   "cell_type": "code",
   "execution_count": 10,
   "id": "7d16b6bd",
   "metadata": {},
   "outputs": [
    {
     "data": {
      "text/html": [
       "<div>\n",
       "<style scoped>\n",
       "    .dataframe tbody tr th:only-of-type {\n",
       "        vertical-align: middle;\n",
       "    }\n",
       "\n",
       "    .dataframe tbody tr th {\n",
       "        vertical-align: top;\n",
       "    }\n",
       "\n",
       "    .dataframe thead th {\n",
       "        text-align: right;\n",
       "    }\n",
       "</style>\n",
       "<table border=\"1\" class=\"dataframe\">\n",
       "  <thead>\n",
       "    <tr style=\"text-align: right;\">\n",
       "      <th></th>\n",
       "      <th>DBKey</th>\n",
       "      <th>DBName</th>\n",
       "    </tr>\n",
       "  </thead>\n",
       "  <tbody>\n",
       "    <tr>\n",
       "      <th>0</th>\n",
       "      <td>MI_ASM_Medical_Materials_1.54.3_2022_R1</td>\n",
       "      <td>ASM Medical Materials</td>\n",
       "    </tr>\n",
       "    <tr>\n",
       "      <th>1</th>\n",
       "      <td>MI_BiCrystalProject</td>\n",
       "      <td>BiCrystal Project</td>\n",
       "    </tr>\n",
       "    <tr>\n",
       "      <th>2</th>\n",
       "      <td>MU_Sandbox_Energy_systems</td>\n",
       "      <td>Sustainability</td>\n",
       "    </tr>\n",
       "    <tr>\n",
       "      <th>3</th>\n",
       "      <td>MI_JAHM_1.3.3m_2021_R2</td>\n",
       "      <td>JAHM Curve Data</td>\n",
       "    </tr>\n",
       "    <tr>\n",
       "      <th>4</th>\n",
       "      <td>Lvl3_BuildingEnvironment</td>\n",
       "      <td>Lvl 3 - Built Environment</td>\n",
       "    </tr>\n",
       "    <tr>\n",
       "      <th>5</th>\n",
       "      <td>MI_Restricted_Substances</td>\n",
       "      <td>Restricted Substances</td>\n",
       "    </tr>\n",
       "    <tr>\n",
       "      <th>6</th>\n",
       "      <td>MI_Asphalt</td>\n",
       "      <td>MI Asphalt Database</td>\n",
       "    </tr>\n",
       "    <tr>\n",
       "      <th>7</th>\n",
       "      <td>HighTemperatureSuperconductors_SynthesisCharac...</td>\n",
       "      <td>HighTemperatureSuperconductors_SynthesisCharac...</td>\n",
       "    </tr>\n",
       "    <tr>\n",
       "      <th>8</th>\n",
       "      <td>MI_RefPapers</td>\n",
       "      <td>Academic Resources Database</td>\n",
       "    </tr>\n",
       "    <tr>\n",
       "      <th>9</th>\n",
       "      <td>MI_Template_Additive_Manufacturing</td>\n",
       "      <td>Additive Manufacturing Template</td>\n",
       "    </tr>\n",
       "    <tr>\n",
       "      <th>10</th>\n",
       "      <td>MI_ProductDesign</td>\n",
       "      <td>MI Product Design Projects</td>\n",
       "    </tr>\n",
       "    <tr>\n",
       "      <th>11</th>\n",
       "      <td>EduPack</td>\n",
       "      <td>Main</td>\n",
       "    </tr>\n",
       "    <tr>\n",
       "      <th>12</th>\n",
       "      <td>MI_HC_Team</td>\n",
       "      <td>MI_HC_Team</td>\n",
       "    </tr>\n",
       "    <tr>\n",
       "      <th>13</th>\n",
       "      <td>MI_CompositeTemplate_3.0.11m_2022_R1</td>\n",
       "      <td>Composites Template</td>\n",
       "    </tr>\n",
       "    <tr>\n",
       "      <th>14</th>\n",
       "      <td>MI_Human_Biological_Materials_1.3.10m_2021_R2</td>\n",
       "      <td>Human Biological Materials</td>\n",
       "    </tr>\n",
       "    <tr>\n",
       "      <th>15</th>\n",
       "      <td>MI_Training</td>\n",
       "      <td>MI Training</td>\n",
       "    </tr>\n",
       "    <tr>\n",
       "      <th>16</th>\n",
       "      <td>MI_Blank_2021_R2</td>\n",
       "      <td>MI Blank Database</td>\n",
       "    </tr>\n",
       "  </tbody>\n",
       "</table>\n",
       "</div>"
      ],
      "text/plain": [
       "                                                DBKey  \\\n",
       "0             MI_ASM_Medical_Materials_1.54.3_2022_R1   \n",
       "1                                 MI_BiCrystalProject   \n",
       "2                           MU_Sandbox_Energy_systems   \n",
       "3                              MI_JAHM_1.3.3m_2021_R2   \n",
       "4                            Lvl3_BuildingEnvironment   \n",
       "5                            MI_Restricted_Substances   \n",
       "6                                          MI_Asphalt   \n",
       "7   HighTemperatureSuperconductors_SynthesisCharac...   \n",
       "8                                        MI_RefPapers   \n",
       "9                  MI_Template_Additive_Manufacturing   \n",
       "10                                   MI_ProductDesign   \n",
       "11                                            EduPack   \n",
       "12                                         MI_HC_Team   \n",
       "13               MI_CompositeTemplate_3.0.11m_2022_R1   \n",
       "14      MI_Human_Biological_Materials_1.3.10m_2021_R2   \n",
       "15                                        MI_Training   \n",
       "16                                   MI_Blank_2021_R2   \n",
       "\n",
       "                                               DBName  \n",
       "0                               ASM Medical Materials  \n",
       "1                                   BiCrystal Project  \n",
       "2                                      Sustainability  \n",
       "3                                     JAHM Curve Data  \n",
       "4                           Lvl 3 - Built Environment  \n",
       "5                               Restricted Substances  \n",
       "6                                 MI Asphalt Database  \n",
       "7   HighTemperatureSuperconductors_SynthesisCharac...  \n",
       "8                         Academic Resources Database  \n",
       "9                     Additive Manufacturing Template  \n",
       "10                         MI Product Design Projects  \n",
       "11                                               Main  \n",
       "12                                         MI_HC_Team  \n",
       "13                                Composites Template  \n",
       "14                         Human Biological Materials  \n",
       "15                                        MI Training  \n",
       "16                                  MI Blank Database  "
      ]
     },
     "execution_count": 10,
     "metadata": {},
     "output_type": "execute_result"
    }
   ],
   "source": [
    "df = pd.DataFrame({'DBKey': [db.DBKey for db in databases],\n",
    "                  'DBName': [db.name for db in databases]})\n",
    "df"
   ]
  },
  {
   "cell_type": "code",
   "execution_count": 12,
   "id": "3497e270",
   "metadata": {},
   "outputs": [
    {
     "name": "stdout",
     "output_type": "stream",
     "text": [
      "Found 7 tables in database MI_HC_Team\n",
      "Table name: Materials\n",
      "Table name: Experimental Tests\n",
      "Table name: Geometry\n",
      "Table name: Turbulent Models\n",
      "Table name: Spinal Cord Stimulation Models\n",
      "Table name: Numerical Models\n",
      "Table name: Reference Papers\n"
     ]
    }
   ],
   "source": [
    "# Get Tables from Ref Papers DB\n",
    "dbKey = \"MI_HC_Team\"\n",
    "tables = browseService.GetTables(gdl.GetTables(DBKey=dbKey)).tableDetails\n",
    "\n",
    "print(\"Found {0} tables in database {1}\".format(len(tables), dbKey))\n",
    "for t in tables:\n",
    "    print(\"Table name: {0}\".format(t.tableReference.name))"
   ]
  },
  {
   "cell_type": "code",
   "execution_count": 15,
   "id": "c56293a9",
   "metadata": {},
   "outputs": [
    {
     "data": {
      "text/html": [
       "<div>\n",
       "<style scoped>\n",
       "    .dataframe tbody tr th:only-of-type {\n",
       "        vertical-align: middle;\n",
       "    }\n",
       "\n",
       "    .dataframe tbody tr th {\n",
       "        vertical-align: top;\n",
       "    }\n",
       "\n",
       "    .dataframe thead th {\n",
       "        text-align: right;\n",
       "    }\n",
       "</style>\n",
       "<table border=\"1\" class=\"dataframe\">\n",
       "  <thead>\n",
       "    <tr style=\"text-align: right;\">\n",
       "      <th></th>\n",
       "      <th>ShortName</th>\n",
       "      <th>LongName</th>\n",
       "    </tr>\n",
       "  </thead>\n",
       "  <tbody>\n",
       "    <tr>\n",
       "      <th>0</th>\n",
       "      <td>2011_Khanafer_ThoraciAorticAneurysm</td>\n",
       "      <td>2011_Khanafer_ThoraciAorticAneurysm</td>\n",
       "    </tr>\n",
       "  </tbody>\n",
       "</table>\n",
       "</div>"
      ],
      "text/plain": [
       "                             ShortName                             LongName\n",
       "0  2011_Khanafer_ThoraciAorticAneurysm  2011_Khanafer_ThoraciAorticAneurysm"
      ]
     },
     "execution_count": 15,
     "metadata": {},
     "output_type": "execute_result"
    }
   ],
   "source": [
    "# Get data from Granta ref papers table\n",
    "table = 'Reference Papers'\n",
    "attribute = \"Year of Publication\"\n",
    "\n",
    "tableRef = gdl.PartialTableReference(tableName=table)\n",
    "attrRef = gdl.AttributeReference(name=attribute, DBKey=dbKey, partialTableReference=tableRef)\n",
    "searchCriterion = gdl.RecordSearchCriterion(searchAttribute=attrRef, existsSearchValue=gdl.ExistsSearchValue())\n",
    "request = gdl.CriteriaSearch(DBKey=dbKey, searchCriteria=[searchCriterion])\n",
    "\n",
    "searchResults = session.searchService.CriteriaSearch(request).searchResults\n",
    "\n",
    "df2 = pd.DataFrame({'ShortName': [r.shortName for r in searchResults],\n",
    "                     'LongName': [r.longName  for r in searchResults]})\n",
    "df2"
   ]
  },
  {
   "cell_type": "code",
   "execution_count": null,
   "id": "3269f20d-e1aa-47c6-80f4-6bae3f4f4cd7",
   "metadata": {},
   "outputs": [],
   "source": []
  }
 ],
 "metadata": {
  "kernelspec": {
   "display_name": "Python 3 (ipykernel)",
   "language": "python",
   "name": "python3"
  },
  "language_info": {
   "codemirror_mode": {
    "name": "ipython",
    "version": 3
   },
   "file_extension": ".py",
   "mimetype": "text/x-python",
   "name": "python",
   "nbconvert_exporter": "python",
   "pygments_lexer": "ipython3",
   "version": "3.9.7"
  }
 },
 "nbformat": 4,
 "nbformat_minor": 5
}
